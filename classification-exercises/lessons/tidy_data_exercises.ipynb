{
 "cells": [
  {
   "cell_type": "code",
   "execution_count": null,
   "metadata": {},
   "outputs": [],
   "source": [
    "import pandas as pd\n",
    "import seaborn as sns"
   ]
  },
  {
   "cell_type": "markdown",
   "metadata": {},
   "source": [
    "#### 1. Attendance Data\n",
    "\n",
    "Load the attendance.csv file and calculate an attendance percentage for each student. One half day is worth 50% of a full day, and 10 tardies is equal to one absence.\n",
    "\n",
    "You should end up with something like this:\n",
    "\n",
    "\n",
    "name  \n",
    "Billy    0.5250  \n",
    "Jane     0.6875  \n",
    "John     0.9125  \n",
    "Sally    0.7625  \n",
    "Name: grade, dtype: float64"
   ]
  },
  {
   "cell_type": "code",
   "execution_count": null,
   "metadata": {},
   "outputs": [],
   "source": [
    "df = pd.read_csv('untidy-data/attendance.csv')"
   ]
  },
  {
   "cell_type": "code",
   "execution_count": null,
   "metadata": {},
   "outputs": [],
   "source": [
    "df.head()"
   ]
  },
  {
   "cell_type": "code",
   "execution_count": null,
   "metadata": {},
   "outputs": [],
   "source": [
    "# melt the dataframe\n",
    "\n",
    "df_melt = df.melt(id_vars='Unnamed: 0',var_name = 'day', value_name='grade')\n",
    "df_melt"
   ]
  },
  {
   "cell_type": "code",
   "execution_count": null,
   "metadata": {},
   "outputs": [],
   "source": [
    "# rename the columns\n",
    "\n",
    "df_melt.columns = ['student', 'day', 'grade']\n",
    "df_melt.head()"
   ]
  },
  {
   "cell_type": "code",
   "execution_count": null,
   "metadata": {},
   "outputs": [],
   "source": [
    "# function which will convert letter grades in numbers\n",
    "\n",
    "def letter_grade(a):\n",
    "    if a == 'P':\n",
    "        return 1\n",
    "    elif a == 'H':\n",
    "        return 0.5\n",
    "    elif a == 'T':\n",
    "        return 0.9\n",
    "    else:\n",
    "        return 0"
   ]
  },
  {
   "cell_type": "code",
   "execution_count": null,
   "metadata": {},
   "outputs": [],
   "source": [
    "# apply the functions to the dataframe\n",
    "\n",
    "df_melt['num_grade'] = df_melt['grade'].apply(letter_grade)"
   ]
  },
  {
   "cell_type": "code",
   "execution_count": null,
   "metadata": {},
   "outputs": [],
   "source": [
    "df_melt.head()"
   ]
  },
  {
   "cell_type": "code",
   "execution_count": null,
   "metadata": {},
   "outputs": [],
   "source": [
    "# use groupby to calculate mean grade\n",
    "\n",
    "df_melt.groupby('student').num_grade.mean()"
   ]
  },
  {
   "cell_type": "code",
   "execution_count": null,
   "metadata": {},
   "outputs": [],
   "source": [
    "# Another way (use .replace)\n",
    "\n",
    "df1 = df_melt.replace({'P': 1, 'A': 0, 'H': 0.5, 'T': 0.9})\n",
    "df1.head()"
   ]
  },
  {
   "cell_type": "code",
   "execution_count": null,
   "metadata": {},
   "outputs": [],
   "source": [
    "#groupby student and find mean of 'value'\n",
    "df1.groupby('student').grade.mean()"
   ]
  },
  {
   "cell_type": "markdown",
   "metadata": {},
   "source": [
    "### 2.Coffee Levels\n",
    "\n",
    "Read the coffee_levels.csv file.  \n",
    "Transform the data so that each carafe is in it's own column.  \n",
    "Is this the best shape for the data?   "
   ]
  },
  {
   "cell_type": "code",
   "execution_count": null,
   "metadata": {},
   "outputs": [],
   "source": [
    "df = pd.read_csv('untidy-data/coffee_levels.csv')"
   ]
  },
  {
   "cell_type": "code",
   "execution_count": null,
   "metadata": {},
   "outputs": [],
   "source": [
    "df"
   ]
  },
  {
   "cell_type": "code",
   "execution_count": null,
   "metadata": {},
   "outputs": [],
   "source": [
    "# plot data\n",
    "sns.lineplot(x = 'hour',\n",
    "             y = 'coffee_amount',\n",
    "             data = df,\n",
    "             hue = 'coffee_carafe'\n",
    ");"
   ]
  },
  {
   "cell_type": "code",
   "execution_count": null,
   "metadata": {},
   "outputs": [],
   "source": [
    "# Lets pivot the table\n",
    "df_pivot = df.pivot_table(index = ['hour'],\n",
    "                    columns = 'coffee_carafe',\n",
    "                    values = 'coffee_amount').reset_index()\n",
    "\n",
    "df_pivot"
   ]
  },
  {
   "cell_type": "code",
   "execution_count": null,
   "metadata": {},
   "outputs": [],
   "source": [
    "df_pivot[['x','y', 'z']].plot();"
   ]
  },
  {
   "cell_type": "markdown",
   "metadata": {},
   "source": [
    "#### 3. Cake Recipes  \n",
    "\n",
    "Read the cake_recipes.csv data. This data set contains cake tastiness scores for combinations of different recipes, oven rack positions, and oven temperatures.  \n",
    "Tidy the data as necessary.  \n",
    "Which recipe, on average, is the best? recipe b  \n",
    "Which oven temperature, on average, produces the best results? 275  \n",
    "Which combination of recipe, rack position, and temperature gives the best result? recipe b, bottom rack, 300 degrees  "
   ]
  },
  {
   "cell_type": "code",
   "execution_count": null,
   "metadata": {},
   "outputs": [],
   "source": [
    "df = pd.read_csv('untidy-data/cake_recipes.csv')"
   ]
  },
  {
   "cell_type": "code",
   "execution_count": null,
   "metadata": {},
   "outputs": [],
   "source": [
    "df.head()"
   ]
  },
  {
   "cell_type": "code",
   "execution_count": null,
   "metadata": {},
   "outputs": [],
   "source": [
    "# split the 'recipe:position' column\n",
    "df['recipe:position'].str.split(\":\", expand = True)"
   ]
  },
  {
   "cell_type": "code",
   "execution_count": null,
   "metadata": {},
   "outputs": [],
   "source": [
    "# expand the column and create two new ones\n",
    "df[['recipe', 'position']] = df['recipe:position'].str.split(':', expand = True)"
   ]
  },
  {
   "cell_type": "code",
   "execution_count": null,
   "metadata": {},
   "outputs": [],
   "source": [
    "df.head()"
   ]
  },
  {
   "cell_type": "code",
   "execution_count": null,
   "metadata": {},
   "outputs": [],
   "source": [
    "# drop column 'recipe:position'\n",
    "df.drop(columns = 'recipe:position', inplace = True)\n",
    "df"
   ]
  },
  {
   "cell_type": "code",
   "execution_count": null,
   "metadata": {},
   "outputs": [],
   "source": [
    "# melt data\n",
    "df_melt = df.melt(id_vars = ['recipe', 'position'], var_name = 'temperature', value_name = 'score')\n",
    "df_melt.head()"
   ]
  },
  {
   "cell_type": "code",
   "execution_count": null,
   "metadata": {},
   "outputs": [],
   "source": [
    "# Which recipe, on average, is the best?\n",
    "df_melt.groupby(['recipe']).score.mean()"
   ]
  },
  {
   "cell_type": "code",
   "execution_count": null,
   "metadata": {},
   "outputs": [],
   "source": [
    "best_recipe = df_melt.groupby(['recipe']).score.mean().idxmax()\n",
    "best_score = df_melt.groupby(['recipe']).score.mean().max()\n",
    "print(f' The best recipe is \\'{best_recipe}\\' with score of {round(best_score, 1)}')"
   ]
  },
  {
   "cell_type": "code",
   "execution_count": null,
   "metadata": {},
   "outputs": [],
   "source": [
    "# Which oven temperature, on average, produces the best results?\n",
    "df_melt.groupby('temperature').score.mean()"
   ]
  },
  {
   "cell_type": "code",
   "execution_count": null,
   "metadata": {},
   "outputs": [],
   "source": [
    "best_temp = df_melt.groupby(['temperature']).score.mean().idxmax()\n",
    "best_score = df_melt.groupby(['temperature']).score.mean().max()\n",
    "print(f' The best temperature is \\'{best_temp}F\\' with score of {round(best_score, 1)}')"
   ]
  },
  {
   "cell_type": "code",
   "execution_count": null,
   "metadata": {},
   "outputs": [],
   "source": [
    "# Which combination of recipe, rack position, and temperature gives the best result?\n",
    "df_melt.groupby(['temperature', 'recipe', 'position']).score.mean()"
   ]
  },
  {
   "cell_type": "code",
   "execution_count": null,
   "metadata": {},
   "outputs": [],
   "source": [
    "best_comb = df_melt.groupby(['temperature', 'recipe', 'position']).score.mean().idxmax()\n",
    "best_score = df_melt.groupby(['temperature', 'recipe', 'position']).score.mean().max()\n",
    "print(f' The best combination is \\'{best_comb}\\' with score of {round(best_score, 1)}')"
   ]
  },
  {
   "cell_type": "code",
   "execution_count": null,
   "metadata": {},
   "outputs": [],
   "source": []
  }
 ],
 "metadata": {
  "kernelspec": {
   "display_name": "Python 3",
   "language": "python",
   "name": "python3"
  },
  "language_info": {
   "codemirror_mode": {
    "name": "ipython",
    "version": 3
   },
   "file_extension": ".py",
   "mimetype": "text/x-python",
   "name": "python",
   "nbconvert_exporter": "python",
   "pygments_lexer": "ipython3",
   "version": "3.8.5"
  }
 },
 "nbformat": 4,
 "nbformat_minor": 4
}
