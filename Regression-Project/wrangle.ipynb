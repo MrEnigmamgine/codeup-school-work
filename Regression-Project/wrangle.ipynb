{
 "cells": [
  {
   "cell_type": "code",
   "execution_count": 1,
   "metadata": {},
   "outputs": [],
   "source": [
    "import pandas as pd\n",
    "import numpy as np\n",
    "\n",
    "import seaborn as sns\n",
    "import matplotlib.pyplot as plt\n",
    "\n",
    "import wrangle\n",
    "\n",
    "pd.options.display.max_columns = None\n",
    "pd.options.display.max_rows = 70"
   ]
  },
  {
   "cell_type": "markdown",
   "metadata": {},
   "source": [
    "# Wrangle Notebook\n",
    "This notebook is for investigating and defining the data in the zillow dataset and makes decisions about how to handle the data present."
   ]
  },
  {
   "cell_type": "markdown",
   "metadata": {},
   "source": [
    "## Wrangle Decisions"
   ]
  },
  {
   "cell_type": "markdown",
   "metadata": {},
   "source": [
    "- **`taxdelinquencyflag`**\n",
    "    - Converted to Boolean where Y = True and Null = False"
   ]
  },
  {
   "cell_type": "markdown",
   "metadata": {},
   "source": [
    "## Wrangle Code"
   ]
  },
  {
   "cell_type": "markdown",
   "metadata": {},
   "source": [
    "##### Standard readin"
   ]
  },
  {
   "cell_type": "code",
   "execution_count": 2,
   "metadata": {},
   "outputs": [
    {
     "data": {
      "text/html": [
       "<div>\n",
       "<style scoped>\n",
       "    .dataframe tbody tr th:only-of-type {\n",
       "        vertical-align: middle;\n",
       "    }\n",
       "\n",
       "    .dataframe tbody tr th {\n",
       "        vertical-align: top;\n",
       "    }\n",
       "\n",
       "    .dataframe thead th {\n",
       "        text-align: right;\n",
       "    }\n",
       "</style>\n",
       "<table border=\"1\" class=\"dataframe\">\n",
       "  <thead>\n",
       "    <tr style=\"text-align: right;\">\n",
       "      <th></th>\n",
       "      <th>storytypeid</th>\n",
       "      <th>typeconstructiontypeid</th>\n",
       "      <th>propertylandusetypeid</th>\n",
       "      <th>heatingorsystemtypeid</th>\n",
       "      <th>architecturalstyletypeid</th>\n",
       "      <th>airconditioningtypeid</th>\n",
       "      <th>parcelid</th>\n",
       "      <th>id</th>\n",
       "      <th>logerror</th>\n",
       "      <th>transactiondate</th>\n",
       "      <th>id.1</th>\n",
       "      <th>basementsqft</th>\n",
       "      <th>bathroomcnt</th>\n",
       "      <th>bedroomcnt</th>\n",
       "      <th>buildingclasstypeid</th>\n",
       "      <th>buildingqualitytypeid</th>\n",
       "      <th>calculatedbathnbr</th>\n",
       "      <th>decktypeid</th>\n",
       "      <th>finishedfloor1squarefeet</th>\n",
       "      <th>calculatedfinishedsquarefeet</th>\n",
       "      <th>finishedsquarefeet12</th>\n",
       "      <th>finishedsquarefeet13</th>\n",
       "      <th>finishedsquarefeet15</th>\n",
       "      <th>finishedsquarefeet50</th>\n",
       "      <th>finishedsquarefeet6</th>\n",
       "      <th>fips</th>\n",
       "      <th>fireplacecnt</th>\n",
       "      <th>fullbathcnt</th>\n",
       "      <th>garagecarcnt</th>\n",
       "      <th>garagetotalsqft</th>\n",
       "      <th>hashottuborspa</th>\n",
       "      <th>latitude</th>\n",
       "      <th>longitude</th>\n",
       "      <th>lotsizesquarefeet</th>\n",
       "      <th>poolcnt</th>\n",
       "      <th>poolsizesum</th>\n",
       "      <th>pooltypeid10</th>\n",
       "      <th>pooltypeid2</th>\n",
       "      <th>pooltypeid7</th>\n",
       "      <th>propertycountylandusecode</th>\n",
       "      <th>propertyzoningdesc</th>\n",
       "      <th>rawcensustractandblock</th>\n",
       "      <th>regionidcity</th>\n",
       "      <th>regionidcounty</th>\n",
       "      <th>regionidneighborhood</th>\n",
       "      <th>regionidzip</th>\n",
       "      <th>roomcnt</th>\n",
       "      <th>threequarterbathnbr</th>\n",
       "      <th>unitcnt</th>\n",
       "      <th>yardbuildingsqft17</th>\n",
       "      <th>yardbuildingsqft26</th>\n",
       "      <th>yearbuilt</th>\n",
       "      <th>numberofstories</th>\n",
       "      <th>fireplaceflag</th>\n",
       "      <th>structuretaxvaluedollarcnt</th>\n",
       "      <th>taxvaluedollarcnt</th>\n",
       "      <th>assessmentyear</th>\n",
       "      <th>landtaxvaluedollarcnt</th>\n",
       "      <th>taxamount</th>\n",
       "      <th>taxdelinquencyflag</th>\n",
       "      <th>taxdelinquencyyear</th>\n",
       "      <th>censustractandblock</th>\n",
       "      <th>airconditioningdesc</th>\n",
       "      <th>architecturalstyledesc</th>\n",
       "      <th>heatingorsystemdesc</th>\n",
       "      <th>propertylandusedesc</th>\n",
       "      <th>typeconstructiondesc</th>\n",
       "      <th>storydesc</th>\n",
       "    </tr>\n",
       "  </thead>\n",
       "  <tbody>\n",
       "    <tr>\n",
       "      <th>0</th>\n",
       "      <td>NaN</td>\n",
       "      <td>NaN</td>\n",
       "      <td>261.0</td>\n",
       "      <td>NaN</td>\n",
       "      <td>NaN</td>\n",
       "      <td>NaN</td>\n",
       "      <td>14297519</td>\n",
       "      <td>0</td>\n",
       "      <td>0.025595</td>\n",
       "      <td>2017-01-01</td>\n",
       "      <td>1727539</td>\n",
       "      <td>NaN</td>\n",
       "      <td>3.5</td>\n",
       "      <td>4.0</td>\n",
       "      <td>NaN</td>\n",
       "      <td>NaN</td>\n",
       "      <td>3.5</td>\n",
       "      <td>NaN</td>\n",
       "      <td>NaN</td>\n",
       "      <td>3100.0</td>\n",
       "      <td>3100.0</td>\n",
       "      <td>NaN</td>\n",
       "      <td>NaN</td>\n",
       "      <td>NaN</td>\n",
       "      <td>NaN</td>\n",
       "      <td>6059.0</td>\n",
       "      <td>NaN</td>\n",
       "      <td>3.0</td>\n",
       "      <td>2.0</td>\n",
       "      <td>633.0</td>\n",
       "      <td>NaN</td>\n",
       "      <td>33634931.0</td>\n",
       "      <td>-117869207.0</td>\n",
       "      <td>4506.0</td>\n",
       "      <td>NaN</td>\n",
       "      <td>NaN</td>\n",
       "      <td>NaN</td>\n",
       "      <td>NaN</td>\n",
       "      <td>NaN</td>\n",
       "      <td>122</td>\n",
       "      <td>NaN</td>\n",
       "      <td>6.059063e+07</td>\n",
       "      <td>53571.0</td>\n",
       "      <td>1286.0</td>\n",
       "      <td>NaN</td>\n",
       "      <td>96978.0</td>\n",
       "      <td>0.0</td>\n",
       "      <td>1.0</td>\n",
       "      <td>NaN</td>\n",
       "      <td>NaN</td>\n",
       "      <td>NaN</td>\n",
       "      <td>1998.0</td>\n",
       "      <td>NaN</td>\n",
       "      <td>NaN</td>\n",
       "      <td>485713.0</td>\n",
       "      <td>1023282.0</td>\n",
       "      <td>2016.0</td>\n",
       "      <td>537569.0</td>\n",
       "      <td>11013.72</td>\n",
       "      <td>NaN</td>\n",
       "      <td>NaN</td>\n",
       "      <td>6.059063e+13</td>\n",
       "      <td>NaN</td>\n",
       "      <td>NaN</td>\n",
       "      <td>NaN</td>\n",
       "      <td>Single Family Residential</td>\n",
       "      <td>NaN</td>\n",
       "      <td>NaN</td>\n",
       "    </tr>\n",
       "    <tr>\n",
       "      <th>1</th>\n",
       "      <td>NaN</td>\n",
       "      <td>NaN</td>\n",
       "      <td>261.0</td>\n",
       "      <td>NaN</td>\n",
       "      <td>NaN</td>\n",
       "      <td>NaN</td>\n",
       "      <td>17052889</td>\n",
       "      <td>1</td>\n",
       "      <td>0.055619</td>\n",
       "      <td>2017-01-01</td>\n",
       "      <td>1387261</td>\n",
       "      <td>NaN</td>\n",
       "      <td>1.0</td>\n",
       "      <td>2.0</td>\n",
       "      <td>NaN</td>\n",
       "      <td>NaN</td>\n",
       "      <td>1.0</td>\n",
       "      <td>NaN</td>\n",
       "      <td>1465.0</td>\n",
       "      <td>1465.0</td>\n",
       "      <td>1465.0</td>\n",
       "      <td>NaN</td>\n",
       "      <td>NaN</td>\n",
       "      <td>1465.0</td>\n",
       "      <td>NaN</td>\n",
       "      <td>6111.0</td>\n",
       "      <td>1.0</td>\n",
       "      <td>1.0</td>\n",
       "      <td>1.0</td>\n",
       "      <td>0.0</td>\n",
       "      <td>NaN</td>\n",
       "      <td>34449266.0</td>\n",
       "      <td>-119281531.0</td>\n",
       "      <td>12647.0</td>\n",
       "      <td>NaN</td>\n",
       "      <td>NaN</td>\n",
       "      <td>NaN</td>\n",
       "      <td>NaN</td>\n",
       "      <td>NaN</td>\n",
       "      <td>1110</td>\n",
       "      <td>NaN</td>\n",
       "      <td>6.111001e+07</td>\n",
       "      <td>13091.0</td>\n",
       "      <td>2061.0</td>\n",
       "      <td>NaN</td>\n",
       "      <td>97099.0</td>\n",
       "      <td>5.0</td>\n",
       "      <td>NaN</td>\n",
       "      <td>NaN</td>\n",
       "      <td>NaN</td>\n",
       "      <td>NaN</td>\n",
       "      <td>1967.0</td>\n",
       "      <td>1.0</td>\n",
       "      <td>NaN</td>\n",
       "      <td>88000.0</td>\n",
       "      <td>464000.0</td>\n",
       "      <td>2016.0</td>\n",
       "      <td>376000.0</td>\n",
       "      <td>5672.48</td>\n",
       "      <td>NaN</td>\n",
       "      <td>NaN</td>\n",
       "      <td>6.111001e+13</td>\n",
       "      <td>NaN</td>\n",
       "      <td>NaN</td>\n",
       "      <td>NaN</td>\n",
       "      <td>Single Family Residential</td>\n",
       "      <td>NaN</td>\n",
       "      <td>NaN</td>\n",
       "    </tr>\n",
       "    <tr>\n",
       "      <th>2</th>\n",
       "      <td>NaN</td>\n",
       "      <td>NaN</td>\n",
       "      <td>261.0</td>\n",
       "      <td>NaN</td>\n",
       "      <td>NaN</td>\n",
       "      <td>NaN</td>\n",
       "      <td>14186244</td>\n",
       "      <td>2</td>\n",
       "      <td>0.005383</td>\n",
       "      <td>2017-01-01</td>\n",
       "      <td>11677</td>\n",
       "      <td>NaN</td>\n",
       "      <td>2.0</td>\n",
       "      <td>3.0</td>\n",
       "      <td>NaN</td>\n",
       "      <td>NaN</td>\n",
       "      <td>2.0</td>\n",
       "      <td>NaN</td>\n",
       "      <td>NaN</td>\n",
       "      <td>1243.0</td>\n",
       "      <td>1243.0</td>\n",
       "      <td>NaN</td>\n",
       "      <td>NaN</td>\n",
       "      <td>NaN</td>\n",
       "      <td>NaN</td>\n",
       "      <td>6059.0</td>\n",
       "      <td>NaN</td>\n",
       "      <td>2.0</td>\n",
       "      <td>2.0</td>\n",
       "      <td>440.0</td>\n",
       "      <td>NaN</td>\n",
       "      <td>33886168.0</td>\n",
       "      <td>-117823170.0</td>\n",
       "      <td>8432.0</td>\n",
       "      <td>1.0</td>\n",
       "      <td>NaN</td>\n",
       "      <td>NaN</td>\n",
       "      <td>NaN</td>\n",
       "      <td>1.0</td>\n",
       "      <td>122</td>\n",
       "      <td>NaN</td>\n",
       "      <td>6.059022e+07</td>\n",
       "      <td>21412.0</td>\n",
       "      <td>1286.0</td>\n",
       "      <td>NaN</td>\n",
       "      <td>97078.0</td>\n",
       "      <td>6.0</td>\n",
       "      <td>NaN</td>\n",
       "      <td>NaN</td>\n",
       "      <td>NaN</td>\n",
       "      <td>NaN</td>\n",
       "      <td>1962.0</td>\n",
       "      <td>1.0</td>\n",
       "      <td>NaN</td>\n",
       "      <td>85289.0</td>\n",
       "      <td>564778.0</td>\n",
       "      <td>2016.0</td>\n",
       "      <td>479489.0</td>\n",
       "      <td>6488.30</td>\n",
       "      <td>NaN</td>\n",
       "      <td>NaN</td>\n",
       "      <td>6.059022e+13</td>\n",
       "      <td>NaN</td>\n",
       "      <td>NaN</td>\n",
       "      <td>NaN</td>\n",
       "      <td>Single Family Residential</td>\n",
       "      <td>NaN</td>\n",
       "      <td>NaN</td>\n",
       "    </tr>\n",
       "    <tr>\n",
       "      <th>3</th>\n",
       "      <td>NaN</td>\n",
       "      <td>NaN</td>\n",
       "      <td>261.0</td>\n",
       "      <td>2.0</td>\n",
       "      <td>NaN</td>\n",
       "      <td>NaN</td>\n",
       "      <td>12177905</td>\n",
       "      <td>3</td>\n",
       "      <td>-0.103410</td>\n",
       "      <td>2017-01-01</td>\n",
       "      <td>2288172</td>\n",
       "      <td>NaN</td>\n",
       "      <td>3.0</td>\n",
       "      <td>4.0</td>\n",
       "      <td>NaN</td>\n",
       "      <td>8.0</td>\n",
       "      <td>3.0</td>\n",
       "      <td>NaN</td>\n",
       "      <td>NaN</td>\n",
       "      <td>2376.0</td>\n",
       "      <td>2376.0</td>\n",
       "      <td>NaN</td>\n",
       "      <td>NaN</td>\n",
       "      <td>NaN</td>\n",
       "      <td>NaN</td>\n",
       "      <td>6037.0</td>\n",
       "      <td>NaN</td>\n",
       "      <td>3.0</td>\n",
       "      <td>NaN</td>\n",
       "      <td>NaN</td>\n",
       "      <td>NaN</td>\n",
       "      <td>34245180.0</td>\n",
       "      <td>-118240722.0</td>\n",
       "      <td>13038.0</td>\n",
       "      <td>1.0</td>\n",
       "      <td>NaN</td>\n",
       "      <td>NaN</td>\n",
       "      <td>NaN</td>\n",
       "      <td>1.0</td>\n",
       "      <td>0101</td>\n",
       "      <td>LCR110000*</td>\n",
       "      <td>6.037300e+07</td>\n",
       "      <td>396551.0</td>\n",
       "      <td>3101.0</td>\n",
       "      <td>NaN</td>\n",
       "      <td>96330.0</td>\n",
       "      <td>0.0</td>\n",
       "      <td>NaN</td>\n",
       "      <td>1.0</td>\n",
       "      <td>NaN</td>\n",
       "      <td>NaN</td>\n",
       "      <td>1970.0</td>\n",
       "      <td>NaN</td>\n",
       "      <td>NaN</td>\n",
       "      <td>108918.0</td>\n",
       "      <td>145143.0</td>\n",
       "      <td>2016.0</td>\n",
       "      <td>36225.0</td>\n",
       "      <td>1777.51</td>\n",
       "      <td>NaN</td>\n",
       "      <td>NaN</td>\n",
       "      <td>6.037300e+13</td>\n",
       "      <td>NaN</td>\n",
       "      <td>NaN</td>\n",
       "      <td>Central</td>\n",
       "      <td>Single Family Residential</td>\n",
       "      <td>NaN</td>\n",
       "      <td>NaN</td>\n",
       "    </tr>\n",
       "    <tr>\n",
       "      <th>4</th>\n",
       "      <td>NaN</td>\n",
       "      <td>NaN</td>\n",
       "      <td>261.0</td>\n",
       "      <td>2.0</td>\n",
       "      <td>NaN</td>\n",
       "      <td>1.0</td>\n",
       "      <td>12095076</td>\n",
       "      <td>6</td>\n",
       "      <td>-0.001011</td>\n",
       "      <td>2017-01-01</td>\n",
       "      <td>781532</td>\n",
       "      <td>NaN</td>\n",
       "      <td>3.0</td>\n",
       "      <td>4.0</td>\n",
       "      <td>NaN</td>\n",
       "      <td>9.0</td>\n",
       "      <td>3.0</td>\n",
       "      <td>NaN</td>\n",
       "      <td>NaN</td>\n",
       "      <td>2962.0</td>\n",
       "      <td>2962.0</td>\n",
       "      <td>NaN</td>\n",
       "      <td>NaN</td>\n",
       "      <td>NaN</td>\n",
       "      <td>NaN</td>\n",
       "      <td>6037.0</td>\n",
       "      <td>NaN</td>\n",
       "      <td>3.0</td>\n",
       "      <td>NaN</td>\n",
       "      <td>NaN</td>\n",
       "      <td>NaN</td>\n",
       "      <td>34145202.0</td>\n",
       "      <td>-118179824.0</td>\n",
       "      <td>63000.0</td>\n",
       "      <td>1.0</td>\n",
       "      <td>NaN</td>\n",
       "      <td>NaN</td>\n",
       "      <td>NaN</td>\n",
       "      <td>1.0</td>\n",
       "      <td>0101</td>\n",
       "      <td>PSR2</td>\n",
       "      <td>6.037461e+07</td>\n",
       "      <td>47019.0</td>\n",
       "      <td>3101.0</td>\n",
       "      <td>274684.0</td>\n",
       "      <td>96293.0</td>\n",
       "      <td>0.0</td>\n",
       "      <td>NaN</td>\n",
       "      <td>1.0</td>\n",
       "      <td>NaN</td>\n",
       "      <td>NaN</td>\n",
       "      <td>1950.0</td>\n",
       "      <td>NaN</td>\n",
       "      <td>NaN</td>\n",
       "      <td>276684.0</td>\n",
       "      <td>773303.0</td>\n",
       "      <td>2016.0</td>\n",
       "      <td>496619.0</td>\n",
       "      <td>9516.26</td>\n",
       "      <td>NaN</td>\n",
       "      <td>NaN</td>\n",
       "      <td>6.037461e+13</td>\n",
       "      <td>Central</td>\n",
       "      <td>NaN</td>\n",
       "      <td>Central</td>\n",
       "      <td>Single Family Residential</td>\n",
       "      <td>NaN</td>\n",
       "      <td>NaN</td>\n",
       "    </tr>\n",
       "  </tbody>\n",
       "</table>\n",
       "</div>"
      ],
      "text/plain": [
       "   storytypeid  typeconstructiontypeid  propertylandusetypeid  \\\n",
       "0          NaN                     NaN                  261.0   \n",
       "1          NaN                     NaN                  261.0   \n",
       "2          NaN                     NaN                  261.0   \n",
       "3          NaN                     NaN                  261.0   \n",
       "4          NaN                     NaN                  261.0   \n",
       "\n",
       "   heatingorsystemtypeid  architecturalstyletypeid  airconditioningtypeid  \\\n",
       "0                    NaN                       NaN                    NaN   \n",
       "1                    NaN                       NaN                    NaN   \n",
       "2                    NaN                       NaN                    NaN   \n",
       "3                    2.0                       NaN                    NaN   \n",
       "4                    2.0                       NaN                    1.0   \n",
       "\n",
       "   parcelid  id  logerror transactiondate     id.1  basementsqft  bathroomcnt  \\\n",
       "0  14297519   0  0.025595      2017-01-01  1727539           NaN          3.5   \n",
       "1  17052889   1  0.055619      2017-01-01  1387261           NaN          1.0   \n",
       "2  14186244   2  0.005383      2017-01-01    11677           NaN          2.0   \n",
       "3  12177905   3 -0.103410      2017-01-01  2288172           NaN          3.0   \n",
       "4  12095076   6 -0.001011      2017-01-01   781532           NaN          3.0   \n",
       "\n",
       "   bedroomcnt  buildingclasstypeid  buildingqualitytypeid  calculatedbathnbr  \\\n",
       "0         4.0                  NaN                    NaN                3.5   \n",
       "1         2.0                  NaN                    NaN                1.0   \n",
       "2         3.0                  NaN                    NaN                2.0   \n",
       "3         4.0                  NaN                    8.0                3.0   \n",
       "4         4.0                  NaN                    9.0                3.0   \n",
       "\n",
       "   decktypeid  finishedfloor1squarefeet  calculatedfinishedsquarefeet  \\\n",
       "0         NaN                       NaN                        3100.0   \n",
       "1         NaN                    1465.0                        1465.0   \n",
       "2         NaN                       NaN                        1243.0   \n",
       "3         NaN                       NaN                        2376.0   \n",
       "4         NaN                       NaN                        2962.0   \n",
       "\n",
       "   finishedsquarefeet12  finishedsquarefeet13  finishedsquarefeet15  \\\n",
       "0                3100.0                   NaN                   NaN   \n",
       "1                1465.0                   NaN                   NaN   \n",
       "2                1243.0                   NaN                   NaN   \n",
       "3                2376.0                   NaN                   NaN   \n",
       "4                2962.0                   NaN                   NaN   \n",
       "\n",
       "   finishedsquarefeet50  finishedsquarefeet6    fips  fireplacecnt  \\\n",
       "0                   NaN                  NaN  6059.0           NaN   \n",
       "1                1465.0                  NaN  6111.0           1.0   \n",
       "2                   NaN                  NaN  6059.0           NaN   \n",
       "3                   NaN                  NaN  6037.0           NaN   \n",
       "4                   NaN                  NaN  6037.0           NaN   \n",
       "\n",
       "   fullbathcnt  garagecarcnt  garagetotalsqft  hashottuborspa    latitude  \\\n",
       "0          3.0           2.0            633.0             NaN  33634931.0   \n",
       "1          1.0           1.0              0.0             NaN  34449266.0   \n",
       "2          2.0           2.0            440.0             NaN  33886168.0   \n",
       "3          3.0           NaN              NaN             NaN  34245180.0   \n",
       "4          3.0           NaN              NaN             NaN  34145202.0   \n",
       "\n",
       "     longitude  lotsizesquarefeet  poolcnt  poolsizesum  pooltypeid10  \\\n",
       "0 -117869207.0             4506.0      NaN          NaN           NaN   \n",
       "1 -119281531.0            12647.0      NaN          NaN           NaN   \n",
       "2 -117823170.0             8432.0      1.0          NaN           NaN   \n",
       "3 -118240722.0            13038.0      1.0          NaN           NaN   \n",
       "4 -118179824.0            63000.0      1.0          NaN           NaN   \n",
       "\n",
       "   pooltypeid2  pooltypeid7 propertycountylandusecode propertyzoningdesc  \\\n",
       "0          NaN          NaN                       122                NaN   \n",
       "1          NaN          NaN                      1110                NaN   \n",
       "2          NaN          1.0                       122                NaN   \n",
       "3          NaN          1.0                      0101         LCR110000*   \n",
       "4          NaN          1.0                      0101               PSR2   \n",
       "\n",
       "   rawcensustractandblock  regionidcity  regionidcounty  regionidneighborhood  \\\n",
       "0            6.059063e+07       53571.0          1286.0                   NaN   \n",
       "1            6.111001e+07       13091.0          2061.0                   NaN   \n",
       "2            6.059022e+07       21412.0          1286.0                   NaN   \n",
       "3            6.037300e+07      396551.0          3101.0                   NaN   \n",
       "4            6.037461e+07       47019.0          3101.0              274684.0   \n",
       "\n",
       "   regionidzip  roomcnt  threequarterbathnbr  unitcnt  yardbuildingsqft17  \\\n",
       "0      96978.0      0.0                  1.0      NaN                 NaN   \n",
       "1      97099.0      5.0                  NaN      NaN                 NaN   \n",
       "2      97078.0      6.0                  NaN      NaN                 NaN   \n",
       "3      96330.0      0.0                  NaN      1.0                 NaN   \n",
       "4      96293.0      0.0                  NaN      1.0                 NaN   \n",
       "\n",
       "   yardbuildingsqft26  yearbuilt  numberofstories  fireplaceflag  \\\n",
       "0                 NaN     1998.0              NaN            NaN   \n",
       "1                 NaN     1967.0              1.0            NaN   \n",
       "2                 NaN     1962.0              1.0            NaN   \n",
       "3                 NaN     1970.0              NaN            NaN   \n",
       "4                 NaN     1950.0              NaN            NaN   \n",
       "\n",
       "   structuretaxvaluedollarcnt  taxvaluedollarcnt  assessmentyear  \\\n",
       "0                    485713.0          1023282.0          2016.0   \n",
       "1                     88000.0           464000.0          2016.0   \n",
       "2                     85289.0           564778.0          2016.0   \n",
       "3                    108918.0           145143.0          2016.0   \n",
       "4                    276684.0           773303.0          2016.0   \n",
       "\n",
       "   landtaxvaluedollarcnt  taxamount taxdelinquencyflag  taxdelinquencyyear  \\\n",
       "0               537569.0   11013.72                NaN                 NaN   \n",
       "1               376000.0    5672.48                NaN                 NaN   \n",
       "2               479489.0    6488.30                NaN                 NaN   \n",
       "3                36225.0    1777.51                NaN                 NaN   \n",
       "4               496619.0    9516.26                NaN                 NaN   \n",
       "\n",
       "   censustractandblock airconditioningdesc architecturalstyledesc  \\\n",
       "0         6.059063e+13                 NaN                    NaN   \n",
       "1         6.111001e+13                 NaN                    NaN   \n",
       "2         6.059022e+13                 NaN                    NaN   \n",
       "3         6.037300e+13                 NaN                    NaN   \n",
       "4         6.037461e+13             Central                    NaN   \n",
       "\n",
       "  heatingorsystemdesc        propertylandusedesc typeconstructiondesc  \\\n",
       "0                 NaN  Single Family Residential                  NaN   \n",
       "1                 NaN  Single Family Residential                  NaN   \n",
       "2                 NaN  Single Family Residential                  NaN   \n",
       "3             Central  Single Family Residential                  NaN   \n",
       "4             Central  Single Family Residential                  NaN   \n",
       "\n",
       "  storydesc  \n",
       "0       NaN  \n",
       "1       NaN  \n",
       "2       NaN  \n",
       "3       NaN  \n",
       "4       NaN  "
      ]
     },
     "execution_count": 2,
     "metadata": {},
     "output_type": "execute_result"
    }
   ],
   "source": [
    "df = wrangle.get_data()\n",
    "df.head()"
   ]
  },
  {
   "cell_type": "code",
   "execution_count": 4,
   "metadata": {},
   "outputs": [
    {
     "data": {
      "text/plain": [
       "(52442, 68)"
      ]
     },
     "execution_count": 4,
     "metadata": {},
     "output_type": "execute_result"
    }
   ],
   "source": [
    "df.shape"
   ]
  },
  {
   "cell_type": "code",
   "execution_count": 5,
   "metadata": {},
   "outputs": [
    {
     "data": {
      "text/plain": [
       "airconditioningdesc             0.739941\n",
       "airconditioningtypeid           0.739941\n",
       "architecturalstyledesc          0.998665\n",
       "architecturalstyletypeid        0.998665\n",
       "assessmentyear                  0.000000\n",
       "basementsqft                    0.999104\n",
       "bathroomcnt                     0.000000\n",
       "bedroomcnt                      0.000000\n",
       "buildingclasstypeid             1.000000\n",
       "buildingqualitytypeid           0.356603\n",
       "calculatedbathnbr               0.002612\n",
       "calculatedfinishedsquarefeet    0.001564\n",
       "censustractandblock             0.002345\n",
       "decktypeid                      0.992582\n",
       "finishedfloor1squarefeet        0.916460\n",
       "finishedsquarefeet12            0.004710\n",
       "finishedsquarefeet13            1.000000\n",
       "finishedsquarefeet15            1.000000\n",
       "finishedsquarefeet50            0.916460\n",
       "finishedsquarefeet6             0.996854\n",
       "fips                            0.000000\n",
       "fireplacecnt                    0.861886\n",
       "fireplaceflag                   0.998455\n",
       "fullbathcnt                     0.002612\n",
       "garagecarcnt                    0.656478\n",
       "garagetotalsqft                 0.656478\n",
       "hashottuborspa                  0.971111\n",
       "heatingorsystemdesc             0.352885\n",
       "heatingorsystemtypeid           0.352885\n",
       "id                              0.000000\n",
       "id.1                            0.000000\n",
       "landtaxvaluedollarcnt           0.000019\n",
       "latitude                        0.000000\n",
       "logerror                        0.000000\n",
       "longitude                       0.000000\n",
       "lotsizesquarefeet               0.007036\n",
       "numberofstories                 0.722341\n",
       "parcelid                        0.000000\n",
       "poolcnt                         0.788414\n",
       "poolsizesum                     0.983467\n",
       "pooltypeid10                    0.991534\n",
       "pooltypeid2                     0.979577\n",
       "pooltypeid7                     0.809142\n",
       "propertycountylandusecode       0.000000\n",
       "propertylandusedesc             0.000000\n",
       "propertylandusetypeid           0.000000\n",
       "propertyzoningdesc              0.354544\n",
       "rawcensustractandblock          0.000000\n",
       "regionidcity                    0.019774\n",
       "regionidcounty                  0.000000\n",
       "regionidneighborhood            0.637066\n",
       "regionidzip                     0.000496\n",
       "roomcnt                         0.000000\n",
       "storydesc                       0.999104\n",
       "storytypeid                     0.999104\n",
       "structuretaxvaluedollarcnt      0.001602\n",
       "taxamount                       0.000076\n",
       "taxdelinquencyflag              0.960356\n",
       "taxdelinquencyyear              0.960356\n",
       "taxvaluedollarcnt               0.000019\n",
       "threequarterbathnbr             0.871782\n",
       "transactiondate                 0.000000\n",
       "typeconstructiondesc            0.998551\n",
       "typeconstructiontypeid          0.998551\n",
       "unitcnt                         0.354563\n",
       "yardbuildingsqft17              0.963064\n",
       "yardbuildingsqft26              0.998799\n",
       "yearbuilt                       0.002212\n",
       "dtype: float64"
      ]
     },
     "execution_count": 5,
     "metadata": {},
     "output_type": "execute_result"
    }
   ],
   "source": [
    "nullPercent = df.isna().mean().sort_index()\n",
    "nullPercent\n"
   ]
  },
  {
   "cell_type": "code",
   "execution_count": 6,
   "metadata": {},
   "outputs": [
    {
     "data": {
      "text/plain": [
       "logerror                        0.000000\n",
       "fips                            0.000000\n",
       "latitude                        0.000000\n",
       "longitude                       0.000000\n",
       "parcelid                        0.000000\n",
       "propertycountylandusecode       0.000000\n",
       "propertylandusedesc             0.000000\n",
       "propertylandusetypeid           0.000000\n",
       "rawcensustractandblock          0.000000\n",
       "id.1                            0.000000\n",
       "id                              0.000000\n",
       "roomcnt                         0.000000\n",
       "bedroomcnt                      0.000000\n",
       "bathroomcnt                     0.000000\n",
       "assessmentyear                  0.000000\n",
       "transactiondate                 0.000000\n",
       "regionidcounty                  0.000000\n",
       "taxvaluedollarcnt               0.000019\n",
       "landtaxvaluedollarcnt           0.000019\n",
       "taxamount                       0.000076\n",
       "regionidzip                     0.000496\n",
       "calculatedfinishedsquarefeet    0.001564\n",
       "structuretaxvaluedollarcnt      0.001602\n",
       "yearbuilt                       0.002212\n",
       "censustractandblock             0.002345\n",
       "calculatedbathnbr               0.002612\n",
       "fullbathcnt                     0.002612\n",
       "finishedsquarefeet12            0.004710\n",
       "lotsizesquarefeet               0.007036\n",
       "regionidcity                    0.019774\n",
       "heatingorsystemdesc             0.352885\n",
       "heatingorsystemtypeid           0.352885\n",
       "propertyzoningdesc              0.354544\n",
       "unitcnt                         0.354563\n",
       "buildingqualitytypeid           0.356603\n",
       "regionidneighborhood            0.637066\n",
       "garagecarcnt                    0.656478\n",
       "garagetotalsqft                 0.656478\n",
       "numberofstories                 0.722341\n",
       "airconditioningtypeid           0.739941\n",
       "airconditioningdesc             0.739941\n",
       "poolcnt                         0.788414\n",
       "pooltypeid7                     0.809142\n",
       "fireplacecnt                    0.861886\n",
       "threequarterbathnbr             0.871782\n",
       "finishedfloor1squarefeet        0.916460\n",
       "finishedsquarefeet50            0.916460\n",
       "taxdelinquencyyear              0.960356\n",
       "taxdelinquencyflag              0.960356\n",
       "yardbuildingsqft17              0.963064\n",
       "hashottuborspa                  0.971111\n",
       "pooltypeid2                     0.979577\n",
       "poolsizesum                     0.983467\n",
       "pooltypeid10                    0.991534\n",
       "decktypeid                      0.992582\n",
       "finishedsquarefeet6             0.996854\n",
       "fireplaceflag                   0.998455\n",
       "typeconstructiondesc            0.998551\n",
       "typeconstructiontypeid          0.998551\n",
       "architecturalstyletypeid        0.998665\n",
       "architecturalstyledesc          0.998665\n",
       "yardbuildingsqft26              0.998799\n",
       "basementsqft                    0.999104\n",
       "storydesc                       0.999104\n",
       "storytypeid                     0.999104\n",
       "buildingclasstypeid             1.000000\n",
       "finishedsquarefeet15            1.000000\n",
       "finishedsquarefeet13            1.000000\n",
       "dtype: float64"
      ]
     },
     "execution_count": 6,
     "metadata": {},
     "output_type": "execute_result"
    }
   ],
   "source": [
    "nullPercent.sort_values()"
   ]
  },
  {
   "cell_type": "markdown",
   "metadata": {},
   "source": [
    "##### taxdelquincyflag"
   ]
  },
  {
   "cell_type": "code",
   "execution_count": 7,
   "metadata": {},
   "outputs": [],
   "source": [
    "# By assuming that null values are the equivelant to false, we can save the column taxdelinquencyflag\n",
    "df.taxdelinquencyflag = df.taxdelinquencyflag == 'Y'"
   ]
  },
  {
   "cell_type": "markdown",
   "metadata": {},
   "source": [
    "##### taxdelquincyyear"
   ]
  },
  {
   "cell_type": "code",
   "execution_count": 8,
   "metadata": {},
   "outputs": [],
   "source": [
    "# By converting taxdelinquencyyear to instead be a measure of how long the property has been tax deliquent we can save ourselves from dropping the null values.\n",
    "df['years_tax_delinquent'] = (2017 - (df.taxdelinquencyyear +2000).replace(2099, 1999)).fillna(0)"
   ]
  },
  {
   "cell_type": "markdown",
   "metadata": {},
   "source": [
    "##### unitcnt"
   ]
  },
  {
   "cell_type": "code",
   "execution_count": 9,
   "metadata": {},
   "outputs": [
    {
     "data": {
      "text/plain": [
       "1.0    33818\n",
       "NaN    18594\n",
       "2.0       29\n",
       "3.0        1\n",
       "Name: unitcnt, dtype: int64"
      ]
     },
     "execution_count": 9,
     "metadata": {},
     "output_type": "execute_result"
    }
   ],
   "source": [
    "df.unitcnt.value_counts(dropna=False)"
   ]
  },
  {
   "cell_type": "code",
   "execution_count": 9,
   "metadata": {},
   "outputs": [],
   "source": [
    "# Because the overwhelming majority of these is values is 1, we are probably safe imputing the 1 in the missing values.\n",
    "df.unitcnt = df.unitcnt.fillna(1.0)"
   ]
  },
  {
   "cell_type": "markdown",
   "metadata": {},
   "source": [
    "##### Bathroom"
   ]
  },
  {
   "cell_type": "code",
   "execution_count": 10,
   "metadata": {},
   "outputs": [
    {
     "data": {
      "text/plain": [
       "1.0    6645\n",
       "2.0      70\n",
       "3.0       8\n",
       "7.0       1\n",
       "Name: threequarterbathnbr, dtype: int64"
      ]
     },
     "execution_count": 10,
     "metadata": {},
     "output_type": "execute_result"
    }
   ],
   "source": [
    "df.threequarterbathnbr.value_counts()"
   ]
  },
  {
   "cell_type": "code",
   "execution_count": 11,
   "metadata": {},
   "outputs": [
    {
     "data": {
      "text/plain": [
       "(2.0     21894\n",
       " 3.0     10663\n",
       " 1.0      9568\n",
       " 4.0      2209\n",
       " 5.0       784\n",
       " 6.0       305\n",
       " 0.0       121\n",
       " 7.0        82\n",
       " 8.0        53\n",
       " 9.0        13\n",
       " 2.5         8\n",
       " 1.5         7\n",
       " 10.0        5\n",
       " 11.0        3\n",
       " 18.0        1\n",
       " 5.5         1\n",
       " 13.0        1\n",
       " Name: bathroomcnt, dtype: int64,\n",
       " 2.5    3926\n",
       " 3.5     918\n",
       " 1.5     834\n",
       " 4.5     687\n",
       " 5.5     223\n",
       " 6.5      47\n",
       " 5.0      19\n",
       " 4.0      18\n",
       " 6.0      17\n",
       " 7.5      16\n",
       " 3.0      10\n",
       " 7.0       6\n",
       " 8.5       3\n",
       " Name: bathroomcnt, dtype: int64)"
      ]
     },
     "execution_count": 11,
     "metadata": {},
     "output_type": "execute_result"
    }
   ],
   "source": [
    "df[df.threequarterbathnbr.isna()].bathroomcnt.value_counts(), df[~df.threequarterbathnbr.isna()].bathroomcnt.value_counts()"
   ]
  },
  {
   "cell_type": "code",
   "execution_count": 12,
   "metadata": {},
   "outputs": [
    {
     "data": {
      "text/html": [
       "<div>\n",
       "<style scoped>\n",
       "    .dataframe tbody tr th:only-of-type {\n",
       "        vertical-align: middle;\n",
       "    }\n",
       "\n",
       "    .dataframe tbody tr th {\n",
       "        vertical-align: top;\n",
       "    }\n",
       "\n",
       "    .dataframe thead th {\n",
       "        text-align: right;\n",
       "    }\n",
       "</style>\n",
       "<table border=\"1\" class=\"dataframe\">\n",
       "  <thead>\n",
       "    <tr style=\"text-align: right;\">\n",
       "      <th></th>\n",
       "      <th>bathroomcnt</th>\n",
       "      <th>threequarterbathnbr</th>\n",
       "      <th>calculatedbathnbr</th>\n",
       "    </tr>\n",
       "  </thead>\n",
       "  <tbody>\n",
       "    <tr>\n",
       "      <th>30601</th>\n",
       "      <td>2.5</td>\n",
       "      <td>1.0</td>\n",
       "      <td>2.5</td>\n",
       "    </tr>\n",
       "    <tr>\n",
       "      <th>41188</th>\n",
       "      <td>2.5</td>\n",
       "      <td>1.0</td>\n",
       "      <td>2.5</td>\n",
       "    </tr>\n",
       "    <tr>\n",
       "      <th>35339</th>\n",
       "      <td>2.5</td>\n",
       "      <td>1.0</td>\n",
       "      <td>2.5</td>\n",
       "    </tr>\n",
       "    <tr>\n",
       "      <th>39037</th>\n",
       "      <td>3.5</td>\n",
       "      <td>1.0</td>\n",
       "      <td>3.5</td>\n",
       "    </tr>\n",
       "    <tr>\n",
       "      <th>50970</th>\n",
       "      <td>4.5</td>\n",
       "      <td>1.0</td>\n",
       "      <td>4.5</td>\n",
       "    </tr>\n",
       "    <tr>\n",
       "      <th>10746</th>\n",
       "      <td>2.5</td>\n",
       "      <td>1.0</td>\n",
       "      <td>2.5</td>\n",
       "    </tr>\n",
       "    <tr>\n",
       "      <th>14060</th>\n",
       "      <td>2.5</td>\n",
       "      <td>1.0</td>\n",
       "      <td>2.5</td>\n",
       "    </tr>\n",
       "    <tr>\n",
       "      <th>38333</th>\n",
       "      <td>4.5</td>\n",
       "      <td>1.0</td>\n",
       "      <td>4.5</td>\n",
       "    </tr>\n",
       "    <tr>\n",
       "      <th>15021</th>\n",
       "      <td>2.5</td>\n",
       "      <td>1.0</td>\n",
       "      <td>2.5</td>\n",
       "    </tr>\n",
       "    <tr>\n",
       "      <th>6849</th>\n",
       "      <td>2.5</td>\n",
       "      <td>1.0</td>\n",
       "      <td>2.5</td>\n",
       "    </tr>\n",
       "    <tr>\n",
       "      <th>42874</th>\n",
       "      <td>2.5</td>\n",
       "      <td>1.0</td>\n",
       "      <td>2.5</td>\n",
       "    </tr>\n",
       "    <tr>\n",
       "      <th>28255</th>\n",
       "      <td>2.5</td>\n",
       "      <td>1.0</td>\n",
       "      <td>2.5</td>\n",
       "    </tr>\n",
       "    <tr>\n",
       "      <th>19909</th>\n",
       "      <td>2.5</td>\n",
       "      <td>1.0</td>\n",
       "      <td>2.5</td>\n",
       "    </tr>\n",
       "    <tr>\n",
       "      <th>1174</th>\n",
       "      <td>2.5</td>\n",
       "      <td>1.0</td>\n",
       "      <td>2.5</td>\n",
       "    </tr>\n",
       "    <tr>\n",
       "      <th>21516</th>\n",
       "      <td>4.5</td>\n",
       "      <td>1.0</td>\n",
       "      <td>4.5</td>\n",
       "    </tr>\n",
       "  </tbody>\n",
       "</table>\n",
       "</div>"
      ],
      "text/plain": [
       "       bathroomcnt  threequarterbathnbr  calculatedbathnbr\n",
       "30601          2.5                  1.0                2.5\n",
       "41188          2.5                  1.0                2.5\n",
       "35339          2.5                  1.0                2.5\n",
       "39037          3.5                  1.0                3.5\n",
       "50970          4.5                  1.0                4.5\n",
       "10746          2.5                  1.0                2.5\n",
       "14060          2.5                  1.0                2.5\n",
       "38333          4.5                  1.0                4.5\n",
       "15021          2.5                  1.0                2.5\n",
       "6849           2.5                  1.0                2.5\n",
       "42874          2.5                  1.0                2.5\n",
       "28255          2.5                  1.0                2.5\n",
       "19909          2.5                  1.0                2.5\n",
       "1174           2.5                  1.0                2.5\n",
       "21516          4.5                  1.0                4.5"
      ]
     },
     "execution_count": 12,
     "metadata": {},
     "output_type": "execute_result"
    }
   ],
   "source": [
    "ct = df[~df.threequarterbathnbr.isna()][['bathroomcnt', 'threequarterbathnbr','calculatedbathnbr']]\n",
    "ct.sample(15)"
   ]
  },
  {
   "cell_type": "code",
   "execution_count": 13,
   "metadata": {},
   "outputs": [
    {
     "data": {
      "text/html": [
       "<div>\n",
       "<style scoped>\n",
       "    .dataframe tbody tr th:only-of-type {\n",
       "        vertical-align: middle;\n",
       "    }\n",
       "\n",
       "    .dataframe tbody tr th {\n",
       "        vertical-align: top;\n",
       "    }\n",
       "\n",
       "    .dataframe thead th {\n",
       "        text-align: right;\n",
       "    }\n",
       "</style>\n",
       "<table border=\"1\" class=\"dataframe\">\n",
       "  <thead>\n",
       "    <tr style=\"text-align: right;\">\n",
       "      <th>threequarterbathnbr</th>\n",
       "      <th>1.0</th>\n",
       "      <th>2.0</th>\n",
       "      <th>3.0</th>\n",
       "      <th>7.0</th>\n",
       "    </tr>\n",
       "    <tr>\n",
       "      <th>calculatedbathnbr</th>\n",
       "      <th></th>\n",
       "      <th></th>\n",
       "      <th></th>\n",
       "      <th></th>\n",
       "    </tr>\n",
       "  </thead>\n",
       "  <tbody>\n",
       "    <tr>\n",
       "      <th>1.5</th>\n",
       "      <td>834</td>\n",
       "      <td>0</td>\n",
       "      <td>0</td>\n",
       "      <td>0</td>\n",
       "    </tr>\n",
       "    <tr>\n",
       "      <th>2.5</th>\n",
       "      <td>3926</td>\n",
       "      <td>0</td>\n",
       "      <td>0</td>\n",
       "      <td>0</td>\n",
       "    </tr>\n",
       "    <tr>\n",
       "      <th>3.0</th>\n",
       "      <td>0</td>\n",
       "      <td>10</td>\n",
       "      <td>0</td>\n",
       "      <td>0</td>\n",
       "    </tr>\n",
       "    <tr>\n",
       "      <th>3.5</th>\n",
       "      <td>917</td>\n",
       "      <td>0</td>\n",
       "      <td>1</td>\n",
       "      <td>0</td>\n",
       "    </tr>\n",
       "    <tr>\n",
       "      <th>4.0</th>\n",
       "      <td>0</td>\n",
       "      <td>18</td>\n",
       "      <td>0</td>\n",
       "      <td>0</td>\n",
       "    </tr>\n",
       "    <tr>\n",
       "      <th>4.5</th>\n",
       "      <td>685</td>\n",
       "      <td>0</td>\n",
       "      <td>2</td>\n",
       "      <td>0</td>\n",
       "    </tr>\n",
       "    <tr>\n",
       "      <th>5.0</th>\n",
       "      <td>0</td>\n",
       "      <td>19</td>\n",
       "      <td>0</td>\n",
       "      <td>0</td>\n",
       "    </tr>\n",
       "    <tr>\n",
       "      <th>5.5</th>\n",
       "      <td>220</td>\n",
       "      <td>0</td>\n",
       "      <td>2</td>\n",
       "      <td>1</td>\n",
       "    </tr>\n",
       "    <tr>\n",
       "      <th>6.0</th>\n",
       "      <td>0</td>\n",
       "      <td>17</td>\n",
       "      <td>0</td>\n",
       "      <td>0</td>\n",
       "    </tr>\n",
       "    <tr>\n",
       "      <th>6.5</th>\n",
       "      <td>46</td>\n",
       "      <td>0</td>\n",
       "      <td>1</td>\n",
       "      <td>0</td>\n",
       "    </tr>\n",
       "    <tr>\n",
       "      <th>7.0</th>\n",
       "      <td>0</td>\n",
       "      <td>6</td>\n",
       "      <td>0</td>\n",
       "      <td>0</td>\n",
       "    </tr>\n",
       "    <tr>\n",
       "      <th>7.5</th>\n",
       "      <td>14</td>\n",
       "      <td>0</td>\n",
       "      <td>2</td>\n",
       "      <td>0</td>\n",
       "    </tr>\n",
       "    <tr>\n",
       "      <th>8.5</th>\n",
       "      <td>3</td>\n",
       "      <td>0</td>\n",
       "      <td>0</td>\n",
       "      <td>0</td>\n",
       "    </tr>\n",
       "  </tbody>\n",
       "</table>\n",
       "</div>"
      ],
      "text/plain": [
       "threequarterbathnbr   1.0  2.0  3.0  7.0\n",
       "calculatedbathnbr                       \n",
       "1.5                   834    0    0    0\n",
       "2.5                  3926    0    0    0\n",
       "3.0                     0   10    0    0\n",
       "3.5                   917    0    1    0\n",
       "4.0                     0   18    0    0\n",
       "4.5                   685    0    2    0\n",
       "5.0                     0   19    0    0\n",
       "5.5                   220    0    2    1\n",
       "6.0                     0   17    0    0\n",
       "6.5                    46    0    1    0\n",
       "7.0                     0    6    0    0\n",
       "7.5                    14    0    2    0\n",
       "8.5                     3    0    0    0"
      ]
     },
     "execution_count": 13,
     "metadata": {},
     "output_type": "execute_result"
    }
   ],
   "source": [
    "pd.crosstab(ct.calculatedbathnbr, ct.threequarterbathnbr)"
   ]
  },
  {
   "cell_type": "code",
   "execution_count": 14,
   "metadata": {},
   "outputs": [
    {
     "data": {
      "text/html": [
       "<div>\n",
       "<style scoped>\n",
       "    .dataframe tbody tr th:only-of-type {\n",
       "        vertical-align: middle;\n",
       "    }\n",
       "\n",
       "    .dataframe tbody tr th {\n",
       "        vertical-align: top;\n",
       "    }\n",
       "\n",
       "    .dataframe thead th {\n",
       "        text-align: right;\n",
       "    }\n",
       "</style>\n",
       "<table border=\"1\" class=\"dataframe\">\n",
       "  <thead>\n",
       "    <tr style=\"text-align: right;\">\n",
       "      <th>bathroomcnt</th>\n",
       "      <th>1.5</th>\n",
       "      <th>2.5</th>\n",
       "      <th>3.0</th>\n",
       "      <th>3.5</th>\n",
       "      <th>4.0</th>\n",
       "      <th>4.5</th>\n",
       "      <th>5.0</th>\n",
       "      <th>5.5</th>\n",
       "      <th>6.0</th>\n",
       "      <th>6.5</th>\n",
       "      <th>7.0</th>\n",
       "      <th>7.5</th>\n",
       "      <th>8.5</th>\n",
       "    </tr>\n",
       "    <tr>\n",
       "      <th>calculatedbathnbr</th>\n",
       "      <th></th>\n",
       "      <th></th>\n",
       "      <th></th>\n",
       "      <th></th>\n",
       "      <th></th>\n",
       "      <th></th>\n",
       "      <th></th>\n",
       "      <th></th>\n",
       "      <th></th>\n",
       "      <th></th>\n",
       "      <th></th>\n",
       "      <th></th>\n",
       "      <th></th>\n",
       "    </tr>\n",
       "  </thead>\n",
       "  <tbody>\n",
       "    <tr>\n",
       "      <th>1.5</th>\n",
       "      <td>834</td>\n",
       "      <td>0</td>\n",
       "      <td>0</td>\n",
       "      <td>0</td>\n",
       "      <td>0</td>\n",
       "      <td>0</td>\n",
       "      <td>0</td>\n",
       "      <td>0</td>\n",
       "      <td>0</td>\n",
       "      <td>0</td>\n",
       "      <td>0</td>\n",
       "      <td>0</td>\n",
       "      <td>0</td>\n",
       "    </tr>\n",
       "    <tr>\n",
       "      <th>2.5</th>\n",
       "      <td>0</td>\n",
       "      <td>3926</td>\n",
       "      <td>0</td>\n",
       "      <td>0</td>\n",
       "      <td>0</td>\n",
       "      <td>0</td>\n",
       "      <td>0</td>\n",
       "      <td>0</td>\n",
       "      <td>0</td>\n",
       "      <td>0</td>\n",
       "      <td>0</td>\n",
       "      <td>0</td>\n",
       "      <td>0</td>\n",
       "    </tr>\n",
       "    <tr>\n",
       "      <th>3.0</th>\n",
       "      <td>0</td>\n",
       "      <td>0</td>\n",
       "      <td>10</td>\n",
       "      <td>0</td>\n",
       "      <td>0</td>\n",
       "      <td>0</td>\n",
       "      <td>0</td>\n",
       "      <td>0</td>\n",
       "      <td>0</td>\n",
       "      <td>0</td>\n",
       "      <td>0</td>\n",
       "      <td>0</td>\n",
       "      <td>0</td>\n",
       "    </tr>\n",
       "    <tr>\n",
       "      <th>3.5</th>\n",
       "      <td>0</td>\n",
       "      <td>0</td>\n",
       "      <td>0</td>\n",
       "      <td>918</td>\n",
       "      <td>0</td>\n",
       "      <td>0</td>\n",
       "      <td>0</td>\n",
       "      <td>0</td>\n",
       "      <td>0</td>\n",
       "      <td>0</td>\n",
       "      <td>0</td>\n",
       "      <td>0</td>\n",
       "      <td>0</td>\n",
       "    </tr>\n",
       "    <tr>\n",
       "      <th>4.0</th>\n",
       "      <td>0</td>\n",
       "      <td>0</td>\n",
       "      <td>0</td>\n",
       "      <td>0</td>\n",
       "      <td>18</td>\n",
       "      <td>0</td>\n",
       "      <td>0</td>\n",
       "      <td>0</td>\n",
       "      <td>0</td>\n",
       "      <td>0</td>\n",
       "      <td>0</td>\n",
       "      <td>0</td>\n",
       "      <td>0</td>\n",
       "    </tr>\n",
       "    <tr>\n",
       "      <th>4.5</th>\n",
       "      <td>0</td>\n",
       "      <td>0</td>\n",
       "      <td>0</td>\n",
       "      <td>0</td>\n",
       "      <td>0</td>\n",
       "      <td>687</td>\n",
       "      <td>0</td>\n",
       "      <td>0</td>\n",
       "      <td>0</td>\n",
       "      <td>0</td>\n",
       "      <td>0</td>\n",
       "      <td>0</td>\n",
       "      <td>0</td>\n",
       "    </tr>\n",
       "    <tr>\n",
       "      <th>5.0</th>\n",
       "      <td>0</td>\n",
       "      <td>0</td>\n",
       "      <td>0</td>\n",
       "      <td>0</td>\n",
       "      <td>0</td>\n",
       "      <td>0</td>\n",
       "      <td>19</td>\n",
       "      <td>0</td>\n",
       "      <td>0</td>\n",
       "      <td>0</td>\n",
       "      <td>0</td>\n",
       "      <td>0</td>\n",
       "      <td>0</td>\n",
       "    </tr>\n",
       "    <tr>\n",
       "      <th>5.5</th>\n",
       "      <td>0</td>\n",
       "      <td>0</td>\n",
       "      <td>0</td>\n",
       "      <td>0</td>\n",
       "      <td>0</td>\n",
       "      <td>0</td>\n",
       "      <td>0</td>\n",
       "      <td>223</td>\n",
       "      <td>0</td>\n",
       "      <td>0</td>\n",
       "      <td>0</td>\n",
       "      <td>0</td>\n",
       "      <td>0</td>\n",
       "    </tr>\n",
       "    <tr>\n",
       "      <th>6.0</th>\n",
       "      <td>0</td>\n",
       "      <td>0</td>\n",
       "      <td>0</td>\n",
       "      <td>0</td>\n",
       "      <td>0</td>\n",
       "      <td>0</td>\n",
       "      <td>0</td>\n",
       "      <td>0</td>\n",
       "      <td>17</td>\n",
       "      <td>0</td>\n",
       "      <td>0</td>\n",
       "      <td>0</td>\n",
       "      <td>0</td>\n",
       "    </tr>\n",
       "    <tr>\n",
       "      <th>6.5</th>\n",
       "      <td>0</td>\n",
       "      <td>0</td>\n",
       "      <td>0</td>\n",
       "      <td>0</td>\n",
       "      <td>0</td>\n",
       "      <td>0</td>\n",
       "      <td>0</td>\n",
       "      <td>0</td>\n",
       "      <td>0</td>\n",
       "      <td>47</td>\n",
       "      <td>0</td>\n",
       "      <td>0</td>\n",
       "      <td>0</td>\n",
       "    </tr>\n",
       "    <tr>\n",
       "      <th>7.0</th>\n",
       "      <td>0</td>\n",
       "      <td>0</td>\n",
       "      <td>0</td>\n",
       "      <td>0</td>\n",
       "      <td>0</td>\n",
       "      <td>0</td>\n",
       "      <td>0</td>\n",
       "      <td>0</td>\n",
       "      <td>0</td>\n",
       "      <td>0</td>\n",
       "      <td>6</td>\n",
       "      <td>0</td>\n",
       "      <td>0</td>\n",
       "    </tr>\n",
       "    <tr>\n",
       "      <th>7.5</th>\n",
       "      <td>0</td>\n",
       "      <td>0</td>\n",
       "      <td>0</td>\n",
       "      <td>0</td>\n",
       "      <td>0</td>\n",
       "      <td>0</td>\n",
       "      <td>0</td>\n",
       "      <td>0</td>\n",
       "      <td>0</td>\n",
       "      <td>0</td>\n",
       "      <td>0</td>\n",
       "      <td>16</td>\n",
       "      <td>0</td>\n",
       "    </tr>\n",
       "    <tr>\n",
       "      <th>8.5</th>\n",
       "      <td>0</td>\n",
       "      <td>0</td>\n",
       "      <td>0</td>\n",
       "      <td>0</td>\n",
       "      <td>0</td>\n",
       "      <td>0</td>\n",
       "      <td>0</td>\n",
       "      <td>0</td>\n",
       "      <td>0</td>\n",
       "      <td>0</td>\n",
       "      <td>0</td>\n",
       "      <td>0</td>\n",
       "      <td>3</td>\n",
       "    </tr>\n",
       "  </tbody>\n",
       "</table>\n",
       "</div>"
      ],
      "text/plain": [
       "bathroomcnt        1.5   2.5  3.0  3.5  4.0  4.5  5.0  5.5  6.0  6.5  7.0  \\\n",
       "calculatedbathnbr                                                           \n",
       "1.5                834     0    0    0    0    0    0    0    0    0    0   \n",
       "2.5                  0  3926    0    0    0    0    0    0    0    0    0   \n",
       "3.0                  0     0   10    0    0    0    0    0    0    0    0   \n",
       "3.5                  0     0    0  918    0    0    0    0    0    0    0   \n",
       "4.0                  0     0    0    0   18    0    0    0    0    0    0   \n",
       "4.5                  0     0    0    0    0  687    0    0    0    0    0   \n",
       "5.0                  0     0    0    0    0    0   19    0    0    0    0   \n",
       "5.5                  0     0    0    0    0    0    0  223    0    0    0   \n",
       "6.0                  0     0    0    0    0    0    0    0   17    0    0   \n",
       "6.5                  0     0    0    0    0    0    0    0    0   47    0   \n",
       "7.0                  0     0    0    0    0    0    0    0    0    0    6   \n",
       "7.5                  0     0    0    0    0    0    0    0    0    0    0   \n",
       "8.5                  0     0    0    0    0    0    0    0    0    0    0   \n",
       "\n",
       "bathroomcnt        7.5  8.5  \n",
       "calculatedbathnbr            \n",
       "1.5                  0    0  \n",
       "2.5                  0    0  \n",
       "3.0                  0    0  \n",
       "3.5                  0    0  \n",
       "4.0                  0    0  \n",
       "4.5                  0    0  \n",
       "5.0                  0    0  \n",
       "5.5                  0    0  \n",
       "6.0                  0    0  \n",
       "6.5                  0    0  \n",
       "7.0                  0    0  \n",
       "7.5                 16    0  \n",
       "8.5                  0    3  "
      ]
     },
     "execution_count": 14,
     "metadata": {},
     "output_type": "execute_result"
    }
   ],
   "source": [
    "pd.crosstab(ct.calculatedbathnbr, ct.bathroomcnt)"
   ]
  },
  {
   "cell_type": "code",
   "execution_count": 15,
   "metadata": {},
   "outputs": [],
   "source": [
    "## I'm not confident, but it's possible to save this column by adding it to the bathroomcnt as a new column called `bathroom_sum`\n",
    "(df.bathroomcnt + (df.threequarterbathnbr.fillna(0) *.75)).value_counts(dropna=False)\n",
    "(df.bathroomcnt + (df.threequarterbathnbr.fillna(0) *.75)).describe()\n",
    "df['bathroom_sum'] = (df.bathroomcnt + (df.threequarterbathnbr.fillna(0) *.75))\n"
   ]
  },
  {
   "cell_type": "markdown",
   "metadata": {},
   "source": [
    "##### Basement"
   ]
  },
  {
   "cell_type": "code",
   "execution_count": 16,
   "metadata": {},
   "outputs": [
    {
     "data": {
      "text/plain": [
       "buildingclasstypeid     1.0\n",
       "finishedsquarefeet15    1.0\n",
       "finishedsquarefeet13    1.0\n",
       "dtype: float64"
      ]
     },
     "execution_count": 16,
     "metadata": {},
     "output_type": "execute_result"
    }
   ],
   "source": [
    "df.isna().mean().sort_values().nlargest(3)"
   ]
  },
  {
   "cell_type": "code",
   "execution_count": 17,
   "metadata": {},
   "outputs": [],
   "source": [
    "# 100% nulls means we can drop\n",
    "df = df.drop(columns=['buildingclasstypeid', 'finishedsquarefeet15', 'finishedsquarefeet13'])"
   ]
  },
  {
   "cell_type": "code",
   "execution_count": 18,
   "metadata": {},
   "outputs": [
    {
     "data": {
      "text/plain": [
       "basementsqft    0.999104\n",
       "storydesc       0.999104\n",
       "storytypeid     0.999104\n",
       "dtype: float64"
      ]
     },
     "execution_count": 18,
     "metadata": {},
     "output_type": "execute_result"
    }
   ],
   "source": [
    "df.isna().mean().sort_values().nlargest(3)"
   ]
  },
  {
   "cell_type": "code",
   "execution_count": 19,
   "metadata": {},
   "outputs": [
    {
     "data": {
      "text/plain": [
       "Basement    47\n",
       "Name: storydesc, dtype: int64"
      ]
     },
     "execution_count": 19,
     "metadata": {},
     "output_type": "execute_result"
    }
   ],
   "source": [
    "df.storydesc.value_counts()"
   ]
  },
  {
   "cell_type": "code",
   "execution_count": 20,
   "metadata": {},
   "outputs": [],
   "source": [
    "# This looks like an example of incomplete data.  Don't think we can use it.\n",
    "df = df.drop(columns=['basementsqft', 'storydesc', 'storytypeid'])"
   ]
  },
  {
   "cell_type": "code",
   "execution_count": 21,
   "metadata": {},
   "outputs": [
    {
     "data": {
      "text/plain": [
       "yardbuildingsqft26          0.998799\n",
       "architecturalstyledesc      0.998665\n",
       "architecturalstyletypeid    0.998665\n",
       "dtype: float64"
      ]
     },
     "execution_count": 21,
     "metadata": {},
     "output_type": "execute_result"
    }
   ],
   "source": [
    "df.isna().mean().sort_values().nlargest(3)"
   ]
  },
  {
   "cell_type": "code",
   "execution_count": 22,
   "metadata": {},
   "outputs": [
    {
     "data": {
      "text/plain": [
       "logerror                        0.000000\n",
       "fips                            0.000000\n",
       "latitude                        0.000000\n",
       "longitude                       0.000000\n",
       "parcelid                        0.000000\n",
       "propertycountylandusecode       0.000000\n",
       "propertylandusedesc             0.000000\n",
       "propertylandusetypeid           0.000000\n",
       "rawcensustractandblock          0.000000\n",
       "id.1                            0.000000\n",
       "id                              0.000000\n",
       "roomcnt                         0.000000\n",
       "bedroomcnt                      0.000000\n",
       "bathroomcnt                     0.000000\n",
       "assessmentyear                  0.000000\n",
       "transactiondate                 0.000000\n",
       "regionidcounty                  0.000000\n",
       "taxvaluedollarcnt               0.000019\n",
       "landtaxvaluedollarcnt           0.000019\n",
       "taxamount                       0.000076\n",
       "regionidzip                     0.000496\n",
       "calculatedfinishedsquarefeet    0.001564\n",
       "structuretaxvaluedollarcnt      0.001602\n",
       "yearbuilt                       0.002212\n",
       "censustractandblock             0.002345\n",
       "calculatedbathnbr               0.002612\n",
       "fullbathcnt                     0.002612\n",
       "finishedsquarefeet12            0.004710\n",
       "lotsizesquarefeet               0.007036\n",
       "regionidcity                    0.019774\n",
       "heatingorsystemdesc             0.352885\n",
       "heatingorsystemtypeid           0.352885\n",
       "propertyzoningdesc              0.354544\n",
       "unitcnt                         0.354563\n",
       "buildingqualitytypeid           0.356603\n",
       "regionidneighborhood            0.637066\n",
       "garagecarcnt                    0.656478\n",
       "garagetotalsqft                 0.656478\n",
       "numberofstories                 0.722341\n",
       "airconditioningtypeid           0.739941\n",
       "airconditioningdesc             0.739941\n",
       "poolcnt                         0.788414\n",
       "pooltypeid7                     0.809142\n",
       "fireplacecnt                    0.861886\n",
       "threequarterbathnbr             0.871782\n",
       "finishedfloor1squarefeet        0.916460\n",
       "finishedsquarefeet50            0.916460\n",
       "taxdelinquencyyear              0.960356\n",
       "taxdelinquencyflag              0.960356\n",
       "yardbuildingsqft17              0.963064\n",
       "hashottuborspa                  0.971111\n",
       "pooltypeid2                     0.979577\n",
       "poolsizesum                     0.983467\n",
       "pooltypeid10                    0.991534\n",
       "decktypeid                      0.992582\n",
       "finishedsquarefeet6             0.996854\n",
       "fireplaceflag                   0.998455\n",
       "typeconstructiondesc            0.998551\n",
       "typeconstructiontypeid          0.998551\n",
       "architecturalstyletypeid        0.998665\n",
       "architecturalstyledesc          0.998665\n",
       "yardbuildingsqft26              0.998799\n",
       "basementsqft                    0.999104\n",
       "storydesc                       0.999104\n",
       "storytypeid                     0.999104\n",
       "buildingclasstypeid             1.000000\n",
       "finishedsquarefeet15            1.000000\n",
       "finishedsquarefeet13            1.000000\n",
       "dtype: float64"
      ]
     },
     "execution_count": 22,
     "metadata": {},
     "output_type": "execute_result"
    }
   ],
   "source": [
    "nullPercent.sort_values()"
   ]
  },
  {
   "cell_type": "markdown",
   "metadata": {},
   "source": [
    "##### garagecarcnt / garagetotalsqft\n"
   ]
  },
  {
   "cell_type": "code",
   "execution_count": 11,
   "metadata": {},
   "outputs": [
    {
     "name": "stdout",
     "output_type": "stream",
     "text": [
      "2.0     14802\n",
      "1.0      2202\n",
      "3.0       621\n",
      "4.0       254\n",
      "0.0        65\n",
      "5.0        45\n",
      "6.0        13\n",
      "7.0         3\n",
      "10.0        3\n",
      "8.0         2\n",
      "9.0         2\n",
      "11.0        1\n",
      "13.0        1\n",
      "14.0        1\n",
      "Name: garagecarcnt, dtype: int64\n",
      "0.6564776324320202\n"
     ]
    },
    {
     "data": {
      "text/plain": [
       "<AxesSubplot:>"
      ]
     },
     "execution_count": 11,
     "metadata": {},
     "output_type": "execute_result"
    },
    {
     "data": {
      "image/png": "[encoded data removed]",
      "text/plain": [
       "<Figure size 432x288 with 1 Axes>"
      ]
     },
     "metadata": {
      "needs_background": "light"
     },
     "output_type": "display_data"
    }
   ],
   "source": [
    "print(df.garagecarcnt.value_counts())\n",
    "print(df.garagecarcnt.isna().mean())\n",
    "df.garagetotalsqft.hist()"
   ]
  },
  {
   "cell_type": "code",
   "execution_count": 24,
   "metadata": {},
   "outputs": [
    {
     "data": {
      "text/html": [
       "<div>\n",
       "<style scoped>\n",
       "    .dataframe tbody tr th:only-of-type {\n",
       "        vertical-align: middle;\n",
       "    }\n",
       "\n",
       "    .dataframe tbody tr th {\n",
       "        vertical-align: top;\n",
       "    }\n",
       "\n",
       "    .dataframe thead th {\n",
       "        text-align: right;\n",
       "    }\n",
       "</style>\n",
       "<table border=\"1\" class=\"dataframe\">\n",
       "  <thead>\n",
       "    <tr style=\"text-align: right;\">\n",
       "      <th></th>\n",
       "      <th>garagecarcnt</th>\n",
       "      <th>garagetotalsqft</th>\n",
       "    </tr>\n",
       "  </thead>\n",
       "  <tbody>\n",
       "    <tr>\n",
       "      <th>39800</th>\n",
       "      <td>2.0</td>\n",
       "      <td>662.0</td>\n",
       "    </tr>\n",
       "    <tr>\n",
       "      <th>22470</th>\n",
       "      <td>2.0</td>\n",
       "      <td>630.0</td>\n",
       "    </tr>\n",
       "    <tr>\n",
       "      <th>38460</th>\n",
       "      <td>2.0</td>\n",
       "      <td>496.0</td>\n",
       "    </tr>\n",
       "    <tr>\n",
       "      <th>34264</th>\n",
       "      <td>2.0</td>\n",
       "      <td>444.0</td>\n",
       "    </tr>\n",
       "    <tr>\n",
       "      <th>35210</th>\n",
       "      <td>2.0</td>\n",
       "      <td>532.0</td>\n",
       "    </tr>\n",
       "    <tr>\n",
       "      <th>875</th>\n",
       "      <td>2.0</td>\n",
       "      <td>461.0</td>\n",
       "    </tr>\n",
       "    <tr>\n",
       "      <th>21977</th>\n",
       "      <td>1.0</td>\n",
       "      <td>360.0</td>\n",
       "    </tr>\n",
       "    <tr>\n",
       "      <th>42365</th>\n",
       "      <td>2.0</td>\n",
       "      <td>687.0</td>\n",
       "    </tr>\n",
       "    <tr>\n",
       "      <th>27959</th>\n",
       "      <td>2.0</td>\n",
       "      <td>441.0</td>\n",
       "    </tr>\n",
       "    <tr>\n",
       "      <th>19452</th>\n",
       "      <td>2.0</td>\n",
       "      <td>455.0</td>\n",
       "    </tr>\n",
       "    <tr>\n",
       "      <th>49225</th>\n",
       "      <td>2.0</td>\n",
       "      <td>483.0</td>\n",
       "    </tr>\n",
       "    <tr>\n",
       "      <th>22758</th>\n",
       "      <td>1.0</td>\n",
       "      <td>396.0</td>\n",
       "    </tr>\n",
       "    <tr>\n",
       "      <th>24582</th>\n",
       "      <td>2.0</td>\n",
       "      <td>714.0</td>\n",
       "    </tr>\n",
       "    <tr>\n",
       "      <th>26516</th>\n",
       "      <td>2.0</td>\n",
       "      <td>408.0</td>\n",
       "    </tr>\n",
       "    <tr>\n",
       "      <th>10280</th>\n",
       "      <td>2.0</td>\n",
       "      <td>437.0</td>\n",
       "    </tr>\n",
       "  </tbody>\n",
       "</table>\n",
       "</div>"
      ],
      "text/plain": [
       "       garagecarcnt  garagetotalsqft\n",
       "39800           2.0            662.0\n",
       "22470           2.0            630.0\n",
       "38460           2.0            496.0\n",
       "34264           2.0            444.0\n",
       "35210           2.0            532.0\n",
       "875             2.0            461.0\n",
       "21977           1.0            360.0\n",
       "42365           2.0            687.0\n",
       "27959           2.0            441.0\n",
       "19452           2.0            455.0\n",
       "49225           2.0            483.0\n",
       "22758           1.0            396.0\n",
       "24582           2.0            714.0\n",
       "26516           2.0            408.0\n",
       "10280           2.0            437.0"
      ]
     },
     "execution_count": 24,
     "metadata": {},
     "output_type": "execute_result"
    }
   ],
   "source": [
    "df[~df.garagecarcnt.isna()][['garagecarcnt','garagetotalsqft']].sample(15)\n"
   ]
  },
  {
   "cell_type": "code",
   "execution_count": 25,
   "metadata": {},
   "outputs": [
    {
     "data": {
      "text/plain": [
       "<AxesSubplot:xlabel='garagecarcnt', ylabel='garagetotalsqft'>"
      ]
     },
     "execution_count": 25,
     "metadata": {},
     "output_type": "execute_result"
    },
    {
     "data": {
      "image/png": "[encoded data removed]",
      "text/plain": [
       "<Figure size 432x288 with 1 Axes>"
      ]
     },
     "metadata": {
      "needs_background": "light"
     },
     "output_type": "display_data"
    }
   ],
   "source": [
    "sns.barplot(data=df[~df.garagecarcnt.isna()][['garagecarcnt','garagetotalsqft']], x='garagecarcnt', y='garagetotalsqft')"
   ]
  },
  {
   "cell_type": "code",
   "execution_count": 26,
   "metadata": {},
   "outputs": [
    {
     "data": {
      "text/html": [
       "<div>\n",
       "<style scoped>\n",
       "    .dataframe tbody tr th:only-of-type {\n",
       "        vertical-align: middle;\n",
       "    }\n",
       "\n",
       "    .dataframe tbody tr th {\n",
       "        vertical-align: top;\n",
       "    }\n",
       "\n",
       "    .dataframe thead th {\n",
       "        text-align: right;\n",
       "    }\n",
       "</style>\n",
       "<table border=\"1\" class=\"dataframe\">\n",
       "  <thead>\n",
       "    <tr style=\"text-align: right;\">\n",
       "      <th></th>\n",
       "      <th>typeconstructiontypeid</th>\n",
       "      <th>propertylandusetypeid</th>\n",
       "      <th>heatingorsystemtypeid</th>\n",
       "      <th>architecturalstyletypeid</th>\n",
       "      <th>airconditioningtypeid</th>\n",
       "      <th>parcelid</th>\n",
       "      <th>id</th>\n",
       "      <th>logerror</th>\n",
       "      <th>transactiondate</th>\n",
       "      <th>id.1</th>\n",
       "      <th>bathroomcnt</th>\n",
       "      <th>bedroomcnt</th>\n",
       "      <th>buildingqualitytypeid</th>\n",
       "      <th>calculatedbathnbr</th>\n",
       "      <th>decktypeid</th>\n",
       "      <th>finishedfloor1squarefeet</th>\n",
       "      <th>calculatedfinishedsquarefeet</th>\n",
       "      <th>finishedsquarefeet12</th>\n",
       "      <th>finishedsquarefeet50</th>\n",
       "      <th>finishedsquarefeet6</th>\n",
       "      <th>fips</th>\n",
       "      <th>fireplacecnt</th>\n",
       "      <th>fullbathcnt</th>\n",
       "      <th>garagecarcnt</th>\n",
       "      <th>garagetotalsqft</th>\n",
       "      <th>hashottuborspa</th>\n",
       "      <th>latitude</th>\n",
       "      <th>longitude</th>\n",
       "      <th>lotsizesquarefeet</th>\n",
       "      <th>poolcnt</th>\n",
       "      <th>poolsizesum</th>\n",
       "      <th>pooltypeid10</th>\n",
       "      <th>pooltypeid2</th>\n",
       "      <th>pooltypeid7</th>\n",
       "      <th>propertycountylandusecode</th>\n",
       "      <th>propertyzoningdesc</th>\n",
       "      <th>rawcensustractandblock</th>\n",
       "      <th>regionidcity</th>\n",
       "      <th>regionidcounty</th>\n",
       "      <th>regionidneighborhood</th>\n",
       "      <th>regionidzip</th>\n",
       "      <th>roomcnt</th>\n",
       "      <th>threequarterbathnbr</th>\n",
       "      <th>unitcnt</th>\n",
       "      <th>yardbuildingsqft17</th>\n",
       "      <th>yardbuildingsqft26</th>\n",
       "      <th>yearbuilt</th>\n",
       "      <th>numberofstories</th>\n",
       "      <th>fireplaceflag</th>\n",
       "      <th>structuretaxvaluedollarcnt</th>\n",
       "      <th>taxvaluedollarcnt</th>\n",
       "      <th>assessmentyear</th>\n",
       "      <th>landtaxvaluedollarcnt</th>\n",
       "      <th>taxamount</th>\n",
       "      <th>taxdelinquencyflag</th>\n",
       "      <th>taxdelinquencyyear</th>\n",
       "      <th>censustractandblock</th>\n",
       "      <th>airconditioningdesc</th>\n",
       "      <th>architecturalstyledesc</th>\n",
       "      <th>heatingorsystemdesc</th>\n",
       "      <th>propertylandusedesc</th>\n",
       "      <th>typeconstructiondesc</th>\n",
       "      <th>years_tax_delinquent</th>\n",
       "      <th>bathroom_sum</th>\n",
       "    </tr>\n",
       "  </thead>\n",
       "  <tbody>\n",
       "    <tr>\n",
       "      <th>39923</th>\n",
       "      <td>NaN</td>\n",
       "      <td>261.0</td>\n",
       "      <td>NaN</td>\n",
       "      <td>NaN</td>\n",
       "      <td>NaN</td>\n",
       "      <td>17105318</td>\n",
       "      <td>58978</td>\n",
       "      <td>0.069479</td>\n",
       "      <td>2017-07-20</td>\n",
       "      <td>2833693</td>\n",
       "      <td>3.5</td>\n",
       "      <td>3.0</td>\n",
       "      <td>NaN</td>\n",
       "      <td>3.5</td>\n",
       "      <td>66.0</td>\n",
       "      <td>NaN</td>\n",
       "      <td>2778.0</td>\n",
       "      <td>2778.0</td>\n",
       "      <td>NaN</td>\n",
       "      <td>NaN</td>\n",
       "      <td>6111.0</td>\n",
       "      <td>1.0</td>\n",
       "      <td>3.0</td>\n",
       "      <td>13.0</td>\n",
       "      <td>3791.0</td>\n",
       "      <td>NaN</td>\n",
       "      <td>34285059.0</td>\n",
       "      <td>-119003488.0</td>\n",
       "      <td>143748.0</td>\n",
       "      <td>NaN</td>\n",
       "      <td>NaN</td>\n",
       "      <td>NaN</td>\n",
       "      <td>NaN</td>\n",
       "      <td>NaN</td>\n",
       "      <td>1110</td>\n",
       "      <td>NaN</td>\n",
       "      <td>6.111005e+07</td>\n",
       "      <td>34037.0</td>\n",
       "      <td>2061.0</td>\n",
       "      <td>NaN</td>\n",
       "      <td>97119.0</td>\n",
       "      <td>6.0</td>\n",
       "      <td>1.0</td>\n",
       "      <td>1.0</td>\n",
       "      <td>1011.0</td>\n",
       "      <td>NaN</td>\n",
       "      <td>2001.0</td>\n",
       "      <td>NaN</td>\n",
       "      <td>NaN</td>\n",
       "      <td>376000.0</td>\n",
       "      <td>1075000.0</td>\n",
       "      <td>2016.0</td>\n",
       "      <td>699000.0</td>\n",
       "      <td>11603.26</td>\n",
       "      <td>False</td>\n",
       "      <td>NaN</td>\n",
       "      <td>6.111005e+13</td>\n",
       "      <td>NaN</td>\n",
       "      <td>NaN</td>\n",
       "      <td>NaN</td>\n",
       "      <td>Single Family Residential</td>\n",
       "      <td>NaN</td>\n",
       "      <td>0.0</td>\n",
       "      <td>4.25</td>\n",
       "    </tr>\n",
       "    <tr>\n",
       "      <th>49064</th>\n",
       "      <td>NaN</td>\n",
       "      <td>261.0</td>\n",
       "      <td>NaN</td>\n",
       "      <td>NaN</td>\n",
       "      <td>NaN</td>\n",
       "      <td>14405807</td>\n",
       "      <td>72584</td>\n",
       "      <td>0.037381</td>\n",
       "      <td>2017-08-31</td>\n",
       "      <td>191413</td>\n",
       "      <td>3.0</td>\n",
       "      <td>4.0</td>\n",
       "      <td>NaN</td>\n",
       "      <td>3.0</td>\n",
       "      <td>NaN</td>\n",
       "      <td>NaN</td>\n",
       "      <td>4623.0</td>\n",
       "      <td>4623.0</td>\n",
       "      <td>NaN</td>\n",
       "      <td>NaN</td>\n",
       "      <td>6059.0</td>\n",
       "      <td>NaN</td>\n",
       "      <td>3.0</td>\n",
       "      <td>14.0</td>\n",
       "      <td>4251.0</td>\n",
       "      <td>1.0</td>\n",
       "      <td>33504821.0</td>\n",
       "      <td>-117674824.0</td>\n",
       "      <td>69696.0</td>\n",
       "      <td>1.0</td>\n",
       "      <td>NaN</td>\n",
       "      <td>NaN</td>\n",
       "      <td>1.0</td>\n",
       "      <td>NaN</td>\n",
       "      <td>122</td>\n",
       "      <td>NaN</td>\n",
       "      <td>6.059042e+07</td>\n",
       "      <td>33840.0</td>\n",
       "      <td>1286.0</td>\n",
       "      <td>NaN</td>\n",
       "      <td>96985.0</td>\n",
       "      <td>9.0</td>\n",
       "      <td>NaN</td>\n",
       "      <td>1.0</td>\n",
       "      <td>NaN</td>\n",
       "      <td>NaN</td>\n",
       "      <td>1988.0</td>\n",
       "      <td>1.0</td>\n",
       "      <td>NaN</td>\n",
       "      <td>507500.0</td>\n",
       "      <td>1697500.0</td>\n",
       "      <td>2016.0</td>\n",
       "      <td>1190000.0</td>\n",
       "      <td>17736.02</td>\n",
       "      <td>False</td>\n",
       "      <td>NaN</td>\n",
       "      <td>6.059042e+13</td>\n",
       "      <td>NaN</td>\n",
       "      <td>NaN</td>\n",
       "      <td>NaN</td>\n",
       "      <td>Single Family Residential</td>\n",
       "      <td>NaN</td>\n",
       "      <td>0.0</td>\n",
       "      <td>3.00</td>\n",
       "    </tr>\n",
       "  </tbody>\n",
       "</table>\n",
       "</div>"
      ],
      "text/plain": [
       "       typeconstructiontypeid  propertylandusetypeid  heatingorsystemtypeid  \\\n",
       "39923                     NaN                  261.0                    NaN   \n",
       "49064                     NaN                  261.0                    NaN   \n",
       "\n",
       "       architecturalstyletypeid  airconditioningtypeid  parcelid     id  \\\n",
       "39923                       NaN                    NaN  17105318  58978   \n",
       "49064                       NaN                    NaN  14405807  72584   \n",
       "\n",
       "       logerror transactiondate     id.1  bathroomcnt  bedroomcnt  \\\n",
       "39923  0.069479      2017-07-20  2833693          3.5         3.0   \n",
       "49064  0.037381      2017-08-31   191413          3.0         4.0   \n",
       "\n",
       "       buildingqualitytypeid  calculatedbathnbr  decktypeid  \\\n",
       "39923                    NaN                3.5        66.0   \n",
       "49064                    NaN                3.0         NaN   \n",
       "\n",
       "       finishedfloor1squarefeet  calculatedfinishedsquarefeet  \\\n",
       "39923                       NaN                        2778.0   \n",
       "49064                       NaN                        4623.0   \n",
       "\n",
       "       finishedsquarefeet12  finishedsquarefeet50  finishedsquarefeet6  \\\n",
       "39923                2778.0                   NaN                  NaN   \n",
       "49064                4623.0                   NaN                  NaN   \n",
       "\n",
       "         fips  fireplacecnt  fullbathcnt  garagecarcnt  garagetotalsqft  \\\n",
       "39923  6111.0           1.0          3.0          13.0           3791.0   \n",
       "49064  6059.0           NaN          3.0          14.0           4251.0   \n",
       "\n",
       "       hashottuborspa    latitude    longitude  lotsizesquarefeet  poolcnt  \\\n",
       "39923             NaN  34285059.0 -119003488.0           143748.0      NaN   \n",
       "49064             1.0  33504821.0 -117674824.0            69696.0      1.0   \n",
       "\n",
       "       poolsizesum  pooltypeid10  pooltypeid2  pooltypeid7  \\\n",
       "39923          NaN           NaN          NaN          NaN   \n",
       "49064          NaN           NaN          1.0          NaN   \n",
       "\n",
       "      propertycountylandusecode propertyzoningdesc  rawcensustractandblock  \\\n",
       "39923                      1110                NaN            6.111005e+07   \n",
       "49064                       122                NaN            6.059042e+07   \n",
       "\n",
       "       regionidcity  regionidcounty  regionidneighborhood  regionidzip  \\\n",
       "39923       34037.0          2061.0                   NaN      97119.0   \n",
       "49064       33840.0          1286.0                   NaN      96985.0   \n",
       "\n",
       "       roomcnt  threequarterbathnbr  unitcnt  yardbuildingsqft17  \\\n",
       "39923      6.0                  1.0      1.0              1011.0   \n",
       "49064      9.0                  NaN      1.0                 NaN   \n",
       "\n",
       "       yardbuildingsqft26  yearbuilt  numberofstories  fireplaceflag  \\\n",
       "39923                 NaN     2001.0              NaN            NaN   \n",
       "49064                 NaN     1988.0              1.0            NaN   \n",
       "\n",
       "       structuretaxvaluedollarcnt  taxvaluedollarcnt  assessmentyear  \\\n",
       "39923                    376000.0          1075000.0          2016.0   \n",
       "49064                    507500.0          1697500.0          2016.0   \n",
       "\n",
       "       landtaxvaluedollarcnt  taxamount  taxdelinquencyflag  \\\n",
       "39923               699000.0   11603.26               False   \n",
       "49064              1190000.0   17736.02               False   \n",
       "\n",
       "       taxdelinquencyyear  censustractandblock airconditioningdesc  \\\n",
       "39923                 NaN         6.111005e+13                 NaN   \n",
       "49064                 NaN         6.059042e+13                 NaN   \n",
       "\n",
       "      architecturalstyledesc heatingorsystemdesc        propertylandusedesc  \\\n",
       "39923                    NaN                 NaN  Single Family Residential   \n",
       "49064                    NaN                 NaN  Single Family Residential   \n",
       "\n",
       "      typeconstructiondesc  years_tax_delinquent  bathroom_sum  \n",
       "39923                  NaN                   0.0          4.25  \n",
       "49064                  NaN                   0.0          3.00  "
      ]
     },
     "execution_count": 26,
     "metadata": {},
     "output_type": "execute_result"
    }
   ],
   "source": [
    "df[df.garagecarcnt > 11]"
   ]
  },
  {
   "cell_type": "markdown",
   "metadata": {},
   "source": [
    "> I don't think these columns are worth saving"
   ]
  },
  {
   "cell_type": "code",
   "execution_count": 27,
   "metadata": {},
   "outputs": [],
   "source": [
    "df = df.drop(columns= ['garagecarcnt','garagetotalsqft'])"
   ]
  },
  {
   "cell_type": "markdown",
   "metadata": {},
   "source": [
    "##### numberofstories"
   ]
  },
  {
   "cell_type": "code",
   "execution_count": 28,
   "metadata": {},
   "outputs": [
    {
     "data": {
      "text/plain": [
       "(1.0    8890\n",
       " 2.0    5318\n",
       " 3.0     352\n",
       " 6.0       1\n",
       " Name: numberofstories, dtype: int64,\n",
       " 0.7223408718202967)"
      ]
     },
     "execution_count": 28,
     "metadata": {},
     "output_type": "execute_result"
    }
   ],
   "source": [
    "df.numberofstories.value_counts(), df.numberofstories.isnull().mean()"
   ]
  },
  {
   "cell_type": "code",
   "execution_count": 29,
   "metadata": {},
   "outputs": [],
   "source": [
    "# Let's just trash it\n",
    "df = df.drop(columns=['numberofstories'])"
   ]
  },
  {
   "cell_type": "markdown",
   "metadata": {},
   "source": [
    "##### The big trim"
   ]
  },
  {
   "cell_type": "code",
   "execution_count": 30,
   "metadata": {},
   "outputs": [],
   "source": [
    "nullPercent = df.isna().mean().sort_values()\n",
    "dropcols = nullPercent[nullPercent > .5].index.tolist()\n",
    "df = df.drop(columns=dropcols)\n"
   ]
  },
  {
   "cell_type": "code",
   "execution_count": 31,
   "metadata": {},
   "outputs": [
    {
     "data": {
      "text/plain": [
       "buildingqualitytypeid    0.356603\n",
       "propertyzoningdesc       0.354544\n",
       "heatingorsystemdesc      0.352885\n",
       "heatingorsystemtypeid    0.352885\n",
       "regionidcity             0.019774\n",
       "lotsizesquarefeet        0.007036\n",
       "dtype: float64"
      ]
     },
     "execution_count": 31,
     "metadata": {},
     "output_type": "execute_result"
    }
   ],
   "source": [
    "df.isna().mean().sort_values().nlargest(6)"
   ]
  },
  {
   "cell_type": "code",
   "execution_count": 32,
   "metadata": {},
   "outputs": [
    {
     "data": {
      "text/plain": [
       "<AxesSubplot:>"
      ]
     },
     "execution_count": 32,
     "metadata": {},
     "output_type": "execute_result"
    },
    {
     "data": {
      "image/png": "[encoded data removed]",
      "text/plain": [
       "<Figure size 432x288 with 1 Axes>"
      ]
     },
     "metadata": {
      "needs_background": "light"
     },
     "output_type": "display_data"
    }
   ],
   "source": [
    "df.buildingqualitytypeid.hist()"
   ]
  },
  {
   "cell_type": "code",
   "execution_count": 33,
   "metadata": {},
   "outputs": [
    {
     "data": {
      "text/plain": [
       "6.0     10289\n",
       "8.0      8244\n",
       "4.0      8157\n",
       "7.0      3427\n",
       "5.0      1513\n",
       "9.0      1121\n",
       "11.0      514\n",
       "10.0      230\n",
       "3.0       152\n",
       "12.0       81\n",
       "1.0         8\n",
       "2.0         5\n",
       "Name: buildingqualitytypeid, dtype: int64"
      ]
     },
     "execution_count": 33,
     "metadata": {},
     "output_type": "execute_result"
    }
   ],
   "source": [
    "df.buildingqualitytypeid.value_counts()"
   ]
  },
  {
   "cell_type": "code",
   "execution_count": 34,
   "metadata": {},
   "outputs": [
    {
     "data": {
      "text/plain": [
       "LAR1          6498\n",
       "LARS          1385\n",
       "LBR1N         1111\n",
       "SCUR2          712\n",
       "LARE11         612\n",
       "              ... \n",
       "LCR3800015       1\n",
       "PSR6*            1\n",
       "LARE             1\n",
       "MYR3PY           1\n",
       "BFA15000*        1\n",
       "Name: propertyzoningdesc, Length: 1286, dtype: int64"
      ]
     },
     "execution_count": 34,
     "metadata": {},
     "output_type": "execute_result"
    }
   ],
   "source": [
    "df.propertyzoningdesc.value_counts()"
   ]
  },
  {
   "cell_type": "markdown",
   "metadata": {},
   "source": [
    "##### Heating system"
   ]
  },
  {
   "cell_type": "code",
   "execution_count": 35,
   "metadata": {},
   "outputs": [
    {
     "data": {
      "text/plain": [
       "(Central       20736\n",
       " NaN           18506\n",
       " Floor/Wall    12566\n",
       " Forced air      517\n",
       " Solar            85\n",
       " None             16\n",
       " Baseboard         7\n",
       " Radiant           6\n",
       " Gravity           2\n",
       " Yes               1\n",
       " Name: heatingorsystemdesc, dtype: int64,\n",
       " 0.3528850921017505)"
      ]
     },
     "execution_count": 35,
     "metadata": {},
     "output_type": "execute_result"
    }
   ],
   "source": [
    "df.heatingorsystemdesc.value_counts(dropna=False), df.heatingorsystemdesc.isnull().mean()"
   ]
  },
  {
   "cell_type": "markdown",
   "metadata": {},
   "source": [
    "I think it's safe to impute the mode, \"Central\" for heating system"
   ]
  },
  {
   "cell_type": "markdown",
   "metadata": {},
   "source": [
    "##### regionidcity"
   ]
  },
  {
   "cell_type": "code",
   "execution_count": 36,
   "metadata": {},
   "outputs": [
    {
     "data": {
      "text/plain": [
       "propertylandusetypeid           0.000000\n",
       "propertylandusedesc             0.000000\n",
       "taxdelinquencyflag              0.000000\n",
       "assessmentyear                  0.000000\n",
       "unitcnt                         0.000000\n",
       "roomcnt                         0.000000\n",
       "regionidcounty                  0.000000\n",
       "rawcensustractandblock          0.000000\n",
       "years_tax_delinquent            0.000000\n",
       "longitude                       0.000000\n",
       "latitude                        0.000000\n",
       "fips                            0.000000\n",
       "propertycountylandusecode       0.000000\n",
       "logerror                        0.000000\n",
       "parcelid                        0.000000\n",
       "id                              0.000000\n",
       "transactiondate                 0.000000\n",
       "id.1                            0.000000\n",
       "bathroomcnt                     0.000000\n",
       "bathroom_sum                    0.000000\n",
       "bedroomcnt                      0.000000\n",
       "landtaxvaluedollarcnt           0.000019\n",
       "taxvaluedollarcnt               0.000019\n",
       "taxamount                       0.000076\n",
       "regionidzip                     0.000496\n",
       "calculatedfinishedsquarefeet    0.001564\n",
       "structuretaxvaluedollarcnt      0.001602\n",
       "yearbuilt                       0.002212\n",
       "censustractandblock             0.002345\n",
       "calculatedbathnbr               0.002612\n",
       "fullbathcnt                     0.002612\n",
       "finishedsquarefeet12            0.004710\n",
       "lotsizesquarefeet               0.007036\n",
       "regionidcity                    0.019774\n",
       "heatingorsystemdesc             0.352885\n",
       "heatingorsystemtypeid           0.352885\n",
       "propertyzoningdesc              0.354544\n",
       "buildingqualitytypeid           0.356603\n",
       "dtype: float64"
      ]
     },
     "execution_count": 36,
     "metadata": {},
     "output_type": "execute_result"
    }
   ],
   "source": [
    "nullPercent = df.isna().mean().sort_values()\n",
    "nullPercent"
   ]
  },
  {
   "cell_type": "code",
   "execution_count": 37,
   "metadata": {},
   "outputs": [
    {
     "data": {
      "text/plain": [
       "<AxesSubplot:xlabel='longitude', ylabel='latitude'>"
      ]
     },
     "execution_count": 37,
     "metadata": {},
     "output_type": "execute_result"
    },
    {
     "data": {
      "image/png": "[encoded data removed]",
      "text/plain": [
       "<Figure size 864x864 with 1 Axes>"
      ]
     },
     "metadata": {
      "needs_background": "light"
     },
     "output_type": "display_data"
    }
   ],
   "source": [
    "plt.figure(figsize=(12,12))\n",
    "sns.scatterplot(data=df, y=df.latitude.name, x=df.longitude.name, hue=df.regionidcity.name)\n",
    "sns.scatterplot(data=df[df.regionidcity.isna()], y=df.latitude.name, x=df.longitude.name, color='red')"
   ]
  },
  {
   "cell_type": "code",
   "execution_count": 38,
   "metadata": {},
   "outputs": [
    {
     "data": {
      "text/plain": [
       "1037"
      ]
     },
     "execution_count": 38,
     "metadata": {},
     "output_type": "execute_result"
    }
   ],
   "source": [
    "df.regionidcity.isna().sum()"
   ]
  },
  {
   "cell_type": "markdown",
   "metadata": {},
   "source": [
    "Drop the nulls for regionidcity for now, but I can use a k-nearest-neighbors to impute the values."
   ]
  },
  {
   "cell_type": "markdown",
   "metadata": {},
   "source": [
    "### Define cleaning function"
   ]
  },
  {
   "cell_type": "code",
   "execution_count": 39,
   "metadata": {},
   "outputs": [],
   "source": [
    "nullPercent = df.isna().mean().sort_values()\n",
    "dropcols = nullPercent[nullPercent > .34].index.tolist()\n",
    "df = df.drop(columns=dropcols)"
   ]
  },
  {
   "cell_type": "code",
   "execution_count": 40,
   "metadata": {},
   "outputs": [
    {
     "data": {
      "text/plain": [
       "((52442, 34), (50674, 34))"
      ]
     },
     "execution_count": 40,
     "metadata": {},
     "output_type": "execute_result"
    }
   ],
   "source": [
    "df.shape, df.dropna().shape"
   ]
  },
  {
   "cell_type": "code",
   "execution_count": 41,
   "metadata": {},
   "outputs": [
    {
     "data": {
      "text/plain": [
       "(52320, 34)"
      ]
     },
     "execution_count": 41,
     "metadata": {},
     "output_type": "execute_result"
    }
   ],
   "source": [
    "df.drop_duplicates(subset='parcelid').shape"
   ]
  },
  {
   "cell_type": "code",
   "execution_count": 42,
   "metadata": {},
   "outputs": [],
   "source": [
    "def clean_zillow(df):\n",
    "    # By assuming that null values are the equivelant to false, we can save the column taxdelinquencyflag\n",
    "    df.taxdelinquencyflag = df.taxdelinquencyflag == 'Y'\n",
    "    # By converting taxdelinquencyyear to instead be a measure of how long the property has been tax deliquent we can save ourselves from dropping the null values.\n",
    "    df['years_tax_delinquent'] = (2017 - (df.taxdelinquencyyear +2000).replace(2099, 1999)).fillna(0)\n",
    "    # Because the overwhelming majority of these is values is 1, we are probably safe imputing the 1 in the missing values.\n",
    "    df.unitcnt = df.unitcnt.fillna(1.0)\n",
    "    # Fill heating type with Central because it is the most common heating type\n",
    "    df.heatingorsystemdesc = df.heatingorsystemdesc.fillna('Central')\n",
    "    # Create a new bathroom count by including three-quarter bathrooms\n",
    "    df['bathroom_sum'] = (df.bathroomcnt + (df.threequarterbathnbr.fillna(0) *.75))\n",
    "\n",
    "    # Drop the rest of the columns that have a large null percentage\n",
    "    nullPercent = df.isna().mean().sort_values()\n",
    "    dropcols = nullPercent[nullPercent > .34].index.tolist()\n",
    "    df = df.drop(columns=dropcols)\n",
    "    \n",
    "    #Don't need multiple id columns\n",
    "    df = df.drop(columns=['id','id.1'])\n",
    "\n",
    "    # Drop the rows that have a null value.\n",
    "    df = df.dropna()\n",
    "\n",
    "    # Drop duplicate parcels\n",
    "    df = df.drop_duplicates(subset='parcelid')\n",
    "\n",
    "    return df"
   ]
  },
  {
   "cell_type": "code",
   "execution_count": 43,
   "metadata": {},
   "outputs": [
    {
     "data": {
      "text/plain": [
       "(50560, 33)"
      ]
     },
     "execution_count": 43,
     "metadata": {},
     "output_type": "execute_result"
    }
   ],
   "source": [
    "df = wrangle.get_data()\n",
    "df = clean_zillow(df)\n",
    "df.shape"
   ]
  },
  {
   "cell_type": "code",
   "execution_count": 44,
   "metadata": {},
   "outputs": [
    {
     "data": {
      "text/plain": [
       "14297519    1\n",
       "10815651    1\n",
       "13876105    1\n",
       "10974377    1\n",
       "11322267    1\n",
       "           ..\n",
       "11275238    1\n",
       "11599215    1\n",
       "12927549    1\n",
       "13028248    1\n",
       "12826780    1\n",
       "Name: parcelid, Length: 50560, dtype: int64"
      ]
     },
     "execution_count": 44,
     "metadata": {},
     "output_type": "execute_result"
    }
   ],
   "source": [
    "df.parcelid.value_counts()"
   ]
  },
  {
   "cell_type": "markdown",
   "metadata": {},
   "source": [
    "#### Deciding more columns to drop"
   ]
  },
  {
   "cell_type": "code",
   "execution_count": 45,
   "metadata": {},
   "outputs": [
    {
     "data": {
      "text/plain": [
       "261.0    50560\n",
       "Name: propertylandusetypeid, dtype: int64"
      ]
     },
     "execution_count": 45,
     "metadata": {},
     "output_type": "execute_result"
    }
   ],
   "source": [
    "df.propertylandusetypeid.value_counts()"
   ]
  },
  {
   "cell_type": "code",
   "execution_count": 46,
   "metadata": {},
   "outputs": [
    {
     "data": {
      "text/plain": [
       "['propertylandusetypeid']"
      ]
     },
     "execution_count": 46,
     "metadata": {},
     "output_type": "execute_result"
    }
   ],
   "source": [
    "cols_to_drop = []\n",
    "cols_to_drop += ['propertylandusetypeid']\n",
    "cols_to_drop"
   ]
  },
  {
   "cell_type": "code",
   "execution_count": 47,
   "metadata": {},
   "outputs": [
    {
     "data": {
      "text/plain": [
       "6.037920e+07    32\n",
       "6.059032e+07    24\n",
       "6.059032e+07    22\n",
       "6.037142e+07    22\n",
       "6.037901e+07    20\n",
       "                ..\n",
       "6.059001e+07     1\n",
       "6.059042e+07     1\n",
       "6.111008e+07     1\n",
       "6.037460e+07     1\n",
       "6.037503e+07     1\n",
       "Name: rawcensustractandblock, Length: 30590, dtype: int64"
      ]
     },
     "execution_count": 47,
     "metadata": {},
     "output_type": "execute_result"
    }
   ],
   "source": [
    "df.rawcensustractandblock.value_counts()"
   ]
  },
  {
   "cell_type": "code",
   "execution_count": 48,
   "metadata": {},
   "outputs": [
    {
     "data": {
      "text/plain": [
       "<AxesSubplot:xlabel='longitude', ylabel='latitude'>"
      ]
     },
     "execution_count": 48,
     "metadata": {},
     "output_type": "execute_result"
    },
    {
     "data": {
      "image/png": "[encoded data removed]",
      "text/plain": [
       "<Figure size 432x288 with 1 Axes>"
      ]
     },
     "metadata": {
      "needs_background": "light"
     },
     "output_type": "display_data"
    }
   ],
   "source": [
    "sns.scatterplot(data=df, y=df.latitude.name, x=df.longitude.name, hue=df.rawcensustractandblock.name)"
   ]
  },
  {
   "cell_type": "code",
   "execution_count": 49,
   "metadata": {},
   "outputs": [
    {
     "data": {
      "text/plain": [
       "['propertylandusetypeid', 'rawcensustractandblock']"
      ]
     },
     "execution_count": 49,
     "metadata": {},
     "output_type": "execute_result"
    }
   ],
   "source": [
    "# Just another function of lat/long IMO\n",
    "cols_to_drop += ['rawcensustractandblock']\n",
    "cols_to_drop"
   ]
  },
  {
   "cell_type": "code",
   "execution_count": 50,
   "metadata": {},
   "outputs": [
    {
     "data": {
      "text/plain": [
       "['propertylandusetypeid',\n",
       " 'rawcensustractandblock',\n",
       " 'logerror',\n",
       " 'transactiondate']"
      ]
     },
     "execution_count": 50,
     "metadata": {},
     "output_type": "execute_result"
    }
   ],
   "source": [
    "cols_to_drop += ['logerror','transactiondate']\n",
    "cols_to_drop"
   ]
  },
  {
   "cell_type": "code",
   "execution_count": 51,
   "metadata": {},
   "outputs": [
    {
     "data": {
      "text/plain": [
       "0100    25939\n",
       "122     12498\n",
       "0101     6147\n",
       "1111     3337\n",
       "1        1002\n",
       "1110      982\n",
       "0104      357\n",
       "0103       86\n",
       "010G       78\n",
       "0108       54\n",
       "010M       48\n",
       "0109        8\n",
       "0113        6\n",
       "0110        6\n",
       "0102        3\n",
       "0111        2\n",
       "0105        2\n",
       "0133        1\n",
       "0131        1\n",
       "1112        1\n",
       "0114        1\n",
       "0130        1\n",
       "Name: propertycountylandusecode, dtype: int64"
      ]
     },
     "execution_count": 51,
     "metadata": {},
     "output_type": "execute_result"
    }
   ],
   "source": [
    "df.propertycountylandusecode.value_counts()"
   ]
  },
  {
   "cell_type": "code",
   "execution_count": 52,
   "metadata": {},
   "outputs": [],
   "source": [
    "cols_to_drop += ['propertycountylandusecode']\n"
   ]
  },
  {
   "cell_type": "code",
   "execution_count": 53,
   "metadata": {},
   "outputs": [
    {
     "data": {
      "text/plain": [
       "(97319.0    762\n",
       " 97318.0    657\n",
       " 97329.0    562\n",
       " 97328.0    517\n",
       " 97118.0    495\n",
       "           ... \n",
       " 96039.0      2\n",
       " 96148.0      1\n",
       " 97092.0      1\n",
       " 96038.0      1\n",
       " 96467.0      1\n",
       " Name: regionidzip, Length: 378, dtype: int64,\n",
       " 12447.0    11275\n",
       " 5534.0      1758\n",
       " 40227.0     1485\n",
       " 46298.0     1420\n",
       " 16764.0     1067\n",
       "            ...  \n",
       " 32927.0        3\n",
       " 31134.0        2\n",
       " 36078.0        1\n",
       " 10815.0        1\n",
       " 21395.0        1\n",
       " Name: regionidcity, Length: 175, dtype: int64,\n",
       " 3101.0    32740\n",
       " 1286.0    13500\n",
       " 2061.0     4320\n",
       " Name: regionidcounty, dtype: int64)"
      ]
     },
     "execution_count": 53,
     "metadata": {},
     "output_type": "execute_result"
    }
   ],
   "source": [
    "df.regionidzip.value_counts(), df.regionidcity.value_counts(), df.regionidcounty.value_counts()"
   ]
  },
  {
   "cell_type": "code",
   "execution_count": 54,
   "metadata": {},
   "outputs": [
    {
     "data": {
      "text/html": [
       "<div>\n",
       "<style scoped>\n",
       "    .dataframe tbody tr th:only-of-type {\n",
       "        vertical-align: middle;\n",
       "    }\n",
       "\n",
       "    .dataframe tbody tr th {\n",
       "        vertical-align: top;\n",
       "    }\n",
       "\n",
       "    .dataframe thead th {\n",
       "        text-align: right;\n",
       "    }\n",
       "</style>\n",
       "<table border=\"1\" class=\"dataframe\">\n",
       "  <thead>\n",
       "    <tr style=\"text-align: right;\">\n",
       "      <th>regionidcounty</th>\n",
       "      <th>1286.0</th>\n",
       "      <th>2061.0</th>\n",
       "      <th>3101.0</th>\n",
       "    </tr>\n",
       "    <tr>\n",
       "      <th>fips</th>\n",
       "      <th></th>\n",
       "      <th></th>\n",
       "      <th></th>\n",
       "    </tr>\n",
       "  </thead>\n",
       "  <tbody>\n",
       "    <tr>\n",
       "      <th>6037.0</th>\n",
       "      <td>0</td>\n",
       "      <td>0</td>\n",
       "      <td>32740</td>\n",
       "    </tr>\n",
       "    <tr>\n",
       "      <th>6059.0</th>\n",
       "      <td>13500</td>\n",
       "      <td>0</td>\n",
       "      <td>0</td>\n",
       "    </tr>\n",
       "    <tr>\n",
       "      <th>6111.0</th>\n",
       "      <td>0</td>\n",
       "      <td>4320</td>\n",
       "      <td>0</td>\n",
       "    </tr>\n",
       "  </tbody>\n",
       "</table>\n",
       "</div>"
      ],
      "text/plain": [
       "regionidcounty  1286.0  2061.0  3101.0\n",
       "fips                                  \n",
       "6037.0               0       0   32740\n",
       "6059.0           13500       0       0\n",
       "6111.0               0    4320       0"
      ]
     },
     "execution_count": 54,
     "metadata": {},
     "output_type": "execute_result"
    }
   ],
   "source": [
    "pd.crosstab(df.fips, df.regionidcounty)"
   ]
  },
  {
   "cell_type": "code",
   "execution_count": 55,
   "metadata": {},
   "outputs": [],
   "source": [
    "cols_to_drop += ['regionidcounty']"
   ]
  },
  {
   "cell_type": "code",
   "execution_count": 56,
   "metadata": {},
   "outputs": [
    {
     "data": {
      "text/plain": [
       "propertylandusetypeid           float64\n",
       "parcelid                          int64\n",
       "logerror                        float64\n",
       "transactiondate                  object\n",
       "bathroomcnt                     float64\n",
       "bedroomcnt                      float64\n",
       "calculatedbathnbr               float64\n",
       "calculatedfinishedsquarefeet    float64\n",
       "finishedsquarefeet12            float64\n",
       "fips                            float64\n",
       "fullbathcnt                     float64\n",
       "latitude                        float64\n",
       "longitude                       float64\n",
       "lotsizesquarefeet               float64\n",
       "propertycountylandusecode        object\n",
       "rawcensustractandblock          float64\n",
       "regionidcity                    float64\n",
       "regionidcounty                  float64\n",
       "regionidzip                     float64\n",
       "roomcnt                         float64\n",
       "unitcnt                         float64\n",
       "yearbuilt                       float64\n",
       "structuretaxvaluedollarcnt      float64\n",
       "taxvaluedollarcnt               float64\n",
       "assessmentyear                  float64\n",
       "landtaxvaluedollarcnt           float64\n",
       "taxamount                       float64\n",
       "taxdelinquencyflag                 bool\n",
       "censustractandblock             float64\n",
       "heatingorsystemdesc              object\n",
       "propertylandusedesc              object\n",
       "years_tax_delinquent            float64\n",
       "bathroom_sum                    float64\n",
       "dtype: object"
      ]
     },
     "execution_count": 56,
     "metadata": {},
     "output_type": "execute_result"
    }
   ],
   "source": [
    "df.dtypes"
   ]
  },
  {
   "cell_type": "code",
   "execution_count": 57,
   "metadata": {},
   "outputs": [],
   "source": [
    "cols_to_drop += ['propertylandusedesc']"
   ]
  },
  {
   "cell_type": "code",
   "execution_count": 58,
   "metadata": {},
   "outputs": [
    {
     "data": {
      "text/plain": [
       "['logerror',\n",
       " 'propertycountylandusecode',\n",
       " 'propertylandusedesc',\n",
       " 'propertylandusetypeid',\n",
       " 'rawcensustractandblock',\n",
       " 'regionidcounty',\n",
       " 'transactiondate']"
      ]
     },
     "execution_count": 58,
     "metadata": {},
     "output_type": "execute_result"
    }
   ],
   "source": [
    "cols_to_drop.sort()\n",
    "cols_to_drop"
   ]
  },
  {
   "cell_type": "code",
   "execution_count": 59,
   "metadata": {},
   "outputs": [],
   "source": [
    "def clean_zillow(df):\n",
    "    # By assuming that null values are the equivelant to false, we can save the column taxdelinquencyflag\n",
    "    df.taxdelinquencyflag = df.taxdelinquencyflag == 'Y'\n",
    "    # By converting taxdelinquencyyear to instead be a measure of how long the property has been tax deliquent we can save ourselves from dropping the null values.\n",
    "    df['years_tax_delinquent'] = (2017 - (df.taxdelinquencyyear +2000).replace(2099, 1999)).fillna(0)\n",
    "    # Because the overwhelming majority of these is values is 1, we are probably safe imputing the 1 in the missing values.\n",
    "    df.unitcnt = df.unitcnt.fillna(1.0)\n",
    "    # Fill heating type with Central because it is the most common heating type\n",
    "    df.heatingorsystemdesc = df.heatingorsystemdesc.fillna('Central')\n",
    "    # Create a new bathroom count by including three-quarter bathrooms\n",
    "    df['bathroom_sum'] = (df.bathroomcnt + (df.threequarterbathnbr.fillna(0) *.75))\n",
    "\n",
    "    # Drop the rest of the columns that have a large null percentage\n",
    "    nullPercent = df.isna().mean().sort_values()\n",
    "    dropcols = nullPercent[nullPercent > .34].index.tolist()\n",
    "    df = df.drop(columns=dropcols)\n",
    "    \n",
    "    # Drop columns that duplicate data or leak predicitons from previous model\n",
    "    df = df.drop(columns=[  'id',\n",
    "                            'id.1',\n",
    "                            'assessmentyear',\n",
    "                            'logerror',\n",
    "                            'propertycountylandusecode',\n",
    "                            'propertylandusedesc',\n",
    "                            'propertylandusetypeid',\n",
    "                            'rawcensustractandblock',\n",
    "                            'censustractandblock',\n",
    "                            'regionidcounty',\n",
    "                            'transactiondate',\n",
    "                            'taxamount'])\n",
    "\n",
    "    # Drop the rows that have a null value.\n",
    "    df = df.dropna()\n",
    "\n",
    "    # Drop duplicate parcels\n",
    "    df = df.drop_duplicates(subset='parcelid')\n",
    "    \n",
    "    # Convert some columns into more useful information\n",
    "    df['age'] = 2017 - df.yearbuilt\n",
    "\n",
    "    return df"
   ]
  },
  {
   "cell_type": "code",
   "execution_count": 60,
   "metadata": {},
   "outputs": [],
   "source": [
    "df = wrangle.get_data()\n",
    "df = clean_zillow(df)"
   ]
  },
  {
   "cell_type": "markdown",
   "metadata": {},
   "source": [
    "#### Identifying categorical and numeric columns"
   ]
  },
  {
   "cell_type": "code",
   "execution_count": 61,
   "metadata": {},
   "outputs": [
    {
     "data": {
      "text/plain": [
       "parcelid                          int64\n",
       "bathroomcnt                     float64\n",
       "bedroomcnt                      float64\n",
       "calculatedbathnbr               float64\n",
       "calculatedfinishedsquarefeet    float64\n",
       "finishedsquarefeet12            float64\n",
       "fips                            float64\n",
       "fullbathcnt                     float64\n",
       "latitude                        float64\n",
       "longitude                       float64\n",
       "lotsizesquarefeet               float64\n",
       "regionidcity                    float64\n",
       "regionidzip                     float64\n",
       "roomcnt                         float64\n",
       "unitcnt                         float64\n",
       "yearbuilt                       float64\n",
       "structuretaxvaluedollarcnt      float64\n",
       "taxvaluedollarcnt               float64\n",
       "landtaxvaluedollarcnt           float64\n",
       "taxdelinquencyflag                 bool\n",
       "heatingorsystemdesc              object\n",
       "years_tax_delinquent            float64\n",
       "bathroom_sum                    float64\n",
       "age                             float64\n",
       "dtype: object"
      ]
     },
     "execution_count": 61,
     "metadata": {},
     "output_type": "execute_result"
    }
   ],
   "source": [
    "# The investigation so far has shed some light on what is in each column.  I can infer from my knowledge so far some of the categorical columns.\n",
    "df.dtypes"
   ]
  },
  {
   "cell_type": "code",
   "execution_count": 62,
   "metadata": {},
   "outputs": [],
   "source": [
    "cat_cols = ['parcelid',\n",
    "            'fips',\n",
    "            'regionidcity',\n",
    "            'regionidzip',\n",
    "            'yearbuilt',\n",
    "            'heatingorsystemdesc',\n",
    "            'bathroom_sum']"
   ]
  },
  {
   "cell_type": "code",
   "execution_count": 63,
   "metadata": {},
   "outputs": [
    {
     "data": {
      "text/plain": [
       "(3145     399675.0\n",
       " 5165     399675.0\n",
       " 16505    399675.0\n",
       " 24136    399675.0\n",
       " 26047    399675.0\n",
       " Name: regionidzip, dtype: float64,\n",
       " 97319.0    763\n",
       " 97318.0    660\n",
       " 97329.0    563\n",
       " 97328.0    517\n",
       " 97118.0    495\n",
       "           ... \n",
       " 96002.0      2\n",
       " 96038.0      1\n",
       " 96148.0      1\n",
       " 97092.0      1\n",
       " 96467.0      1\n",
       " Name: regionidzip, Length: 378, dtype: int64)"
      ]
     },
     "execution_count": 63,
     "metadata": {},
     "output_type": "execute_result"
    }
   ],
   "source": [
    "df.regionidzip.nlargest(), df.regionidzip.value_counts()"
   ]
  },
  {
   "cell_type": "code",
   "execution_count": 64,
   "metadata": {},
   "outputs": [
    {
     "data": {
      "text/plain": [
       "(11, 0)"
      ]
     },
     "execution_count": 64,
     "metadata": {},
     "output_type": "execute_result"
    }
   ],
   "source": [
    "(df.regionidzip == 399675).sum(), (df.regionidzip == 99675).sum()"
   ]
  },
  {
   "cell_type": "code",
   "execution_count": 65,
   "metadata": {},
   "outputs": [
    {
     "data": {
      "text/plain": [
       "(0, 11)"
      ]
     },
     "execution_count": 65,
     "metadata": {},
     "output_type": "execute_result"
    }
   ],
   "source": [
    "df.regionidzip = df.regionidzip.replace(399675, 99675)\n",
    "(df.regionidzip == 399675).sum(), (df.regionidzip == 99675).sum()"
   ]
  },
  {
   "cell_type": "code",
   "execution_count": 66,
   "metadata": {},
   "outputs": [
    {
     "data": {
      "text/html": [
       "<div>\n",
       "<style scoped>\n",
       "    .dataframe tbody tr th:only-of-type {\n",
       "        vertical-align: middle;\n",
       "    }\n",
       "\n",
       "    .dataframe tbody tr th {\n",
       "        vertical-align: top;\n",
       "    }\n",
       "\n",
       "    .dataframe thead th {\n",
       "        text-align: right;\n",
       "    }\n",
       "</style>\n",
       "<table border=\"1\" class=\"dataframe\">\n",
       "  <thead>\n",
       "    <tr style=\"text-align: right;\">\n",
       "      <th></th>\n",
       "      <th>latitude</th>\n",
       "      <th>longitude</th>\n",
       "    </tr>\n",
       "  </thead>\n",
       "  <tbody>\n",
       "    <tr>\n",
       "      <th>17107</th>\n",
       "      <td>33.689068</td>\n",
       "      <td>-117.972332</td>\n",
       "    </tr>\n",
       "  </tbody>\n",
       "</table>\n",
       "</div>"
      ],
      "text/plain": [
       "        latitude   longitude\n",
       "17107  33.689068 -117.972332"
      ]
     },
     "execution_count": 66,
     "metadata": {},
     "output_type": "execute_result"
    }
   ],
   "source": [
    "df[[df.latitude.name, df.longitude.name]].sample(1) / 1_000_000"
   ]
  },
  {
   "cell_type": "code",
   "execution_count": 67,
   "metadata": {},
   "outputs": [],
   "source": [
    "df.latitude = df.latitude / 1_000_000\n",
    "df.longitude = df.longitude / 1_000_000"
   ]
  },
  {
   "cell_type": "code",
   "execution_count": 68,
   "metadata": {},
   "outputs": [
    {
     "data": {
      "text/plain": [
       "<AxesSubplot:xlabel='longitude', ylabel='latitude'>"
      ]
     },
     "execution_count": 68,
     "metadata": {},
     "output_type": "execute_result"
    },
    {
     "data": {
      "image/png": "[encoded data removed]",
      "text/plain": [
       "<Figure size 432x288 with 1 Axes>"
      ]
     },
     "metadata": {
      "needs_background": "light"
     },
     "output_type": "display_data"
    }
   ],
   "source": [
    "sns.scatterplot(data=df, y=df.latitude.name, x=df.longitude.name, hue=df.fips.name, palette='deep')"
   ]
  },
  {
   "cell_type": "code",
   "execution_count": 69,
   "metadata": {},
   "outputs": [
    {
     "data": {
      "text/plain": [
       "parcelid                          int64\n",
       "bathroomcnt                     float64\n",
       "bedroomcnt                        int64\n",
       "calculatedbathnbr               float64\n",
       "calculatedfinishedsquarefeet      int64\n",
       "finishedsquarefeet12              int64\n",
       "fips                              int64\n",
       "fullbathcnt                       int64\n",
       "latitude                        float64\n",
       "longitude                       float64\n",
       "lotsizesquarefeet                 int64\n",
       "regionidcity                      int64\n",
       "regionidzip                       int64\n",
       "roomcnt                           int64\n",
       "unitcnt                           int64\n",
       "yearbuilt                         int64\n",
       "structuretaxvaluedollarcnt        int64\n",
       "taxvaluedollarcnt                 int64\n",
       "landtaxvaluedollarcnt             int64\n",
       "taxdelinquencyflag                 bool\n",
       "heatingorsystemdesc              object\n",
       "years_tax_delinquent              int64\n",
       "bathroom_sum                    float64\n",
       "age                               int64\n",
       "dtype: object"
      ]
     },
     "execution_count": 69,
     "metadata": {},
     "output_type": "execute_result"
    }
   ],
   "source": [
    "def dropna_df(df):\n",
    "    \"\"\"Returns a dataframe free of null values where the columns have the proper dtypes\"\"\"\n",
    "    df = df.dropna()\n",
    "    df = df.convert_dtypes()\n",
    "    # convert_dtypes() chooses some slightly wonky data types that cause problems later.\n",
    "    # Fix the wonk by creating a new dataframe from the dataframe.\n",
    "    fix = pd.DataFrame(df.to_dict()) \n",
    "    return fix\n",
    "\n",
    "df = dropna_df(df)\n",
    "df.dtypes"
   ]
  },
  {
   "cell_type": "code",
   "execution_count": 70,
   "metadata": {},
   "outputs": [
    {
     "data": {
      "text/plain": [
       "(parcelid                        category\n",
       " bathroomcnt                      float64\n",
       " bedroomcnt                         int64\n",
       " calculatedbathnbr                float64\n",
       " calculatedfinishedsquarefeet       int64\n",
       " finishedsquarefeet12               int64\n",
       " fips                            category\n",
       " fullbathcnt                        int64\n",
       " latitude                         float64\n",
       " longitude                        float64\n",
       " lotsizesquarefeet                  int64\n",
       " regionidcity                    category\n",
       " regionidzip                     category\n",
       " roomcnt                            int64\n",
       " unitcnt                            int64\n",
       " yearbuilt                       category\n",
       " structuretaxvaluedollarcnt         int64\n",
       " taxvaluedollarcnt                  int64\n",
       " landtaxvaluedollarcnt              int64\n",
       " taxdelinquencyflag                  bool\n",
       " heatingorsystemdesc             category\n",
       " years_tax_delinquent               int64\n",
       " bathroom_sum                    category\n",
       " age                                int64\n",
       " dtype: object,\n",
       " ['parcelid',\n",
       "  'fips',\n",
       "  'regionidcity',\n",
       "  'regionidzip',\n",
       "  'yearbuilt',\n",
       "  'heatingorsystemdesc',\n",
       "  'bathroom_sum'])"
      ]
     },
     "execution_count": 70,
     "metadata": {},
     "output_type": "execute_result"
    }
   ],
   "source": [
    "for col in cat_cols:\n",
    "    df[col] = df[col].astype('category')\n",
    "\n",
    "df.dtypes, cat_cols"
   ]
  },
  {
   "cell_type": "markdown",
   "metadata": {},
   "source": [
    "### Test wrangle"
   ]
  },
  {
   "cell_type": "code",
   "execution_count": 1,
   "metadata": {},
   "outputs": [],
   "source": [
    "import pandas as pd\n",
    "import numpy as np\n",
    "import matplotlib.pyplot as plt\n",
    "import plotly.express as px\n",
    "import seaborn as sns\n",
    "import wrangle\n",
    "\n"
   ]
  },
  {
   "cell_type": "markdown",
   "metadata": {},
   "source": [
    "## Outlier handling"
   ]
  },
  {
   "cell_type": "code",
   "execution_count": 50,
   "metadata": {},
   "outputs": [],
   "source": [
    "\n",
    "df = wrangle.get_data()\n",
    "df = wrangle.clean_zillow(df)\n",
    "\n",
    "df, _, __ = wrangle.train_test_validate_split(df, seed=9)\n"
   ]
  },
  {
   "cell_type": "code",
   "execution_count": 51,
   "metadata": {},
   "outputs": [
    {
     "data": {
      "text/plain": [
       "(<AxesSubplot:>,\n",
       " count    2.024300e+04\n",
       " mean     5.281905e+05\n",
       " std      7.170256e+05\n",
       " min      9.242000e+03\n",
       " 25%      1.940600e+05\n",
       " 50%      3.714220e+05\n",
       " 75%      6.138895e+05\n",
       " max      2.434570e+07\n",
       " Name: taxvaluedollarcnt, dtype: float64)"
      ]
     },
     "execution_count": 51,
     "metadata": {},
     "output_type": "execute_result"
    },
    {
     "data": {
      "image/png": "[encoded data removed]",
      "text/plain": [
       "<Figure size 432x288 with 1 Axes>"
      ]
     },
     "metadata": {
      "needs_background": "light"
     },
     "output_type": "display_data"
    }
   ],
   "source": [
    "df.taxvaluedollarcnt.hist(), df.taxvaluedollarcnt.describe()"
   ]
  },
  {
   "cell_type": "code",
   "execution_count": 52,
   "metadata": {},
   "outputs": [
    {
     "data": {
      "text/plain": [
       "<matplotlib.collections.PathCollection at 0x1eaa589ee30>"
      ]
     },
     "execution_count": 52,
     "metadata": {},
     "output_type": "execute_result"
    },
    {
     "data": {
      "image/png": "[encoded data removed]",
      "text/plain": [
       "<Figure size 432x288 with 1 Axes>"
      ]
     },
     "metadata": {
      "needs_background": "light"
     },
     "output_type": "display_data"
    }
   ],
   "source": [
    "plt.scatter(x=df.yearbuilt, y=df.taxvaluedollarcnt)"
   ]
  },
  {
   "cell_type": "code",
   "execution_count": 53,
   "metadata": {},
   "outputs": [
    {
     "data": {
      "text/plain": [
       "<matplotlib.collections.PathCollection at 0x1eaa583b100>"
      ]
     },
     "execution_count": 53,
     "metadata": {},
     "output_type": "execute_result"
    },
    {
     "data": {
      "image/png": "[encoded data removed]",
      "text/plain": [
       "<Figure size 432x288 with 1 Axes>"
      ]
     },
     "metadata": {
      "needs_background": "light"
     },
     "output_type": "display_data"
    }
   ],
   "source": [
    "uplim = np.percentile(df.taxvaluedollarcnt, 99)\n",
    "uplim_mask = df.taxvaluedollarcnt > uplim\n",
    "\n",
    "plt.scatter(x=df[~uplim_mask].yearbuilt, y=df[~uplim_mask].taxvaluedollarcnt)"
   ]
  },
  {
   "cell_type": "code",
   "execution_count": 54,
   "metadata": {},
   "outputs": [],
   "source": [
    "alter = df[uplim_mask]\n",
    "df = df[~uplim_mask]"
   ]
  },
  {
   "cell_type": "code",
   "execution_count": 55,
   "metadata": {},
   "outputs": [],
   "source": [
    "def trim_zillow(df):\n",
    "    uplim = np.percentile(df.taxvaluedollarcnt, 99)\n",
    "    uplim_mask = df.taxvaluedollarcnt > uplim\n",
    "    alter = df[uplim_mask]\n",
    "    df = df[~uplim_mask]\n",
    "\n",
    "    return df, alter\n",
    "\n",
    "# df, alter = trim_zillow(df)"
   ]
  },
  {
   "cell_type": "code",
   "execution_count": 56,
   "metadata": {},
   "outputs": [
    {
     "data": {
      "text/plain": [
       "<AxesSubplot:xlabel='lotsizesquarefeet', ylabel='calculatedfinishedsquarefeet'>"
      ]
     },
     "execution_count": 56,
     "metadata": {},
     "output_type": "execute_result"
    },
    {
     "data": {
      "image/png": "[encoded data removed]",
      "text/plain": [
       "<Figure size 432x288 with 1 Axes>"
      ]
     },
     "metadata": {
      "needs_background": "light"
     },
     "output_type": "display_data"
    }
   ],
   "source": [
    "sns.scatterplot(x=df.lotsizesquarefeet, y=df.calculatedfinishedsquarefeet)"
   ]
  },
  {
   "cell_type": "code",
   "execution_count": 57,
   "metadata": {},
   "outputs": [
    {
     "data": {
      "text/plain": [
       "11202    6971010\n",
       "18741    6971010\n",
       "20363    6971010\n",
       "36442    6971010\n",
       "21276    1323788\n",
       "21227     889495\n",
       "21364     872158\n",
       "45085     672149\n",
       "26815     623746\n",
       "41041     588738\n",
       "Name: lotsizesquarefeet, dtype: int64"
      ]
     },
     "execution_count": 57,
     "metadata": {},
     "output_type": "execute_result"
    }
   ],
   "source": [
    "df.lotsizesquarefeet.nlargest(10)"
   ]
  },
  {
   "cell_type": "code",
   "execution_count": 58,
   "metadata": {},
   "outputs": [],
   "source": [
    "uplim = np.percentile(df.lotsizesquarefeet, 99.5)\n",
    "uplim_mask = df.lotsizesquarefeet > uplim\n",
    "alter = pd.concat((alter, df[uplim_mask]))\n",
    "df = df[~uplim_mask]"
   ]
  },
  {
   "cell_type": "code",
   "execution_count": 59,
   "metadata": {},
   "outputs": [
    {
     "data": {
      "text/plain": [
       "<AxesSubplot:xlabel='lotsizesquarefeet', ylabel='calculatedfinishedsquarefeet'>"
      ]
     },
     "execution_count": 59,
     "metadata": {},
     "output_type": "execute_result"
    },
    {
     "data": {
      "image/png": "[encoded data removed]",
      "text/plain": [
       "<Figure size 432x288 with 1 Axes>"
      ]
     },
     "metadata": {
      "needs_background": "light"
     },
     "output_type": "display_data"
    }
   ],
   "source": [
    "sns.scatterplot(x=df.lotsizesquarefeet, y=df.calculatedfinishedsquarefeet)"
   ]
  },
  {
   "cell_type": "code",
   "execution_count": 60,
   "metadata": {},
   "outputs": [
    {
     "data": {
      "text/html": [
       "<div>\n",
       "<style scoped>\n",
       "    .dataframe tbody tr th:only-of-type {\n",
       "        vertical-align: middle;\n",
       "    }\n",
       "\n",
       "    .dataframe tbody tr th {\n",
       "        vertical-align: top;\n",
       "    }\n",
       "\n",
       "    .dataframe thead th {\n",
       "        text-align: right;\n",
       "    }\n",
       "</style>\n",
       "<table border=\"1\" class=\"dataframe\">\n",
       "  <thead>\n",
       "    <tr style=\"text-align: right;\">\n",
       "      <th></th>\n",
       "      <th>latitude</th>\n",
       "      <th>longitude</th>\n",
       "      <th>parcelid</th>\n",
       "      <th>lotsizesquarefeet</th>\n",
       "      <th>calculatedfinishedsquarefeet</th>\n",
       "    </tr>\n",
       "  </thead>\n",
       "  <tbody>\n",
       "    <tr>\n",
       "      <th>45424</th>\n",
       "      <td>34.262193</td>\n",
       "      <td>-118.727145</td>\n",
       "      <td>17247439</td>\n",
       "      <td>236</td>\n",
       "      <td>2465</td>\n",
       "    </tr>\n",
       "  </tbody>\n",
       "</table>\n",
       "</div>"
      ],
      "text/plain": [
       "        latitude   longitude  parcelid  lotsizesquarefeet  \\\n",
       "45424  34.262193 -118.727145  17247439                236   \n",
       "\n",
       "       calculatedfinishedsquarefeet  \n",
       "45424                          2465  "
      ]
     },
     "execution_count": 60,
     "metadata": {},
     "output_type": "execute_result"
    }
   ],
   "source": [
    "df[df.lotsizesquarefeet < 500][['latitude','longitude','parcelid','lotsizesquarefeet','calculatedfinishedsquarefeet']]"
   ]
  },
  {
   "cell_type": "markdown",
   "metadata": {},
   "source": [
    "There is no way that's a 236 sqft lot.  \n",
    "![image](https://i.imgur.com/gTNnAfU.png)"
   ]
  },
  {
   "cell_type": "code",
   "execution_count": 63,
   "metadata": {},
   "outputs": [
    {
     "data": {
      "text/html": [
       "<div>\n",
       "<style scoped>\n",
       "    .dataframe tbody tr th:only-of-type {\n",
       "        vertical-align: middle;\n",
       "    }\n",
       "\n",
       "    .dataframe tbody tr th {\n",
       "        vertical-align: top;\n",
       "    }\n",
       "\n",
       "    .dataframe thead th {\n",
       "        text-align: right;\n",
       "    }\n",
       "</style>\n",
       "<table border=\"1\" class=\"dataframe\">\n",
       "  <thead>\n",
       "    <tr style=\"text-align: right;\">\n",
       "      <th></th>\n",
       "      <th>latitude</th>\n",
       "      <th>longitude</th>\n",
       "      <th>parcelid</th>\n",
       "      <th>lotsizesquarefeet</th>\n",
       "      <th>calculatedfinishedsquarefeet</th>\n",
       "    </tr>\n",
       "  </thead>\n",
       "  <tbody>\n",
       "    <tr>\n",
       "      <th>28293</th>\n",
       "      <td>33.637866</td>\n",
       "      <td>-117.903788</td>\n",
       "      <td>14282858</td>\n",
       "      <td>3276</td>\n",
       "      <td>3964</td>\n",
       "    </tr>\n",
       "    <tr>\n",
       "      <th>6917</th>\n",
       "      <td>34.093752</td>\n",
       "      <td>-118.253717</td>\n",
       "      <td>11941233</td>\n",
       "      <td>1038</td>\n",
       "      <td>1200</td>\n",
       "    </tr>\n",
       "    <tr>\n",
       "      <th>16763</th>\n",
       "      <td>33.550389</td>\n",
       "      <td>-117.804654</td>\n",
       "      <td>13894685</td>\n",
       "      <td>3660</td>\n",
       "      <td>4113</td>\n",
       "    </tr>\n",
       "    <tr>\n",
       "      <th>2674</th>\n",
       "      <td>33.747545</td>\n",
       "      <td>-118.120401</td>\n",
       "      <td>12529119</td>\n",
       "      <td>2414</td>\n",
       "      <td>3974</td>\n",
       "    </tr>\n",
       "    <tr>\n",
       "      <th>22056</th>\n",
       "      <td>33.637178</td>\n",
       "      <td>-117.882160</td>\n",
       "      <td>14295758</td>\n",
       "      <td>1489</td>\n",
       "      <td>1737</td>\n",
       "    </tr>\n",
       "    <tr>\n",
       "      <th>...</th>\n",
       "      <td>...</td>\n",
       "      <td>...</td>\n",
       "      <td>...</td>\n",
       "      <td>...</td>\n",
       "      <td>...</td>\n",
       "    </tr>\n",
       "    <tr>\n",
       "      <th>46223</th>\n",
       "      <td>33.682433</td>\n",
       "      <td>-118.024284</td>\n",
       "      <td>13861007</td>\n",
       "      <td>2040</td>\n",
       "      <td>2298</td>\n",
       "    </tr>\n",
       "    <tr>\n",
       "      <th>25623</th>\n",
       "      <td>33.654674</td>\n",
       "      <td>-117.979724</td>\n",
       "      <td>14044292</td>\n",
       "      <td>860</td>\n",
       "      <td>1270</td>\n",
       "    </tr>\n",
       "    <tr>\n",
       "      <th>2170</th>\n",
       "      <td>33.712322</td>\n",
       "      <td>-118.064603</td>\n",
       "      <td>14080473</td>\n",
       "      <td>1170</td>\n",
       "      <td>1500</td>\n",
       "    </tr>\n",
       "    <tr>\n",
       "      <th>24821</th>\n",
       "      <td>33.595879</td>\n",
       "      <td>-117.884398</td>\n",
       "      <td>13889807</td>\n",
       "      <td>3200</td>\n",
       "      <td>4895</td>\n",
       "    </tr>\n",
       "    <tr>\n",
       "      <th>46473</th>\n",
       "      <td>33.874470</td>\n",
       "      <td>-118.402647</td>\n",
       "      <td>11509363</td>\n",
       "      <td>2406</td>\n",
       "      <td>3399</td>\n",
       "    </tr>\n",
       "  </tbody>\n",
       "</table>\n",
       "<p>178 rows × 5 columns</p>\n",
       "</div>"
      ],
      "text/plain": [
       "        latitude   longitude  parcelid  lotsizesquarefeet  \\\n",
       "28293  33.637866 -117.903788  14282858               3276   \n",
       "6917   34.093752 -118.253717  11941233               1038   \n",
       "16763  33.550389 -117.804654  13894685               3660   \n",
       "2674   33.747545 -118.120401  12529119               2414   \n",
       "22056  33.637178 -117.882160  14295758               1489   \n",
       "...          ...         ...       ...                ...   \n",
       "46223  33.682433 -118.024284  13861007               2040   \n",
       "25623  33.654674 -117.979724  14044292                860   \n",
       "2170   33.712322 -118.064603  14080473               1170   \n",
       "24821  33.595879 -117.884398  13889807               3200   \n",
       "46473  33.874470 -118.402647  11509363               2406   \n",
       "\n",
       "       calculatedfinishedsquarefeet  \n",
       "28293                          3964  \n",
       "6917                           1200  \n",
       "16763                          4113  \n",
       "2674                           3974  \n",
       "22056                          1737  \n",
       "...                             ...  \n",
       "46223                          2298  \n",
       "25623                          1270  \n",
       "2170                           1500  \n",
       "24821                          4895  \n",
       "46473                          3399  \n",
       "\n",
       "[178 rows x 5 columns]"
      ]
     },
     "execution_count": 63,
     "metadata": {},
     "output_type": "execute_result"
    }
   ],
   "source": [
    "df[df.lotsizesquarefeet < df.calculatedfinishedsquarefeet ][['latitude','longitude','parcelid','lotsizesquarefeet','calculatedfinishedsquarefeet']]"
   ]
  },
  {
   "cell_type": "code",
   "execution_count": 62,
   "metadata": {},
   "outputs": [],
   "source": [
    "df = df[~df.lotsizesquarefeet < df.calculatedfinishedsquarefeet ]"
   ]
  },
  {
   "cell_type": "code",
   "execution_count": 68,
   "metadata": {},
   "outputs": [
    {
     "data": {
      "text/plain": [
       "(19064, 24)"
      ]
     },
     "execution_count": 68,
     "metadata": {},
     "output_type": "execute_result"
    }
   ],
   "source": [
    "def trim_zillow(df):\n",
    "    # Trim the tax value outliers\n",
    "    uplim = np.percentile(df.taxvaluedollarcnt, 99)\n",
    "    uplim_mask = df.taxvaluedollarcnt > uplim\n",
    "    df = df[~uplim_mask]\n",
    "    # Trim the lot squarefoot outliers\n",
    "    uplim = np.percentile(df.lotsizesquarefeet, 99.5)\n",
    "    uplim_mask = df.lotsizesquarefeet > uplim\n",
    "    df = df[~uplim_mask]\n",
    "    # Trim some *probably* bad data\n",
    "    df = df[~df.lotsizesquarefeet < df.calculatedfinishedsquarefeet ]\n",
    "\n",
    "    return df\n",
    "\n",
    "df = trim_zillow(df)\n",
    "df.shape"
   ]
  },
  {
   "cell_type": "markdown",
   "metadata": {},
   "source": [
    "#### Test wrangle"
   ]
  },
  {
   "cell_type": "code",
   "execution_count": 1,
   "metadata": {},
   "outputs": [],
   "source": [
    "# Restart kernal for new version of wrangle\n",
    "import pandas as pd\n",
    "import numpy as np\n",
    "import matplotlib.pyplot as plt\n",
    "import plotly.express as px\n",
    "import seaborn as sns\n",
    "import wrangle\n",
    "\n",
    "pd.options.display.max_columns = None"
   ]
  },
  {
   "cell_type": "code",
   "execution_count": 2,
   "metadata": {},
   "outputs": [
    {
     "data": {
      "text/plain": [
       "((19994, 22), (14996, 22), (14997, 22))"
      ]
     },
     "execution_count": 2,
     "metadata": {},
     "output_type": "execute_result"
    }
   ],
   "source": [
    "train, test, validate = wrangle.wrangle_zillow()\n",
    "train.shape, test.shape, validate.shape"
   ]
  },
  {
   "cell_type": "code",
   "execution_count": 3,
   "metadata": {},
   "outputs": [
    {
     "data": {
      "text/html": [
       "<div>\n",
       "<style scoped>\n",
       "    .dataframe tbody tr th:only-of-type {\n",
       "        vertical-align: middle;\n",
       "    }\n",
       "\n",
       "    .dataframe tbody tr th {\n",
       "        vertical-align: top;\n",
       "    }\n",
       "\n",
       "    .dataframe thead th {\n",
       "        text-align: right;\n",
       "    }\n",
       "</style>\n",
       "<table border=\"1\" class=\"dataframe\">\n",
       "  <thead>\n",
       "    <tr style=\"text-align: right;\">\n",
       "      <th></th>\n",
       "      <th>parcelid</th>\n",
       "      <th>bedroomcnt</th>\n",
       "      <th>calculatedbathnbr</th>\n",
       "      <th>calculatedfinishedsquarefeet</th>\n",
       "      <th>fips</th>\n",
       "      <th>fullbathcnt</th>\n",
       "      <th>latitude</th>\n",
       "      <th>longitude</th>\n",
       "      <th>lotsizesquarefeet</th>\n",
       "      <th>regionidcity</th>\n",
       "      <th>regionidzip</th>\n",
       "      <th>roomcnt</th>\n",
       "      <th>unitcnt</th>\n",
       "      <th>yearbuilt</th>\n",
       "      <th>structuretaxvaluedollarcnt</th>\n",
       "      <th>taxvaluedollarcnt</th>\n",
       "      <th>landtaxvaluedollarcnt</th>\n",
       "      <th>taxdelinquencyflag</th>\n",
       "      <th>heatingorsystemdesc</th>\n",
       "      <th>years_tax_delinquent</th>\n",
       "      <th>bathroom_sum</th>\n",
       "      <th>age</th>\n",
       "    </tr>\n",
       "  </thead>\n",
       "  <tbody>\n",
       "    <tr>\n",
       "      <th>37325</th>\n",
       "      <td>13012307</td>\n",
       "      <td>5</td>\n",
       "      <td>3.0</td>\n",
       "      <td>2924</td>\n",
       "      <td>6037</td>\n",
       "      <td>3</td>\n",
       "      <td>34.064613</td>\n",
       "      <td>-118.071274</td>\n",
       "      <td>9442</td>\n",
       "      <td>54212</td>\n",
       "      <td>96510</td>\n",
       "      <td>0</td>\n",
       "      <td>1</td>\n",
       "      <td>1992</td>\n",
       "      <td>307834</td>\n",
       "      <td>520912</td>\n",
       "      <td>213078</td>\n",
       "      <td>False</td>\n",
       "      <td>Central</td>\n",
       "      <td>0</td>\n",
       "      <td>3.00</td>\n",
       "      <td>25</td>\n",
       "    </tr>\n",
       "    <tr>\n",
       "      <th>20374</th>\n",
       "      <td>12955005</td>\n",
       "      <td>3</td>\n",
       "      <td>2.0</td>\n",
       "      <td>2010</td>\n",
       "      <td>6037</td>\n",
       "      <td>2</td>\n",
       "      <td>34.051936</td>\n",
       "      <td>-117.904897</td>\n",
       "      <td>13476</td>\n",
       "      <td>14542</td>\n",
       "      <td>96524</td>\n",
       "      <td>0</td>\n",
       "      <td>1</td>\n",
       "      <td>1954</td>\n",
       "      <td>117769</td>\n",
       "      <td>588845</td>\n",
       "      <td>471076</td>\n",
       "      <td>False</td>\n",
       "      <td>Central</td>\n",
       "      <td>0</td>\n",
       "      <td>2.00</td>\n",
       "      <td>63</td>\n",
       "    </tr>\n",
       "    <tr>\n",
       "      <th>17760</th>\n",
       "      <td>14314385</td>\n",
       "      <td>5</td>\n",
       "      <td>4.0</td>\n",
       "      <td>4371</td>\n",
       "      <td>6059</td>\n",
       "      <td>4</td>\n",
       "      <td>33.615642</td>\n",
       "      <td>-117.855677</td>\n",
       "      <td>10625</td>\n",
       "      <td>53571</td>\n",
       "      <td>96978</td>\n",
       "      <td>9</td>\n",
       "      <td>1</td>\n",
       "      <td>1971</td>\n",
       "      <td>290516</td>\n",
       "      <td>2284848</td>\n",
       "      <td>1994332</td>\n",
       "      <td>False</td>\n",
       "      <td>Central</td>\n",
       "      <td>0</td>\n",
       "      <td>4.00</td>\n",
       "      <td>46</td>\n",
       "    </tr>\n",
       "    <tr>\n",
       "      <th>36062</th>\n",
       "      <td>12019442</td>\n",
       "      <td>3</td>\n",
       "      <td>5.0</td>\n",
       "      <td>3232</td>\n",
       "      <td>6037</td>\n",
       "      <td>5</td>\n",
       "      <td>34.097654</td>\n",
       "      <td>-118.372086</td>\n",
       "      <td>5034</td>\n",
       "      <td>12447</td>\n",
       "      <td>96050</td>\n",
       "      <td>0</td>\n",
       "      <td>1</td>\n",
       "      <td>1963</td>\n",
       "      <td>447538</td>\n",
       "      <td>1535361</td>\n",
       "      <td>1087823</td>\n",
       "      <td>False</td>\n",
       "      <td>Central</td>\n",
       "      <td>0</td>\n",
       "      <td>5.00</td>\n",
       "      <td>54</td>\n",
       "    </tr>\n",
       "    <tr>\n",
       "      <th>45153</th>\n",
       "      <td>14415448</td>\n",
       "      <td>4</td>\n",
       "      <td>2.5</td>\n",
       "      <td>1776</td>\n",
       "      <td>6059</td>\n",
       "      <td>2</td>\n",
       "      <td>33.536297</td>\n",
       "      <td>-117.701880</td>\n",
       "      <td>2244</td>\n",
       "      <td>25459</td>\n",
       "      <td>96987</td>\n",
       "      <td>0</td>\n",
       "      <td>1</td>\n",
       "      <td>1995</td>\n",
       "      <td>170913</td>\n",
       "      <td>295362</td>\n",
       "      <td>124449</td>\n",
       "      <td>False</td>\n",
       "      <td>Central</td>\n",
       "      <td>0</td>\n",
       "      <td>2.75</td>\n",
       "      <td>22</td>\n",
       "    </tr>\n",
       "  </tbody>\n",
       "</table>\n",
       "</div>"
      ],
      "text/plain": [
       "       parcelid  bedroomcnt  calculatedbathnbr  calculatedfinishedsquarefeet  \\\n",
       "37325  13012307           5                3.0                          2924   \n",
       "20374  12955005           3                2.0                          2010   \n",
       "17760  14314385           5                4.0                          4371   \n",
       "36062  12019442           3                5.0                          3232   \n",
       "45153  14415448           4                2.5                          1776   \n",
       "\n",
       "       fips  fullbathcnt   latitude   longitude  lotsizesquarefeet  \\\n",
       "37325  6037            3  34.064613 -118.071274               9442   \n",
       "20374  6037            2  34.051936 -117.904897              13476   \n",
       "17760  6059            4  33.615642 -117.855677              10625   \n",
       "36062  6037            5  34.097654 -118.372086               5034   \n",
       "45153  6059            2  33.536297 -117.701880               2244   \n",
       "\n",
       "      regionidcity regionidzip  roomcnt  unitcnt yearbuilt  \\\n",
       "37325        54212       96510        0        1      1992   \n",
       "20374        14542       96524        0        1      1954   \n",
       "17760        53571       96978        9        1      1971   \n",
       "36062        12447       96050        0        1      1963   \n",
       "45153        25459       96987        0        1      1995   \n",
       "\n",
       "       structuretaxvaluedollarcnt  taxvaluedollarcnt  landtaxvaluedollarcnt  \\\n",
       "37325                      307834             520912                 213078   \n",
       "20374                      117769             588845                 471076   \n",
       "17760                      290516            2284848                1994332   \n",
       "36062                      447538            1535361                1087823   \n",
       "45153                      170913             295362                 124449   \n",
       "\n",
       "       taxdelinquencyflag heatingorsystemdesc  years_tax_delinquent  \\\n",
       "37325               False             Central                     0   \n",
       "20374               False             Central                     0   \n",
       "17760               False             Central                     0   \n",
       "36062               False             Central                     0   \n",
       "45153               False             Central                     0   \n",
       "\n",
       "       bathroom_sum  age  \n",
       "37325          3.00   25  \n",
       "20374          2.00   63  \n",
       "17760          4.00   46  \n",
       "36062          5.00   54  \n",
       "45153          2.75   22  "
      ]
     },
     "execution_count": 3,
     "metadata": {},
     "output_type": "execute_result"
    }
   ],
   "source": [
    "train.head()"
   ]
  },
  {
   "cell_type": "code",
   "execution_count": 11,
   "metadata": {},
   "outputs": [
    {
     "data": {
      "text/html": [
       "<div>\n",
       "<style scoped>\n",
       "    .dataframe tbody tr th:only-of-type {\n",
       "        vertical-align: middle;\n",
       "    }\n",
       "\n",
       "    .dataframe tbody tr th {\n",
       "        vertical-align: top;\n",
       "    }\n",
       "\n",
       "    .dataframe thead th {\n",
       "        text-align: right;\n",
       "    }\n",
       "</style>\n",
       "<table border=\"1\" class=\"dataframe\">\n",
       "  <thead>\n",
       "    <tr style=\"text-align: right;\">\n",
       "      <th></th>\n",
       "      <th>parcelid</th>\n",
       "      <th>bedroomcnt</th>\n",
       "      <th>calc_bath</th>\n",
       "      <th>structure_sqft</th>\n",
       "      <th>fips</th>\n",
       "      <th>fullbathcnt</th>\n",
       "      <th>latitude</th>\n",
       "      <th>longitude</th>\n",
       "      <th>lot_sqft</th>\n",
       "      <th>regionidcity</th>\n",
       "      <th>regionidzip</th>\n",
       "      <th>roomcnt</th>\n",
       "      <th>unitcnt</th>\n",
       "      <th>yearbuilt</th>\n",
       "      <th>tax_structure</th>\n",
       "      <th>tax</th>\n",
       "      <th>tax_land</th>\n",
       "      <th>taxdelinquencyflag</th>\n",
       "      <th>heatingorsystemdesc</th>\n",
       "      <th>years_tax_delinquent</th>\n",
       "      <th>bathroom_sum</th>\n",
       "      <th>age</th>\n",
       "    </tr>\n",
       "  </thead>\n",
       "  <tbody>\n",
       "    <tr>\n",
       "      <th>37325</th>\n",
       "      <td>13012307</td>\n",
       "      <td>5</td>\n",
       "      <td>3.0</td>\n",
       "      <td>2924</td>\n",
       "      <td>6037</td>\n",
       "      <td>3</td>\n",
       "      <td>34.064613</td>\n",
       "      <td>-118.071274</td>\n",
       "      <td>9442</td>\n",
       "      <td>54212</td>\n",
       "      <td>96510</td>\n",
       "      <td>0</td>\n",
       "      <td>1</td>\n",
       "      <td>1992</td>\n",
       "      <td>307834</td>\n",
       "      <td>520912</td>\n",
       "      <td>213078</td>\n",
       "      <td>False</td>\n",
       "      <td>Central</td>\n",
       "      <td>0</td>\n",
       "      <td>3.00</td>\n",
       "      <td>25</td>\n",
       "    </tr>\n",
       "    <tr>\n",
       "      <th>20374</th>\n",
       "      <td>12955005</td>\n",
       "      <td>3</td>\n",
       "      <td>2.0</td>\n",
       "      <td>2010</td>\n",
       "      <td>6037</td>\n",
       "      <td>2</td>\n",
       "      <td>34.051936</td>\n",
       "      <td>-117.904897</td>\n",
       "      <td>13476</td>\n",
       "      <td>14542</td>\n",
       "      <td>96524</td>\n",
       "      <td>0</td>\n",
       "      <td>1</td>\n",
       "      <td>1954</td>\n",
       "      <td>117769</td>\n",
       "      <td>588845</td>\n",
       "      <td>471076</td>\n",
       "      <td>False</td>\n",
       "      <td>Central</td>\n",
       "      <td>0</td>\n",
       "      <td>2.00</td>\n",
       "      <td>63</td>\n",
       "    </tr>\n",
       "    <tr>\n",
       "      <th>17760</th>\n",
       "      <td>14314385</td>\n",
       "      <td>5</td>\n",
       "      <td>4.0</td>\n",
       "      <td>4371</td>\n",
       "      <td>6059</td>\n",
       "      <td>4</td>\n",
       "      <td>33.615642</td>\n",
       "      <td>-117.855677</td>\n",
       "      <td>10625</td>\n",
       "      <td>53571</td>\n",
       "      <td>96978</td>\n",
       "      <td>9</td>\n",
       "      <td>1</td>\n",
       "      <td>1971</td>\n",
       "      <td>290516</td>\n",
       "      <td>2284848</td>\n",
       "      <td>1994332</td>\n",
       "      <td>False</td>\n",
       "      <td>Central</td>\n",
       "      <td>0</td>\n",
       "      <td>4.00</td>\n",
       "      <td>46</td>\n",
       "    </tr>\n",
       "    <tr>\n",
       "      <th>36062</th>\n",
       "      <td>12019442</td>\n",
       "      <td>3</td>\n",
       "      <td>5.0</td>\n",
       "      <td>3232</td>\n",
       "      <td>6037</td>\n",
       "      <td>5</td>\n",
       "      <td>34.097654</td>\n",
       "      <td>-118.372086</td>\n",
       "      <td>5034</td>\n",
       "      <td>12447</td>\n",
       "      <td>96050</td>\n",
       "      <td>0</td>\n",
       "      <td>1</td>\n",
       "      <td>1963</td>\n",
       "      <td>447538</td>\n",
       "      <td>1535361</td>\n",
       "      <td>1087823</td>\n",
       "      <td>False</td>\n",
       "      <td>Central</td>\n",
       "      <td>0</td>\n",
       "      <td>5.00</td>\n",
       "      <td>54</td>\n",
       "    </tr>\n",
       "    <tr>\n",
       "      <th>45153</th>\n",
       "      <td>14415448</td>\n",
       "      <td>4</td>\n",
       "      <td>2.5</td>\n",
       "      <td>1776</td>\n",
       "      <td>6059</td>\n",
       "      <td>2</td>\n",
       "      <td>33.536297</td>\n",
       "      <td>-117.701880</td>\n",
       "      <td>2244</td>\n",
       "      <td>25459</td>\n",
       "      <td>96987</td>\n",
       "      <td>0</td>\n",
       "      <td>1</td>\n",
       "      <td>1995</td>\n",
       "      <td>170913</td>\n",
       "      <td>295362</td>\n",
       "      <td>124449</td>\n",
       "      <td>False</td>\n",
       "      <td>Central</td>\n",
       "      <td>0</td>\n",
       "      <td>2.75</td>\n",
       "      <td>22</td>\n",
       "    </tr>\n",
       "    <tr>\n",
       "      <th>...</th>\n",
       "      <td>...</td>\n",
       "      <td>...</td>\n",
       "      <td>...</td>\n",
       "      <td>...</td>\n",
       "      <td>...</td>\n",
       "      <td>...</td>\n",
       "      <td>...</td>\n",
       "      <td>...</td>\n",
       "      <td>...</td>\n",
       "      <td>...</td>\n",
       "      <td>...</td>\n",
       "      <td>...</td>\n",
       "      <td>...</td>\n",
       "      <td>...</td>\n",
       "      <td>...</td>\n",
       "      <td>...</td>\n",
       "      <td>...</td>\n",
       "      <td>...</td>\n",
       "      <td>...</td>\n",
       "      <td>...</td>\n",
       "      <td>...</td>\n",
       "      <td>...</td>\n",
       "    </tr>\n",
       "    <tr>\n",
       "      <th>10931</th>\n",
       "      <td>14347612</td>\n",
       "      <td>4</td>\n",
       "      <td>3.0</td>\n",
       "      <td>2951</td>\n",
       "      <td>6059</td>\n",
       "      <td>3</td>\n",
       "      <td>33.720716</td>\n",
       "      <td>-117.762733</td>\n",
       "      <td>5000</td>\n",
       "      <td>52650</td>\n",
       "      <td>96954</td>\n",
       "      <td>9</td>\n",
       "      <td>1</td>\n",
       "      <td>1977</td>\n",
       "      <td>239214</td>\n",
       "      <td>1038547</td>\n",
       "      <td>799333</td>\n",
       "      <td>False</td>\n",
       "      <td>Central</td>\n",
       "      <td>0</td>\n",
       "      <td>3.00</td>\n",
       "      <td>40</td>\n",
       "    </tr>\n",
       "    <tr>\n",
       "      <th>36702</th>\n",
       "      <td>14418204</td>\n",
       "      <td>5</td>\n",
       "      <td>4.5</td>\n",
       "      <td>5888</td>\n",
       "      <td>6059</td>\n",
       "      <td>4</td>\n",
       "      <td>33.528539</td>\n",
       "      <td>-117.727714</td>\n",
       "      <td>9720</td>\n",
       "      <td>25459</td>\n",
       "      <td>96987</td>\n",
       "      <td>0</td>\n",
       "      <td>1</td>\n",
       "      <td>1998</td>\n",
       "      <td>961231</td>\n",
       "      <td>2630457</td>\n",
       "      <td>1669226</td>\n",
       "      <td>False</td>\n",
       "      <td>Central</td>\n",
       "      <td>0</td>\n",
       "      <td>4.75</td>\n",
       "      <td>19</td>\n",
       "    </tr>\n",
       "    <tr>\n",
       "      <th>19354</th>\n",
       "      <td>12900133</td>\n",
       "      <td>2</td>\n",
       "      <td>1.0</td>\n",
       "      <td>1255</td>\n",
       "      <td>6037</td>\n",
       "      <td>1</td>\n",
       "      <td>34.105793</td>\n",
       "      <td>-117.780575</td>\n",
       "      <td>5975</td>\n",
       "      <td>39308</td>\n",
       "      <td>96494</td>\n",
       "      <td>0</td>\n",
       "      <td>1</td>\n",
       "      <td>1947</td>\n",
       "      <td>38700</td>\n",
       "      <td>47994</td>\n",
       "      <td>9294</td>\n",
       "      <td>False</td>\n",
       "      <td>Central</td>\n",
       "      <td>0</td>\n",
       "      <td>1.00</td>\n",
       "      <td>70</td>\n",
       "    </tr>\n",
       "    <tr>\n",
       "      <th>27256</th>\n",
       "      <td>11024363</td>\n",
       "      <td>2</td>\n",
       "      <td>1.0</td>\n",
       "      <td>876</td>\n",
       "      <td>6037</td>\n",
       "      <td>1</td>\n",
       "      <td>34.252590</td>\n",
       "      <td>-118.418376</td>\n",
       "      <td>5007</td>\n",
       "      <td>12447</td>\n",
       "      <td>96361</td>\n",
       "      <td>0</td>\n",
       "      <td>1</td>\n",
       "      <td>1952</td>\n",
       "      <td>96600</td>\n",
       "      <td>333300</td>\n",
       "      <td>236700</td>\n",
       "      <td>False</td>\n",
       "      <td>Floor/Wall</td>\n",
       "      <td>0</td>\n",
       "      <td>1.00</td>\n",
       "      <td>65</td>\n",
       "    </tr>\n",
       "    <tr>\n",
       "      <th>4780</th>\n",
       "      <td>12794807</td>\n",
       "      <td>3</td>\n",
       "      <td>1.0</td>\n",
       "      <td>1030</td>\n",
       "      <td>6037</td>\n",
       "      <td>1</td>\n",
       "      <td>33.947670</td>\n",
       "      <td>-118.040881</td>\n",
       "      <td>6723</td>\n",
       "      <td>118225</td>\n",
       "      <td>96173</td>\n",
       "      <td>0</td>\n",
       "      <td>1</td>\n",
       "      <td>1951</td>\n",
       "      <td>75300</td>\n",
       "      <td>378000</td>\n",
       "      <td>302700</td>\n",
       "      <td>False</td>\n",
       "      <td>Floor/Wall</td>\n",
       "      <td>0</td>\n",
       "      <td>1.00</td>\n",
       "      <td>66</td>\n",
       "    </tr>\n",
       "  </tbody>\n",
       "</table>\n",
       "<p>19994 rows × 22 columns</p>\n",
       "</div>"
      ],
      "text/plain": [
       "       parcelid  bedroomcnt  calc_bath  structure_sqft  fips  fullbathcnt  \\\n",
       "37325  13012307           5        3.0            2924  6037            3   \n",
       "20374  12955005           3        2.0            2010  6037            2   \n",
       "17760  14314385           5        4.0            4371  6059            4   \n",
       "36062  12019442           3        5.0            3232  6037            5   \n",
       "45153  14415448           4        2.5            1776  6059            2   \n",
       "...         ...         ...        ...             ...   ...          ...   \n",
       "10931  14347612           4        3.0            2951  6059            3   \n",
       "36702  14418204           5        4.5            5888  6059            4   \n",
       "19354  12900133           2        1.0            1255  6037            1   \n",
       "27256  11024363           2        1.0             876  6037            1   \n",
       "4780   12794807           3        1.0            1030  6037            1   \n",
       "\n",
       "        latitude   longitude  lot_sqft regionidcity regionidzip  roomcnt  \\\n",
       "37325  34.064613 -118.071274      9442        54212       96510        0   \n",
       "20374  34.051936 -117.904897     13476        14542       96524        0   \n",
       "17760  33.615642 -117.855677     10625        53571       96978        9   \n",
       "36062  34.097654 -118.372086      5034        12447       96050        0   \n",
       "45153  33.536297 -117.701880      2244        25459       96987        0   \n",
       "...          ...         ...       ...          ...         ...      ...   \n",
       "10931  33.720716 -117.762733      5000        52650       96954        9   \n",
       "36702  33.528539 -117.727714      9720        25459       96987        0   \n",
       "19354  34.105793 -117.780575      5975        39308       96494        0   \n",
       "27256  34.252590 -118.418376      5007        12447       96361        0   \n",
       "4780   33.947670 -118.040881      6723       118225       96173        0   \n",
       "\n",
       "       unitcnt yearbuilt  tax_structure      tax  tax_land  \\\n",
       "37325        1      1992         307834   520912    213078   \n",
       "20374        1      1954         117769   588845    471076   \n",
       "17760        1      1971         290516  2284848   1994332   \n",
       "36062        1      1963         447538  1535361   1087823   \n",
       "45153        1      1995         170913   295362    124449   \n",
       "...        ...       ...            ...      ...       ...   \n",
       "10931        1      1977         239214  1038547    799333   \n",
       "36702        1      1998         961231  2630457   1669226   \n",
       "19354        1      1947          38700    47994      9294   \n",
       "27256        1      1952          96600   333300    236700   \n",
       "4780         1      1951          75300   378000    302700   \n",
       "\n",
       "       taxdelinquencyflag heatingorsystemdesc  years_tax_delinquent  \\\n",
       "37325               False             Central                     0   \n",
       "20374               False             Central                     0   \n",
       "17760               False             Central                     0   \n",
       "36062               False             Central                     0   \n",
       "45153               False             Central                     0   \n",
       "...                   ...                 ...                   ...   \n",
       "10931               False             Central                     0   \n",
       "36702               False             Central                     0   \n",
       "19354               False             Central                     0   \n",
       "27256               False          Floor/Wall                     0   \n",
       "4780                False          Floor/Wall                     0   \n",
       "\n",
       "       bathroom_sum  age  \n",
       "37325          3.00   25  \n",
       "20374          2.00   63  \n",
       "17760          4.00   46  \n",
       "36062          5.00   54  \n",
       "45153          2.75   22  \n",
       "...             ...  ...  \n",
       "10931          3.00   40  \n",
       "36702          4.75   19  \n",
       "19354          1.00   70  \n",
       "27256          1.00   65  \n",
       "4780           1.00   66  \n",
       "\n",
       "[19994 rows x 22 columns]"
      ]
     },
     "execution_count": 11,
     "metadata": {},
     "output_type": "execute_result"
    }
   ],
   "source": [
    "# Do some renaming\n",
    "df = train\n",
    "df.rename(columns={\n",
    "    'calculatedfinishedsquarefeet' : 'structure_sqft',\n",
    "    'calculatedbathnbr' : 'calc_bath',\n",
    "    'lotsizesquarefeet' : 'lot_sqft',\n",
    "    'structuretaxvaluedollarcnt': 'tax_structure',\n",
    "    'taxvaluedollarcnt': 'tax',\n",
    "    'landtaxvaluedollarcnt': 'tax_land'\n",
    "    \n",
    "})"
   ]
  },
  {
   "cell_type": "code",
   "execution_count": 12,
   "metadata": {},
   "outputs": [],
   "source": [
    "def rename_zillow(df):\n",
    "    df = df.rename(columns={\n",
    "        'calculatedfinishedsquarefeet' : 'structure_sqft',\n",
    "        'calculatedbathnbr' : 'calc_bath',\n",
    "        'lotsizesquarefeet' : 'lot_sqft',\n",
    "        'structuretaxvaluedollarcnt': 'tax_structure',\n",
    "        'taxvaluedollarcnt': 'tax',\n",
    "        'landtaxvaluedollarcnt': 'tax_land'\n",
    "        })\n",
    "    return df"
   ]
  }
 ],
 "metadata": {
  "kernelspec": {
   "display_name": "Python 3.10.4 64-bit",
   "language": "python",
   "name": "python3"
  },
  "language_info": {
   "codemirror_mode": {
    "name": "ipython",
    "version": 3
   },
   "file_extension": ".py",
   "mimetype": "text/x-python",
   "name": "python",
   "nbconvert_exporter": "python",
   "pygments_lexer": "ipython3",
   "version": "3.10.4"
  },
  "orig_nbformat": 4,
  "vscode": {
   "interpreter": {
    "hash": "37b4e1d782780d9803a775659fc8b81e9cc61a0899d4564192c1f7cc3c556e45"
   }
  }
 },
 "nbformat": 4,
 "nbformat_minor": 2
}
