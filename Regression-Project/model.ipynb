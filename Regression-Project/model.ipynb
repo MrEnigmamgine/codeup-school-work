{
 "cells": [
  {
   "cell_type": "code",
   "execution_count": 38,
   "metadata": {},
   "outputs": [],
   "source": [
    "import pandas as pd\n",
    "import numpy as np\n",
    "import matplotlib.pyplot as plt\n",
    "import plotly.express as px\n",
    "import seaborn as sns\n",
    "import wrangle\n",
    "import evaluate\n",
    "\n",
    "pd.options.display.max_columns = None"
   ]
  },
  {
   "cell_type": "code",
   "execution_count": 39,
   "metadata": {},
   "outputs": [],
   "source": [
    "from sklearn.preprocessing import PolynomialFeatures, MinMaxScaler\n",
    "from sklearn.linear_model import LinearRegression"
   ]
  },
  {
   "cell_type": "markdown",
   "metadata": {},
   "source": [
    "The Plan:\n",
    "- Parametric model age to structure value\n",
    "- Linear model structure sqft to structure value\n",
    "- Linear model structure value to tax value.\n",
    "- Predict in sequence for final prediction"
   ]
  },
  {
   "cell_type": "code",
   "execution_count": 40,
   "metadata": {},
   "outputs": [],
   "source": [
    "train, test, validate = wrangle.wrangle_zillow()"
   ]
  },
  {
   "cell_type": "markdown",
   "metadata": {},
   "source": [
    "# Baselines"
   ]
  },
  {
   "cell_type": "markdown",
   "metadata": {},
   "source": [
    "#### Baseline 1 - Structure value"
   ]
  },
  {
   "cell_type": "code",
   "execution_count": 41,
   "metadata": {},
   "outputs": [
    {
     "data": {
      "text/plain": [
       "178415.13240592473"
      ]
     },
     "execution_count": 41,
     "metadata": {},
     "output_type": "execute_result"
    }
   ],
   "source": [
    "base_home = train.tax_structure.mean()\n",
    "base_home"
   ]
  },
  {
   "cell_type": "markdown",
   "metadata": {},
   "source": [
    "#### Baseline 1 - Total value"
   ]
  },
  {
   "cell_type": "code",
   "execution_count": 42,
   "metadata": {},
   "outputs": [
    {
     "data": {
      "text/plain": [
       "474281.16986922873"
      ]
     },
     "execution_count": 42,
     "metadata": {},
     "output_type": "execute_result"
    }
   ],
   "source": [
    "base_total = train.tax.mean()\n",
    "base_total"
   ]
  },
  {
   "cell_type": "markdown",
   "metadata": {},
   "source": [
    "# Ensemble 1"
   ]
  },
  {
   "cell_type": "markdown",
   "metadata": {},
   "source": [
    "### Part 1:  Age for Structure value"
   ]
  },
  {
   "cell_type": "code",
   "execution_count": 43,
   "metadata": {},
   "outputs": [
    {
     "data": {
      "text/html": [
       "<div>\n",
       "<style scoped>\n",
       "    .dataframe tbody tr th:only-of-type {\n",
       "        vertical-align: middle;\n",
       "    }\n",
       "\n",
       "    .dataframe tbody tr th {\n",
       "        vertical-align: top;\n",
       "    }\n",
       "\n",
       "    .dataframe thead th {\n",
       "        text-align: right;\n",
       "    }\n",
       "</style>\n",
       "<table border=\"1\" class=\"dataframe\">\n",
       "  <thead>\n",
       "    <tr style=\"text-align: right;\">\n",
       "      <th></th>\n",
       "      <th>age</th>\n",
       "      <th>age</th>\n",
       "    </tr>\n",
       "  </thead>\n",
       "  <tbody>\n",
       "    <tr>\n",
       "      <th>19177</th>\n",
       "      <td>64</td>\n",
       "      <td>64</td>\n",
       "    </tr>\n",
       "    <tr>\n",
       "      <th>31614</th>\n",
       "      <td>59</td>\n",
       "      <td>59</td>\n",
       "    </tr>\n",
       "    <tr>\n",
       "      <th>41666</th>\n",
       "      <td>63</td>\n",
       "      <td>63</td>\n",
       "    </tr>\n",
       "    <tr>\n",
       "      <th>40702</th>\n",
       "      <td>56</td>\n",
       "      <td>56</td>\n",
       "    </tr>\n",
       "    <tr>\n",
       "      <th>3541</th>\n",
       "      <td>43</td>\n",
       "      <td>43</td>\n",
       "    </tr>\n",
       "    <tr>\n",
       "      <th>...</th>\n",
       "      <td>...</td>\n",
       "      <td>...</td>\n",
       "    </tr>\n",
       "    <tr>\n",
       "      <th>10747</th>\n",
       "      <td>93</td>\n",
       "      <td>93</td>\n",
       "    </tr>\n",
       "    <tr>\n",
       "      <th>36141</th>\n",
       "      <td>90</td>\n",
       "      <td>90</td>\n",
       "    </tr>\n",
       "    <tr>\n",
       "      <th>19062</th>\n",
       "      <td>65</td>\n",
       "      <td>65</td>\n",
       "    </tr>\n",
       "    <tr>\n",
       "      <th>26838</th>\n",
       "      <td>59</td>\n",
       "      <td>59</td>\n",
       "    </tr>\n",
       "    <tr>\n",
       "      <th>4699</th>\n",
       "      <td>65</td>\n",
       "      <td>65</td>\n",
       "    </tr>\n",
       "  </tbody>\n",
       "</table>\n",
       "<p>29976 rows × 2 columns</p>\n",
       "</div>"
      ],
      "text/plain": [
       "       age  age\n",
       "19177   64   64\n",
       "31614   59   59\n",
       "41666   63   63\n",
       "40702   56   56\n",
       "3541    43   43\n",
       "...    ...  ...\n",
       "10747   93   93\n",
       "36141   90   90\n",
       "19062   65   65\n",
       "26838   59   59\n",
       "4699    65   65\n",
       "\n",
       "[29976 rows x 2 columns]"
      ]
     },
     "execution_count": 43,
     "metadata": {},
     "output_type": "execute_result"
    }
   ],
   "source": [
    "x1_train = train[['age','age']] # PolynomialFeatures only accepts 2d arrays, so duplicate the column.\n",
    "y1_train = train.tax_structure\n",
    "x1_train"
   ]
  },
  {
   "cell_type": "code",
   "execution_count": 44,
   "metadata": {},
   "outputs": [],
   "source": [
    "poly = PolynomialFeatures(3, include_bias=False, interaction_only=False)\n",
    "x1_train_p = poly.fit_transform(x1_train)"
   ]
  },
  {
   "cell_type": "code",
   "execution_count": 45,
   "metadata": {},
   "outputs": [
    {
     "data": {
      "text/html": [
       "<style>#sk-container-id-4 {color: black;background-color: white;}#sk-container-id-4 pre{padding: 0;}#sk-container-id-4 div.sk-toggleable {background-color: white;}#sk-container-id-4 label.sk-toggleable__label {cursor: pointer;display: block;width: 100%;margin-bottom: 0;padding: 0.3em;box-sizing: border-box;text-align: center;}#sk-container-id-4 label.sk-toggleable__label-arrow:before {content: \"▸\";float: left;margin-right: 0.25em;color: #696969;}#sk-container-id-4 label.sk-toggleable__label-arrow:hover:before {color: black;}#sk-container-id-4 div.sk-estimator:hover label.sk-toggleable__label-arrow:before {color: black;}#sk-container-id-4 div.sk-toggleable__content {max-height: 0;max-width: 0;overflow: hidden;text-align: left;background-color: #f0f8ff;}#sk-container-id-4 div.sk-toggleable__content pre {margin: 0.2em;color: black;border-radius: 0.25em;background-color: #f0f8ff;}#sk-container-id-4 input.sk-toggleable__control:checked~div.sk-toggleable__content {max-height: 200px;max-width: 100%;overflow: auto;}#sk-container-id-4 input.sk-toggleable__control:checked~label.sk-toggleable__label-arrow:before {content: \"▾\";}#sk-container-id-4 div.sk-estimator input.sk-toggleable__control:checked~label.sk-toggleable__label {background-color: #d4ebff;}#sk-container-id-4 div.sk-label input.sk-toggleable__control:checked~label.sk-toggleable__label {background-color: #d4ebff;}#sk-container-id-4 input.sk-hidden--visually {border: 0;clip: rect(1px 1px 1px 1px);clip: rect(1px, 1px, 1px, 1px);height: 1px;margin: -1px;overflow: hidden;padding: 0;position: absolute;width: 1px;}#sk-container-id-4 div.sk-estimator {font-family: monospace;background-color: #f0f8ff;border: 1px dotted black;border-radius: 0.25em;box-sizing: border-box;margin-bottom: 0.5em;}#sk-container-id-4 div.sk-estimator:hover {background-color: #d4ebff;}#sk-container-id-4 div.sk-parallel-item::after {content: \"\";width: 100%;border-bottom: 1px solid gray;flex-grow: 1;}#sk-container-id-4 div.sk-label:hover label.sk-toggleable__label {background-color: #d4ebff;}#sk-container-id-4 div.sk-serial::before {content: \"\";position: absolute;border-left: 1px solid gray;box-sizing: border-box;top: 0;bottom: 0;left: 50%;z-index: 0;}#sk-container-id-4 div.sk-serial {display: flex;flex-direction: column;align-items: center;background-color: white;padding-right: 0.2em;padding-left: 0.2em;position: relative;}#sk-container-id-4 div.sk-item {position: relative;z-index: 1;}#sk-container-id-4 div.sk-parallel {display: flex;align-items: stretch;justify-content: center;background-color: white;position: relative;}#sk-container-id-4 div.sk-item::before, #sk-container-id-4 div.sk-parallel-item::before {content: \"\";position: absolute;border-left: 1px solid gray;box-sizing: border-box;top: 0;bottom: 0;left: 50%;z-index: -1;}#sk-container-id-4 div.sk-parallel-item {display: flex;flex-direction: column;z-index: 1;position: relative;background-color: white;}#sk-container-id-4 div.sk-parallel-item:first-child::after {align-self: flex-end;width: 50%;}#sk-container-id-4 div.sk-parallel-item:last-child::after {align-self: flex-start;width: 50%;}#sk-container-id-4 div.sk-parallel-item:only-child::after {width: 0;}#sk-container-id-4 div.sk-dashed-wrapped {border: 1px dashed gray;margin: 0 0.4em 0.5em 0.4em;box-sizing: border-box;padding-bottom: 0.4em;background-color: white;}#sk-container-id-4 div.sk-label label {font-family: monospace;font-weight: bold;display: inline-block;line-height: 1.2em;}#sk-container-id-4 div.sk-label-container {text-align: center;}#sk-container-id-4 div.sk-container {/* jupyter's `normalize.less` sets `[hidden] { display: none; }` but bootstrap.min.css set `[hidden] { display: none !important; }` so we also need the `!important` here to be able to override the default hidden behavior on the sphinx rendered scikit-learn.org. See: https://github.com/scikit-learn/scikit-learn/issues/21755 */display: inline-block !important;position: relative;}#sk-container-id-4 div.sk-text-repr-fallback {display: none;}</style><div id=\"sk-container-id-4\" class=\"sk-top-container\"><div class=\"sk-text-repr-fallback\"><pre>LinearRegression()</pre><b>In a Jupyter environment, please rerun this cell to show the HTML representation or trust the notebook. <br />On GitHub, the HTML representation is unable to render, please try loading this page with nbviewer.org.</b></div><div class=\"sk-container\" hidden><div class=\"sk-item\"><div class=\"sk-estimator sk-toggleable\"><input class=\"sk-toggleable__control sk-hidden--visually\" id=\"sk-estimator-id-4\" type=\"checkbox\" checked><label for=\"sk-estimator-id-4\" class=\"sk-toggleable__label sk-toggleable__label-arrow\">LinearRegression</label><div class=\"sk-toggleable__content\"><pre>LinearRegression()</pre></div></div></div></div></div>"
      ],
      "text/plain": [
       "LinearRegression()"
      ]
     },
     "execution_count": 45,
     "metadata": {},
     "output_type": "execute_result"
    }
   ],
   "source": [
    "model1 = LinearRegression(positive=False)\n",
    "model1.fit(x1_train_p, y1_train)\n"
   ]
  },
  {
   "cell_type": "code",
   "execution_count": 46,
   "metadata": {},
   "outputs": [],
   "source": [
    "train_pred = model1.predict(x1_train_p)\n",
    "baseline = np.full_like(y1_train, y1_train.mean())"
   ]
  },
  {
   "cell_type": "code",
   "execution_count": 47,
   "metadata": {},
   "outputs": [
    {
     "data": {
      "image/png": "[encoded data removed]",
      "text/plain": [
       "<Figure size 504x288 with 1 Axes>"
      ]
     },
     "metadata": {
      "needs_background": "light"
     },
     "output_type": "display_data"
    }
   ],
   "source": [
    "evaluate.plot_residuals(y1_train, train_pred)"
   ]
  },
  {
   "cell_type": "code",
   "execution_count": 48,
   "metadata": {},
   "outputs": [
    {
     "data": {
      "text/plain": [
       "array([-2.75621893e+06,  2.73951755e+06,  5.45713686e+09, -2.72856833e+09,\n",
       "       -2.72856833e+09, -5.54223658e+11, -1.22503553e+11,  3.38116941e+11,\n",
       "        3.38610269e+11])"
      ]
     },
     "execution_count": 48,
     "metadata": {},
     "output_type": "execute_result"
    }
   ],
   "source": [
    "model1.coef_"
   ]
  },
  {
   "cell_type": "markdown",
   "metadata": {},
   "source": [
    "This model alone predicts $24,154 closer on average."
   ]
  },
  {
   "cell_type": "code",
   "execution_count": 49,
   "metadata": {},
   "outputs": [
    {
     "data": {
      "text/plain": [
       "((10149, 2), (10149, 9), (10149,))"
      ]
     },
     "execution_count": 49,
     "metadata": {},
     "output_type": "execute_result"
    }
   ],
   "source": [
    "def get_model1_x_x2_y(df, poly):\n",
    "    x = df[['age','age']]\n",
    "    x2 = poly.transform(x)\n",
    "    y = df.tax_structure\n",
    "    return x, x2, y\n",
    "\n",
    "x1_test, x1_test_p, y1_test = get_model1_x_x2_y(test, poly)\n",
    "x1_test.shape, x1_test_p.shape, y1_test.shape"
   ]
  },
  {
   "cell_type": "code",
   "execution_count": 50,
   "metadata": {},
   "outputs": [
    {
     "name": "stdout",
     "output_type": "stream",
     "text": [
      "171629.99659044223 147063.68466499535\n",
      "24566.311925446877\n"
     ]
    }
   ],
   "source": [
    "print(evaluate.baseline_mean_errors(y1_train)['RMSE'] , evaluate.regression_errors(y1_train, train_pred)['RMSE'])\n",
    "print(evaluate.baseline_mean_errors(y1_train)['RMSE'] - evaluate.regression_errors(y1_train, train_pred)['RMSE'])"
   ]
  },
  {
   "cell_type": "code",
   "execution_count": 51,
   "metadata": {},
   "outputs": [
    {
     "name": "stdout",
     "output_type": "stream",
     "text": [
      "229043.18615762182 208216.33579624587\n",
      "20826.850361375953\n"
     ]
    }
   ],
   "source": [
    "test_pred = model1.predict(x1_test_p)\n",
    "print( evaluate.baseline_mean_errors(y1_test)['RMSE'],  evaluate.regression_errors(y1_test, test_pred)['RMSE']) \n",
    "print( evaluate.baseline_mean_errors(y1_test)['RMSE'] -  evaluate.regression_errors(y1_test, test_pred)['RMSE']) "
   ]
  },
  {
   "cell_type": "markdown",
   "metadata": {},
   "source": [
    "### Part 2:  Structure Square Feet for Structure value"
   ]
  },
  {
   "cell_type": "code",
   "execution_count": 52,
   "metadata": {},
   "outputs": [],
   "source": [
    "def get_model2_x_y(df):\n",
    "    x = df[['structure_sqft','structure_sqft']]\n",
    "    y = df.tax_structure\n",
    "    return x, y\n",
    "\n",
    "x2_train, y2_train = get_model2_x_y(train)\n",
    "x2_test, y2_test = get_model2_x_y(test)"
   ]
  },
  {
   "cell_type": "code",
   "execution_count": 53,
   "metadata": {},
   "outputs": [
    {
     "data": {
      "text/html": [
       "<style>#sk-container-id-5 {color: black;background-color: white;}#sk-container-id-5 pre{padding: 0;}#sk-container-id-5 div.sk-toggleable {background-color: white;}#sk-container-id-5 label.sk-toggleable__label {cursor: pointer;display: block;width: 100%;margin-bottom: 0;padding: 0.3em;box-sizing: border-box;text-align: center;}#sk-container-id-5 label.sk-toggleable__label-arrow:before {content: \"▸\";float: left;margin-right: 0.25em;color: #696969;}#sk-container-id-5 label.sk-toggleable__label-arrow:hover:before {color: black;}#sk-container-id-5 div.sk-estimator:hover label.sk-toggleable__label-arrow:before {color: black;}#sk-container-id-5 div.sk-toggleable__content {max-height: 0;max-width: 0;overflow: hidden;text-align: left;background-color: #f0f8ff;}#sk-container-id-5 div.sk-toggleable__content pre {margin: 0.2em;color: black;border-radius: 0.25em;background-color: #f0f8ff;}#sk-container-id-5 input.sk-toggleable__control:checked~div.sk-toggleable__content {max-height: 200px;max-width: 100%;overflow: auto;}#sk-container-id-5 input.sk-toggleable__control:checked~label.sk-toggleable__label-arrow:before {content: \"▾\";}#sk-container-id-5 div.sk-estimator input.sk-toggleable__control:checked~label.sk-toggleable__label {background-color: #d4ebff;}#sk-container-id-5 div.sk-label input.sk-toggleable__control:checked~label.sk-toggleable__label {background-color: #d4ebff;}#sk-container-id-5 input.sk-hidden--visually {border: 0;clip: rect(1px 1px 1px 1px);clip: rect(1px, 1px, 1px, 1px);height: 1px;margin: -1px;overflow: hidden;padding: 0;position: absolute;width: 1px;}#sk-container-id-5 div.sk-estimator {font-family: monospace;background-color: #f0f8ff;border: 1px dotted black;border-radius: 0.25em;box-sizing: border-box;margin-bottom: 0.5em;}#sk-container-id-5 div.sk-estimator:hover {background-color: #d4ebff;}#sk-container-id-5 div.sk-parallel-item::after {content: \"\";width: 100%;border-bottom: 1px solid gray;flex-grow: 1;}#sk-container-id-5 div.sk-label:hover label.sk-toggleable__label {background-color: #d4ebff;}#sk-container-id-5 div.sk-serial::before {content: \"\";position: absolute;border-left: 1px solid gray;box-sizing: border-box;top: 0;bottom: 0;left: 50%;z-index: 0;}#sk-container-id-5 div.sk-serial {display: flex;flex-direction: column;align-items: center;background-color: white;padding-right: 0.2em;padding-left: 0.2em;position: relative;}#sk-container-id-5 div.sk-item {position: relative;z-index: 1;}#sk-container-id-5 div.sk-parallel {display: flex;align-items: stretch;justify-content: center;background-color: white;position: relative;}#sk-container-id-5 div.sk-item::before, #sk-container-id-5 div.sk-parallel-item::before {content: \"\";position: absolute;border-left: 1px solid gray;box-sizing: border-box;top: 0;bottom: 0;left: 50%;z-index: -1;}#sk-container-id-5 div.sk-parallel-item {display: flex;flex-direction: column;z-index: 1;position: relative;background-color: white;}#sk-container-id-5 div.sk-parallel-item:first-child::after {align-self: flex-end;width: 50%;}#sk-container-id-5 div.sk-parallel-item:last-child::after {align-self: flex-start;width: 50%;}#sk-container-id-5 div.sk-parallel-item:only-child::after {width: 0;}#sk-container-id-5 div.sk-dashed-wrapped {border: 1px dashed gray;margin: 0 0.4em 0.5em 0.4em;box-sizing: border-box;padding-bottom: 0.4em;background-color: white;}#sk-container-id-5 div.sk-label label {font-family: monospace;font-weight: bold;display: inline-block;line-height: 1.2em;}#sk-container-id-5 div.sk-label-container {text-align: center;}#sk-container-id-5 div.sk-container {/* jupyter's `normalize.less` sets `[hidden] { display: none; }` but bootstrap.min.css set `[hidden] { display: none !important; }` so we also need the `!important` here to be able to override the default hidden behavior on the sphinx rendered scikit-learn.org. See: https://github.com/scikit-learn/scikit-learn/issues/21755 */display: inline-block !important;position: relative;}#sk-container-id-5 div.sk-text-repr-fallback {display: none;}</style><div id=\"sk-container-id-5\" class=\"sk-top-container\"><div class=\"sk-text-repr-fallback\"><pre>LinearRegression(positive=True)</pre><b>In a Jupyter environment, please rerun this cell to show the HTML representation or trust the notebook. <br />On GitHub, the HTML representation is unable to render, please try loading this page with nbviewer.org.</b></div><div class=\"sk-container\" hidden><div class=\"sk-item\"><div class=\"sk-estimator sk-toggleable\"><input class=\"sk-toggleable__control sk-hidden--visually\" id=\"sk-estimator-id-5\" type=\"checkbox\" checked><label for=\"sk-estimator-id-5\" class=\"sk-toggleable__label sk-toggleable__label-arrow\">LinearRegression</label><div class=\"sk-toggleable__content\"><pre>LinearRegression(positive=True)</pre></div></div></div></div></div>"
      ],
      "text/plain": [
       "LinearRegression(positive=True)"
      ]
     },
     "execution_count": 53,
     "metadata": {},
     "output_type": "execute_result"
    }
   ],
   "source": [
    "model2= LinearRegression(positive=True)\n",
    "model2.fit(x2_train, y2_train)\n"
   ]
  },
  {
   "cell_type": "code",
   "execution_count": 54,
   "metadata": {},
   "outputs": [],
   "source": [
    "train_pred2 = model2.predict(x2_train)\n",
    "test_pred2 = model2.predict(x2_test)"
   ]
  },
  {
   "cell_type": "code",
   "execution_count": 55,
   "metadata": {},
   "outputs": [
    {
     "data": {
      "image/png": "[encoded data removed]",
      "text/plain": [
       "<Figure size 504x288 with 1 Axes>"
      ]
     },
     "metadata": {
      "needs_background": "light"
     },
     "output_type": "display_data"
    }
   ],
   "source": [
    "evaluate.plot_residuals(y2_train, train_pred2)"
   ]
  },
  {
   "cell_type": "code",
   "execution_count": 56,
   "metadata": {},
   "outputs": [
    {
     "name": "stdout",
     "output_type": "stream",
     "text": [
      "Train\n",
      "171629.99659044223 108387.37560485641\n",
      "63242.62098558582\n",
      "Test\n",
      "229043.18615762182 151073.14081621607\n",
      "77970.04534140576\n"
     ]
    }
   ],
   "source": [
    "print('Train')\n",
    "print(evaluate.baseline_mean_errors(y2_train)['RMSE'] , evaluate.regression_errors(y2_train, train_pred2)['RMSE'])\n",
    "print(evaluate.baseline_mean_errors(y2_train)['RMSE'] - evaluate.regression_errors(y2_train, train_pred2)['RMSE'])\n",
    "print('Test')\n",
    "print( evaluate.baseline_mean_errors(y2_test)['RMSE'],  evaluate.regression_errors(y2_test, test_pred2)['RMSE']) \n",
    "print( evaluate.baseline_mean_errors(y2_test)['RMSE'] -  evaluate.regression_errors(y2_test, test_pred2)['RMSE']) "
   ]
  },
  {
   "cell_type": "markdown",
   "metadata": {},
   "source": [
    "### Bringing them together"
   ]
  },
  {
   "cell_type": "code",
   "execution_count": 57,
   "metadata": {},
   "outputs": [],
   "source": [
    "mean_pred_train = (train_pred + train_pred2)/2\n",
    "mean_pred_test = (test_pred + test_pred2)/2"
   ]
  },
  {
   "cell_type": "code",
   "execution_count": 58,
   "metadata": {},
   "outputs": [
    {
     "data": {
      "image/png": "[encoded data removed]",
      "text/plain": [
       "<Figure size 504x288 with 1 Axes>"
      ]
     },
     "metadata": {
      "needs_background": "light"
     },
     "output_type": "display_data"
    }
   ],
   "source": [
    "evaluate.plot_residuals(y1_train, mean_pred_train)"
   ]
  },
  {
   "cell_type": "code",
   "execution_count": 59,
   "metadata": {},
   "outputs": [
    {
     "name": "stdout",
     "output_type": "stream",
     "text": [
      "RMSE for average of two models\n",
      "Train\n",
      "171629.99659044223 115041.37269051388\n",
      "56588.62389992835\n",
      "Test\n",
      "229043.18615762182 169751.3438657634\n",
      "59291.842291858426\n"
     ]
    }
   ],
   "source": [
    "print('RMSE for average of two models')\n",
    "print('Train')\n",
    "print(evaluate.baseline_mean_errors(train.tax_structure)['RMSE'] , evaluate.regression_errors(train.tax_structure, mean_pred_train)['RMSE'])\n",
    "print(evaluate.baseline_mean_errors(train.tax_structure)['RMSE'] - evaluate.regression_errors(train.tax_structure, mean_pred_train)['RMSE'])\n",
    "print('Test')\n",
    "print(evaluate.baseline_mean_errors(test.tax_structure)['RMSE'] , evaluate.regression_errors(test.tax_structure, mean_pred_test)['RMSE'])\n",
    "print(evaluate.baseline_mean_errors(test.tax_structure)['RMSE'] - evaluate.regression_errors(test.tax_structure, mean_pred_test)['RMSE'])\n"
   ]
  },
  {
   "cell_type": "markdown",
   "metadata": {},
   "source": [
    "### Part 3:  Predicting overall tax value from predicted structure value"
   ]
  },
  {
   "cell_type": "code",
   "execution_count": 60,
   "metadata": {},
   "outputs": [],
   "source": [
    "def get_model3_x_y(df):\n",
    "    x = df[['tax_structure','tax_structure']]\n",
    "    y = df.tax\n",
    "    return x, y"
   ]
  },
  {
   "cell_type": "code",
   "execution_count": 61,
   "metadata": {},
   "outputs": [],
   "source": [
    "x3_train, y3_train = get_model3_x_y(train)\n",
    "x3_test, y3_test = get_model3_x_y(test)"
   ]
  },
  {
   "cell_type": "code",
   "execution_count": 62,
   "metadata": {},
   "outputs": [
    {
     "data": {
      "text/html": [
       "<style>#sk-container-id-6 {color: black;background-color: white;}#sk-container-id-6 pre{padding: 0;}#sk-container-id-6 div.sk-toggleable {background-color: white;}#sk-container-id-6 label.sk-toggleable__label {cursor: pointer;display: block;width: 100%;margin-bottom: 0;padding: 0.3em;box-sizing: border-box;text-align: center;}#sk-container-id-6 label.sk-toggleable__label-arrow:before {content: \"▸\";float: left;margin-right: 0.25em;color: #696969;}#sk-container-id-6 label.sk-toggleable__label-arrow:hover:before {color: black;}#sk-container-id-6 div.sk-estimator:hover label.sk-toggleable__label-arrow:before {color: black;}#sk-container-id-6 div.sk-toggleable__content {max-height: 0;max-width: 0;overflow: hidden;text-align: left;background-color: #f0f8ff;}#sk-container-id-6 div.sk-toggleable__content pre {margin: 0.2em;color: black;border-radius: 0.25em;background-color: #f0f8ff;}#sk-container-id-6 input.sk-toggleable__control:checked~div.sk-toggleable__content {max-height: 200px;max-width: 100%;overflow: auto;}#sk-container-id-6 input.sk-toggleable__control:checked~label.sk-toggleable__label-arrow:before {content: \"▾\";}#sk-container-id-6 div.sk-estimator input.sk-toggleable__control:checked~label.sk-toggleable__label {background-color: #d4ebff;}#sk-container-id-6 div.sk-label input.sk-toggleable__control:checked~label.sk-toggleable__label {background-color: #d4ebff;}#sk-container-id-6 input.sk-hidden--visually {border: 0;clip: rect(1px 1px 1px 1px);clip: rect(1px, 1px, 1px, 1px);height: 1px;margin: -1px;overflow: hidden;padding: 0;position: absolute;width: 1px;}#sk-container-id-6 div.sk-estimator {font-family: monospace;background-color: #f0f8ff;border: 1px dotted black;border-radius: 0.25em;box-sizing: border-box;margin-bottom: 0.5em;}#sk-container-id-6 div.sk-estimator:hover {background-color: #d4ebff;}#sk-container-id-6 div.sk-parallel-item::after {content: \"\";width: 100%;border-bottom: 1px solid gray;flex-grow: 1;}#sk-container-id-6 div.sk-label:hover label.sk-toggleable__label {background-color: #d4ebff;}#sk-container-id-6 div.sk-serial::before {content: \"\";position: absolute;border-left: 1px solid gray;box-sizing: border-box;top: 0;bottom: 0;left: 50%;z-index: 0;}#sk-container-id-6 div.sk-serial {display: flex;flex-direction: column;align-items: center;background-color: white;padding-right: 0.2em;padding-left: 0.2em;position: relative;}#sk-container-id-6 div.sk-item {position: relative;z-index: 1;}#sk-container-id-6 div.sk-parallel {display: flex;align-items: stretch;justify-content: center;background-color: white;position: relative;}#sk-container-id-6 div.sk-item::before, #sk-container-id-6 div.sk-parallel-item::before {content: \"\";position: absolute;border-left: 1px solid gray;box-sizing: border-box;top: 0;bottom: 0;left: 50%;z-index: -1;}#sk-container-id-6 div.sk-parallel-item {display: flex;flex-direction: column;z-index: 1;position: relative;background-color: white;}#sk-container-id-6 div.sk-parallel-item:first-child::after {align-self: flex-end;width: 50%;}#sk-container-id-6 div.sk-parallel-item:last-child::after {align-self: flex-start;width: 50%;}#sk-container-id-6 div.sk-parallel-item:only-child::after {width: 0;}#sk-container-id-6 div.sk-dashed-wrapped {border: 1px dashed gray;margin: 0 0.4em 0.5em 0.4em;box-sizing: border-box;padding-bottom: 0.4em;background-color: white;}#sk-container-id-6 div.sk-label label {font-family: monospace;font-weight: bold;display: inline-block;line-height: 1.2em;}#sk-container-id-6 div.sk-label-container {text-align: center;}#sk-container-id-6 div.sk-container {/* jupyter's `normalize.less` sets `[hidden] { display: none; }` but bootstrap.min.css set `[hidden] { display: none !important; }` so we also need the `!important` here to be able to override the default hidden behavior on the sphinx rendered scikit-learn.org. See: https://github.com/scikit-learn/scikit-learn/issues/21755 */display: inline-block !important;position: relative;}#sk-container-id-6 div.sk-text-repr-fallback {display: none;}</style><div id=\"sk-container-id-6\" class=\"sk-top-container\"><div class=\"sk-text-repr-fallback\"><pre>LinearRegression(positive=True)</pre><b>In a Jupyter environment, please rerun this cell to show the HTML representation or trust the notebook. <br />On GitHub, the HTML representation is unable to render, please try loading this page with nbviewer.org.</b></div><div class=\"sk-container\" hidden><div class=\"sk-item\"><div class=\"sk-estimator sk-toggleable\"><input class=\"sk-toggleable__control sk-hidden--visually\" id=\"sk-estimator-id-6\" type=\"checkbox\" checked><label for=\"sk-estimator-id-6\" class=\"sk-toggleable__label sk-toggleable__label-arrow\">LinearRegression</label><div class=\"sk-toggleable__content\"><pre>LinearRegression(positive=True)</pre></div></div></div></div></div>"
      ],
      "text/plain": [
       "LinearRegression(positive=True)"
      ]
     },
     "execution_count": 62,
     "metadata": {},
     "output_type": "execute_result"
    }
   ],
   "source": [
    "model3= LinearRegression(positive=True)\n",
    "model3.fit(x3_train, y3_train)"
   ]
  },
  {
   "cell_type": "code",
   "execution_count": 63,
   "metadata": {},
   "outputs": [],
   "source": [
    "train_pred3 = model3.predict(x3_train)\n",
    "test_pred3 = model3.predict(x3_test)"
   ]
  },
  {
   "cell_type": "code",
   "execution_count": 64,
   "metadata": {},
   "outputs": [
    {
     "data": {
      "image/png": "[encoded data removed]",
      "text/plain": [
       "<Figure size 504x288 with 1 Axes>"
      ]
     },
     "metadata": {
      "needs_background": "light"
     },
     "output_type": "display_data"
    }
   ],
   "source": [
    "evaluate.plot_residuals(y3_train, train_pred3)\n"
   ]
  },
  {
   "cell_type": "code",
   "execution_count": 65,
   "metadata": {},
   "outputs": [
    {
     "name": "stdout",
     "output_type": "stream",
     "text": [
      "Train\n",
      "436833.46071328287 256879.93607101435\n",
      "179953.52464226852\n",
      "Test\n",
      "617618.0397732955 360989.5890395086\n",
      "256628.4507337869\n"
     ]
    }
   ],
   "source": [
    "print('Train')\n",
    "print(evaluate.baseline_mean_errors(y3_train)['RMSE'] , evaluate.regression_errors(y3_train, train_pred3)['RMSE'])\n",
    "print(evaluate.baseline_mean_errors(y3_train)['RMSE'] - evaluate.regression_errors(y3_train, train_pred3)['RMSE'])\n",
    "print('Test')\n",
    "print( evaluate.baseline_mean_errors(y3_test)['RMSE'],  evaluate.regression_errors(y3_test, test_pred3)['RMSE']) \n",
    "print( evaluate.baseline_mean_errors(y3_test)['RMSE'] -  evaluate.regression_errors(y3_test, test_pred3)['RMSE']) "
   ]
  },
  {
   "cell_type": "code",
   "execution_count": 66,
   "metadata": {},
   "outputs": [
    {
     "data": {
      "text/html": [
       "<div>\n",
       "<style scoped>\n",
       "    .dataframe tbody tr th:only-of-type {\n",
       "        vertical-align: middle;\n",
       "    }\n",
       "\n",
       "    .dataframe tbody tr th {\n",
       "        vertical-align: top;\n",
       "    }\n",
       "\n",
       "    .dataframe thead th {\n",
       "        text-align: right;\n",
       "    }\n",
       "</style>\n",
       "<table border=\"1\" class=\"dataframe\">\n",
       "  <thead>\n",
       "    <tr style=\"text-align: right;\">\n",
       "      <th></th>\n",
       "      <th>0</th>\n",
       "      <th>0</th>\n",
       "    </tr>\n",
       "  </thead>\n",
       "  <tbody>\n",
       "    <tr>\n",
       "      <th>0</th>\n",
       "      <td>101514.623136</td>\n",
       "      <td>101514.623136</td>\n",
       "    </tr>\n",
       "    <tr>\n",
       "      <th>1</th>\n",
       "      <td>131720.943623</td>\n",
       "      <td>131720.943623</td>\n",
       "    </tr>\n",
       "    <tr>\n",
       "      <th>2</th>\n",
       "      <td>147459.267314</td>\n",
       "      <td>147459.267314</td>\n",
       "    </tr>\n",
       "    <tr>\n",
       "      <th>3</th>\n",
       "      <td>166062.775453</td>\n",
       "      <td>166062.775453</td>\n",
       "    </tr>\n",
       "    <tr>\n",
       "      <th>4</th>\n",
       "      <td>151880.840055</td>\n",
       "      <td>151880.840055</td>\n",
       "    </tr>\n",
       "    <tr>\n",
       "      <th>...</th>\n",
       "      <td>...</td>\n",
       "      <td>...</td>\n",
       "    </tr>\n",
       "    <tr>\n",
       "      <th>29971</th>\n",
       "      <td>72529.034032</td>\n",
       "      <td>72529.034032</td>\n",
       "    </tr>\n",
       "    <tr>\n",
       "      <th>29972</th>\n",
       "      <td>160294.775453</td>\n",
       "      <td>160294.775453</td>\n",
       "    </tr>\n",
       "    <tr>\n",
       "      <th>29973</th>\n",
       "      <td>102671.700812</td>\n",
       "      <td>102671.700812</td>\n",
       "    </tr>\n",
       "    <tr>\n",
       "      <th>29974</th>\n",
       "      <td>150989.597415</td>\n",
       "      <td>150989.597415</td>\n",
       "    </tr>\n",
       "    <tr>\n",
       "      <th>29975</th>\n",
       "      <td>132552.872442</td>\n",
       "      <td>132552.872442</td>\n",
       "    </tr>\n",
       "  </tbody>\n",
       "</table>\n",
       "<p>29976 rows × 2 columns</p>\n",
       "</div>"
      ],
      "text/plain": [
       "                   0              0\n",
       "0      101514.623136  101514.623136\n",
       "1      131720.943623  131720.943623\n",
       "2      147459.267314  147459.267314\n",
       "3      166062.775453  166062.775453\n",
       "4      151880.840055  151880.840055\n",
       "...              ...            ...\n",
       "29971   72529.034032   72529.034032\n",
       "29972  160294.775453  160294.775453\n",
       "29973  102671.700812  102671.700812\n",
       "29974  150989.597415  150989.597415\n",
       "29975  132552.872442  132552.872442\n",
       "\n",
       "[29976 rows x 2 columns]"
      ]
     },
     "execution_count": 66,
     "metadata": {},
     "output_type": "execute_result"
    }
   ],
   "source": [
    "pd.concat((pd.DataFrame(mean_pred_train),pd.DataFrame(mean_pred_train)),axis=1)"
   ]
  },
  {
   "cell_type": "code",
   "execution_count": 67,
   "metadata": {},
   "outputs": [
    {
     "name": "stdout",
     "output_type": "stream",
     "text": [
      "Train\n",
      "436833.46071328287 365286.1039618375\n",
      "71547.35675144539\n",
      "Test\n",
      "617618.0397732955 531449.342836396\n",
      "86168.69693689956\n"
     ]
    },
    {
     "name": "stderr",
     "output_type": "stream",
     "text": [
      "c:\\Users\\Crux\\AppData\\Local\\Programs\\Python\\Python310\\lib\\site-packages\\sklearn\\base.py:450: UserWarning: X does not have valid feature names, but LinearRegression was fitted with feature names\n",
      "  warnings.warn(\n",
      "c:\\Users\\Crux\\AppData\\Local\\Programs\\Python\\Python310\\lib\\site-packages\\sklearn\\base.py:450: UserWarning: X does not have valid feature names, but LinearRegression was fitted with feature names\n",
      "  warnings.warn(\n"
     ]
    }
   ],
   "source": [
    "train_pred3_p = model3.predict(pd.concat((pd.DataFrame(mean_pred_train),pd.DataFrame(mean_pred_train)),axis=1))\n",
    "test_pred3_p = model3.predict(pd.concat((pd.DataFrame(mean_pred_test),pd.DataFrame(mean_pred_test)),axis=1))\n",
    "print('Train')\n",
    "print(evaluate.baseline_mean_errors(y3_train)['RMSE'] , evaluate.regression_errors(y3_train, train_pred3_p)['RMSE'])\n",
    "print(evaluate.baseline_mean_errors(y3_train)['RMSE'] - evaluate.regression_errors(y3_train, train_pred3_p)['RMSE'])\n",
    "print('Test')\n",
    "print( evaluate.baseline_mean_errors(y3_test)['RMSE'],  evaluate.regression_errors(y3_test, test_pred3_p)['RMSE']) \n",
    "print( evaluate.baseline_mean_errors(y3_test)['RMSE'] -  evaluate.regression_errors(y3_test, test_pred3_p)['RMSE']) "
   ]
  },
  {
   "cell_type": "code",
   "execution_count": 68,
   "metadata": {},
   "outputs": [
    {
     "data": {
      "image/png": "[encoded data removed]",
      "text/plain": [
       "<Figure size 504x288 with 1 Axes>"
      ]
     },
     "metadata": {
      "needs_background": "light"
     },
     "output_type": "display_data"
    }
   ],
   "source": [
    "evaluate.plot_residuals(y3_train, train_pred3_p)"
   ]
  },
  {
   "cell_type": "markdown",
   "metadata": {},
   "source": [
    "## Model 2"
   ]
  },
  {
   "cell_type": "markdown",
   "metadata": {},
   "source": [
    "### Try sqft, age, bathroom_sum together"
   ]
  },
  {
   "cell_type": "code",
   "execution_count": 69,
   "metadata": {},
   "outputs": [
    {
     "data": {
      "text/html": [
       "<div>\n",
       "<style scoped>\n",
       "    .dataframe tbody tr th:only-of-type {\n",
       "        vertical-align: middle;\n",
       "    }\n",
       "\n",
       "    .dataframe tbody tr th {\n",
       "        vertical-align: top;\n",
       "    }\n",
       "\n",
       "    .dataframe thead th {\n",
       "        text-align: right;\n",
       "    }\n",
       "</style>\n",
       "<table border=\"1\" class=\"dataframe\">\n",
       "  <thead>\n",
       "    <tr style=\"text-align: right;\">\n",
       "      <th></th>\n",
       "      <th>age</th>\n",
       "      <th>structure_sqft</th>\n",
       "      <th>bathroom_sum</th>\n",
       "    </tr>\n",
       "  </thead>\n",
       "  <tbody>\n",
       "    <tr>\n",
       "      <th>0</th>\n",
       "      <td>0.470149</td>\n",
       "      <td>0.094718</td>\n",
       "      <td>0.111111</td>\n",
       "    </tr>\n",
       "    <tr>\n",
       "      <th>1</th>\n",
       "      <td>0.432836</td>\n",
       "      <td>0.131836</td>\n",
       "      <td>0.111111</td>\n",
       "    </tr>\n",
       "    <tr>\n",
       "      <th>2</th>\n",
       "      <td>0.462687</td>\n",
       "      <td>0.156997</td>\n",
       "      <td>0.222222</td>\n",
       "    </tr>\n",
       "    <tr>\n",
       "      <th>3</th>\n",
       "      <td>0.410448</td>\n",
       "      <td>0.175296</td>\n",
       "      <td>0.222222</td>\n",
       "    </tr>\n",
       "    <tr>\n",
       "      <th>4</th>\n",
       "      <td>0.313433</td>\n",
       "      <td>0.128925</td>\n",
       "      <td>0.111111</td>\n",
       "    </tr>\n",
       "    <tr>\n",
       "      <th>...</th>\n",
       "      <td>...</td>\n",
       "      <td>...</td>\n",
       "      <td>...</td>\n",
       "    </tr>\n",
       "    <tr>\n",
       "      <th>29971</th>\n",
       "      <td>0.686567</td>\n",
       "      <td>0.054065</td>\n",
       "      <td>0.000000</td>\n",
       "    </tr>\n",
       "    <tr>\n",
       "      <th>29972</th>\n",
       "      <td>0.664179</td>\n",
       "      <td>0.175296</td>\n",
       "      <td>0.111111</td>\n",
       "    </tr>\n",
       "    <tr>\n",
       "      <th>29973</th>\n",
       "      <td>0.477612</td>\n",
       "      <td>0.096902</td>\n",
       "      <td>0.111111</td>\n",
       "    </tr>\n",
       "    <tr>\n",
       "      <th>29974</th>\n",
       "      <td>0.432836</td>\n",
       "      <td>0.158245</td>\n",
       "      <td>0.111111</td>\n",
       "    </tr>\n",
       "    <tr>\n",
       "      <th>29975</th>\n",
       "      <td>0.477612</td>\n",
       "      <td>0.137867</td>\n",
       "      <td>0.111111</td>\n",
       "    </tr>\n",
       "  </tbody>\n",
       "</table>\n",
       "<p>29976 rows × 3 columns</p>\n",
       "</div>"
      ],
      "text/plain": [
       "            age  structure_sqft  bathroom_sum\n",
       "0      0.470149        0.094718      0.111111\n",
       "1      0.432836        0.131836      0.111111\n",
       "2      0.462687        0.156997      0.222222\n",
       "3      0.410448        0.175296      0.222222\n",
       "4      0.313433        0.128925      0.111111\n",
       "...         ...             ...           ...\n",
       "29971  0.686567        0.054065      0.000000\n",
       "29972  0.664179        0.175296      0.111111\n",
       "29973  0.477612        0.096902      0.111111\n",
       "29974  0.432836        0.158245      0.111111\n",
       "29975  0.477612        0.137867      0.111111\n",
       "\n",
       "[29976 rows x 3 columns]"
      ]
     },
     "execution_count": 69,
     "metadata": {},
     "output_type": "execute_result"
    }
   ],
   "source": [
    "scaler = MinMaxScaler()\n",
    "\n",
    "train_x = scaler.fit_transform(train[['age','structure_sqft','bathroom_sum']])\n",
    "train_x = pd.DataFrame(train_x, columns=['age','structure_sqft','bathroom_sum'])\n",
    "train_x"
   ]
  },
  {
   "cell_type": "code",
   "execution_count": 70,
   "metadata": {},
   "outputs": [
    {
     "data": {
      "text/html": [
       "<div>\n",
       "<style scoped>\n",
       "    .dataframe tbody tr th:only-of-type {\n",
       "        vertical-align: middle;\n",
       "    }\n",
       "\n",
       "    .dataframe tbody tr th {\n",
       "        vertical-align: top;\n",
       "    }\n",
       "\n",
       "    .dataframe thead th {\n",
       "        text-align: right;\n",
       "    }\n",
       "</style>\n",
       "<table border=\"1\" class=\"dataframe\">\n",
       "  <thead>\n",
       "    <tr style=\"text-align: right;\">\n",
       "      <th></th>\n",
       "      <th>0</th>\n",
       "      <th>1</th>\n",
       "      <th>2</th>\n",
       "      <th>3</th>\n",
       "    </tr>\n",
       "  </thead>\n",
       "  <tbody>\n",
       "    <tr>\n",
       "      <th>0</th>\n",
       "      <td>1.0</td>\n",
       "      <td>0.470149</td>\n",
       "      <td>0.221040</td>\n",
       "      <td>0.103922</td>\n",
       "    </tr>\n",
       "    <tr>\n",
       "      <th>1</th>\n",
       "      <td>1.0</td>\n",
       "      <td>0.432836</td>\n",
       "      <td>0.187347</td>\n",
       "      <td>0.081090</td>\n",
       "    </tr>\n",
       "    <tr>\n",
       "      <th>2</th>\n",
       "      <td>1.0</td>\n",
       "      <td>0.462687</td>\n",
       "      <td>0.214079</td>\n",
       "      <td>0.099051</td>\n",
       "    </tr>\n",
       "    <tr>\n",
       "      <th>3</th>\n",
       "      <td>1.0</td>\n",
       "      <td>0.410448</td>\n",
       "      <td>0.168467</td>\n",
       "      <td>0.069147</td>\n",
       "    </tr>\n",
       "    <tr>\n",
       "      <th>4</th>\n",
       "      <td>1.0</td>\n",
       "      <td>0.313433</td>\n",
       "      <td>0.098240</td>\n",
       "      <td>0.030792</td>\n",
       "    </tr>\n",
       "    <tr>\n",
       "      <th>...</th>\n",
       "      <td>...</td>\n",
       "      <td>...</td>\n",
       "      <td>...</td>\n",
       "      <td>...</td>\n",
       "    </tr>\n",
       "    <tr>\n",
       "      <th>29971</th>\n",
       "      <td>1.0</td>\n",
       "      <td>0.686567</td>\n",
       "      <td>0.471374</td>\n",
       "      <td>0.323630</td>\n",
       "    </tr>\n",
       "    <tr>\n",
       "      <th>29972</th>\n",
       "      <td>1.0</td>\n",
       "      <td>0.664179</td>\n",
       "      <td>0.441134</td>\n",
       "      <td>0.292992</td>\n",
       "    </tr>\n",
       "    <tr>\n",
       "      <th>29973</th>\n",
       "      <td>1.0</td>\n",
       "      <td>0.477612</td>\n",
       "      <td>0.228113</td>\n",
       "      <td>0.108950</td>\n",
       "    </tr>\n",
       "    <tr>\n",
       "      <th>29974</th>\n",
       "      <td>1.0</td>\n",
       "      <td>0.432836</td>\n",
       "      <td>0.187347</td>\n",
       "      <td>0.081090</td>\n",
       "    </tr>\n",
       "    <tr>\n",
       "      <th>29975</th>\n",
       "      <td>1.0</td>\n",
       "      <td>0.477612</td>\n",
       "      <td>0.228113</td>\n",
       "      <td>0.108950</td>\n",
       "    </tr>\n",
       "  </tbody>\n",
       "</table>\n",
       "<p>29976 rows × 4 columns</p>\n",
       "</div>"
      ],
      "text/plain": [
       "         0         1         2         3\n",
       "0      1.0  0.470149  0.221040  0.103922\n",
       "1      1.0  0.432836  0.187347  0.081090\n",
       "2      1.0  0.462687  0.214079  0.099051\n",
       "3      1.0  0.410448  0.168467  0.069147\n",
       "4      1.0  0.313433  0.098240  0.030792\n",
       "...    ...       ...       ...       ...\n",
       "29971  1.0  0.686567  0.471374  0.323630\n",
       "29972  1.0  0.664179  0.441134  0.292992\n",
       "29973  1.0  0.477612  0.228113  0.108950\n",
       "29974  1.0  0.432836  0.187347  0.081090\n",
       "29975  1.0  0.477612  0.228113  0.108950\n",
       "\n",
       "[29976 rows x 4 columns]"
      ]
     },
     "execution_count": 70,
     "metadata": {},
     "output_type": "execute_result"
    }
   ],
   "source": [
    "poly = PolynomialFeatures(3)\n",
    "age = np.array(train_x.age)\n",
    "age = age.reshape((age.shape[0], 1))\n",
    "age.shape, train.structure_sqft.shape\n",
    "\n",
    "age_poly = poly.fit_transform(age)\n",
    "age_poly = pd.DataFrame(age_poly)\n",
    "age_poly\n"
   ]
  },
  {
   "cell_type": "code",
   "execution_count": 71,
   "metadata": {},
   "outputs": [
    {
     "data": {
      "text/html": [
       "<div>\n",
       "<style scoped>\n",
       "    .dataframe tbody tr th:only-of-type {\n",
       "        vertical-align: middle;\n",
       "    }\n",
       "\n",
       "    .dataframe tbody tr th {\n",
       "        vertical-align: top;\n",
       "    }\n",
       "\n",
       "    .dataframe thead th {\n",
       "        text-align: right;\n",
       "    }\n",
       "</style>\n",
       "<table border=\"1\" class=\"dataframe\">\n",
       "  <thead>\n",
       "    <tr style=\"text-align: right;\">\n",
       "      <th></th>\n",
       "      <th>structure_sqft</th>\n",
       "      <th>bathroom_sum</th>\n",
       "      <th>0</th>\n",
       "      <th>1</th>\n",
       "      <th>2</th>\n",
       "      <th>3</th>\n",
       "    </tr>\n",
       "  </thead>\n",
       "  <tbody>\n",
       "    <tr>\n",
       "      <th>0</th>\n",
       "      <td>0.094718</td>\n",
       "      <td>0.111111</td>\n",
       "      <td>1.0</td>\n",
       "      <td>0.470149</td>\n",
       "      <td>0.221040</td>\n",
       "      <td>0.103922</td>\n",
       "    </tr>\n",
       "    <tr>\n",
       "      <th>1</th>\n",
       "      <td>0.131836</td>\n",
       "      <td>0.111111</td>\n",
       "      <td>1.0</td>\n",
       "      <td>0.432836</td>\n",
       "      <td>0.187347</td>\n",
       "      <td>0.081090</td>\n",
       "    </tr>\n",
       "    <tr>\n",
       "      <th>2</th>\n",
       "      <td>0.156997</td>\n",
       "      <td>0.222222</td>\n",
       "      <td>1.0</td>\n",
       "      <td>0.462687</td>\n",
       "      <td>0.214079</td>\n",
       "      <td>0.099051</td>\n",
       "    </tr>\n",
       "    <tr>\n",
       "      <th>3</th>\n",
       "      <td>0.175296</td>\n",
       "      <td>0.222222</td>\n",
       "      <td>1.0</td>\n",
       "      <td>0.410448</td>\n",
       "      <td>0.168467</td>\n",
       "      <td>0.069147</td>\n",
       "    </tr>\n",
       "    <tr>\n",
       "      <th>4</th>\n",
       "      <td>0.128925</td>\n",
       "      <td>0.111111</td>\n",
       "      <td>1.0</td>\n",
       "      <td>0.313433</td>\n",
       "      <td>0.098240</td>\n",
       "      <td>0.030792</td>\n",
       "    </tr>\n",
       "    <tr>\n",
       "      <th>...</th>\n",
       "      <td>...</td>\n",
       "      <td>...</td>\n",
       "      <td>...</td>\n",
       "      <td>...</td>\n",
       "      <td>...</td>\n",
       "      <td>...</td>\n",
       "    </tr>\n",
       "    <tr>\n",
       "      <th>29971</th>\n",
       "      <td>0.054065</td>\n",
       "      <td>0.000000</td>\n",
       "      <td>1.0</td>\n",
       "      <td>0.686567</td>\n",
       "      <td>0.471374</td>\n",
       "      <td>0.323630</td>\n",
       "    </tr>\n",
       "    <tr>\n",
       "      <th>29972</th>\n",
       "      <td>0.175296</td>\n",
       "      <td>0.111111</td>\n",
       "      <td>1.0</td>\n",
       "      <td>0.664179</td>\n",
       "      <td>0.441134</td>\n",
       "      <td>0.292992</td>\n",
       "    </tr>\n",
       "    <tr>\n",
       "      <th>29973</th>\n",
       "      <td>0.096902</td>\n",
       "      <td>0.111111</td>\n",
       "      <td>1.0</td>\n",
       "      <td>0.477612</td>\n",
       "      <td>0.228113</td>\n",
       "      <td>0.108950</td>\n",
       "    </tr>\n",
       "    <tr>\n",
       "      <th>29974</th>\n",
       "      <td>0.158245</td>\n",
       "      <td>0.111111</td>\n",
       "      <td>1.0</td>\n",
       "      <td>0.432836</td>\n",
       "      <td>0.187347</td>\n",
       "      <td>0.081090</td>\n",
       "    </tr>\n",
       "    <tr>\n",
       "      <th>29975</th>\n",
       "      <td>0.137867</td>\n",
       "      <td>0.111111</td>\n",
       "      <td>1.0</td>\n",
       "      <td>0.477612</td>\n",
       "      <td>0.228113</td>\n",
       "      <td>0.108950</td>\n",
       "    </tr>\n",
       "  </tbody>\n",
       "</table>\n",
       "<p>29976 rows × 6 columns</p>\n",
       "</div>"
      ],
      "text/plain": [
       "       structure_sqft  bathroom_sum    0         1         2         3\n",
       "0            0.094718      0.111111  1.0  0.470149  0.221040  0.103922\n",
       "1            0.131836      0.111111  1.0  0.432836  0.187347  0.081090\n",
       "2            0.156997      0.222222  1.0  0.462687  0.214079  0.099051\n",
       "3            0.175296      0.222222  1.0  0.410448  0.168467  0.069147\n",
       "4            0.128925      0.111111  1.0  0.313433  0.098240  0.030792\n",
       "...               ...           ...  ...       ...       ...       ...\n",
       "29971        0.054065      0.000000  1.0  0.686567  0.471374  0.323630\n",
       "29972        0.175296      0.111111  1.0  0.664179  0.441134  0.292992\n",
       "29973        0.096902      0.111111  1.0  0.477612  0.228113  0.108950\n",
       "29974        0.158245      0.111111  1.0  0.432836  0.187347  0.081090\n",
       "29975        0.137867      0.111111  1.0  0.477612  0.228113  0.108950\n",
       "\n",
       "[29976 rows x 6 columns]"
      ]
     },
     "execution_count": 71,
     "metadata": {},
     "output_type": "execute_result"
    }
   ],
   "source": [
    "train_x = train_x.drop(columns='age')\n",
    "train_x = pd.concat((train_x,age_poly), axis=1)\n",
    "train_x"
   ]
  },
  {
   "cell_type": "code",
   "execution_count": 72,
   "metadata": {},
   "outputs": [
    {
     "name": "stderr",
     "output_type": "stream",
     "text": [
      "c:\\Users\\Crux\\AppData\\Local\\Programs\\Python\\Python310\\lib\\site-packages\\sklearn\\utils\\validation.py:1858: FutureWarning: Feature names only support names that are all strings. Got feature names with dtypes: ['int', 'str']. An error will be raised in 1.2.\n",
      "  warnings.warn(\n",
      "c:\\Users\\Crux\\AppData\\Local\\Programs\\Python\\Python310\\lib\\site-packages\\sklearn\\utils\\validation.py:1858: FutureWarning: Feature names only support names that are all strings. Got feature names with dtypes: ['int', 'str']. An error will be raised in 1.2.\n",
      "  warnings.warn(\n"
     ]
    }
   ],
   "source": [
    "model4 = LinearRegression(positive=True)\n",
    "train_y = train.tax\n",
    "\n",
    "model4.fit(train_x, train_y)\n",
    "train_pred4 = model4.predict(train_x)"
   ]
  },
  {
   "cell_type": "code",
   "execution_count": 73,
   "metadata": {},
   "outputs": [
    {
     "data": {
      "image/png": "[encoded data removed]",
      "text/plain": [
       "<Figure size 504x288 with 1 Axes>"
      ]
     },
     "metadata": {
      "needs_background": "light"
     },
     "output_type": "display_data"
    }
   ],
   "source": [
    "evaluate.plot_residuals(train_y, train_pred4)"
   ]
  },
  {
   "cell_type": "code",
   "execution_count": 74,
   "metadata": {},
   "outputs": [
    {
     "name": "stdout",
     "output_type": "stream",
     "text": [
      "436833.46071328287 344404.1221363806\n",
      "92429.33857690229\n"
     ]
    }
   ],
   "source": [
    "print(evaluate.baseline_mean_errors(train_y)['RMSE'] , evaluate.regression_errors(train_y, train_pred4)['RMSE'])\n",
    "print(evaluate.baseline_mean_errors(train_y)['RMSE'] - evaluate.regression_errors(train_y, train_pred4)['RMSE'])"
   ]
  },
  {
   "cell_type": "code",
   "execution_count": null,
   "metadata": {},
   "outputs": [],
   "source": [
    "def reshape_series(series):\n",
    "    \"\"\"For getting a 2D array from a pandas series. Useful for univariate models.\"\"\"\n",
    "    x = np.array(series)\n",
    "    x = x.reshape((x.shape[0], 1))\n",
    "    return x"
   ]
  },
  {
   "cell_type": "markdown",
   "metadata": {},
   "source": [
    "## Model 3: Simpler Ensemble"
   ]
  },
  {
   "cell_type": "code",
   "execution_count": null,
   "metadata": {},
   "outputs": [],
   "source": [
    "from sklearn.metrics import mean_squared_error"
   ]
  },
  {
   "cell_type": "code",
   "execution_count": null,
   "metadata": {},
   "outputs": [],
   "source": [
    "def reshape_series(series):\n",
    "    \"\"\"For getting a 2D array from a pandas series. Useful for univariate models.\"\"\"\n",
    "    x = np.array(series)\n",
    "    x = x.reshape((x.shape[0], 1))\n",
    "    return x\n",
    "\n",
    "def reshape_array(x):\n",
    "    \"\"\"For getting a 2D array from a 1D array. Useful for univariate models.\"\"\"\n",
    "    x = x.reshape((x.shape[0], 1))\n",
    "    return x\n",
    "\n",
    "def train_baseline_match_len(predictions):\n",
    "    ybar = train.tax.mean()\n",
    "    baseline = np.full_like(predictions, ybar)\n",
    "    return baseline\n",
    "\n",
    "train, test, validate = wrangle.wrangle_zillow()\n",
    "\n",
    "x1 = reshape_series(train.structure_sqft)\n",
    "x2 = reshape_series(train.tax_structure)\n",
    "y1 = train.tax_structure\n",
    "y2 = train.tax\n",
    "\n",
    "model1 = LinearRegression(positive=False)\n",
    "model1.fit(x1, y1)\n",
    "\n",
    "model2 = LinearRegression(positive=False)\n",
    "model2.fit(x2,y2)\n",
    "\n",
    "def ensemble_predict(d2array, m1=model1, m2=model2):\n",
    "    p1 = m1.predict(d2array)\n",
    "    p1 = reshape_array(p1)\n",
    "    p2 = m2.predict(p1)\n",
    "    return p2"
   ]
  },
  {
   "cell_type": "code",
   "execution_count": null,
   "metadata": {},
   "outputs": [],
   "source": [
    "x_train = reshape_series(train.structure_sqft)\n",
    "y_train = train.tax\n",
    "x_test = reshape_series(test.structure_sqft)\n",
    "y_test = test.tax\n",
    "x_validate = reshape_series(validate.structure_sqft)\n",
    "y_validate = validate.tax"
   ]
  },
  {
   "cell_type": "code",
   "execution_count": null,
   "metadata": {},
   "outputs": [],
   "source": [
    "train_pred = ensemble_predict(x_train)\n",
    "test_pred = ensemble_predict(x_test)\n",
    "validate_pred = ensemble_predict(x_validate)"
   ]
  },
  {
   "cell_type": "code",
   "execution_count": null,
   "metadata": {},
   "outputs": [],
   "source": [
    "train_pred_RMSE = mean_squared_error(y_train, train_pred, squared=False)\n",
    "test_pred_RMSE = mean_squared_error(y_test, test_pred, squared=False)\n",
    "validate_pred_RMSE = mean_squared_error(y_validate, validate_pred, squared=False)"
   ]
  },
  {
   "cell_type": "code",
   "execution_count": null,
   "metadata": {},
   "outputs": [],
   "source": [
    "train_base = train_baseline_match_len(y_train)\n",
    "test_base = train_baseline_match_len(y_test)\n",
    "validate_base = train_baseline_match_len(y_validate)\n",
    "\n",
    "train_base_RMSE = mean_squared_error(y_train, train_base, squared=False)\n",
    "test_base_RMSE = mean_squared_error(y_test, test_base, squared=False)\n",
    "validate_base_RMSE = mean_squared_error(y_validate, validate_base, squared=False)"
   ]
  },
  {
   "cell_type": "code",
   "execution_count": null,
   "metadata": {},
   "outputs": [
    {
     "data": {
      "text/html": [
       "<div>\n",
       "<style scoped>\n",
       "    .dataframe tbody tr th:only-of-type {\n",
       "        vertical-align: middle;\n",
       "    }\n",
       "\n",
       "    .dataframe tbody tr th {\n",
       "        vertical-align: top;\n",
       "    }\n",
       "\n",
       "    .dataframe thead th {\n",
       "        text-align: right;\n",
       "    }\n",
       "</style>\n",
       "<table border=\"1\" class=\"dataframe\">\n",
       "  <thead>\n",
       "    <tr style=\"text-align: right;\">\n",
       "      <th></th>\n",
       "      <th>baseline_RMSE</th>\n",
       "      <th>predicted_RMSE</th>\n",
       "      <th>percent_improvement</th>\n",
       "    </tr>\n",
       "  </thead>\n",
       "  <tbody>\n",
       "    <tr>\n",
       "      <th>Train</th>\n",
       "      <td>411724.406790</td>\n",
       "      <td>342038.749846</td>\n",
       "      <td>0.169253</td>\n",
       "    </tr>\n",
       "    <tr>\n",
       "      <th>Test</th>\n",
       "      <td>619819.000917</td>\n",
       "      <td>492008.595217</td>\n",
       "      <td>0.206206</td>\n",
       "    </tr>\n",
       "    <tr>\n",
       "      <th>Validate</th>\n",
       "      <td>732305.113763</td>\n",
       "      <td>596437.402671</td>\n",
       "      <td>0.185534</td>\n",
       "    </tr>\n",
       "  </tbody>\n",
       "</table>\n",
       "</div>"
      ],
      "text/plain": [
       "          baseline_RMSE  predicted_RMSE  percent_improvement\n",
       "Train     411724.406790   342038.749846             0.169253\n",
       "Test      619819.000917   492008.595217             0.206206\n",
       "Validate  732305.113763   596437.402671             0.185534"
      ]
     },
     "metadata": {},
     "output_type": "display_data"
    }
   ],
   "source": [
    "df = pd.DataFrame(columns=[\"baseline_RMSE\", \"predicted_RMSE\"], index=['Train','Test','Validate'] ,\n",
    "                    data=[[train_base_RMSE,train_pred_RMSE],\n",
    "                            [test_base_RMSE,test_pred_RMSE],\n",
    "                            [validate_base_RMSE,validate_pred_RMSE]])\n",
    "df['percent_improvement'] = 1- df.predicted_RMSE / df.baseline_RMSE\n",
    "df"
   ]
  }
 ],
 "metadata": {
  "kernelspec": {
   "display_name": "Python 3.10.4 64-bit",
   "language": "python",
   "name": "python3"
  },
  "language_info": {
   "codemirror_mode": {
    "name": "ipython",
    "version": 3
   },
   "file_extension": ".py",
   "mimetype": "text/x-python",
   "name": "python",
   "nbconvert_exporter": "python",
   "pygments_lexer": "ipython3",
   "version": "3.10.4"
  },
  "orig_nbformat": 4,
  "vscode": {
   "interpreter": {
    "hash": "37b4e1d782780d9803a775659fc8b81e9cc61a0899d4564192c1f7cc3c556e45"
   }
  }
 },
 "nbformat": 4,
 "nbformat_minor": 2
}
