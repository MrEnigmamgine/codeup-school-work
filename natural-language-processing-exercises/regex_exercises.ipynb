{
 "cells": [
  {
   "cell_type": "code",
   "execution_count": 1,
   "metadata": {},
   "outputs": [],
   "source": [
    "import re"
   ]
  },
  {
   "cell_type": "markdown",
   "metadata": {},
   "source": [
    "1. Write a function named `is_vowel`. It should accept a string as input and use a regular expression to determine if the passed string is a vowel.  \n",
    "While not explicity mentioned in the lesson, you can treat the result of `re.search` as a boolean value that indicates whether or not the regular expression matches the given string."
   ]
  },
  {
   "cell_type": "code",
   "execution_count": 251,
   "metadata": {},
   "outputs": [
    {
     "data": {
      "text/plain": [
       "<re.Match object; span=(0, 1), match='a'>"
      ]
     },
     "execution_count": 251,
     "metadata": {},
     "output_type": "execute_result"
    }
   ],
   "source": [
    "re.match(r'\\b[aeiou]{1}\\b','a')"
   ]
  },
  {
   "cell_type": "code",
   "execution_count": 248,
   "metadata": {},
   "outputs": [],
   "source": [
    "re.match(r'\\b[aeiou]{1}\\b','b')"
   ]
  },
  {
   "cell_type": "code",
   "execution_count": 34,
   "metadata": {},
   "outputs": [],
   "source": [
    "def is_vowel(l):\n",
    "    \"\"\"\n",
    "    Uses regex to test if a string is a single vowel.\n",
    "\n",
    "    r'' - indicates regex string\n",
    "    (?i) - flag - indicates pattern should ignore case\n",
    "    \\\\b - indicates a break. Used to enforce single character\n",
    "    [aeiou] - any of these characters\n",
    "    \\\\b - indicates a break. Used to enforce single character\n",
    "    \"\"\"\n",
    "    return bool(re.match(r'(?i)\\b[aeiou]{1}\\b',l))"
   ]
  },
  {
   "cell_type": "code",
   "execution_count": 33,
   "metadata": {},
   "outputs": [
    {
     "data": {
      "text/plain": [
       "True"
      ]
     },
     "execution_count": 33,
     "metadata": {},
     "output_type": "execute_result"
    }
   ],
   "source": [
    "is_vowel('A')"
   ]
  },
  {
   "cell_type": "markdown",
   "metadata": {},
   "source": [
    "2. Write a function named `is_valid_username` that accepts a string as input. A valid username starts with a lowercase letter, and only consists of lowercase letters, numbers, or the `_` character. It should also be no longer than 32 characters. The function should return either `True` or `False` depending on whether the passed string is a valid username.\n",
    "    \n",
    "```\n",
    "    >>> is_valid_username('aaaaaaaaaaaaaaaaaaaaaaaaaaaaaaaaa')\n",
    "    False\n",
    "    >>> is_valid_username('codeup')\n",
    "    True\n",
    "    >>> is_valid_username('Codeup')\n",
    "    False\n",
    "    >>> is_valid_username('codeup123')\n",
    "    True\n",
    "    >>> is_valid_username('1codeup')\n",
    "    False \n",
    "```\n"
   ]
  },
  {
   "cell_type": "code",
   "execution_count": 256,
   "metadata": {},
   "outputs": [],
   "source": [
    "uns = ['aaaaaaaaaaaaaaaaaaaaaaaaaaaaaaaaa','codeup','Codeup','codeup123','1codeup','code_up','a________________________________________________']"
   ]
  },
  {
   "cell_type": "code",
   "execution_count": 262,
   "metadata": {},
   "outputs": [
    {
     "name": "stdout",
     "output_type": "stream",
     "text": [
      "False 33\n",
      "True 6\n",
      "False 6\n",
      "True 9\n",
      "False 7\n",
      "True 7\n",
      "True 13\n"
     ]
    }
   ],
   "source": [
    "def is_valid_username(w):\n",
    "    return bool(re.fullmatch(r'[a-z]{1}[a-z0-9_]{2,31}', w))\n",
    "\n",
    "\n",
    "for un in uns:\n",
    "    print(is_valid_username(un), len(un))"
   ]
  },
  {
   "cell_type": "markdown",
   "metadata": {},
   "source": [
    "3. Write a regular expression to capture phone numbers. It should match all of the following:\n",
    "    \n",
    "    ```\n",
    "    (210) 867 5309\n",
    "    +1 210.867.5309\n",
    "    867-5309\n",
    "    210-867-5309\n",
    "    ``` \n",
    "    \n"
   ]
  },
  {
   "cell_type": "code",
   "execution_count": 79,
   "metadata": {},
   "outputs": [],
   "source": [
    "test = [\n",
    "    '2108675309',\n",
    "    '210 867 5309',\n",
    "    '(210) 867 5309',\n",
    "    '+1 210.867.5309',\n",
    "    '867-5309',\n",
    "    '210-867-5309',\n",
    "    '210 - 867 - 5309',\n",
    "]"
   ]
  },
  {
   "cell_type": "code",
   "execution_count": null,
   "metadata": {},
   "outputs": [],
   "source": [
    "re.match(r\"(\\d{3}\\D{0,3}\\d{3}\\D{0,3}\\d{4})\")\n",
    "reg = re.compile(r\"(\\(?\\d{3}\\D{0,3}\\d{3}\\D{0,3}\\d{4}).*?\")"
   ]
  },
  {
   "cell_type": "code",
   "execution_count": 89,
   "metadata": {},
   "outputs": [
    {
     "name": "stdout",
     "output_type": "stream",
     "text": [
      "True 2108675309\n",
      "True 210 867 5309\n",
      "True (210) 867 5309\n",
      "True +1 210.867.5309\n",
      "True 867-5309\n",
      "True 210-867-5309\n",
      "True 210 - 867 - 5309\n"
     ]
    }
   ],
   "source": [
    "def is_phone_number(string):\n",
    "    # Can start with a country code which is annotated by the '+' symbol\n",
    "    country_code = \"\\+\\d{1,3}\\D{0,1}\"\n",
    "    # An area code consists of 3 numbers that may or may not be wrapped in parentheses\n",
    "    area_code = \"(\\(?\\d{3}\\(?)\"\n",
    "    # The parts of the number can be delimited by nothing, or up to 3 space or special characters\n",
    "    delim = \"[\\D\\W]{0,3}\"\n",
    "    # The trunk is 3 digits\n",
    "    trunk = \"\\d{3}\"\n",
    "    # The extension is 4 digits\n",
    "    ext = \"\\d{4}\"\n",
    "\n",
    "    # country_code is optional, area_code is optional\n",
    "    pattern = f\"({country_code})?({area_code}{delim})?{trunk}{delim}{ext}\"\n",
    "    regex = re.compile(pattern)\n",
    "    return bool(regex.match(string))\n",
    "\n",
    "for n in test:\n",
    "    print(is_phone_number(n), n)"
   ]
  },
  {
   "cell_type": "markdown",
   "metadata": {},
   "source": [
    "4. Use regular expressions to convert the dates below to the standardized year-month-day format.\n",
    "    \n",
    "    ```\n",
    "    02/04/19\n",
    "    02/05/19\n",
    "    02/06/19\n",
    "    02/07/19\n",
    "    02/08/19\n",
    "    02/09/19\n",
    "    02/10/19\n",
    "    ``` \n",
    "    \n"
   ]
  },
  {
   "cell_type": "code",
   "execution_count": 264,
   "metadata": {},
   "outputs": [
    {
     "data": {
      "text/plain": [
       "'19-04-02'"
      ]
     },
     "execution_count": 264,
     "metadata": {},
     "output_type": "execute_result"
    }
   ],
   "source": [
    "s = '02/04/19'\n",
    "d, m, y = re.split('/', s)\n",
    "f'{y}-{m}-{d}'"
   ]
  },
  {
   "cell_type": "code",
   "execution_count": 154,
   "metadata": {},
   "outputs": [
    {
     "name": "stdout",
     "output_type": "stream",
     "text": [
      "02\n",
      "04\n",
      "19\n"
     ]
    }
   ],
   "source": [
    "day = r\"^\\d{2}\"\n",
    "month = r\"\\D(?P<month>\\d{2})\\D\"\n",
    "year = r\"\\d{2}$\"\n",
    "\n",
    "\n",
    "\n",
    "print(re.search(day, '02/04/19').group(0))\n",
    "print(re.search(month, '02/04/19').group('month'))\n",
    "print(re.search(year, '02/04/19').group())"
   ]
  },
  {
   "cell_type": "markdown",
   "metadata": {},
   "source": [
    "5. Write a regex to extract the various parts of these logfile lines:\n",
    "    \n",
    "    ```\n",
    "    GET /api/v1/sales?page=86 [16/Apr/2019:193452+0000] HTTP/1.1 {200} 510348 \"python-requests/2.21.0\" 97.105.19.58\n",
    "    POST /users_accounts/file-upload [16/Apr/2019:193452+0000] HTTP/1.1 {201} 42 \"User-Agent: Mozilla/5.0 (X11; Fedora; Fedora; Linux x86_64) AppleWebKit/537.36 (KHTML, like Gecko) Chrome/73.0.3683.86 Safari/537.36\" 97.105.19.58\n",
    "    GET /api/v1/items?page=3 [16/Apr/2019:193453+0000] HTTP/1.1 {429} 3561 \"python-requests/2.21.0\" 97.105.19.58\n",
    "    ``` \n",
    "    \n"
   ]
  },
  {
   "cell_type": "code",
   "execution_count": 281,
   "metadata": {},
   "outputs": [
    {
     "name": "stdout",
     "output_type": "stream",
     "text": [
      "\n",
      "\n",
      "{'method': 'GET', 'api_version': 'api/v1', 'resource': 'sales?page=86', 'parameters': None, 'timestamp': '16/Apr/2019:193452+0000', 'protocol': 'HTTP/1.1', 'response': '200', 'size': '510348', 'client': 'python-requests/2.21.0', 'ip': '97.105.19.58'}\n",
      "\n",
      "\n",
      "{'method': 'POST', 'api_version': None, 'resource': 'users_accounts/file-upload', 'parameters': None, 'timestamp': '16/Apr/2019:193452+0000', 'protocol': 'HTTP/1.1', 'response': '201', 'size': '42', 'client': 'User-Agent: Mozilla/5.0 (X11; Fedora; Fedora; Linux x86_64) AppleWebKit/537.36 (KHTML, like Gecko) Chrome/73.0.3683.86 Safari/537.36', 'ip': '97.105.19.58'}\n",
      "\n",
      "\n",
      "{'method': 'GET', 'api_version': 'api/v1', 'resource': 'items?page=3', 'parameters': None, 'timestamp': '16/Apr/2019:193453+0000', 'protocol': 'HTTP/1.1', 'response': '429', 'size': '3561', 'client': 'python-requests/2.21.0', 'ip': '97.105.19.58'}\n"
     ]
    }
   ],
   "source": [
    "logs = [\n",
    "    'GET /api/v1/sales?page=86 [16/Apr/2019:193452+0000] HTTP/1.1 {200} 510348 \"python-requests/2.21.0\" 97.105.19.58',\n",
    "    'POST /users_accounts/file-upload [16/Apr/2019:193452+0000] HTTP/1.1 {201} 42 \"User-Agent: Mozilla/5.0 (X11; Fedora; Fedora; Linux x86_64) AppleWebKit/537.36 (KHTML, like Gecko) Chrome/73.0.3683.86 Safari/537.36\" 97.105.19.58',\n",
    "    'GET /api/v1/items?page=3 [16/Apr/2019:193453+0000] HTTP/1.1 {429} 3561 \"python-requests/2.21.0\" 97.105.19.58',\n",
    "]\n",
    "def parseLog(string):\n",
    "    pattern = ''.join(( # Start with empty string and concatenate the strings below\n",
    "    \n",
    "        # HTTP request method deliminated by a space\n",
    "        r\"((?P<method>\\w+)\\s)\",\n",
    "       \n",
    "        # A slash always denotes the call\n",
    "        r\"(/)\",\n",
    "       \n",
    "        # API version. Optional.\n",
    "        r\"((?P<api_version>api/.+)/)?\",\n",
    "       \n",
    "        # Resource follows and consists of non-whitespace characters\n",
    "        r\"(?P<resource>\\S+)\",\n",
    "       \n",
    "        # Parameters are optional\n",
    "        r\"(\\?(?P<parameters>\\S+))?\", #broken\n",
    "\n",
    "        # There is always a space before the timestamp\n",
    "        r\"(\\s)\"\n",
    "       \n",
    "        # Timestamp wrapped in brackets\n",
    "        r\"(\\[(?P<timestamp>\\S+)\\])\",\n",
    "       \n",
    "        # Protocol deliminated by spaces\n",
    "        r\"(\\s(?P<protocol>\\w+/\\S+)\\s)\",\n",
    "       \n",
    "        # Response code wrapped in curly brackets\n",
    "        r\"(\\{(?P<response>\\d{1,3})\\})\",\n",
    "       \n",
    "        # Package size deliminated by spaces and is a single integer\n",
    "        r\"(\\s(?P<size>\\d+)\\s)\",\n",
    "       \n",
    "        # Client wrapped in double quotes\n",
    "        r\"(\\\"(?P<client>.+)\\\")\",\n",
    "       \n",
    "        # There is always a space before the ip\n",
    "        r\"(\\s)\",\n",
    "\n",
    "        # IP address consists of 4 octets\n",
    "        r\"(?P<ip>\\d{1,3}\\.\\d{1,3}\\.\\d{1,3}\\.\\d{1,3})\"\n",
    "    ))\n",
    "\n",
    "    regex = re.compile(pattern)\n",
    "    match = regex.search(string)\n",
    "    return match.groupdict()\n",
    "\n",
    "for log in logs:\n",
    "    print('\\n')\n",
    "    print(parseLog(log))"
   ]
  },
  {
   "cell_type": "code",
   "execution_count": 280,
   "metadata": {},
   "outputs": [
    {
     "data": {
      "text/plain": [
       "re.compile(r'((?P<method>\\w+)\\s)(/)((?P<api_version>api/.+)/)?(?P<resource>\\S+)(\\?(?P<parameters>\\S+))?(\\s)(\\[(?P<timestamp>\\S+)\\])(\\s(?P<protocol>\\w+/\\S+)\\s)(\\{(?P<response>\\d{1,3})\\})(\\s(?P<size>\\d+)\\s)(\\\"(?P<client>.+)\\\")(\\s)(?P<ip>\\d{1,3}\\.\\d{1,3}\\.\\d{1,3}\\.\\d{1,3})',\n",
       "           re.UNICODE)"
      ]
     },
     "execution_count": 280,
     "metadata": {},
     "output_type": "execute_result"
    }
   ],
   "source": [
    "pattern = ''.join(( # Start with empty string and concatenate the strings below\n",
    "\n",
    "    # HTTP request method deliminated by a space\n",
    "    r\"((?P<method>\\w+)\\s)\",\n",
    "    \n",
    "    # A slash always denotes the call\n",
    "    r\"(/)\",\n",
    "    \n",
    "    # API version. Optional.\n",
    "    r\"((?P<api_version>api/.+)/)?\",\n",
    "    \n",
    "    # Resource follows and consists of non-whitespace characters\n",
    "    r\"(?P<resource>\\S+)\",\n",
    "    \n",
    "    # Parameters are optional\n",
    "    r\"(\\?(?P<parameters>\\S+))?\", #broken\n",
    "\n",
    "    # There is always a space before the timestamp\n",
    "    r\"(\\s)\",\n",
    "    \n",
    "    # Timestamp wrapped in brackets\n",
    "    r\"(\\[(?P<timestamp>\\S+)\\])\",\n",
    "    \n",
    "    # Protocol deliminated by spaces\n",
    "    r\"(\\s(?P<protocol>\\w+/\\S+)\\s)\",\n",
    "    \n",
    "    # Response code wrapped in curly brackets\n",
    "    r\"(\\{(?P<response>\\d{1,3})\\})\",\n",
    "    \n",
    "    # Package size deliminated by spaces and is a single integer\n",
    "    r\"(\\s(?P<size>\\d+)\\s)\",\n",
    "    \n",
    "    # Client wrapped in double quotes\n",
    "    r\"(\\\"(?P<client>.+)\\\")\",\n",
    "    \n",
    "    # There is always a space before the ip\n",
    "    r\"(\\s)\",\n",
    "\n",
    "    # IP address consists of 4 octets\n",
    "    r\"(?P<ip>\\d{1,3}\\.\\d{1,3}\\.\\d{1,3}\\.\\d{1,3})\"\n",
    "))\n",
    "\n",
    "re.compile(pattern)"
   ]
  },
  {
   "cell_type": "markdown",
   "metadata": {},
   "source": [
    "\n",
    "**Bonus Exercise**\n",
    "\n",
    "You can find a list of words on your mac at `/usr/share/dict/words`. Use this file to answer the following questions:\n",
    "\n",
    "`- How many words have at least 3 vowels?\n",
    "- How many words have at least 3 vowels in a row?\n",
    "- How many words have at least 4 consonants in a row?\n",
    "- How many words start and end with the same letter?\n",
    "- How many words start and end with a vowel?\n",
    "- How many words contain the same letter 3 times in a row?\n",
    "- What other interesting patterns in words can you find?`"
   ]
  }
 ],
 "metadata": {
  "kernelspec": {
   "display_name": "Python 3.10.4 64-bit",
   "language": "python",
   "name": "python3"
  },
  "language_info": {
   "codemirror_mode": {
    "name": "ipython",
    "version": 3
   },
   "file_extension": ".py",
   "mimetype": "text/x-python",
   "name": "python",
   "nbconvert_exporter": "python",
   "pygments_lexer": "ipython3",
   "version": "3.10.4"
  },
  "orig_nbformat": 4,
  "vscode": {
   "interpreter": {
    "hash": "37b4e1d782780d9803a775659fc8b81e9cc61a0899d4564192c1f7cc3c556e45"
   }
  }
 },
 "nbformat": 4,
 "nbformat_minor": 2
}
