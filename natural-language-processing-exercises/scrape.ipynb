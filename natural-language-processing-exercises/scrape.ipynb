{
 "cells": [
  {
   "cell_type": "code",
   "execution_count": 3,
   "metadata": {},
   "outputs": [],
   "source": [
    "import pandas as pd\n",
    "import requests\n",
    "from bs4 import BeautifulSoup\n",
    "import re"
   ]
  },
  {
   "cell_type": "markdown",
   "metadata": {},
   "source": [
    "## Exercises\n",
    "\n",
    "By the end of this exercise, you should have a file named `acquire.py` that contains the specified functions. If you wish, you may break your work into separate files for each website (e.g. `acquire_codeup_blog.py` and `acquire_news_articles.py`), but the end function should be present in `acquire.py` (that is, `acquire.py` should import `get_blog_articles` from the `acquire_codeup_blog` module.)\n",
    "\n"
   ]
  },
  {
   "cell_type": "markdown",
   "metadata": {},
   "source": [
    "## Codeup Blog Articles (1)\n",
    "    \n",
    "Visit [Codeup's Blog](https://codeup.com/blog/) and record the urls for at least 5 distinct blog posts. For each post, you should scrape at least the post's title and content.\n",
    "\n",
    "Encapsulate your work in a function named `get_blog_articles` that will return a list of dictionaries, with each dictionary representing one article. The shape of each dictionary should look like this:\n",
    "\n",
    "```\n",
    "{\n",
    "    'title': 'the title of the article',\n",
    "    'content': 'the full text content of the article'\n",
    "}\n",
    "``` \n",
    "\n",
    "Plus any additional properties you think might be helpful.\n",
    "\n",
    "**Bonus:** Scrape the text of **_all_** the articles linked on [codeup's blog page](https://codeup.com/blog/).\n",
    "    \n"
   ]
  },
  {
   "cell_type": "code",
   "execution_count": 1,
   "metadata": {},
   "outputs": [],
   "source": [
    "blog_home=   'https://codeup.com/blog/'\n",
    "list_of_urls = [\n",
    "    'https://codeup.com/data-science/math-in-data-science/',\n",
    "    'https://codeup.com/data-science/recession-proof-career/',\n",
    "    'https://codeup.com/codeup-news/codeup-x-comic-con/',\n",
    "    'https://codeup.com/workshops/project-quest-info-session-may-24th/',\n",
    "    'https://codeup.com/workshops/virtual/learn-to-code-html-css-on-4-30/'\n",
    "    ]\n",
    "\n",
    "headers = {'User-Agent': 'Codeup Data Science'}"
   ]
  },
  {
   "cell_type": "code",
   "execution_count": 4,
   "metadata": {},
   "outputs": [],
   "source": [
    "response = requests.get(list_of_urls[0], headers=headers)"
   ]
  },
  {
   "cell_type": "code",
   "execution_count": 5,
   "metadata": {},
   "outputs": [],
   "source": [
    "soup = BeautifulSoup( response.content, ) "
   ]
  },
  {
   "cell_type": "code",
   "execution_count": 14,
   "metadata": {},
   "outputs": [
    {
     "data": {
      "text/plain": [
       "'What are the Math and Stats Principles You Need for Data Science?'"
      ]
     },
     "execution_count": 14,
     "metadata": {},
     "output_type": "execute_result"
    }
   ],
   "source": [
    "soup.find(id='post-6579').find(class_='entry-title').text"
   ]
  },
  {
   "cell_type": "code",
   "execution_count": 18,
   "metadata": {},
   "outputs": [
    {
     "data": {
      "text/plain": [
       "<article class=\"et_pb_post post-6579 post type-post status-publish format-standard has-post-thumbnail hentry category-data-science\" id=\"post-6579\">\n",
       "<div class=\"et_post_meta_wrapper\">\n",
       "<h1 class=\"entry-title\">What are the Math and Stats Principles You Need for Data Science?</h1>\n",
       "<p class=\"post-meta\"><span class=\"published\">Oct 21, 2020</span> | <a href=\"https://codeup.com/category/data-science/\" rel=\"category tag\">Data Science</a></p><img alt=\"Is there math in data science? Read our blog to learn how much math you need!\" class=\"\" height=\"675\" sizes=\"(min-width: 0px) and (max-width: 480px) 480px, (min-width: 481px) and (max-width: 980px) 980px, (min-width: 981px) 1080px, 100vw\" src=\"https://199lj33nqk3p88xz03dvn481-wpengine.netdna-ssl.com/wp-content/uploads/2020/10/Blog_MathStatsReg_1200x628-1-1080x628.png\" srcset=\"https://199lj33nqk3p88xz03dvn481-wpengine.netdna-ssl.com/wp-content/uploads/2020/10/Blog_MathStatsReg_1200x628-1-1080x628.png 1080w, https://199lj33nqk3p88xz03dvn481-wpengine.netdna-ssl.com/wp-content/uploads/2020/10/Blog_MathStatsReg_1200x628-1-980x513.png 980w, https://199lj33nqk3p88xz03dvn481-wpengine.netdna-ssl.com/wp-content/uploads/2020/10/Blog_MathStatsReg_1200x628-1-480x251.png 480w\" width=\"1080\"/>\n",
       "</div>\n",
       "<div class=\"entry-content\">\n",
       "<p><span style=\"font-weight: 400;\">Coming into our Data Science program, you will need to know some math and stats. However, many of our applicants actually learn in the </span><a href=\"https://codeup.com/codeups-application-process/\"><span style=\"font-weight: 400;\">application process</span></a><span style=\"font-weight: 400;\"> – you don’t need to be an expert before applying! Data science is a very accessible field to anyone dedicated to learning new skills, and we can work with any applicant to help them learn what they need to know. But what “skills” do we mean, exactly? Just what exactly are the data science math and stats principles you need to know?</span></p>\n",
       "<h2>What are the main math principles you need to know to get into Codeup’s Data Science program?</h2>\n",
       "<h4></h4>\n",
       "<h4></h4>\n",
       "<p><strong>Algebra</strong></p>\n",
       "<p><span style=\"font-weight: 400;\">Do you know PEMDAS and can you solve for x? You will need to be or become comfortable with the following: </span></p>\n",
       "<ul>\n",
       "<li style=\"font-weight: 400;\"><span style=\"font-weight: 400;\">Variables (x, y, n, etc.)</span></li>\n",
       "<li style=\"font-weight: 400;\"><span style=\"font-weight: 400;\">Formulas, functions, and variable manipulations (e.g. x^2 = x + 6, solve for x).</span></li>\n",
       "<li style=\"font-weight: 400;\"><span style=\"font-weight: 400;\">Order of evaluation: </span><b>PEMDAS</b><span style=\"font-weight: 400;\">: parentheses, exponents, then multiplication, division, addition, and subtraction</span></li>\n",
       "<li style=\"font-weight: 400;\"><span style=\"font-weight: 400;\">Commutativity where </span><b>a + b = b + a</b></li>\n",
       "<li style=\"font-weight: 400;\"><span style=\"font-weight: 400;\">Associativity where </span><b>a + (b + c) = (a + b) + c</b></li>\n",
       "<li style=\"font-weight: 400;\"><span style=\"font-weight: 400;\">Adding and subtracting matrices</span></li>\n",
       "<li style=\"font-weight: 400;\"><span style=\"font-weight: 400;\">A conceptual understanding of exponential growth/decay- things can increase at an increasing rate</span></li>\n",
       "</ul>\n",
       "<p><strong>Descriptive Statistics</strong></p>\n",
       "<p><span style=\"font-weight: 400;\">Know what a min, max, mode, median, and average are. Have a conceptual understanding that stats/probability is about trying to quantify uncertainty.</span></p>\n",
       "<p><strong>Data Visualization</strong></p>\n",
       "<p><span style=\"font-weight: 400;\">Know what a scatterplot is and how to read a barplot.</span></p>\n",
       "<p><strong>How to Learn and Expand on These Concepts</strong></p>\n",
       "<p><span style=\"font-weight: 400;\">There are a number of great resources out there to teach you these and similar concepts. Khan Academy is a great starting place for data science math! If you want to know what exactly we assign our applicants, you’ll just have to </span><a href=\"https://codeup.com/apply-now\"><span style=\"font-weight: 400;\">apply!</span></a></p>\n",
       "<p> </p>\n",
       "<h3><strong>What about once you’re in Codeup?</strong></h3>\n",
       "<h4></h4>\n",
       "<h4></h4>\n",
       "<p><strong>What You Won’t Do</strong></p>\n",
       "<p><span style=\"font-weight: 400;\">Do we do any mathematical proofs for concepts or perform derivations? No. </span></p>\n",
       "<p><span style=\"font-weight: 400;\">Do we do any calculus and probability calculating by hand? No.</span></p>\n",
       "<p><span style=\"font-weight: 400;\">Are we transforming equations, where we cancel out units or terms and do lots of algebraic gymnastics? No</span></p>\n",
       "<p><strong>What You Will Do</strong></p>\n",
       "<p><span style=\"font-weight: 400;\">Will we have Python solve our linear algebra problems for us? Yes</span></p>\n",
       "<p><span style=\"font-weight: 400;\">Will we have Python calculate probabilities, the area under a curve, and the slope of a line for us? Yes</span></p>\n",
       "<p><span style=\"font-weight: 400;\">Will we have Python do </span><b>all</b><span style=\"font-weight: 400;\"> of the calculus for us? Yes</span></p>\n",
       "<p> </p>\n",
       "<p><span style=\"font-weight: 400;\">See, the data science math and stats slice of the pie is certainly doable. If you like problem-solving and are ready to challenge yourself, you’ll love data science! If you are interested in learning about data science, just <a href=\"http://www.codeup.com/apply\">apply</a>! Our Admissions Manager can work with you to get you where you need to be starting from where you are now. Let us help you get there so you can launch a great new career.</span></p>\n",
       "</div>\n",
       "<div class=\"et_post_meta_wrapper\">\n",
       "</div>\n",
       "</article>"
      ]
     },
     "execution_count": 18,
     "metadata": {},
     "output_type": "execute_result"
    }
   ],
   "source": [
    "soup.find(id=re.compile(r'post.+'))"
   ]
  },
  {
   "cell_type": "code",
   "execution_count": 19,
   "metadata": {},
   "outputs": [],
   "source": [
    "article = soup.find('article', {'class': re.compile(r'post.+\\s')})"
   ]
  },
  {
   "cell_type": "code",
   "execution_count": 23,
   "metadata": {},
   "outputs": [
    {
     "data": {
      "text/plain": [
       "'Oct 21, 2020'"
      ]
     },
     "execution_count": 23,
     "metadata": {},
     "output_type": "execute_result"
    }
   ],
   "source": [
    "article.find(class_='published').string"
   ]
  },
  {
   "cell_type": "code",
   "execution_count": 46,
   "metadata": {},
   "outputs": [
    {
     "data": {
      "text/plain": [
       "'What are the Math and Stats Principles You Need for Data Science?'"
      ]
     },
     "execution_count": 46,
     "metadata": {},
     "output_type": "execute_result"
    }
   ],
   "source": [
    "article.find('h1').text"
   ]
  },
  {
   "cell_type": "code",
   "execution_count": 71,
   "metadata": {},
   "outputs": [
    {
     "data": {
      "text/plain": [
       "bs4.element.Tag"
      ]
     },
     "execution_count": 71,
     "metadata": {},
     "output_type": "execute_result"
    }
   ],
   "source": [
    "content = article.find('div', {'class':'entry-content'})\n",
    "type(content)"
   ]
  },
  {
   "cell_type": "code",
   "execution_count": 82,
   "metadata": {},
   "outputs": [
    {
     "data": {
      "text/plain": [
       "'Data Science'"
      ]
     },
     "execution_count": 82,
     "metadata": {},
     "output_type": "execute_result"
    }
   ],
   "source": [
    "anything = re.compile('.+')\n",
    "article.find(anything,{'rel':'category'}).text"
   ]
  },
  {
   "cell_type": "code",
   "execution_count": 83,
   "metadata": {},
   "outputs": [
    {
     "data": {
      "text/plain": [
       "'Oct 21, 2020'"
      ]
     },
     "execution_count": 83,
     "metadata": {},
     "output_type": "execute_result"
    }
   ],
   "source": [
    "article.find(anything, {'class':'published'}).text"
   ]
  },
  {
   "cell_type": "code",
   "execution_count": 24,
   "metadata": {},
   "outputs": [
    {
     "data": {
      "text/plain": [
       "<div id=\"main-content\">\n",
       "<div class=\"container\">\n",
       "<div class=\"clearfix\" id=\"content-area\">\n",
       "<div id=\"left-area\">\n",
       "<article class=\"et_pb_post post-6579 post type-post status-publish format-standard has-post-thumbnail hentry category-data-science\" id=\"post-6579\">\n",
       "<div class=\"et_post_meta_wrapper\">\n",
       "<h1 class=\"entry-title\">What are the Math and Stats Principles You Need for Data Science?</h1>\n",
       "<p class=\"post-meta\"><span class=\"published\">Oct 21, 2020</span> | <a href=\"https://codeup.com/category/data-science/\" rel=\"category tag\">Data Science</a></p><img alt=\"Is there math in data science? Read our blog to learn how much math you need!\" class=\"\" height=\"675\" sizes=\"(min-width: 0px) and (max-width: 480px) 480px, (min-width: 481px) and (max-width: 980px) 980px, (min-width: 981px) 1080px, 100vw\" src=\"https://199lj33nqk3p88xz03dvn481-wpengine.netdna-ssl.com/wp-content/uploads/2020/10/Blog_MathStatsReg_1200x628-1-1080x628.png\" srcset=\"https://199lj33nqk3p88xz03dvn481-wpengine.netdna-ssl.com/wp-content/uploads/2020/10/Blog_MathStatsReg_1200x628-1-1080x628.png 1080w, https://199lj33nqk3p88xz03dvn481-wpengine.netdna-ssl.com/wp-content/uploads/2020/10/Blog_MathStatsReg_1200x628-1-980x513.png 980w, https://199lj33nqk3p88xz03dvn481-wpengine.netdna-ssl.com/wp-content/uploads/2020/10/Blog_MathStatsReg_1200x628-1-480x251.png 480w\" width=\"1080\"/>\n",
       "</div>\n",
       "<div class=\"entry-content\">\n",
       "<p><span style=\"font-weight: 400;\">Coming into our Data Science program, you will need to know some math and stats. However, many of our applicants actually learn in the </span><a href=\"https://codeup.com/codeups-application-process/\"><span style=\"font-weight: 400;\">application process</span></a><span style=\"font-weight: 400;\"> – you don’t need to be an expert before applying! Data science is a very accessible field to anyone dedicated to learning new skills, and we can work with any applicant to help them learn what they need to know. But what “skills” do we mean, exactly? Just what exactly are the data science math and stats principles you need to know?</span></p>\n",
       "<h2>What are the main math principles you need to know to get into Codeup’s Data Science program?</h2>\n",
       "<h4></h4>\n",
       "<h4></h4>\n",
       "<p><strong>Algebra</strong></p>\n",
       "<p><span style=\"font-weight: 400;\">Do you know PEMDAS and can you solve for x? You will need to be or become comfortable with the following: </span></p>\n",
       "<ul>\n",
       "<li style=\"font-weight: 400;\"><span style=\"font-weight: 400;\">Variables (x, y, n, etc.)</span></li>\n",
       "<li style=\"font-weight: 400;\"><span style=\"font-weight: 400;\">Formulas, functions, and variable manipulations (e.g. x^2 = x + 6, solve for x).</span></li>\n",
       "<li style=\"font-weight: 400;\"><span style=\"font-weight: 400;\">Order of evaluation: </span><b>PEMDAS</b><span style=\"font-weight: 400;\">: parentheses, exponents, then multiplication, division, addition, and subtraction</span></li>\n",
       "<li style=\"font-weight: 400;\"><span style=\"font-weight: 400;\">Commutativity where </span><b>a + b = b + a</b></li>\n",
       "<li style=\"font-weight: 400;\"><span style=\"font-weight: 400;\">Associativity where </span><b>a + (b + c) = (a + b) + c</b></li>\n",
       "<li style=\"font-weight: 400;\"><span style=\"font-weight: 400;\">Adding and subtracting matrices</span></li>\n",
       "<li style=\"font-weight: 400;\"><span style=\"font-weight: 400;\">A conceptual understanding of exponential growth/decay- things can increase at an increasing rate</span></li>\n",
       "</ul>\n",
       "<p><strong>Descriptive Statistics</strong></p>\n",
       "<p><span style=\"font-weight: 400;\">Know what a min, max, mode, median, and average are. Have a conceptual understanding that stats/probability is about trying to quantify uncertainty.</span></p>\n",
       "<p><strong>Data Visualization</strong></p>\n",
       "<p><span style=\"font-weight: 400;\">Know what a scatterplot is and how to read a barplot.</span></p>\n",
       "<p><strong>How to Learn and Expand on These Concepts</strong></p>\n",
       "<p><span style=\"font-weight: 400;\">There are a number of great resources out there to teach you these and similar concepts. Khan Academy is a great starting place for data science math! If you want to know what exactly we assign our applicants, you’ll just have to </span><a href=\"https://codeup.com/apply-now\"><span style=\"font-weight: 400;\">apply!</span></a></p>\n",
       "<p> </p>\n",
       "<h3><strong>What about once you’re in Codeup?</strong></h3>\n",
       "<h4></h4>\n",
       "<h4></h4>\n",
       "<p><strong>What You Won’t Do</strong></p>\n",
       "<p><span style=\"font-weight: 400;\">Do we do any mathematical proofs for concepts or perform derivations? No. </span></p>\n",
       "<p><span style=\"font-weight: 400;\">Do we do any calculus and probability calculating by hand? No.</span></p>\n",
       "<p><span style=\"font-weight: 400;\">Are we transforming equations, where we cancel out units or terms and do lots of algebraic gymnastics? No</span></p>\n",
       "<p><strong>What You Will Do</strong></p>\n",
       "<p><span style=\"font-weight: 400;\">Will we have Python solve our linear algebra problems for us? Yes</span></p>\n",
       "<p><span style=\"font-weight: 400;\">Will we have Python calculate probabilities, the area under a curve, and the slope of a line for us? Yes</span></p>\n",
       "<p><span style=\"font-weight: 400;\">Will we have Python do </span><b>all</b><span style=\"font-weight: 400;\"> of the calculus for us? Yes</span></p>\n",
       "<p> </p>\n",
       "<p><span style=\"font-weight: 400;\">See, the data science math and stats slice of the pie is certainly doable. If you like problem-solving and are ready to challenge yourself, you’ll love data science! If you are interested in learning about data science, just <a href=\"http://www.codeup.com/apply\">apply</a>! Our Admissions Manager can work with you to get you where you need to be starting from where you are now. Let us help you get there so you can launch a great new career.</span></p>\n",
       "</div>\n",
       "<div class=\"et_post_meta_wrapper\">\n",
       "</div>\n",
       "</article>\n",
       "</div>\n",
       "<div id=\"sidebar\">\n",
       "<div class=\"et_pb_widget widget_block widget_media_image\" id=\"block-2\">\n",
       "<figure class=\"wp-block-image size-full\"><img alt=\"best bootcamp in San Antonio\" class=\"wp-image-16034\" height=\"561\" loading=\"lazy\" sizes=\"(min-width: 0px) and (max-width: 480px) 480px, (min-width: 481px) 701px, 100vw\" src=\"https://199lj33nqk3p88xz03dvn481-wpengine.netdna-ssl.com/wp-content/uploads/2021/09/best-bootcamp-switchup.png\" srcset=\"https://199lj33nqk3p88xz03dvn481-wpengine.netdna-ssl.com/wp-content/uploads/2021/09/best-bootcamp-switchup.png 701w, https://199lj33nqk3p88xz03dvn481-wpengine.netdna-ssl.com/wp-content/uploads/2021/09/best-bootcamp-switchup-480x384.png 480w\" width=\"701\"/></figure>\n",
       "</div><div class=\"et_pb_widget widget_nav_menu\" id=\"nav_menu-3\"><h4 class=\"widgettitle\">Our Programs</h4><div class=\"menu-our-programs-container\"><ul class=\"menu\" id=\"menu-our-programs\"><li class=\"menu-item menu-item-type-post_type menu-item-object-course menu-item-18129\" id=\"menu-item-18129\"><a href=\"https://codeup.com/program/cloud-administration/\">Cloud Administration</a></li>\n",
       "<li class=\"menu-item menu-item-type-post_type menu-item-object-course menu-item-16516\" id=\"menu-item-16516\"><a href=\"https://codeup.com/program/full-stack-web-development/\">Full Stack Web Development</a></li>\n",
       "<li class=\"menu-item menu-item-type-post_type menu-item-object-course menu-item-16515\" id=\"menu-item-16515\"><a href=\"https://codeup.com/program/data-science/\">Data Science</a></li>\n",
       "</ul></div></div><div class=\"et_pb_widget widget_block\" id=\"block-10\">\n",
       "<div class=\"wp-container-4 wp-block-columns are-vertically-aligned-top\">\n",
       "<div class=\"wp-container-3 wp-block-column is-vertically-aligned-top\" style=\"flex-basis:100%\">\n",
       "<div class=\"wp-container-2 wp-block-group\">\n",
       "<div class=\"wp-container-1 wp-block-group\">\n",
       "<h2>Latest Blog Articles</h2>\n",
       "<ul class=\"wp-block-latest-posts__list wp-block-latest-posts\"><li><a class=\"wp-block-latest-posts__post-title\" href=\"https://codeup.com/data-science/recession-proof-career/\">Is a Career in Tech Recession-Proof?</a></li>\n",
       "<li><a class=\"wp-block-latest-posts__post-title\" href=\"https://codeup.com/codeup-news/codeup-x-comic-con/\">Codeup X Superhero Car Show &amp; Comic Con</a></li>\n",
       "<li><a class=\"wp-block-latest-posts__post-title\" href=\"https://codeup.com/featured/series-part-3-web-development/\">What Jobs Can You Get After a Coding Bootcamp? Part 3: Web Development</a></li>\n",
       "<li><a class=\"wp-block-latest-posts__post-title\" href=\"https://codeup.com/codeup-news/codeup-dallas-campus/\">Codeup’s New Dallas Campus</a></li>\n",
       "<li><a class=\"wp-block-latest-posts__post-title\" href=\"https://codeup.com/codeup-news/codeup-tv-commercial/\">Codeup TV Commercial</a></li>\n",
       "</ul>\n",
       "<p></p>\n",
       "</div>\n",
       "</div>\n",
       "</div>\n",
       "</div>\n",
       "</div><div class=\"et_pb_widget widget_block widget_text\" id=\"block-4\">\n",
       "<p></p>\n",
       "</div><div class=\"et_pb_widget widget_block\" id=\"block-11\">\n",
       "<div class=\"wp-container-8 wp-block-group\">\n",
       "<div class=\"wp-container-7 wp-block-columns\">\n",
       "<div class=\"wp-container-6 wp-block-column\" style=\"flex-basis:100%\">\n",
       "<div class=\"wp-container-5 wp-block-group\"></div>\n",
       "</div>\n",
       "</div>\n",
       "<p></p>\n",
       "</div>\n",
       "</div> </div>\n",
       "</div>\n",
       "</div>\n",
       "</div>"
      ]
     },
     "execution_count": 24,
     "metadata": {},
     "output_type": "execute_result"
    }
   ],
   "source": [
    "soup.find('div',id='main-content')"
   ]
  },
  {
   "cell_type": "code",
   "execution_count": 171,
   "metadata": {},
   "outputs": [
    {
     "data": {
      "text/plain": [
       "False"
      ]
     },
     "execution_count": 171,
     "metadata": {},
     "output_type": "execute_result"
    }
   ],
   "source": [
    "anything = re.compile('.+')\n",
    "'this' == anything"
   ]
  },
  {
   "cell_type": "code",
   "execution_count": 182,
   "metadata": {},
   "outputs": [],
   "source": [
    "def parse_codeup_article(url):\n",
    "    headers = {'User-Agent': 'Codeup Data Science'}\n",
    "    anything = re.compile('.+')\n",
    "    response = requests.get(url, headers=headers)\n",
    "    soup = BeautifulSoup( response.content, 'html.parser') \n",
    "    article = soup.find('article', {'class': re.compile(r'post.+\\s')})\n",
    "    title = article.find('h1').text\n",
    "    content = article.find('div', {'class':'entry-content'})\n",
    "    return {\n",
    "        'title': title,\n",
    "        'published': article.find(anything, {'class':'published'}).text,\n",
    "        'category': article.find(anything,{'rel':'category'}).text,\n",
    "        'content': content.text\n",
    "    }\n",
    "    "
   ]
  },
  {
   "cell_type": "code",
   "execution_count": 88,
   "metadata": {},
   "outputs": [
    {
     "data": {
      "text/plain": [
       "{'title': 'Is a Career in Tech Recession-Proof?',\n",
       " 'published': 'Aug 12, 2022',\n",
       " 'category': 'Cloud Administration',\n",
       " 'content': '\\nGiven the current economic climate, many economists are considering the U.S. to be entering a recession. This can cause confusion, fear, and uncertainty, especially as it pertains to job security.\\nTo ease some of those feelings, below you’ll find some careers in tech that tend to hold up better than others amid a recession. In the event of a recession, companies will likely shift to digital strategies, making these careers in tech valuable and highly coveted.\\n\\xa0\\n\\n\\nProgrammer/Developer\\nNo matter the programming language you’ve mastered, having the knowledge alone makes you extremely valuable. The coding skills you possess as a programmer or developer are in-demand for companies looking to build or enhance their websites, and enhance their consumer experience. According to the U.S. Bureau of Labor Statistics, jobs in software development are expected to grow 22% by 2030. This is much faster than the average career.\\n\\n\\xa0\\n\\n\\nCloud Administrator\\nMore businesses are transitioning to cloud servers and this increase sparks the need for cloud administrators to maintain and update the cloud infrastructure. Amid a recession, it is likely that efforts regarding security will be heightened as company strategies shift digitally, and managing a more secure server will be the responsibility of the cloud administrator.\\n\\n\\xa0\\n\\n\\nData Analyst\\nDuring a recession, the need to preserve and monitor data, as well as use data to make predictions to drive a business’ initiatives will be heightened. Data analysts would be relied on heavily to study the data presented and interpret it to solve any current or future problems.\\n\\nThe three positions mentioned above can all be obtained after you complete one of our bootcamps, and take as little as 15 to 20 weeks to complete. Upon successful completion, if you do not land a job in-field within 6 months of graduating from a Codeup program, we will refund your paid tuition back to you.*\\n\\xa0\\nCodeup Programs\\nCodeup is a Texas-based career accelerator, built to help you transition to a career in tech seamlessly, and be well-equipped to succeed in your new role. We offer three different programs: Full-Stack Web Development, Cloud Administration, and Data Science. You can learn more about each of them here or by requesting more information on any that may interest you.\\nIf you have any hesitation about changing your career, or about any of our programs please reach out to us. We would love to help you find the program that best suits your needs and interests. Give us a call today at (210) 802- 7289.\\n*See tuition refund details and specifications here.\\n'}"
      ]
     },
     "execution_count": 88,
     "metadata": {},
     "output_type": "execute_result"
    }
   ],
   "source": [
    "parse_codeup_article(list_of_urls[1])"
   ]
  },
  {
   "cell_type": "code",
   "execution_count": 92,
   "metadata": {},
   "outputs": [],
   "source": [
    "response = requests.get(blog_home, headers=headers)\n",
    "soup = BeautifulSoup(response.content)"
   ]
  },
  {
   "cell_type": "code",
   "execution_count": 121,
   "metadata": {},
   "outputs": [
    {
     "data": {
      "text/plain": [
       "'https://codeup.com/blog/page/3/?et_blog'"
      ]
     },
     "execution_count": 121,
     "metadata": {},
     "output_type": "execute_result"
    }
   ],
   "source": [
    "soup.find(anything, {'class':'pagination'}).find('div', {'class':'alignleft'}).find('a').attrs['href']"
   ]
  },
  {
   "cell_type": "code",
   "execution_count": 105,
   "metadata": {},
   "outputs": [],
   "source": [
    "next_page = \"https://codeup.com/blog/page/2/?et_blog\"\n",
    "soup = BeautifulSoup(requests.get(next_page, headers=headers).content)"
   ]
  },
  {
   "cell_type": "code",
   "execution_count": 131,
   "metadata": {},
   "outputs": [
    {
     "data": {
      "text/plain": [
       "'https://codeup.com/blog/page/3/?et_blog'"
      ]
     },
     "execution_count": 131,
     "metadata": {},
     "output_type": "execute_result"
    }
   ],
   "source": [
    "soup.find('div', class_='alignleft').find('a')['href']"
   ]
  },
  {
   "cell_type": "code",
   "execution_count": 150,
   "metadata": {},
   "outputs": [],
   "source": [
    "def get_codeup_blog_page(url):\n",
    "    headers = {'User-Agent': 'Codeup Data Science'}\n",
    "    response = requests.get(url, headers=headers)\n",
    "    return BeautifulSoup(response.content)\n",
    "\n",
    "page = get_codeup_blog_page(blog_home)"
   ]
  },
  {
   "cell_type": "code",
   "execution_count": 29,
   "metadata": {},
   "outputs": [],
   "source": [
    "soup = get_codeup_blog_page(blog_home)"
   ]
  },
  {
   "cell_type": "code",
   "execution_count": 42,
   "metadata": {},
   "outputs": [
    {
     "data": {
      "text/plain": [
       "'https://codeup.com/blog/page/2/?et_blog'"
      ]
     },
     "execution_count": 42,
     "metadata": {},
     "output_type": "execute_result"
    }
   ],
   "source": [
    "soup.find('div', class_='alignleft').find('a').attrs['href']"
   ]
  },
  {
   "cell_type": "code",
   "execution_count": 27,
   "metadata": {},
   "outputs": [],
   "source": [
    "def get_codeup_blog_page(url):\n",
    "    headers = {'User-Agent': 'Codeup Data Science'}\n",
    "    response = requests.get(url, headers=headers)\n",
    "    return BeautifulSoup(response.content)\n",
    "\n",
    "def get_all_articles(blog_home, debug=False):\n",
    "    article_urls = []\n",
    "    # Get the initial homepage\n",
    "    page = get_codeup_blog_page(blog_home)\n",
    "    # page_n = 0\n",
    "\n",
    "    next_page = True\n",
    "    while next_page:\n",
    "        next_page = page.find('div', class_='alignleft').find('a')\n",
    "        # page_n += 1\n",
    "        # if debug:\n",
    "            # article_urls.append(page_n)\n",
    "        for article in page.find_all('article'):\n",
    "            article_urls.append( article.find(class_='entry-title').find('a')['href'] )\n",
    "        if next_page:\n",
    "            page = get_codeup_blog_page(next_page['href'])\n",
    "\n",
    "    return article_urls"
   ]
  },
  {
   "cell_type": "code",
   "execution_count": 152,
   "metadata": {},
   "outputs": [],
   "source": [
    "soup = get_codeup_blog_page('https://codeup.com/blog/page/9/?et_blog')"
   ]
  },
  {
   "cell_type": "code",
   "execution_count": 165,
   "metadata": {},
   "outputs": [
    {
     "data": {
      "text/plain": [
       "<h2 class=\"entry-title\"><a href=\"https://codeup.com/alumni-stories/styling-hair-stying-interfaces/\">From Styling Hair to Stying Interfaces</a></h2>"
      ]
     },
     "execution_count": 165,
     "metadata": {},
     "output_type": "execute_result"
    }
   ],
   "source": [
    "soup.find(anything, {'href':'#'}).find_parent('article').find(class_='entry-title')"
   ]
  },
  {
   "cell_type": "markdown",
   "metadata": {},
   "source": [
    "### Now to scrape it all!"
   ]
  },
  {
   "cell_type": "code",
   "execution_count": 168,
   "metadata": {},
   "outputs": [],
   "source": [
    "all_articles = get_all_articles(blog_home=blog_home)"
   ]
  },
  {
   "cell_type": "code",
   "execution_count": 181,
   "metadata": {},
   "outputs": [
    {
     "name": "stdout",
     "output_type": "stream",
     "text": [
      "200 https://codeup.com/data-science/recession-proof-career/\n",
      "200 https://codeup.com/codeup-news/codeup-x-comic-con/\n",
      "200 https://codeup.com/featured/series-part-3-web-development/\n",
      "200 https://codeup.com/codeup-news/codeup-dallas-campus/\n",
      "200 https://codeup.com/codeup-news/codeup-tv-commercial/\n",
      "200 https://codeup.com/featured/what-jobs-can-you-get-after-a-coding-bootcamp-part-2-cloud-administration/\n",
      "200 https://codeup.com/data-science/jobs-after-a-coding-bootcamp-part-1-data-science/\n",
      "200 https://codeup.com/workshops/san-antonio/in-person-workshop-learn-to-code-javascript-on-7-26/\n",
      "200 https://codeup.com/workshops/in-person-workshop-learn-to-code-python-on-7-19/\n",
      "200 https://codeup.com/workshops/dallas/free-javascript-workshop-at-codeup-dallas-on-6-28/\n",
      "200 https://codeup.com/tips-for-prospective-students/is-our-cloud-administration-program-right-for-you/\n",
      "Failed to parse https://codeup.com/workshops/pride-in-tech-panel/. Skipping\n",
      "200 https://codeup.com/codeup-news/inclusion-at-codeup-during-pride-month-and-always/\n",
      "200 https://codeup.com/tips-for-prospective-students/mental-health-first-aid-training/\n",
      "200 https://codeup.com/workshops/codeup-dallas-how-to-succeed-at-a-coding-bootcamp-on-june-9th/\n",
      "200 https://codeup.com/featured/5-reasons-to-attend-our-new-cloud-administration-program/\n",
      "200 https://codeup.com/workshops/learn-to-code-python-on-5-21/\n",
      "200 https://codeup.com/dallas-newsletter/codeup-dallas-joins-career-day/\n",
      "200 https://codeup.com/codeup-news/codeup-dallas-campus/\n",
      "200 https://codeup.com/codeup-news/codeup-tv-commercial/\n",
      "200 https://codeup.com/featured/what-jobs-can-you-get-after-a-coding-bootcamp-part-2-cloud-administration/\n",
      "200 https://codeup.com/workshops/project-quest-info-session-may-24th/\n",
      "200 https://codeup.com/workshops/from-bootcamp-to-bootcamp-a-military-appreciation-panel/\n",
      "200 https://codeup.com/featured/our-acquisition-of-the-rackspace-cloud-academy-one-year-later/\n",
      "200 https://codeup.com/workshops/virtual/learn-to-code-html-css-on-4-30/\n",
      "200 https://codeup.com/workshops/virtual/learn-to-code-python-workshop-on-4-16/\n",
      "200 https://codeup.com/codeup-news/coming-soon-cloud-administration/\n",
      "200 https://codeup.com/featured/5-books-every-woman-in-tech-should-read/\n",
      "200 https://codeup.com/codeup-news/codeup-start-dates-for-march-2022/\n",
      "200 https://codeup.com/codeup-news/vet-tec-funding-dallas/\n",
      "200 https://codeup.com/codeup-news/dallas-campus-re-opens-with-new-grant-partner/\n",
      "200 https://codeup.com/codeup-news/codeups-placement-team-continues-setting-records/\n",
      "200 https://codeup.com/it-training/it-certifications-101/\n",
      "200 https://codeup.com/cybersecurity/a-rise-in-cyber-attacks-means-opportunities-for-veterans-in-san-antonio/\n",
      "200 https://codeup.com/codeup-news/use-your-gi-bill-benefits-to-land-a-job-in-tech/\n",
      "200 https://codeup.com/tips-for-prospective-students/which-program-is-right-for-me-cyber-security-or-systems-engineering/\n",
      "200 https://codeup.com/data-science/jobs-after-a-coding-bootcamp-part-1-data-science/\n",
      "200 https://codeup.com/workshops/san-antonio/in-person-workshop-learn-to-code-javascript-on-7-26/\n",
      "200 https://codeup.com/workshops/in-person-workshop-learn-to-code-python-on-7-19/\n",
      "200 https://codeup.com/it-training/what-the-heck-is-system-engineering/\n",
      "200 https://codeup.com/alumni-stories/from-speech-pathology-to-business-intelligence/\n",
      "200 https://codeup.com/behind-the-billboards/boris-behind-the-billboards/\n",
      "200 https://codeup.com/codeup-news/is-codeup-the-best-bootcamp-in-san-antonio-or-the-world/\n",
      "200 https://codeup.com/codeup-news/codeup-launches-first-podcast-hire-tech/\n",
      "200 https://codeup.com/tips-for-prospective-students/why-should-i-become-a-system-administrator/\n",
      "200 https://codeup.com/codeup-news/codeup-candidate-for-accreditation/\n",
      "200 https://codeup.com/codeup-news/codeup-takes-over-more-of-the-historic-vogue-building/\n",
      "200 https://codeup.com/tips-for-prospective-students/why-you-need-the-best-coding-bootcamp-instructors/\n",
      "200 https://codeup.com/codeup-news/meet-the-new-codeup-coo-stephen-noteboom/\n",
      "200 https://codeup.com/alumni-stories/how-i-went-from-codeup-to-business-owner/\n",
      "200 https://codeup.com/tips-for-prospective-students/coding-is-for-women/\n",
      "200 https://codeup.com/codeup-news/codeup-acquires-rackspace-cloud-academy/\n",
      "200 https://codeup.com/tips-for-prospective-students/what-are-the-best-jobs-in-2021/\n",
      "200 https://codeup.com/codeup-news/meet-our-new-vp-of-delivery-marty-sixkiller/\n",
      "200 https://codeup.com/workshops/dallas/free-javascript-workshop-at-codeup-dallas-on-6-28/\n",
      "200 https://codeup.com/tips-for-prospective-students/is-our-cloud-administration-program-right-for-you/\n",
      "200 https://codeup.com/workshops/pride-in-tech-panel/\n",
      "200 https://codeup.com/codeup-news/start-a-new-career-with-vet-tec/\n",
      "200 https://codeup.com/codeup-news/how-to-hire-for-the-long-haul/\n",
      "200 https://codeup.com/codeup-news/know-who-youre-hiring/\n",
      "200 https://codeup.com/tips-for-prospective-students/do-coding-bootcamps-help-you-get-a-job/\n",
      "200 https://codeup.com/data-science/why-you-should-become-a-data-scientist/\n",
      "200 https://codeup.com/hiring/hiring-diverse-talent-with-codeup/\n",
      "200 https://codeup.com/codeup-news/screening-candidates-just-got-easier-and-more-fun/\n",
      "200 https://codeup.com/codeup-news/how-codeup-paid-off-for-both-employee-and-employer/\n",
      "200 https://codeup.com/codeup-news/college-in-decline-and-bootcamps-on-the-rise-amid-covid-19/\n",
      "200 https://codeup.com/web-development/why-should-you-become-a-web-developer/\n",
      "200 https://codeup.com/codeup-news/codeup-2020-year-in-review/\n",
      "200 https://codeup.com/tips-for-prospective-students/oops-i-got-a-degree-in/\n",
      "200 https://codeup.com/codeup-news/employer-influenced-curriculum/\n",
      "200 https://codeup.com/codeup-news/salary-refund-guarantee/\n",
      "200 https://codeup.com/codeup-news/annie-easley-scholarship/\n",
      "200 https://codeup.com/codeup-news/inclusion-at-codeup-during-pride-month-and-always/\n",
      "200 https://codeup.com/tips-for-prospective-students/mental-health-first-aid-training/\n",
      "200 https://codeup.com/workshops/codeup-dallas-how-to-succeed-at-a-coding-bootcamp-on-june-9th/\n",
      "200 https://codeup.com/codeup-news/codeup-houston-bootcamp/\n",
      "200 https://codeup.com/data-science/math-in-data-science/\n",
      "200 https://codeup.com/dallas-newsletter/fight-covid-19-data-challenge/\n",
      "200 https://codeup.com/codeup-news/celebrating-world-mental-health-day/\n",
      "200 https://codeup.com/behind-the-billboards/abby-behind-the-billboards/\n",
      "200 https://codeup.com/tips-for-prospective-students/what-to-expect-at-codeup/\n",
      "200 https://codeup.com/tips-for-prospective-students/codeup-application-process/\n",
      "200 https://codeup.com/data-science/transition-into-data-science/\n",
      "200 https://codeup.com/data-science/data-science-career/\n",
      "200 https://codeup.com/data-science/what-is-python/\n",
      "200 https://codeup.com/data-science/what-is-machine-learning/\n",
      "200 https://codeup.com/tips-for-prospective-students/education-is-an-investment/\n",
      "200 https://codeup.com/codeup-news/fastest-growing-private-companies/\n",
      "200 https://codeup.com/tips-for-prospective-students/build-your-career-in-tech/\n",
      "200 https://codeup.com/data-science/codeup-wins-civtech-datathon/\n",
      "200 https://codeup.com/featured/5-reasons-to-attend-our-new-cloud-administration-program/\n",
      "200 https://codeup.com/workshops/learn-to-code-python-on-5-21/\n",
      "200 https://codeup.com/dallas-newsletter/codeup-dallas-joins-career-day/\n",
      "200 https://codeup.com/web-development/codeup-alumni-make-water/\n",
      "200 https://codeup.com/web-development/journey-into-web-development/\n",
      "200 https://codeup.com/tips-for-prospective-students/succeed-in-a-coding-bootcamp/\n",
      "200 https://codeup.com/data-science/data-science-without-a-degree/\n",
      "200 https://codeup.com/data-science/data-science-student-experience/\n",
      "200 https://codeup.com/tips-for-prospective-students/military-veterans-in-tech/\n",
      "200 https://codeup.com/tips-for-prospective-students/how-to-get-started-on-a-programming-exercise/\n",
      "200 https://codeup.com/data-science/career-in-data-science/\n",
      "200 https://codeup.com/tips-for-prospective-students/getting-hired-in-a-remote-environment/\n",
      "200 https://codeup.com/codeup-news/codeup-remote-students/\n",
      "200 https://codeup.com/codeup-news/covid-relief/\n",
      "200 https://codeup.com/alumni-stories/discovering-my-passion-through-codeup/\n",
      "200 https://codeup.com/tips-for-prospective-students/covid-19/\n",
      "200 https://codeup.com/tips-for-prospective-students/15-tips-for-virtual-interview-and-meetings/\n",
      "200 https://codeup.com/alumni-stories/setting-myself-up-for-success-at-codeup/\n",
      "200 https://codeup.com/workshops/project-quest-info-session-may-24th/\n",
      "200 https://codeup.com/workshops/from-bootcamp-to-bootcamp-a-military-appreciation-panel/\n",
      "200 https://codeup.com/featured/our-acquisition-of-the-rackspace-cloud-academy-one-year-later/\n",
      "200 https://codeup.com/alumni-stories/landing-my-dream-job-through-a-web-development-course/\n",
      "200 https://codeup.com/tips-for-prospective-students/a-second-career-start/\n",
      "200 https://codeup.com/codeup-news/2019-codeup/\n",
      "200 https://codeup.com/tips-for-prospective-students/how-to-pick-coding-bootcamp-curriculum/\n",
      "200 https://codeup.com/tips-for-prospective-students/your-investment-with-codeup/\n",
      "200 https://codeup.com/web-development/best-path-to-software-development-is-not-a-four-year-degree/\n",
      "200 https://codeup.com/tips-for-prospective-students/financial-aid-options/\n",
      "200 https://codeup.com/dallas-newsletter/software-development-mentors/\n",
      "200 https://codeup.com/data-science/ds-mentors/\n",
      "200 https://codeup.com/alumni-stories/breaking-the-mold-my-journey-to-become-a-software-developer/\n",
      "200 https://codeup.com/codeup-news/are-coding-schools-regulated-in-texas-it-depends/\n",
      "200 https://codeup.com/tips-for-prospective-students/thinking-about-a-bootcamp-to-transition-careers/\n",
      "200 https://codeup.com/dallas-newsletter/its-official-codeup-is-in-dallas/\n",
      "200 https://codeup.com/alumni-stories/how-i-became-a-software-developer-with-codeup/\n",
      "200 https://codeup.com/codeup-news/why-i-chose-to-teach-at-codeup/\n",
      "200 https://codeup.com/workshops/virtual/learn-to-code-html-css-on-4-30/\n",
      "200 https://codeup.com/workshops/virtual/learn-to-code-python-workshop-on-4-16/\n",
      "200 https://codeup.com/codeup-news/coming-soon-cloud-administration/\n",
      "200 https://codeup.com/alumni-stories/how-a-year-of-life-change-lead-me-to-codeup/\n",
      "200 https://codeup.com/codeup-news/codeup-talks-expanding-its-coding-school-to-all-of-texas-2/\n",
      "200 https://codeup.com/codeup-news/why-codeup-is-bringing-its-software-bootcamp-to-north-texas/\n",
      "200 https://codeup.com/alumni-stories/how-i-paid-43-for-my-codeup-tuition/\n",
      "200 https://codeup.com/dallas-newsletter/codeup-dallas-now-taking-applications/\n",
      "200 https://codeup.com/codeup-news/a-quest-through-codeup/\n",
      "200 https://codeup.com/data-science/quickpath-solving-the-data-science-talent-shortage-with-codeup/\n",
      "200 https://codeup.com/codeup-news/codeup-set-to-open-dallas-campus/\n",
      "200 https://codeup.com/dallas-newsletter/local-career-accelerator-program-expanding-to-dallas/\n",
      "200 https://codeup.com/dallas-newsletter/codeup-set-to-open-coding-school-in-dallas/\n",
      "200 https://codeup.com/codeup-news/codeup-to-open-dallas-campus-in-2020/\n",
      "200 https://codeup.com/dallas-newsletter/local-coding-school-expanding-to-dallas/\n",
      "200 https://codeup.com/dallas-newsletter/codeup-dallas-2020/\n",
      "200 https://codeup.com/data-science/data-science-in-the-real-world/\n",
      "200 https://codeup.com/codeup-news/a-quest-through-codeup-2/\n",
      "200 https://codeup.com/featured/5-books-every-woman-in-tech-should-read/\n",
      "200 https://codeup.com/codeup-news/codeup-start-dates-for-march-2022/\n",
      "200 https://codeup.com/codeup-news/vet-tec-funding-dallas/\n",
      "200 https://codeup.com/alumni-stories/from-bootcamp-to-bootcamp-how-i-found-purpose-through-coding/\n",
      "200 https://codeup.com/tips-for-prospective-students/5-common-excuses-keeping-you-from-breaking-into-the-tech-field/\n",
      "200 https://codeup.com/codeup-news/why-san-antonio-has-more-than-tacos-to-offer/\n",
      "200 https://codeup.com/data-science/everyday-encounters-with-data-science/\n",
      "200 https://codeup.com/codeup-news/codeup-grows-up-5th-birthday-party/\n",
      "200 https://codeup.com/web-development/coding-resolutions-for-the-new-year/\n",
      "200 https://codeup.com/alumni-stories/codeup-prepared-career/\n",
      "200 https://codeup.com/alumni-stories/why-im-thankful-for-codeup/\n",
      "200 https://codeup.com/alumni-stories/path-codeup-coding-bootcamps/\n",
      "200 https://codeup.com/codeup-news/codeup-student-check-in-month-3/\n",
      "200 https://codeup.com/alumni-stories/styling-hair-stying-interfaces/\n",
      "200 https://codeup.com/alumni-stories/from-cooking-steaks-to-cooking-code/\n",
      "200 https://codeup.com/data-science/data-science-myths/\n",
      "200 https://codeup.com/web-development/dont-be-scared-of-coding/\n",
      "200 https://codeup.com/data-science/where-do-data-scientists-come-from/\n",
      "200 https://codeup.com/codeup-news/dallas-campus-re-opens-with-new-grant-partner/\n",
      "200 https://codeup.com/codeup-news/codeups-placement-team-continues-setting-records/\n",
      "200 https://codeup.com/it-training/it-certifications-101/\n",
      "200 https://codeup.com/data-science/data-science-vs-data-analytics-whats-the-difference/\n",
      "200 https://codeup.com/web-development/debugging-with-codey-the-rubber-duck/\n",
      "200 https://codeup.com/alumni-stories/from-the-service-industry-to-software-development/\n",
      "200 https://codeup.com/codeup-news/codeup-student-check-in-month-2/\n",
      "200 https://codeup.com/data-science/codeups-data-science-career-accelerator-is-here/\n",
      "200 https://codeup.com/tips-for-prospective-students/which-program-is-right-for-me/\n",
      "200 https://codeup.com/alumni-stories/from-a-recent-college-grad-to-software-developer/\n",
      "200 https://codeup.com/tips-for-prospective-students/5-things-codeup-doesnt-tell-you/\n",
      "200 https://codeup.com/codeup-news/the-message-behind-our-billboards/\n",
      "200 https://codeup.com/tips-for-prospective-students/skills-fund-financing-to-fuel-your-codeup-future/\n",
      "200 https://codeup.com/data-science/what-is-data-science/\n",
      "200 https://codeup.com/codeup-news/women-in-tech-scholarship-recipient-amy/\n",
      "200 https://codeup.com/tips-for-prospective-students/anxious-about-the-job-fair/\n",
      "200 https://codeup.com/codeup-news/codeup-student-check-in-month-1/\n",
      "200 https://codeup.com/codeup-news/announcing-our-new-scholarship-minorities-in-tech-scholarship/\n",
      "200 https://codeup.com/cybersecurity/a-rise-in-cyber-attacks-means-opportunities-for-veterans-in-san-antonio/\n",
      "200 https://codeup.com/codeup-news/use-your-gi-bill-benefits-to-land-a-job-in-tech/\n",
      "200 https://codeup.com/tips-for-prospective-students/which-program-is-right-for-me-cyber-security-or-systems-engineering/\n",
      "200 https://codeup.com/codeup-news/fresh-out-of-codeup-cayden-simler/\n",
      "200 https://codeup.com/codeup-news/top-trends-and-tools-for-recruiters-in-the-tech-industry/\n",
      "200 https://codeup.com/codeup-news/all-about-the-alamo-colleges-partnership/\n",
      "200 https://codeup.com/tips-for-prospective-students/the-job-fair-is-over-now-what-post-job-fair-tips/\n",
      "200 https://codeup.com/tips-for-prospective-students/10-tips-to-crush-it-at-the-sa-tech-job-fair/\n",
      "200 https://codeup.com/web-development/5-hiring-trends-in-software-development/\n",
      "200 https://codeup.com/web-development/what-makes-a-successful-software-developer/\n",
      "200 https://codeup.com/web-development/alumni-spotlight-stefanie-young-and-lorne-barfield/\n",
      "200 https://codeup.com/web-development/alumni-spotlight-mary-kaitlin-mk-warren/\n",
      "200 https://codeup.com/codeup-news/competitor-bootcamps-are-closing-is-the-model-in-danger/\n",
      "200 https://codeup.com/codeup-news/codeup-doubles-down-on-transparency-in-student-outcomes/\n",
      "200 https://codeup.com/codeup-news/the-codeup-commitment-to-your-financial-well-being/\n",
      "200 https://codeup.com/codeup-news/itt-tech-closes-new-model-of-education-rises/\n",
      "200 https://codeup.com/codeup-news/codeups-impact-on-the-san-antonio-tech-community/\n",
      "200 https://codeup.com/codeup-news/bootcamp-living-expenses-codeups-got-you-covered/\n",
      "200 https://codeup.com/it-training/what-the-heck-is-system-engineering/\n",
      "200 https://codeup.com/alumni-stories/from-speech-pathology-to-business-intelligence/\n",
      "200 https://codeup.com/behind-the-billboards/boris-behind-the-billboards/\n",
      "200 https://codeup.com/tips-for-prospective-students/6-tips-for-picking-the-best-coding-bootcamp/\n",
      "200 https://codeup.com/codeup-news/open-for-bitcoin-business/\n",
      "200 https://codeup.com/codeup-news/a-guide-to-hiring-fresh-technical-talent/\n",
      "200 https://codeup.com/tips-for-prospective-students/dont-worry-heres-the-best-bootcamp-funding-options/\n",
      "200 https://codeup.com/codeup-news/startup-week-the-little-week-that-could-and-did/\n",
      "200 https://codeup.com/codeup-news/the-results-are-in-codeup-growsup-was-a-smashing-success/\n",
      "200 https://codeup.com/codeup-news/codeup-helps-rails-girls-help-women-learn-to-code-in-san-antonio/\n",
      "200 https://codeup.com/codeup-news/filling-up-fast-with-good-reason/\n",
      "200 https://codeup.com/codeup-news/codeup-and-launchcode-partner-to-help-grads-launch-careers-in-coding/\n",
      "200 https://codeup.com/codeup-news/press-release-free-learn-to-code-bootcamp-for-veterans-and-transitioning-servicemembers-launches-in-class-portion/\n",
      "200 https://codeup.com/codeup-news/what-the-sa-tech-job-fair-says-about-san-antonio/\n",
      "200 https://codeup.com/tips-for-prospective-students/why-choose-codeup/\n",
      "200 https://codeup.com/tips-for-prospective-students/use-your-texas-unemployment-benefits-at-codeup/\n",
      "200 https://codeup.com/employers/qa-with-luis-martinez-director-of-entrepreneurship-at-trinity-university/\n",
      "Failed to parse https://codeup.com/employers/qa-with-luis-martinez-director-of-entrepreneurship-at-trinity-university/. Skipping\n",
      "200 https://codeup.com/web-development/exploring-new-domains-icanns-gtld-program/\n",
      "200 https://codeup.com/codeup-news/is-codeup-the-best-bootcamp-in-san-antonio-or-the-world/\n",
      "200 https://codeup.com/codeup-news/codeup-launches-first-podcast-hire-tech/\n",
      "200 https://codeup.com/tips-for-prospective-students/why-should-i-become-a-system-administrator/\n",
      "200 https://codeup.com/web-development/using-git-as-a-communication-tool/\n",
      "200 https://codeup.com/codeup-news/the-delorean-gets-a-ride/\n",
      "200 https://codeup.com/web-development/6-seo-tips-from-seo-guru-matt-egan/\n",
      "200 https://codeup.com/web-development/programming-like-a-girl/\n",
      "200 https://codeup.com/tips-for-prospective-students/what-is-the-value-of-a-codeup-education/\n",
      "200 https://codeup.com/codeup-news/demo-day-summary/\n",
      "200 https://codeup.com/codeup-news/codeup-named-a-top-30-coding-school/\n",
      "200 https://codeup.com/codeup-news/presidents-day-news/\n",
      "200 https://codeup.com/web-development/learn-to-code-and-keep-your-day-job/\n",
      "200 https://codeup.com/codeup-news/python-ahoy/\n",
      "200 https://codeup.com/codeup-news/a-new-trend-people-relocating-to-san-antonio-for-codeup/\n",
      "200 https://codeup.com/tips-for-prospective-students/can-a-simple-algebra-test-predict-programming-aptitude/\n",
      "200 https://codeup.com/alumni-stories/words-of-thanks-from-a-codeup-mom/\n",
      "200 https://codeup.com/web-development/advice-for-programmers/\n",
      "200 https://codeup.com/alumni-stories/womens-scholarship-recipient-stephanie-riera/\n",
      "200 https://codeup.com/codeup-news/codeup-candidate-for-accreditation/\n",
      "200 https://codeup.com/codeup-news/codeup-takes-over-more-of-the-historic-vogue-building/\n",
      "200 https://codeup.com/tips-for-prospective-students/why-you-need-the-best-coding-bootcamp-instructors/\n",
      "200 https://codeup.com/employers/how-to-hire-a-programmer-in-san-antonio/\n",
      "Failed to parse https://codeup.com/employers/how-to-hire-a-programmer-in-san-antonio/. Skipping\n",
      "200 https://codeup.com/codeup-news/top-3-reasons-to-attend-codeup-demo-day/\n",
      "200 https://codeup.com/codeup-news/where-kids-can-learn-to-code-in-san-antonio/\n",
      "200 https://codeup.com/web-development/where-to-learn-to-code-in-san-antonio/\n",
      "200 https://codeup.com/alumni-stories/codeup-success-story-nathaniel-medrano/\n",
      "200 https://codeup.com/alumni-stories/codeup-success-story-joseph-villafranca/\n",
      "200 https://codeup.com/alumni-stories/codeup-success-story-jaime-velasco/\n",
      "200 https://codeup.com/alumni-stories/codeup-success-story-cole-reveal/\n",
      "200 https://codeup.com/alumni-stories/codeup-success-story-izzy-rodriguez/\n",
      "200 https://codeup.com/alumni-stories/codeup-success-story-video-leslie-tolbert/\n",
      "200 https://codeup.com/alumni-stories/codeup-success-story-ryan-orsinger/\n",
      "200 https://codeup.com/alumni-stories/codeup-success-story-video-caitlin-daily/\n",
      "200 https://codeup.com/codeup-news/coding-bootcamps-should-publish-verifiable-results/\n",
      "200 https://codeup.com/alumni-stories/success-story-joseph-villafranca/\n",
      "200 https://codeup.com/alumni-stories/codeup-success-story-brandon-beidel/\n",
      "200 https://codeup.com/codeup-news/meet-the-new-codeup-coo-stephen-noteboom/\n",
      "200 https://codeup.com/alumni-stories/how-i-went-from-codeup-to-business-owner/\n",
      "200 https://codeup.com/tips-for-prospective-students/coding-is-for-women/\n",
      "200 https://codeup.com/tips-for-prospective-students/how-does-a-coding-bootcamp-measure-success/\n",
      "200 https://codeup.com/web-development/5-tools-every-programmer-should-use/\n",
      "200 https://codeup.com/tips-for-prospective-students/why-a-recent-grad-should-do-codeup/\n",
      "200 https://codeup.com/codeup-news/how-we-got-non-programmers-to-fizzbuzz-in-less-than-a-week/\n",
      "200 https://codeup.com/alumni-stories/student-blog-josue-plaza/\n",
      "200 https://codeup.com/alumni-stories/post-codeup-update-steven-starnes/\n",
      "200 https://codeup.com/web-development/7-signs-you-should-do-a-programming-bootcamp/\n",
      "200 https://codeup.com/alumni-stories/scholarship-recipient-amanda-beller/\n",
      "200 https://codeup.com/web-development/what-developers-need-to-have-for-their-online-presence/\n",
      "200 https://codeup.com/web-development/learning-to-code-vs-learning-to-build/\n",
      "200 https://codeup.com/alumni-stories/scholarship-recipient-kris-campos/\n",
      "200 https://codeup.com/alumni-stories/student-blog-sharon-r-a-leap-of-logic/\n",
      "200 https://codeup.com/tips-for-prospective-students/we-dont-play-the-textbook-game/\n",
      "200 https://codeup.com/alumni-stories/my-experience-at-codeup-mario-m-2/\n",
      "200 https://codeup.com/alumni-stories/my-codeup-experience-mario-m/\n",
      "200 https://codeup.com/codeup-news/codeup-acquires-rackspace-cloud-academy/\n",
      "200 https://codeup.com/tips-for-prospective-students/what-are-the-best-jobs-in-2021/\n",
      "200 https://codeup.com/codeup-news/meet-our-new-vp-of-delivery-marty-sixkiller/\n",
      "200 https://codeup.com/codeup-news/young-women-coding-laura-w/\n",
      "200 https://codeup.com/web-development/what-is-a-full-stack-developer/\n",
      "200 https://codeup.com/web-development/coding-the-new-literacy/\n",
      "200 https://codeup.com/web-development/front-end-vs-back-end/\n",
      "200 https://codeup.com/web-development/what-are-web-programmers/\n",
      "200 https://codeup.com/web-development/what-is-a-web-designer/\n",
      "200 https://codeup.com/web-development/why-colleges-suck-at-making-programmers/\n",
      "200 https://codeup.com/tips-for-prospective-students/why-do-lawyers-get-paid-the-big-money/\n",
      "200 https://codeup.com/codeup-news/the-college-financing-scam-and-how-were-doing-things-differently/\n",
      "200 https://codeup.com/codeup-news/why-isnt-the-san-antonio-tech-scene-growing-faster/\n",
      "200 https://codeup.com/codeup-news/why-people-cant-learn-programming-on-their-own/\n",
      "200 https://codeup.com/codeup-news/what-is-our-noble-cause/\n",
      "200 https://codeup.com/codeup-news/scholarships-for-women-why-were-doing-it/\n",
      "200 https://codeup.com/alumni-stories/student-profile-leslie-tolbert/\n"
     ]
    }
   ],
   "source": [
    "data = []\n",
    "for url in all_articles:\n",
    "    last_url = url\n",
    "    try:\n",
    "        article_dict = parse_codeup_article(url)\n",
    "        data.append(article_dict)\n",
    "    except:\n",
    "        print(f'Failed to parse {url}. Skipping')"
   ]
  },
  {
   "cell_type": "code",
   "execution_count": 170,
   "metadata": {},
   "outputs": [
    {
     "data": {
      "text/plain": [
       "'https://codeup.com/employers/qa-with-luis-martinez-director-of-entrepreneurship-at-trinity-university/'"
      ]
     },
     "execution_count": 170,
     "metadata": {},
     "output_type": "execute_result"
    }
   ],
   "source": [
    "last_url"
   ]
  },
  {
   "cell_type": "code",
   "execution_count": 173,
   "metadata": {},
   "outputs": [],
   "source": [
    "response = requests.get(last_url, headers=headers)"
   ]
  },
  {
   "cell_type": "code",
   "execution_count": 174,
   "metadata": {},
   "outputs": [
    {
     "data": {
      "text/plain": [
       "<Response [200]>"
      ]
     },
     "execution_count": 174,
     "metadata": {},
     "output_type": "execute_result"
    }
   ],
   "source": [
    "response"
   ]
  },
  {
   "cell_type": "code",
   "execution_count": 180,
   "metadata": {},
   "outputs": [
    {
     "data": {
      "text/plain": [
       "[1,\n",
       " 'https://codeup.com/data-science/recession-proof-career/',\n",
       " 'https://codeup.com/codeup-news/codeup-x-comic-con/',\n",
       " 'https://codeup.com/featured/series-part-3-web-development/',\n",
       " 'https://codeup.com/codeup-news/codeup-dallas-campus/',\n",
       " 'https://codeup.com/codeup-news/codeup-tv-commercial/',\n",
       " 'https://codeup.com/featured/what-jobs-can-you-get-after-a-coding-bootcamp-part-2-cloud-administration/',\n",
       " 'https://codeup.com/data-science/jobs-after-a-coding-bootcamp-part-1-data-science/',\n",
       " 'https://codeup.com/workshops/san-antonio/in-person-workshop-learn-to-code-javascript-on-7-26/',\n",
       " 'https://codeup.com/workshops/in-person-workshop-learn-to-code-python-on-7-19/',\n",
       " 'https://codeup.com/workshops/dallas/free-javascript-workshop-at-codeup-dallas-on-6-28/',\n",
       " 'https://codeup.com/tips-for-prospective-students/is-our-cloud-administration-program-right-for-you/',\n",
       " 'https://codeup.com/workshops/pride-in-tech-panel/',\n",
       " 'https://codeup.com/codeup-news/inclusion-at-codeup-during-pride-month-and-always/',\n",
       " 'https://codeup.com/tips-for-prospective-students/mental-health-first-aid-training/',\n",
       " 'https://codeup.com/workshops/codeup-dallas-how-to-succeed-at-a-coding-bootcamp-on-june-9th/',\n",
       " 'https://codeup.com/featured/5-reasons-to-attend-our-new-cloud-administration-program/',\n",
       " 'https://codeup.com/workshops/learn-to-code-python-on-5-21/',\n",
       " 'https://codeup.com/dallas-newsletter/codeup-dallas-joins-career-day/',\n",
       " 2,\n",
       " 'https://codeup.com/codeup-news/codeup-dallas-campus/',\n",
       " 'https://codeup.com/codeup-news/codeup-tv-commercial/',\n",
       " 'https://codeup.com/featured/what-jobs-can-you-get-after-a-coding-bootcamp-part-2-cloud-administration/',\n",
       " 'https://codeup.com/workshops/project-quest-info-session-may-24th/',\n",
       " 'https://codeup.com/workshops/from-bootcamp-to-bootcamp-a-military-appreciation-panel/',\n",
       " 'https://codeup.com/featured/our-acquisition-of-the-rackspace-cloud-academy-one-year-later/',\n",
       " 'https://codeup.com/workshops/virtual/learn-to-code-html-css-on-4-30/',\n",
       " 'https://codeup.com/workshops/virtual/learn-to-code-python-workshop-on-4-16/',\n",
       " 'https://codeup.com/codeup-news/coming-soon-cloud-administration/',\n",
       " 'https://codeup.com/featured/5-books-every-woman-in-tech-should-read/',\n",
       " 'https://codeup.com/codeup-news/codeup-start-dates-for-march-2022/',\n",
       " 'https://codeup.com/codeup-news/vet-tec-funding-dallas/',\n",
       " 'https://codeup.com/codeup-news/dallas-campus-re-opens-with-new-grant-partner/',\n",
       " 'https://codeup.com/codeup-news/codeups-placement-team-continues-setting-records/',\n",
       " 'https://codeup.com/it-training/it-certifications-101/',\n",
       " 'https://codeup.com/cybersecurity/a-rise-in-cyber-attacks-means-opportunities-for-veterans-in-san-antonio/',\n",
       " 'https://codeup.com/codeup-news/use-your-gi-bill-benefits-to-land-a-job-in-tech/',\n",
       " 'https://codeup.com/tips-for-prospective-students/which-program-is-right-for-me-cyber-security-or-systems-engineering/',\n",
       " 3,\n",
       " 'https://codeup.com/data-science/jobs-after-a-coding-bootcamp-part-1-data-science/',\n",
       " 'https://codeup.com/workshops/san-antonio/in-person-workshop-learn-to-code-javascript-on-7-26/',\n",
       " 'https://codeup.com/workshops/in-person-workshop-learn-to-code-python-on-7-19/',\n",
       " 'https://codeup.com/it-training/what-the-heck-is-system-engineering/',\n",
       " 'https://codeup.com/alumni-stories/from-speech-pathology-to-business-intelligence/',\n",
       " 'https://codeup.com/behind-the-billboards/boris-behind-the-billboards/',\n",
       " 'https://codeup.com/codeup-news/is-codeup-the-best-bootcamp-in-san-antonio-or-the-world/',\n",
       " 'https://codeup.com/codeup-news/codeup-launches-first-podcast-hire-tech/',\n",
       " 'https://codeup.com/tips-for-prospective-students/why-should-i-become-a-system-administrator/',\n",
       " 'https://codeup.com/codeup-news/codeup-candidate-for-accreditation/',\n",
       " 'https://codeup.com/codeup-news/codeup-takes-over-more-of-the-historic-vogue-building/',\n",
       " 'https://codeup.com/tips-for-prospective-students/why-you-need-the-best-coding-bootcamp-instructors/',\n",
       " 'https://codeup.com/codeup-news/meet-the-new-codeup-coo-stephen-noteboom/',\n",
       " 'https://codeup.com/alumni-stories/how-i-went-from-codeup-to-business-owner/',\n",
       " 'https://codeup.com/tips-for-prospective-students/coding-is-for-women/',\n",
       " 'https://codeup.com/codeup-news/codeup-acquires-rackspace-cloud-academy/',\n",
       " 'https://codeup.com/tips-for-prospective-students/what-are-the-best-jobs-in-2021/',\n",
       " 'https://codeup.com/codeup-news/meet-our-new-vp-of-delivery-marty-sixkiller/',\n",
       " 4,\n",
       " 'https://codeup.com/workshops/dallas/free-javascript-workshop-at-codeup-dallas-on-6-28/',\n",
       " 'https://codeup.com/tips-for-prospective-students/is-our-cloud-administration-program-right-for-you/',\n",
       " 'https://codeup.com/workshops/pride-in-tech-panel/',\n",
       " 'https://codeup.com/codeup-news/start-a-new-career-with-vet-tec/',\n",
       " 'https://codeup.com/codeup-news/how-to-hire-for-the-long-haul/',\n",
       " 'https://codeup.com/codeup-news/know-who-youre-hiring/',\n",
       " 'https://codeup.com/tips-for-prospective-students/do-coding-bootcamps-help-you-get-a-job/',\n",
       " 'https://codeup.com/data-science/why-you-should-become-a-data-scientist/',\n",
       " 'https://codeup.com/hiring/hiring-diverse-talent-with-codeup/',\n",
       " 'https://codeup.com/codeup-news/screening-candidates-just-got-easier-and-more-fun/',\n",
       " 'https://codeup.com/codeup-news/how-codeup-paid-off-for-both-employee-and-employer/',\n",
       " 'https://codeup.com/codeup-news/college-in-decline-and-bootcamps-on-the-rise-amid-covid-19/',\n",
       " 'https://codeup.com/web-development/why-should-you-become-a-web-developer/',\n",
       " 'https://codeup.com/codeup-news/codeup-2020-year-in-review/',\n",
       " 'https://codeup.com/tips-for-prospective-students/oops-i-got-a-degree-in/',\n",
       " 'https://codeup.com/codeup-news/employer-influenced-curriculum/',\n",
       " 'https://codeup.com/codeup-news/salary-refund-guarantee/',\n",
       " 'https://codeup.com/codeup-news/annie-easley-scholarship/',\n",
       " 5,\n",
       " 'https://codeup.com/codeup-news/inclusion-at-codeup-during-pride-month-and-always/',\n",
       " 'https://codeup.com/tips-for-prospective-students/mental-health-first-aid-training/',\n",
       " 'https://codeup.com/workshops/codeup-dallas-how-to-succeed-at-a-coding-bootcamp-on-june-9th/',\n",
       " 'https://codeup.com/codeup-news/codeup-houston-bootcamp/',\n",
       " 'https://codeup.com/data-science/math-in-data-science/',\n",
       " 'https://codeup.com/dallas-newsletter/fight-covid-19-data-challenge/',\n",
       " 'https://codeup.com/codeup-news/celebrating-world-mental-health-day/',\n",
       " 'https://codeup.com/behind-the-billboards/abby-behind-the-billboards/',\n",
       " 'https://codeup.com/tips-for-prospective-students/what-to-expect-at-codeup/',\n",
       " 'https://codeup.com/tips-for-prospective-students/codeup-application-process/',\n",
       " 'https://codeup.com/data-science/transition-into-data-science/',\n",
       " 'https://codeup.com/data-science/data-science-career/',\n",
       " 'https://codeup.com/data-science/what-is-python/',\n",
       " 'https://codeup.com/data-science/what-is-machine-learning/',\n",
       " 'https://codeup.com/tips-for-prospective-students/education-is-an-investment/',\n",
       " 'https://codeup.com/codeup-news/fastest-growing-private-companies/',\n",
       " 'https://codeup.com/tips-for-prospective-students/build-your-career-in-tech/',\n",
       " 'https://codeup.com/data-science/codeup-wins-civtech-datathon/',\n",
       " 6,\n",
       " 'https://codeup.com/featured/5-reasons-to-attend-our-new-cloud-administration-program/',\n",
       " 'https://codeup.com/workshops/learn-to-code-python-on-5-21/',\n",
       " 'https://codeup.com/dallas-newsletter/codeup-dallas-joins-career-day/',\n",
       " 'https://codeup.com/web-development/codeup-alumni-make-water/',\n",
       " 'https://codeup.com/web-development/journey-into-web-development/',\n",
       " 'https://codeup.com/tips-for-prospective-students/succeed-in-a-coding-bootcamp/',\n",
       " 'https://codeup.com/data-science/data-science-without-a-degree/',\n",
       " 'https://codeup.com/data-science/data-science-student-experience/',\n",
       " 'https://codeup.com/tips-for-prospective-students/military-veterans-in-tech/',\n",
       " 'https://codeup.com/tips-for-prospective-students/how-to-get-started-on-a-programming-exercise/',\n",
       " 'https://codeup.com/data-science/career-in-data-science/',\n",
       " 'https://codeup.com/tips-for-prospective-students/getting-hired-in-a-remote-environment/',\n",
       " 'https://codeup.com/codeup-news/codeup-remote-students/',\n",
       " 'https://codeup.com/codeup-news/covid-relief/',\n",
       " 'https://codeup.com/alumni-stories/discovering-my-passion-through-codeup/',\n",
       " 'https://codeup.com/tips-for-prospective-students/covid-19/',\n",
       " 'https://codeup.com/tips-for-prospective-students/15-tips-for-virtual-interview-and-meetings/',\n",
       " 'https://codeup.com/alumni-stories/setting-myself-up-for-success-at-codeup/',\n",
       " 7,\n",
       " 'https://codeup.com/workshops/project-quest-info-session-may-24th/',\n",
       " 'https://codeup.com/workshops/from-bootcamp-to-bootcamp-a-military-appreciation-panel/',\n",
       " 'https://codeup.com/featured/our-acquisition-of-the-rackspace-cloud-academy-one-year-later/',\n",
       " 'https://codeup.com/alumni-stories/landing-my-dream-job-through-a-web-development-course/',\n",
       " 'https://codeup.com/tips-for-prospective-students/a-second-career-start/',\n",
       " 'https://codeup.com/codeup-news/2019-codeup/',\n",
       " 'https://codeup.com/tips-for-prospective-students/how-to-pick-coding-bootcamp-curriculum/',\n",
       " 'https://codeup.com/tips-for-prospective-students/your-investment-with-codeup/',\n",
       " 'https://codeup.com/web-development/best-path-to-software-development-is-not-a-four-year-degree/',\n",
       " 'https://codeup.com/tips-for-prospective-students/financial-aid-options/',\n",
       " 'https://codeup.com/dallas-newsletter/software-development-mentors/',\n",
       " 'https://codeup.com/data-science/ds-mentors/',\n",
       " 'https://codeup.com/alumni-stories/breaking-the-mold-my-journey-to-become-a-software-developer/',\n",
       " 'https://codeup.com/codeup-news/are-coding-schools-regulated-in-texas-it-depends/',\n",
       " 'https://codeup.com/tips-for-prospective-students/thinking-about-a-bootcamp-to-transition-careers/',\n",
       " 'https://codeup.com/dallas-newsletter/its-official-codeup-is-in-dallas/',\n",
       " 'https://codeup.com/alumni-stories/how-i-became-a-software-developer-with-codeup/',\n",
       " 'https://codeup.com/codeup-news/why-i-chose-to-teach-at-codeup/',\n",
       " 8,\n",
       " 'https://codeup.com/workshops/virtual/learn-to-code-html-css-on-4-30/',\n",
       " 'https://codeup.com/workshops/virtual/learn-to-code-python-workshop-on-4-16/',\n",
       " 'https://codeup.com/codeup-news/coming-soon-cloud-administration/',\n",
       " 'https://codeup.com/alumni-stories/how-a-year-of-life-change-lead-me-to-codeup/',\n",
       " 'https://codeup.com/codeup-news/codeup-talks-expanding-its-coding-school-to-all-of-texas-2/',\n",
       " 'https://codeup.com/codeup-news/why-codeup-is-bringing-its-software-bootcamp-to-north-texas/',\n",
       " 'https://codeup.com/alumni-stories/how-i-paid-43-for-my-codeup-tuition/',\n",
       " 'https://codeup.com/dallas-newsletter/codeup-dallas-now-taking-applications/',\n",
       " 'https://codeup.com/codeup-news/a-quest-through-codeup/',\n",
       " 'https://codeup.com/data-science/quickpath-solving-the-data-science-talent-shortage-with-codeup/',\n",
       " 'https://codeup.com/codeup-news/codeup-set-to-open-dallas-campus/',\n",
       " 'https://codeup.com/dallas-newsletter/local-career-accelerator-program-expanding-to-dallas/',\n",
       " 'https://codeup.com/dallas-newsletter/codeup-set-to-open-coding-school-in-dallas/',\n",
       " 'https://codeup.com/codeup-news/codeup-to-open-dallas-campus-in-2020/',\n",
       " 'https://codeup.com/dallas-newsletter/local-coding-school-expanding-to-dallas/',\n",
       " 'https://codeup.com/dallas-newsletter/codeup-dallas-2020/',\n",
       " 'https://codeup.com/data-science/data-science-in-the-real-world/',\n",
       " 'https://codeup.com/codeup-news/a-quest-through-codeup-2/',\n",
       " 9,\n",
       " 'https://codeup.com/featured/5-books-every-woman-in-tech-should-read/',\n",
       " 'https://codeup.com/codeup-news/codeup-start-dates-for-march-2022/',\n",
       " 'https://codeup.com/codeup-news/vet-tec-funding-dallas/',\n",
       " 'https://codeup.com/alumni-stories/from-bootcamp-to-bootcamp-how-i-found-purpose-through-coding/',\n",
       " 'https://codeup.com/tips-for-prospective-students/5-common-excuses-keeping-you-from-breaking-into-the-tech-field/',\n",
       " 'https://codeup.com/codeup-news/why-san-antonio-has-more-than-tacos-to-offer/',\n",
       " 'https://codeup.com/data-science/everyday-encounters-with-data-science/',\n",
       " 'https://codeup.com/codeup-news/codeup-grows-up-5th-birthday-party/',\n",
       " 'https://codeup.com/web-development/coding-resolutions-for-the-new-year/',\n",
       " 'https://codeup.com/alumni-stories/codeup-prepared-career/',\n",
       " 'https://codeup.com/alumni-stories/why-im-thankful-for-codeup/',\n",
       " 'https://codeup.com/alumni-stories/path-codeup-coding-bootcamps/',\n",
       " 'https://codeup.com/codeup-news/codeup-student-check-in-month-3/',\n",
       " 'https://codeup.com/alumni-stories/styling-hair-stying-interfaces/',\n",
       " 'https://codeup.com/alumni-stories/from-cooking-steaks-to-cooking-code/',\n",
       " 'https://codeup.com/data-science/data-science-myths/',\n",
       " 'https://codeup.com/web-development/dont-be-scared-of-coding/',\n",
       " 'https://codeup.com/data-science/where-do-data-scientists-come-from/',\n",
       " 10,\n",
       " 'https://codeup.com/codeup-news/dallas-campus-re-opens-with-new-grant-partner/',\n",
       " 'https://codeup.com/codeup-news/codeups-placement-team-continues-setting-records/',\n",
       " 'https://codeup.com/it-training/it-certifications-101/',\n",
       " 'https://codeup.com/data-science/data-science-vs-data-analytics-whats-the-difference/',\n",
       " 'https://codeup.com/web-development/debugging-with-codey-the-rubber-duck/',\n",
       " 'https://codeup.com/alumni-stories/from-the-service-industry-to-software-development/',\n",
       " 'https://codeup.com/codeup-news/codeup-student-check-in-month-2/',\n",
       " 'https://codeup.com/data-science/codeups-data-science-career-accelerator-is-here/',\n",
       " 'https://codeup.com/tips-for-prospective-students/which-program-is-right-for-me/',\n",
       " 'https://codeup.com/alumni-stories/from-a-recent-college-grad-to-software-developer/',\n",
       " 'https://codeup.com/tips-for-prospective-students/5-things-codeup-doesnt-tell-you/',\n",
       " 'https://codeup.com/codeup-news/the-message-behind-our-billboards/',\n",
       " 'https://codeup.com/tips-for-prospective-students/skills-fund-financing-to-fuel-your-codeup-future/',\n",
       " 'https://codeup.com/data-science/what-is-data-science/',\n",
       " 'https://codeup.com/codeup-news/women-in-tech-scholarship-recipient-amy/',\n",
       " 'https://codeup.com/tips-for-prospective-students/anxious-about-the-job-fair/',\n",
       " 'https://codeup.com/codeup-news/codeup-student-check-in-month-1/',\n",
       " 'https://codeup.com/codeup-news/announcing-our-new-scholarship-minorities-in-tech-scholarship/',\n",
       " 11,\n",
       " 'https://codeup.com/cybersecurity/a-rise-in-cyber-attacks-means-opportunities-for-veterans-in-san-antonio/',\n",
       " 'https://codeup.com/codeup-news/use-your-gi-bill-benefits-to-land-a-job-in-tech/',\n",
       " 'https://codeup.com/tips-for-prospective-students/which-program-is-right-for-me-cyber-security-or-systems-engineering/',\n",
       " 'https://codeup.com/codeup-news/fresh-out-of-codeup-cayden-simler/',\n",
       " 'https://codeup.com/codeup-news/top-trends-and-tools-for-recruiters-in-the-tech-industry/',\n",
       " 'https://codeup.com/codeup-news/all-about-the-alamo-colleges-partnership/',\n",
       " 'https://codeup.com/tips-for-prospective-students/the-job-fair-is-over-now-what-post-job-fair-tips/',\n",
       " 'https://codeup.com/tips-for-prospective-students/10-tips-to-crush-it-at-the-sa-tech-job-fair/',\n",
       " 'https://codeup.com/web-development/5-hiring-trends-in-software-development/',\n",
       " 'https://codeup.com/web-development/what-makes-a-successful-software-developer/',\n",
       " 'https://codeup.com/web-development/alumni-spotlight-stefanie-young-and-lorne-barfield/',\n",
       " 'https://codeup.com/web-development/alumni-spotlight-mary-kaitlin-mk-warren/',\n",
       " 'https://codeup.com/codeup-news/competitor-bootcamps-are-closing-is-the-model-in-danger/',\n",
       " 'https://codeup.com/codeup-news/codeup-doubles-down-on-transparency-in-student-outcomes/',\n",
       " 'https://codeup.com/codeup-news/the-codeup-commitment-to-your-financial-well-being/',\n",
       " 'https://codeup.com/codeup-news/itt-tech-closes-new-model-of-education-rises/',\n",
       " 'https://codeup.com/codeup-news/codeups-impact-on-the-san-antonio-tech-community/',\n",
       " 'https://codeup.com/codeup-news/bootcamp-living-expenses-codeups-got-you-covered/',\n",
       " 12,\n",
       " 'https://codeup.com/it-training/what-the-heck-is-system-engineering/',\n",
       " 'https://codeup.com/alumni-stories/from-speech-pathology-to-business-intelligence/',\n",
       " 'https://codeup.com/behind-the-billboards/boris-behind-the-billboards/',\n",
       " 'https://codeup.com/tips-for-prospective-students/6-tips-for-picking-the-best-coding-bootcamp/',\n",
       " 'https://codeup.com/codeup-news/open-for-bitcoin-business/',\n",
       " 'https://codeup.com/codeup-news/a-guide-to-hiring-fresh-technical-talent/',\n",
       " 'https://codeup.com/tips-for-prospective-students/dont-worry-heres-the-best-bootcamp-funding-options/',\n",
       " 'https://codeup.com/codeup-news/startup-week-the-little-week-that-could-and-did/',\n",
       " 'https://codeup.com/codeup-news/the-results-are-in-codeup-growsup-was-a-smashing-success/',\n",
       " 'https://codeup.com/codeup-news/codeup-helps-rails-girls-help-women-learn-to-code-in-san-antonio/',\n",
       " 'https://codeup.com/codeup-news/filling-up-fast-with-good-reason/',\n",
       " 'https://codeup.com/codeup-news/codeup-and-launchcode-partner-to-help-grads-launch-careers-in-coding/',\n",
       " 'https://codeup.com/codeup-news/press-release-free-learn-to-code-bootcamp-for-veterans-and-transitioning-servicemembers-launches-in-class-portion/',\n",
       " 'https://codeup.com/codeup-news/what-the-sa-tech-job-fair-says-about-san-antonio/',\n",
       " 'https://codeup.com/tips-for-prospective-students/why-choose-codeup/',\n",
       " 'https://codeup.com/tips-for-prospective-students/use-your-texas-unemployment-benefits-at-codeup/',\n",
       " 'https://codeup.com/employers/qa-with-luis-martinez-director-of-entrepreneurship-at-trinity-university/',\n",
       " 'https://codeup.com/web-development/exploring-new-domains-icanns-gtld-program/',\n",
       " 13,\n",
       " 'https://codeup.com/codeup-news/is-codeup-the-best-bootcamp-in-san-antonio-or-the-world/',\n",
       " 'https://codeup.com/codeup-news/codeup-launches-first-podcast-hire-tech/',\n",
       " 'https://codeup.com/tips-for-prospective-students/why-should-i-become-a-system-administrator/',\n",
       " 'https://codeup.com/web-development/using-git-as-a-communication-tool/',\n",
       " 'https://codeup.com/codeup-news/the-delorean-gets-a-ride/',\n",
       " 'https://codeup.com/web-development/6-seo-tips-from-seo-guru-matt-egan/',\n",
       " 'https://codeup.com/web-development/programming-like-a-girl/',\n",
       " 'https://codeup.com/tips-for-prospective-students/what-is-the-value-of-a-codeup-education/',\n",
       " 'https://codeup.com/codeup-news/demo-day-summary/',\n",
       " 'https://codeup.com/codeup-news/codeup-named-a-top-30-coding-school/',\n",
       " 'https://codeup.com/codeup-news/presidents-day-news/',\n",
       " 'https://codeup.com/web-development/learn-to-code-and-keep-your-day-job/',\n",
       " 'https://codeup.com/codeup-news/python-ahoy/',\n",
       " 'https://codeup.com/codeup-news/a-new-trend-people-relocating-to-san-antonio-for-codeup/',\n",
       " 'https://codeup.com/tips-for-prospective-students/can-a-simple-algebra-test-predict-programming-aptitude/',\n",
       " 'https://codeup.com/alumni-stories/words-of-thanks-from-a-codeup-mom/',\n",
       " 'https://codeup.com/web-development/advice-for-programmers/',\n",
       " 'https://codeup.com/alumni-stories/womens-scholarship-recipient-stephanie-riera/',\n",
       " 14,\n",
       " 'https://codeup.com/codeup-news/codeup-candidate-for-accreditation/',\n",
       " 'https://codeup.com/codeup-news/codeup-takes-over-more-of-the-historic-vogue-building/',\n",
       " 'https://codeup.com/tips-for-prospective-students/why-you-need-the-best-coding-bootcamp-instructors/',\n",
       " 'https://codeup.com/employers/how-to-hire-a-programmer-in-san-antonio/',\n",
       " 'https://codeup.com/codeup-news/top-3-reasons-to-attend-codeup-demo-day/',\n",
       " 'https://codeup.com/codeup-news/where-kids-can-learn-to-code-in-san-antonio/',\n",
       " 'https://codeup.com/web-development/where-to-learn-to-code-in-san-antonio/',\n",
       " 'https://codeup.com/alumni-stories/codeup-success-story-nathaniel-medrano/',\n",
       " 'https://codeup.com/alumni-stories/codeup-success-story-joseph-villafranca/',\n",
       " 'https://codeup.com/alumni-stories/codeup-success-story-jaime-velasco/',\n",
       " 'https://codeup.com/alumni-stories/codeup-success-story-cole-reveal/',\n",
       " 'https://codeup.com/alumni-stories/codeup-success-story-izzy-rodriguez/',\n",
       " 'https://codeup.com/alumni-stories/codeup-success-story-video-leslie-tolbert/',\n",
       " 'https://codeup.com/alumni-stories/codeup-success-story-ryan-orsinger/',\n",
       " 'https://codeup.com/alumni-stories/codeup-success-story-video-caitlin-daily/',\n",
       " 'https://codeup.com/codeup-news/coding-bootcamps-should-publish-verifiable-results/',\n",
       " 'https://codeup.com/alumni-stories/success-story-joseph-villafranca/',\n",
       " 'https://codeup.com/alumni-stories/codeup-success-story-brandon-beidel/',\n",
       " 15,\n",
       " 'https://codeup.com/codeup-news/meet-the-new-codeup-coo-stephen-noteboom/',\n",
       " 'https://codeup.com/alumni-stories/how-i-went-from-codeup-to-business-owner/',\n",
       " 'https://codeup.com/tips-for-prospective-students/coding-is-for-women/',\n",
       " 'https://codeup.com/tips-for-prospective-students/how-does-a-coding-bootcamp-measure-success/',\n",
       " 'https://codeup.com/web-development/5-tools-every-programmer-should-use/',\n",
       " 'https://codeup.com/tips-for-prospective-students/why-a-recent-grad-should-do-codeup/',\n",
       " 'https://codeup.com/codeup-news/how-we-got-non-programmers-to-fizzbuzz-in-less-than-a-week/',\n",
       " 'https://codeup.com/alumni-stories/student-blog-josue-plaza/',\n",
       " 'https://codeup.com/alumni-stories/post-codeup-update-steven-starnes/',\n",
       " 'https://codeup.com/web-development/7-signs-you-should-do-a-programming-bootcamp/',\n",
       " 'https://codeup.com/alumni-stories/scholarship-recipient-amanda-beller/',\n",
       " 'https://codeup.com/web-development/what-developers-need-to-have-for-their-online-presence/',\n",
       " 'https://codeup.com/web-development/learning-to-code-vs-learning-to-build/',\n",
       " 'https://codeup.com/alumni-stories/scholarship-recipient-kris-campos/',\n",
       " 'https://codeup.com/alumni-stories/student-blog-sharon-r-a-leap-of-logic/',\n",
       " 'https://codeup.com/tips-for-prospective-students/we-dont-play-the-textbook-game/',\n",
       " 'https://codeup.com/alumni-stories/my-experience-at-codeup-mario-m-2/',\n",
       " 'https://codeup.com/alumni-stories/my-codeup-experience-mario-m/',\n",
       " 16,\n",
       " 'https://codeup.com/codeup-news/codeup-acquires-rackspace-cloud-academy/',\n",
       " 'https://codeup.com/tips-for-prospective-students/what-are-the-best-jobs-in-2021/',\n",
       " 'https://codeup.com/codeup-news/meet-our-new-vp-of-delivery-marty-sixkiller/',\n",
       " 'https://codeup.com/codeup-news/young-women-coding-laura-w/',\n",
       " 'https://codeup.com/web-development/what-is-a-full-stack-developer/',\n",
       " 'https://codeup.com/web-development/coding-the-new-literacy/',\n",
       " 'https://codeup.com/web-development/front-end-vs-back-end/',\n",
       " 'https://codeup.com/web-development/what-are-web-programmers/',\n",
       " 'https://codeup.com/web-development/what-is-a-web-designer/',\n",
       " 'https://codeup.com/web-development/why-colleges-suck-at-making-programmers/',\n",
       " 'https://codeup.com/tips-for-prospective-students/why-do-lawyers-get-paid-the-big-money/',\n",
       " 'https://codeup.com/codeup-news/the-college-financing-scam-and-how-were-doing-things-differently/',\n",
       " 'https://codeup.com/codeup-news/why-isnt-the-san-antonio-tech-scene-growing-faster/',\n",
       " 'https://codeup.com/codeup-news/why-people-cant-learn-programming-on-their-own/',\n",
       " 'https://codeup.com/codeup-news/what-is-our-noble-cause/',\n",
       " 'https://codeup.com/codeup-news/scholarships-for-women-why-were-doing-it/',\n",
       " 'https://codeup.com/alumni-stories/student-profile-leslie-tolbert/']"
      ]
     },
     "execution_count": 180,
     "metadata": {},
     "output_type": "execute_result"
    }
   ],
   "source": [
    "debug_urls = get_all_articles(blog_home, debug=True)\n",
    "debug_urls"
   ]
  },
  {
   "cell_type": "code",
   "execution_count": 184,
   "metadata": {},
   "outputs": [],
   "source": [
    "df = pd.DataFrame(data)"
   ]
  },
  {
   "cell_type": "code",
   "execution_count": 185,
   "metadata": {},
   "outputs": [],
   "source": [
    "df.to_csv('./cache/codeup-articles.csv', index=False)"
   ]
  },
  {
   "cell_type": "code",
   "execution_count": 186,
   "metadata": {},
   "outputs": [
    {
     "data": {
      "text/plain": [
       "True"
      ]
     },
     "execution_count": 186,
     "metadata": {},
     "output_type": "execute_result"
    }
   ],
   "source": [
    "import os\n",
    "\n",
    "os.path.isfile('./cache/./codeup-articles.csv')"
   ]
  },
  {
   "cell_type": "code",
   "execution_count": 189,
   "metadata": {},
   "outputs": [],
   "source": [
    "SEED = 8\n",
    "CACHE_DIR = './cache/'\n",
    "CSV='./codeup-articles.csv'\n",
    "\n",
    "def blog_new_data():\n",
    "    blog_home = 'https://codeup.com/blog/'\n",
    "    all_articles = get_all_articles(blog_home=blog_home)\n",
    "    data = []\n",
    "    for url in all_articles:\n",
    "        try:\n",
    "            article_dict = parse_codeup_article(url)\n",
    "            data.append(article_dict)\n",
    "        except:\n",
    "            print(f'Failed to parse {url} ... Skipping')\n",
    "    df = pd.DataFrame(data)\n",
    "    return df\n",
    "\n",
    "def blog_get_data(refresh=False):\n",
    "    path = CACHE_DIR+CSV\n",
    "    cached = os.path.isfile(path)\n",
    "    if refresh or not cached:\n",
    "        df = blog_new_data()\n",
    "        df.to_csv(path)\n",
    "    else:\n",
    "        df = pd.read_csv(path)\n",
    "    return df"
   ]
  },
  {
   "cell_type": "code",
   "execution_count": 190,
   "metadata": {},
   "outputs": [],
   "source": [
    "df = blog_get_data()"
   ]
  },
  {
   "cell_type": "code",
   "execution_count": 191,
   "metadata": {},
   "outputs": [
    {
     "data": {
      "text/html": [
       "<div>\n",
       "<style scoped>\n",
       "    .dataframe tbody tr th:only-of-type {\n",
       "        vertical-align: middle;\n",
       "    }\n",
       "\n",
       "    .dataframe tbody tr th {\n",
       "        vertical-align: top;\n",
       "    }\n",
       "\n",
       "    .dataframe thead th {\n",
       "        text-align: right;\n",
       "    }\n",
       "</style>\n",
       "<table border=\"1\" class=\"dataframe\">\n",
       "  <thead>\n",
       "    <tr style=\"text-align: right;\">\n",
       "      <th></th>\n",
       "      <th>title</th>\n",
       "      <th>published</th>\n",
       "      <th>category</th>\n",
       "      <th>content</th>\n",
       "    </tr>\n",
       "  </thead>\n",
       "  <tbody>\n",
       "    <tr>\n",
       "      <th>0</th>\n",
       "      <td>Is a Career in Tech Recession-Proof?</td>\n",
       "      <td>Aug 12, 2022</td>\n",
       "      <td>Cloud Administration</td>\n",
       "      <td>\\nGiven the current economic climate, many eco...</td>\n",
       "    </tr>\n",
       "    <tr>\n",
       "      <th>1</th>\n",
       "      <td>Codeup X Superhero Car Show &amp; Comic Con</td>\n",
       "      <td>Aug 10, 2022</td>\n",
       "      <td>Codeup News</td>\n",
       "      <td>\\nCodeup had a blast at the San Antonio Superh...</td>\n",
       "    </tr>\n",
       "    <tr>\n",
       "      <th>2</th>\n",
       "      <td>What Jobs Can You Get After a Coding Bootcamp?...</td>\n",
       "      <td>Aug 2, 2022</td>\n",
       "      <td>Featured</td>\n",
       "      <td>\\nIf you’re considering a career in web develo...</td>\n",
       "    </tr>\n",
       "    <tr>\n",
       "      <th>3</th>\n",
       "      <td>Codeup’s New Dallas Campus</td>\n",
       "      <td>Jul 25, 2022</td>\n",
       "      <td>Codeup News</td>\n",
       "      <td>\\nCodeup’s Dallas campus has a new location! F...</td>\n",
       "    </tr>\n",
       "    <tr>\n",
       "      <th>4</th>\n",
       "      <td>Codeup TV Commercial</td>\n",
       "      <td>Jul 20, 2022</td>\n",
       "      <td>Codeup News</td>\n",
       "      <td>\\nCodeup has officially made its TV debut! Our...</td>\n",
       "    </tr>\n",
       "  </tbody>\n",
       "</table>\n",
       "</div>"
      ],
      "text/plain": [
       "                                               title     published  \\\n",
       "0               Is a Career in Tech Recession-Proof?  Aug 12, 2022   \n",
       "1            Codeup X Superhero Car Show & Comic Con  Aug 10, 2022   \n",
       "2  What Jobs Can You Get After a Coding Bootcamp?...   Aug 2, 2022   \n",
       "3                         Codeup’s New Dallas Campus  Jul 25, 2022   \n",
       "4                               Codeup TV Commercial  Jul 20, 2022   \n",
       "\n",
       "               category                                            content  \n",
       "0  Cloud Administration  \\nGiven the current economic climate, many eco...  \n",
       "1           Codeup News  \\nCodeup had a blast at the San Antonio Superh...  \n",
       "2              Featured  \\nIf you’re considering a career in web develo...  \n",
       "3           Codeup News  \\nCodeup’s Dallas campus has a new location! F...  \n",
       "4           Codeup News  \\nCodeup has officially made its TV debut! Our...  "
      ]
     },
     "execution_count": 191,
     "metadata": {},
     "output_type": "execute_result"
    }
   ],
   "source": [
    "df.head()"
   ]
  },
  {
   "cell_type": "markdown",
   "metadata": {},
   "source": [
    "## News Articles (2)\n",
    "    \n",
    "We will now be scraping text data from [inshorts](https://inshorts.com/), a website that provides a brief overview of many different topics.\n",
    "\n",
    "Write a function that scrapes the news articles for the following topics:\n",
    "\n",
    "- Business\n",
    "- Sports\n",
    "- Technology\n",
    "- Entertainment\n",
    "\n",
    "The end product of this should be a function named `get_news_articles` that returns a list of dictionaries, where each dictionary has this shape:\n",
    "\n",
    "```\n",
    "{\n",
    "    'title': 'The article title',\n",
    "    'content': 'The article content',\n",
    "    'category': 'business' # for example\n",
    "}\n",
    "``` \n",
    "\n",
    "Hints:\n",
    "\n",
    "1. Start by inspecting the website in your browser. Figure out which elements will be useful.\n",
    "2. Start by creating a function that handles a single article and produces a dictionary like the one above.\n",
    "3. Next create a function that will find all the articles on a single page and call the function you created in the last step for every article on the page.\n",
    "4. Now create a function that will use the previous two functions to scrape the articles from all the pages that you need, and do any additional processing that needs to be done.\n"
   ]
  },
  {
   "cell_type": "code",
   "execution_count": 243,
   "metadata": {},
   "outputs": [],
   "source": [
    "categories = [\n",
    "    'business',\n",
    "    'sports',\n",
    "    'technology',\n",
    "    'entertainment',\n",
    "]\n",
    "\n",
    "base_url = 'https://inshorts.com/en/read/'"
   ]
  },
  {
   "cell_type": "code",
   "execution_count": 260,
   "metadata": {},
   "outputs": [],
   "source": [
    "def get_soup(url, headers = {'User-Agent': 'Codeup Data Science'}):\n",
    "    import re\n",
    "    from bs4 import BeautifulSoup\n",
    "    response = requests.get(url, headers=headers)\n",
    "    return BeautifulSoup(response.content)"
   ]
  },
  {
   "cell_type": "code",
   "execution_count": 261,
   "metadata": {},
   "outputs": [],
   "source": [
    "soup = get_soup(base_url+'sports')"
   ]
  },
  {
   "cell_type": "code",
   "execution_count": 262,
   "metadata": {},
   "outputs": [],
   "source": [
    "cards = soup.find_all(class_='news-card' )"
   ]
  },
  {
   "cell_type": "code",
   "execution_count": 245,
   "metadata": {},
   "outputs": [
    {
     "data": {
      "text/plain": [
       "25"
      ]
     },
     "execution_count": 245,
     "metadata": {},
     "output_type": "execute_result"
    }
   ],
   "source": [
    "len(cards)"
   ]
  },
  {
   "cell_type": "code",
   "execution_count": 263,
   "metadata": {},
   "outputs": [
    {
     "data": {
      "text/plain": [
       "{'title': \"Andre Russell shares video of him hitting 6 sixes in a row in THE 6IXTY, says 'God's plan'\",\n",
       " 'author': 'Anmol Sharma',\n",
       " 'published': '2022-08-30T16:23:18.000Z',\n",
       " 'category': 'sports',\n",
       " 'source': 'https://www.instagram.com/p/Ch2s7xSgXIQ/?hl=en&utm_campaign=fullarticle&utm_medium=referral&utm_source=inshorts ',\n",
       " 'content': 'All-rounder Andre Russell took to Instagram to share a video of him slamming six sixes in a row while playing for Trinbago Knight Riders against St Kitts and Nevis Patriots in THE 6IXTY. Russell slammed four consecutive sixes off Dominic Drakes before slamming two sixes off the next two deliveries bowled by Jon-Russ Jaggesar. \"God\\'s plan,\" Russell captioned the video.'}"
      ]
     },
     "execution_count": 263,
     "metadata": {},
     "output_type": "execute_result"
    }
   ],
   "source": [
    "def get_soup(url, headers = {'User-Agent': 'Codeup Data Science'}):\n",
    "    import re\n",
    "    from bs4 import BeautifulSoup\n",
    "    response = requests.get(url, headers=headers)\n",
    "    return BeautifulSoup(response.content)\n",
    "\n",
    "\n",
    "card = cards[0]\n",
    "category = 'sports'\n",
    "{\n",
    "    'title': card.find(itemprop='headline').string,\n",
    "    'author': card.find(class_='author').string,\n",
    "    'published': card.find(class_='time')['content'],\n",
    "    'category': category,\n",
    "    'source': card.find(class_='source')['href'],\n",
    "    'content': card.find(itemprop='articleBody').text\n",
    "}"
   ]
  },
  {
   "cell_type": "code",
   "execution_count": 267,
   "metadata": {},
   "outputs": [],
   "source": [
    "def get_soup(url, headers = {'User-Agent': 'Codeup Data Science'}):\n",
    "    import re\n",
    "    from bs4 import BeautifulSoup\n",
    "    response = requests.get(url, headers=headers)\n",
    "    return BeautifulSoup(response.content)\n",
    "\n",
    "def news_new_data():\n",
    "    base_url = 'https://inshorts.com/en/read/'\n",
    "    categories = [\n",
    "        'business',\n",
    "        'sports',\n",
    "        'technology',\n",
    "        'entertainment',\n",
    "        ]\n",
    "    data = []\n",
    "    for category in categories:\n",
    "        soup = get_soup(base_url+category)\n",
    "        cards = soup.find_all(class_='news-card' )\n",
    "        for card in cards:\n",
    "            article_dict = {\n",
    "                'title': card.find(itemprop='headline').string,\n",
    "                'author': card.find(class_='author').string,\n",
    "                'published': card.find(class_='time')['content'],\n",
    "                'category': category,\n",
    "                # 'source': card.find(class_='source')['href'],\n",
    "                'content': card.find(itemprop='articleBody').text\n",
    "            }\n",
    "            data.append(article_dict)\n",
    "    df = pd.DataFrame(data)\n",
    "    return df\n"
   ]
  },
  {
   "cell_type": "code",
   "execution_count": 269,
   "metadata": {},
   "outputs": [
    {
     "data": {
      "text/html": [
       "<div>\n",
       "<style scoped>\n",
       "    .dataframe tbody tr th:only-of-type {\n",
       "        vertical-align: middle;\n",
       "    }\n",
       "\n",
       "    .dataframe tbody tr th {\n",
       "        vertical-align: top;\n",
       "    }\n",
       "\n",
       "    .dataframe thead th {\n",
       "        text-align: right;\n",
       "    }\n",
       "</style>\n",
       "<table border=\"1\" class=\"dataframe\">\n",
       "  <thead>\n",
       "    <tr style=\"text-align: right;\">\n",
       "      <th></th>\n",
       "      <th>title</th>\n",
       "      <th>author</th>\n",
       "      <th>published</th>\n",
       "      <th>category</th>\n",
       "      <th>content</th>\n",
       "    </tr>\n",
       "  </thead>\n",
       "  <tbody>\n",
       "    <tr>\n",
       "      <th>0</th>\n",
       "      <td>Adani Transmission becomes India's 8th most va...</td>\n",
       "      <td>Hiral Goyal</td>\n",
       "      <td>2022-08-30T08:23:58.000Z</td>\n",
       "      <td>business</td>\n",
       "      <td>Adani Transmission has entered the club of Ind...</td>\n",
       "    </tr>\n",
       "    <tr>\n",
       "      <th>1</th>\n",
       "      <td>Musk cites whistleblower's claims in new notic...</td>\n",
       "      <td>Ridham Gambhir</td>\n",
       "      <td>2022-08-30T12:02:31.000Z</td>\n",
       "      <td>business</td>\n",
       "      <td>Tesla CEO Elon Musk's legal team has filed ano...</td>\n",
       "    </tr>\n",
       "    <tr>\n",
       "      <th>2</th>\n",
       "      <td>No plan to rebrand Zomato app to Eternal: CEO ...</td>\n",
       "      <td>Hiral Goyal</td>\n",
       "      <td>2022-08-30T06:39:28.000Z</td>\n",
       "      <td>business</td>\n",
       "      <td>Zomato CEO Deepinder Goyal clarified in an exc...</td>\n",
       "    </tr>\n",
       "    <tr>\n",
       "      <th>3</th>\n",
       "      <td>Cancelling AC, first-class confirmed train tic...</td>\n",
       "      <td>Ridham Gambhir</td>\n",
       "      <td>2022-08-30T11:23:37.000Z</td>\n",
       "      <td>business</td>\n",
       "      <td>The Finance Ministry stated that cancellation ...</td>\n",
       "    </tr>\n",
       "    <tr>\n",
       "      <th>4</th>\n",
       "      <td>China arrests over 230 people tied to its larg...</td>\n",
       "      <td>Hiral Goyal</td>\n",
       "      <td>2022-08-30T04:50:24.000Z</td>\n",
       "      <td>business</td>\n",
       "      <td>China has announced that 234 people who are su...</td>\n",
       "    </tr>\n",
       "    <tr>\n",
       "      <th>...</th>\n",
       "      <td>...</td>\n",
       "      <td>...</td>\n",
       "      <td>...</td>\n",
       "      <td>...</td>\n",
       "      <td>...</td>\n",
       "    </tr>\n",
       "    <tr>\n",
       "      <th>95</th>\n",
       "      <td>Megan Thee Stallion to make a cameo appearance...</td>\n",
       "      <td>Kameshwari</td>\n",
       "      <td>2022-08-30T13:08:53.000Z</td>\n",
       "      <td>entertainment</td>\n",
       "      <td>Rapper Megan Thee Stallion will reportedly fea...</td>\n",
       "    </tr>\n",
       "    <tr>\n",
       "      <th>96</th>\n",
       "      <td>Michelle Yeoh to be honoured at Toronto Intern...</td>\n",
       "      <td>Kameshwari</td>\n",
       "      <td>2022-08-30T17:02:05.000Z</td>\n",
       "      <td>entertainment</td>\n",
       "      <td>Celebrated Malaysian actress Michelle Yeoh wil...</td>\n",
       "    </tr>\n",
       "    <tr>\n",
       "      <th>97</th>\n",
       "      <td>There is no perfect mother: Lillete Dubey</td>\n",
       "      <td>Kameshwari</td>\n",
       "      <td>2022-08-30T17:41:15.000Z</td>\n",
       "      <td>entertainment</td>\n",
       "      <td>Actress Lillete Dubey, who embraced motherhood...</td>\n",
       "    </tr>\n",
       "    <tr>\n",
       "      <th>98</th>\n",
       "      <td>I've danced to 'more steps' of Madhuri Dixit t...</td>\n",
       "      <td>Arnab Mukherji</td>\n",
       "      <td>2022-08-30T11:30:53.000Z</td>\n",
       "      <td>entertainment</td>\n",
       "      <td>Filmmaker Karan Johar said he has danced to \"m...</td>\n",
       "    </tr>\n",
       "    <tr>\n",
       "      <th>99</th>\n",
       "      <td>'Criminal Justice' explores justice system thr...</td>\n",
       "      <td>Kameshwari</td>\n",
       "      <td>2022-08-30T12:54:32.000Z</td>\n",
       "      <td>entertainment</td>\n",
       "      <td>Shweta Basu Prasad called 'Criminal Justice' a...</td>\n",
       "    </tr>\n",
       "  </tbody>\n",
       "</table>\n",
       "<p>100 rows × 5 columns</p>\n",
       "</div>"
      ],
      "text/plain": [
       "                                                title           author  \\\n",
       "0   Adani Transmission becomes India's 8th most va...      Hiral Goyal   \n",
       "1   Musk cites whistleblower's claims in new notic...   Ridham Gambhir   \n",
       "2   No plan to rebrand Zomato app to Eternal: CEO ...      Hiral Goyal   \n",
       "3   Cancelling AC, first-class confirmed train tic...   Ridham Gambhir   \n",
       "4   China arrests over 230 people tied to its larg...      Hiral Goyal   \n",
       "..                                                ...              ...   \n",
       "95  Megan Thee Stallion to make a cameo appearance...       Kameshwari   \n",
       "96  Michelle Yeoh to be honoured at Toronto Intern...       Kameshwari   \n",
       "97          There is no perfect mother: Lillete Dubey       Kameshwari   \n",
       "98  I've danced to 'more steps' of Madhuri Dixit t...  Arnab Mukherji    \n",
       "99  'Criminal Justice' explores justice system thr...       Kameshwari   \n",
       "\n",
       "                   published       category  \\\n",
       "0   2022-08-30T08:23:58.000Z       business   \n",
       "1   2022-08-30T12:02:31.000Z       business   \n",
       "2   2022-08-30T06:39:28.000Z       business   \n",
       "3   2022-08-30T11:23:37.000Z       business   \n",
       "4   2022-08-30T04:50:24.000Z       business   \n",
       "..                       ...            ...   \n",
       "95  2022-08-30T13:08:53.000Z  entertainment   \n",
       "96  2022-08-30T17:02:05.000Z  entertainment   \n",
       "97  2022-08-30T17:41:15.000Z  entertainment   \n",
       "98  2022-08-30T11:30:53.000Z  entertainment   \n",
       "99  2022-08-30T12:54:32.000Z  entertainment   \n",
       "\n",
       "                                              content  \n",
       "0   Adani Transmission has entered the club of Ind...  \n",
       "1   Tesla CEO Elon Musk's legal team has filed ano...  \n",
       "2   Zomato CEO Deepinder Goyal clarified in an exc...  \n",
       "3   The Finance Ministry stated that cancellation ...  \n",
       "4   China has announced that 234 people who are su...  \n",
       "..                                                ...  \n",
       "95  Rapper Megan Thee Stallion will reportedly fea...  \n",
       "96  Celebrated Malaysian actress Michelle Yeoh wil...  \n",
       "97  Actress Lillete Dubey, who embraced motherhood...  \n",
       "98  Filmmaker Karan Johar said he has danced to \"m...  \n",
       "99  Shweta Basu Prasad called 'Criminal Justice' a...  \n",
       "\n",
       "[100 rows x 5 columns]"
      ]
     },
     "execution_count": 269,
     "metadata": {},
     "output_type": "execute_result"
    }
   ],
   "source": [
    "df = news_new_data()\n",
    "df"
   ]
  },
  {
   "cell_type": "code",
   "execution_count": 271,
   "metadata": {},
   "outputs": [],
   "source": [
    "df.to_csv('./cache/news-articles.csv')"
   ]
  },
  {
   "cell_type": "code",
   "execution_count": 272,
   "metadata": {},
   "outputs": [],
   "source": [
    "CSV2 = './news-articles.csv'\n",
    "def news_get_data(refresh=False):\n",
    "    path = CACHE_DIR+CSV2\n",
    "    cached = os.path.isfile(path)\n",
    "    if refresh or not cached:\n",
    "        df = news_new_data()\n",
    "        df.to_csv(path)\n",
    "    else:\n",
    "        df = pd.read_csv(path)\n",
    "    return df"
   ]
  },
  {
   "cell_type": "code",
   "execution_count": 275,
   "metadata": {},
   "outputs": [
    {
     "data": {
      "text/html": [
       "<div>\n",
       "<style scoped>\n",
       "    .dataframe tbody tr th:only-of-type {\n",
       "        vertical-align: middle;\n",
       "    }\n",
       "\n",
       "    .dataframe tbody tr th {\n",
       "        vertical-align: top;\n",
       "    }\n",
       "\n",
       "    .dataframe thead th {\n",
       "        text-align: right;\n",
       "    }\n",
       "</style>\n",
       "<table border=\"1\" class=\"dataframe\">\n",
       "  <thead>\n",
       "    <tr style=\"text-align: right;\">\n",
       "      <th></th>\n",
       "      <th>Unnamed: 0</th>\n",
       "      <th>title</th>\n",
       "      <th>author</th>\n",
       "      <th>published</th>\n",
       "      <th>category</th>\n",
       "      <th>content</th>\n",
       "    </tr>\n",
       "  </thead>\n",
       "  <tbody>\n",
       "    <tr>\n",
       "      <th>0</th>\n",
       "      <td>0</td>\n",
       "      <td>Adani Transmission becomes India's 8th most va...</td>\n",
       "      <td>Hiral Goyal</td>\n",
       "      <td>2022-08-30T08:23:58.000Z</td>\n",
       "      <td>business</td>\n",
       "      <td>Adani Transmission has entered the club of Ind...</td>\n",
       "    </tr>\n",
       "    <tr>\n",
       "      <th>1</th>\n",
       "      <td>1</td>\n",
       "      <td>Musk cites whistleblower's claims in new notic...</td>\n",
       "      <td>Ridham Gambhir</td>\n",
       "      <td>2022-08-30T12:02:31.000Z</td>\n",
       "      <td>business</td>\n",
       "      <td>Tesla CEO Elon Musk's legal team has filed ano...</td>\n",
       "    </tr>\n",
       "    <tr>\n",
       "      <th>2</th>\n",
       "      <td>2</td>\n",
       "      <td>No plan to rebrand Zomato app to Eternal: CEO ...</td>\n",
       "      <td>Hiral Goyal</td>\n",
       "      <td>2022-08-30T06:39:28.000Z</td>\n",
       "      <td>business</td>\n",
       "      <td>Zomato CEO Deepinder Goyal clarified in an exc...</td>\n",
       "    </tr>\n",
       "    <tr>\n",
       "      <th>3</th>\n",
       "      <td>3</td>\n",
       "      <td>Cancelling AC, first-class confirmed train tic...</td>\n",
       "      <td>Ridham Gambhir</td>\n",
       "      <td>2022-08-30T11:23:37.000Z</td>\n",
       "      <td>business</td>\n",
       "      <td>The Finance Ministry stated that cancellation ...</td>\n",
       "    </tr>\n",
       "    <tr>\n",
       "      <th>4</th>\n",
       "      <td>4</td>\n",
       "      <td>China arrests over 230 people tied to its larg...</td>\n",
       "      <td>Hiral Goyal</td>\n",
       "      <td>2022-08-30T04:50:24.000Z</td>\n",
       "      <td>business</td>\n",
       "      <td>China has announced that 234 people who are su...</td>\n",
       "    </tr>\n",
       "    <tr>\n",
       "      <th>...</th>\n",
       "      <td>...</td>\n",
       "      <td>...</td>\n",
       "      <td>...</td>\n",
       "      <td>...</td>\n",
       "      <td>...</td>\n",
       "      <td>...</td>\n",
       "    </tr>\n",
       "    <tr>\n",
       "      <th>95</th>\n",
       "      <td>95</td>\n",
       "      <td>Megan Thee Stallion to make a cameo appearance...</td>\n",
       "      <td>Kameshwari</td>\n",
       "      <td>2022-08-30T13:08:53.000Z</td>\n",
       "      <td>entertainment</td>\n",
       "      <td>Rapper Megan Thee Stallion will reportedly fea...</td>\n",
       "    </tr>\n",
       "    <tr>\n",
       "      <th>96</th>\n",
       "      <td>96</td>\n",
       "      <td>Michelle Yeoh to be honoured at Toronto Intern...</td>\n",
       "      <td>Kameshwari</td>\n",
       "      <td>2022-08-30T17:02:05.000Z</td>\n",
       "      <td>entertainment</td>\n",
       "      <td>Celebrated Malaysian actress Michelle Yeoh wil...</td>\n",
       "    </tr>\n",
       "    <tr>\n",
       "      <th>97</th>\n",
       "      <td>97</td>\n",
       "      <td>There is no perfect mother: Lillete Dubey</td>\n",
       "      <td>Kameshwari</td>\n",
       "      <td>2022-08-30T17:41:15.000Z</td>\n",
       "      <td>entertainment</td>\n",
       "      <td>Actress Lillete Dubey, who embraced motherhood...</td>\n",
       "    </tr>\n",
       "    <tr>\n",
       "      <th>98</th>\n",
       "      <td>98</td>\n",
       "      <td>I've danced to 'more steps' of Madhuri Dixit t...</td>\n",
       "      <td>Arnab Mukherji</td>\n",
       "      <td>2022-08-30T11:30:53.000Z</td>\n",
       "      <td>entertainment</td>\n",
       "      <td>Filmmaker Karan Johar said he has danced to \"m...</td>\n",
       "    </tr>\n",
       "    <tr>\n",
       "      <th>99</th>\n",
       "      <td>99</td>\n",
       "      <td>'Criminal Justice' explores justice system thr...</td>\n",
       "      <td>Kameshwari</td>\n",
       "      <td>2022-08-30T12:54:32.000Z</td>\n",
       "      <td>entertainment</td>\n",
       "      <td>Shweta Basu Prasad called 'Criminal Justice' a...</td>\n",
       "    </tr>\n",
       "  </tbody>\n",
       "</table>\n",
       "<p>100 rows × 6 columns</p>\n",
       "</div>"
      ],
      "text/plain": [
       "    Unnamed: 0                                              title  \\\n",
       "0            0  Adani Transmission becomes India's 8th most va...   \n",
       "1            1  Musk cites whistleblower's claims in new notic...   \n",
       "2            2  No plan to rebrand Zomato app to Eternal: CEO ...   \n",
       "3            3  Cancelling AC, first-class confirmed train tic...   \n",
       "4            4  China arrests over 230 people tied to its larg...   \n",
       "..         ...                                                ...   \n",
       "95          95  Megan Thee Stallion to make a cameo appearance...   \n",
       "96          96  Michelle Yeoh to be honoured at Toronto Intern...   \n",
       "97          97          There is no perfect mother: Lillete Dubey   \n",
       "98          98  I've danced to 'more steps' of Madhuri Dixit t...   \n",
       "99          99  'Criminal Justice' explores justice system thr...   \n",
       "\n",
       "             author                 published       category  \\\n",
       "0       Hiral Goyal  2022-08-30T08:23:58.000Z       business   \n",
       "1    Ridham Gambhir  2022-08-30T12:02:31.000Z       business   \n",
       "2       Hiral Goyal  2022-08-30T06:39:28.000Z       business   \n",
       "3    Ridham Gambhir  2022-08-30T11:23:37.000Z       business   \n",
       "4       Hiral Goyal  2022-08-30T04:50:24.000Z       business   \n",
       "..              ...                       ...            ...   \n",
       "95       Kameshwari  2022-08-30T13:08:53.000Z  entertainment   \n",
       "96       Kameshwari  2022-08-30T17:02:05.000Z  entertainment   \n",
       "97       Kameshwari  2022-08-30T17:41:15.000Z  entertainment   \n",
       "98  Arnab Mukherji   2022-08-30T11:30:53.000Z  entertainment   \n",
       "99       Kameshwari  2022-08-30T12:54:32.000Z  entertainment   \n",
       "\n",
       "                                              content  \n",
       "0   Adani Transmission has entered the club of Ind...  \n",
       "1   Tesla CEO Elon Musk's legal team has filed ano...  \n",
       "2   Zomato CEO Deepinder Goyal clarified in an exc...  \n",
       "3   The Finance Ministry stated that cancellation ...  \n",
       "4   China has announced that 234 people who are su...  \n",
       "..                                                ...  \n",
       "95  Rapper Megan Thee Stallion will reportedly fea...  \n",
       "96  Celebrated Malaysian actress Michelle Yeoh wil...  \n",
       "97  Actress Lillete Dubey, who embraced motherhood...  \n",
       "98  Filmmaker Karan Johar said he has danced to \"m...  \n",
       "99  Shweta Basu Prasad called 'Criminal Justice' a...  \n",
       "\n",
       "[100 rows x 6 columns]"
      ]
     },
     "execution_count": 275,
     "metadata": {},
     "output_type": "execute_result"
    }
   ],
   "source": [
    "df = news_get_data()\n",
    "\n",
    "df"
   ]
  },
  {
   "cell_type": "code",
   "execution_count": null,
   "metadata": {},
   "outputs": [],
   "source": [
    "def get_soup(url, headers = {'User-Agent': 'Codeup Data Science'}):\n",
    "    \"\"\"Helper function so that I don't have to write the same two lines of code each time\"\"\"\n",
    "    import requests\n",
    "    from bs4 import BeautifulSoup\n",
    "    response = requests.get(url, headers=headers)\n",
    "    return BeautifulSoup(response.content)\n",
    "\n",
    "def news_new_data():\n",
    "    # Define some variables for later\n",
    "    base_url = 'https://inshorts.com/en/read/'\n",
    "    categories = [\n",
    "        'business',\n",
    "        'sports',\n",
    "        'technology',\n",
    "        'entertainment',\n",
    "        ]\n",
    "    data = []\n",
    "    # For each category\n",
    "    for category in categories:\n",
    "        # Build the url and get the soup for that page\n",
    "        soup = get_soup(base_url+category)\n",
    "        # Compile a list of elements that contain the target data\n",
    "        cards = soup.find_all(class_='news-card' )\n",
    "        # Then for each element\n",
    "        for card in cards:\n",
    "            # Build the desired dictionary\n",
    "            article_dict = {\n",
    "                'title': card.find(itemprop='headline').string,\n",
    "                'author': card.find(class_='author').string,\n",
    "                'published': card.find(class_='time')['content'],\n",
    "                'category': category,\n",
    "                'content': card.find(itemprop='articleBody').text\n",
    "            }\n",
    "            # throw the dictionary into a list that lives outside of the loop\n",
    "            data.append(article_dict)\n",
    "    # A list of dictionaries is one step away from a dataframe so...\n",
    "    df = pd.DataFrame(data)\n",
    "    # .. viola!\n",
    "    return df"
   ]
  },
  {
   "cell_type": "markdown",
   "metadata": {},
   "source": [
    "## Bonus: cache the data (3)\n",
    "    \n",
    "    Write your code such that the acquired data is saved locally in some form or fashion. Your functions that retrieve the data should prefer to read the local data instead of having to make all the requests everytime the function is called. Include a boolean flag in the functions to allow the data to be acquired \"fresh\" from the actual sources (re-writing your local cache)."
   ]
  }
 ],
 "metadata": {
  "kernelspec": {
   "display_name": "Python 3.10.4 64-bit",
   "language": "python",
   "name": "python3"
  },
  "language_info": {
   "codemirror_mode": {
    "name": "ipython",
    "version": 3
   },
   "file_extension": ".py",
   "mimetype": "text/x-python",
   "name": "python",
   "nbconvert_exporter": "python",
   "pygments_lexer": "ipython3",
   "version": "3.10.4"
  },
  "orig_nbformat": 4,
  "vscode": {
   "interpreter": {
    "hash": "37b4e1d782780d9803a775659fc8b81e9cc61a0899d4564192c1f7cc3c556e45"
   }
  }
 },
 "nbformat": 4,
 "nbformat_minor": 2
}
