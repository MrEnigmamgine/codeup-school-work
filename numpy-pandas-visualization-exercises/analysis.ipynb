{
 "cells": [
  {
   "cell_type": "markdown",
   "metadata": {},
   "source": [
    "Find the google slides presentation here: https://docs.google.com/presentation/d/1O_tjXTEnZbSD9oi9MMk2_8-X0NIZBrcJc6Vb1NCKzqA/edit?usp=sharing\n",
    "Tableau components here: https://public.tableau.com/app/profile/joshua.mayes/viz/KalpanaTablueExercises/Sheet62?publish=yes\n"
   ]
  },
  {
   "cell_type": "code",
   "execution_count": 1,
   "metadata": {},
   "outputs": [],
   "source": [
    "import numpy as np\n",
    "import pandas as pd\n",
    "import seaborn as sns\n",
    "import matplotlib.pyplot as plt\n"
   ]
  },
  {
   "cell_type": "code",
   "execution_count": 2,
   "metadata": {},
   "outputs": [],
   "source": [
    "pd.set_option('display.max_columns', None)"
   ]
  },
  {
   "cell_type": "code",
   "execution_count": 3,
   "metadata": {},
   "outputs": [],
   "source": [
    "# df = pd.read_clipboard()\n",
    "# df.head()"
   ]
  },
  {
   "cell_type": "code",
   "execution_count": 40,
   "metadata": {},
   "outputs": [],
   "source": [
    "df = pd.read_csv('churn.csv', index_col=0)"
   ]
  },
  {
   "cell_type": "code",
   "execution_count": 41,
   "metadata": {},
   "outputs": [
    {
     "data": {
      "text/html": [
       "<div>\n",
       "<style scoped>\n",
       "    .dataframe tbody tr th:only-of-type {\n",
       "        vertical-align: middle;\n",
       "    }\n",
       "\n",
       "    .dataframe tbody tr th {\n",
       "        vertical-align: top;\n",
       "    }\n",
       "\n",
       "    .dataframe thead th {\n",
       "        text-align: right;\n",
       "    }\n",
       "</style>\n",
       "<table border=\"1\" class=\"dataframe\">\n",
       "  <thead>\n",
       "    <tr style=\"text-align: right;\">\n",
       "      <th></th>\n",
       "      <th>customer_id</th>\n",
       "      <th>gender</th>\n",
       "      <th>is_senior_citizen</th>\n",
       "      <th>partner</th>\n",
       "      <th>dependents</th>\n",
       "      <th>phone_service</th>\n",
       "      <th>internet_service</th>\n",
       "      <th>contract_type</th>\n",
       "      <th>payment_type</th>\n",
       "      <th>monthly_charges</th>\n",
       "      <th>total_charges</th>\n",
       "      <th>churn</th>\n",
       "      <th>tenure</th>\n",
       "      <th>mo_charges_calc</th>\n",
       "      <th>is_female</th>\n",
       "      <th>has_churned</th>\n",
       "      <th>has_phone</th>\n",
       "      <th>has_internet</th>\n",
       "      <th>has_phone_and_internet</th>\n",
       "      <th>partner_dependants</th>\n",
       "      <th>partner_dependents</th>\n",
       "      <th>phone_servicetype</th>\n",
       "      <th>internet_servicetype</th>\n",
       "      <th>contract type</th>\n",
       "      <th>rounded_tenure</th>\n",
       "      <th>service_type</th>\n",
       "    </tr>\n",
       "  </thead>\n",
       "  <tbody>\n",
       "    <tr>\n",
       "      <th>0</th>\n",
       "      <td>0002-ORFBO</td>\n",
       "      <td>Female</td>\n",
       "      <td>0</td>\n",
       "      <td>Yes</td>\n",
       "      <td>Yes</td>\n",
       "      <td>1</td>\n",
       "      <td>1</td>\n",
       "      <td>1</td>\n",
       "      <td>Mailed check</td>\n",
       "      <td>65.6</td>\n",
       "      <td>593.30</td>\n",
       "      <td>No</td>\n",
       "      <td>9.0</td>\n",
       "      <td>$65.60</td>\n",
       "      <td>True</td>\n",
       "      <td>False</td>\n",
       "      <td>True</td>\n",
       "      <td>True</td>\n",
       "      <td>True</td>\n",
       "      <td>2</td>\n",
       "      <td>3</td>\n",
       "      <td>One Line</td>\n",
       "      <td>DSL</td>\n",
       "      <td>1 Year</td>\n",
       "      <td>9.0</td>\n",
       "      <td>internet+phone</td>\n",
       "    </tr>\n",
       "    <tr>\n",
       "      <th>1</th>\n",
       "      <td>0003-MKNFE</td>\n",
       "      <td>Male</td>\n",
       "      <td>0</td>\n",
       "      <td>No</td>\n",
       "      <td>No</td>\n",
       "      <td>2</td>\n",
       "      <td>1</td>\n",
       "      <td>0</td>\n",
       "      <td>Mailed check</td>\n",
       "      <td>59.9</td>\n",
       "      <td>542.40</td>\n",
       "      <td>No</td>\n",
       "      <td>9.1</td>\n",
       "      <td>$59.90</td>\n",
       "      <td>False</td>\n",
       "      <td>False</td>\n",
       "      <td>True</td>\n",
       "      <td>True</td>\n",
       "      <td>True</td>\n",
       "      <td>0</td>\n",
       "      <td>0</td>\n",
       "      <td>Two or More Lines</td>\n",
       "      <td>DSL</td>\n",
       "      <td>Month-to-Month</td>\n",
       "      <td>9.0</td>\n",
       "      <td>internet+phone</td>\n",
       "    </tr>\n",
       "    <tr>\n",
       "      <th>2</th>\n",
       "      <td>0004-TLHLJ</td>\n",
       "      <td>Male</td>\n",
       "      <td>0</td>\n",
       "      <td>No</td>\n",
       "      <td>No</td>\n",
       "      <td>1</td>\n",
       "      <td>2</td>\n",
       "      <td>0</td>\n",
       "      <td>Electronic check</td>\n",
       "      <td>73.9</td>\n",
       "      <td>280.85</td>\n",
       "      <td>Yes</td>\n",
       "      <td>3.8</td>\n",
       "      <td>$73.90</td>\n",
       "      <td>False</td>\n",
       "      <td>True</td>\n",
       "      <td>True</td>\n",
       "      <td>True</td>\n",
       "      <td>True</td>\n",
       "      <td>0</td>\n",
       "      <td>0</td>\n",
       "      <td>One Line</td>\n",
       "      <td>Fiber Optic</td>\n",
       "      <td>Month-to-Month</td>\n",
       "      <td>4.0</td>\n",
       "      <td>internet+phone</td>\n",
       "    </tr>\n",
       "    <tr>\n",
       "      <th>3</th>\n",
       "      <td>0011-IGKFF</td>\n",
       "      <td>Male</td>\n",
       "      <td>1</td>\n",
       "      <td>Yes</td>\n",
       "      <td>No</td>\n",
       "      <td>1</td>\n",
       "      <td>2</td>\n",
       "      <td>0</td>\n",
       "      <td>Electronic check</td>\n",
       "      <td>98.0</td>\n",
       "      <td>1237.85</td>\n",
       "      <td>Yes</td>\n",
       "      <td>12.6</td>\n",
       "      <td>$98.00</td>\n",
       "      <td>False</td>\n",
       "      <td>True</td>\n",
       "      <td>True</td>\n",
       "      <td>True</td>\n",
       "      <td>True</td>\n",
       "      <td>1</td>\n",
       "      <td>1</td>\n",
       "      <td>One Line</td>\n",
       "      <td>Fiber Optic</td>\n",
       "      <td>Month-to-Month</td>\n",
       "      <td>13.0</td>\n",
       "      <td>internet+phone</td>\n",
       "    </tr>\n",
       "    <tr>\n",
       "      <th>4</th>\n",
       "      <td>0013-EXCHZ</td>\n",
       "      <td>Female</td>\n",
       "      <td>1</td>\n",
       "      <td>Yes</td>\n",
       "      <td>No</td>\n",
       "      <td>1</td>\n",
       "      <td>2</td>\n",
       "      <td>0</td>\n",
       "      <td>Mailed check</td>\n",
       "      <td>83.9</td>\n",
       "      <td>267.40</td>\n",
       "      <td>Yes</td>\n",
       "      <td>3.2</td>\n",
       "      <td>$83.90</td>\n",
       "      <td>True</td>\n",
       "      <td>True</td>\n",
       "      <td>True</td>\n",
       "      <td>True</td>\n",
       "      <td>True</td>\n",
       "      <td>1</td>\n",
       "      <td>1</td>\n",
       "      <td>One Line</td>\n",
       "      <td>Fiber Optic</td>\n",
       "      <td>Month-to-Month</td>\n",
       "      <td>3.0</td>\n",
       "      <td>internet+phone</td>\n",
       "    </tr>\n",
       "  </tbody>\n",
       "</table>\n",
       "</div>"
      ],
      "text/plain": [
       "  customer_id  gender  is_senior_citizen partner dependents  phone_service  \\\n",
       "0  0002-ORFBO  Female                  0     Yes        Yes              1   \n",
       "1  0003-MKNFE    Male                  0      No         No              2   \n",
       "2  0004-TLHLJ    Male                  0      No         No              1   \n",
       "3  0011-IGKFF    Male                  1     Yes         No              1   \n",
       "4  0013-EXCHZ  Female                  1     Yes         No              1   \n",
       "\n",
       "   internet_service  contract_type      payment_type  monthly_charges  \\\n",
       "0                 1              1      Mailed check             65.6   \n",
       "1                 1              0      Mailed check             59.9   \n",
       "2                 2              0  Electronic check             73.9   \n",
       "3                 2              0  Electronic check             98.0   \n",
       "4                 2              0      Mailed check             83.9   \n",
       "\n",
       "   total_charges churn  tenure mo_charges_calc  is_female  has_churned  \\\n",
       "0         593.30    No     9.0          $65.60       True        False   \n",
       "1         542.40    No     9.1          $59.90      False        False   \n",
       "2         280.85   Yes     3.8          $73.90      False         True   \n",
       "3        1237.85   Yes    12.6          $98.00      False         True   \n",
       "4         267.40   Yes     3.2          $83.90       True         True   \n",
       "\n",
       "   has_phone  has_internet  has_phone_and_internet  partner_dependants  \\\n",
       "0       True          True                    True                   2   \n",
       "1       True          True                    True                   0   \n",
       "2       True          True                    True                   0   \n",
       "3       True          True                    True                   1   \n",
       "4       True          True                    True                   1   \n",
       "\n",
       "   partner_dependents  phone_servicetype internet_servicetype   contract type  \\\n",
       "0                   3           One Line                  DSL          1 Year   \n",
       "1                   0  Two or More Lines                  DSL  Month-to-Month   \n",
       "2                   0           One Line          Fiber Optic  Month-to-Month   \n",
       "3                   1           One Line          Fiber Optic  Month-to-Month   \n",
       "4                   1           One Line          Fiber Optic  Month-to-Month   \n",
       "\n",
       "   rounded_tenure    service_type  \n",
       "0             9.0  internet+phone  \n",
       "1             9.0  internet+phone  \n",
       "2             4.0  internet+phone  \n",
       "3            13.0  internet+phone  \n",
       "4             3.0  internet+phone  "
      ]
     },
     "execution_count": 41,
     "metadata": {},
     "output_type": "execute_result"
    }
   ],
   "source": [
    "df.columns= df.columns.str.lower()\n",
    "df.head()"
   ]
  },
  {
   "cell_type": "markdown",
   "metadata": {},
   "source": [
    "The strongest correlators seem to be contract_type and internet_service.  The number reduces a bit if we just lump all internet services into the same bin which leads me to believe that there's an important difference between internet types.  Let's take a look."
   ]
  },
  {
   "cell_type": "code",
   "execution_count": 6,
   "metadata": {},
   "outputs": [
    {
     "data": {
      "text/plain": [
       "Fiber Optic            3098\n",
       "DSL                    2422\n",
       "No Internet Service    1529\n",
       "Name: internet_servicetype, dtype: int64"
      ]
     },
     "execution_count": 6,
     "metadata": {},
     "output_type": "execute_result"
    }
   ],
   "source": [
    "# 0\tNo Internet Service\n",
    "# 1\tDSL\n",
    "# 2\tFiber Optic\n",
    "df['internet_servicetype'].value_counts()"
   ]
  },
  {
   "cell_type": "code",
   "execution_count": 7,
   "metadata": {},
   "outputs": [
    {
     "name": "stdout",
     "output_type": "stream",
     "text": [
      "Global churn rate: 0.2652858561498085\n"
     ]
    },
    {
     "data": {
      "text/html": [
       "<div>\n",
       "<style scoped>\n",
       "    .dataframe tbody tr th:only-of-type {\n",
       "        vertical-align: middle;\n",
       "    }\n",
       "\n",
       "    .dataframe tbody tr th {\n",
       "        vertical-align: top;\n",
       "    }\n",
       "\n",
       "    .dataframe thead th {\n",
       "        text-align: right;\n",
       "    }\n",
       "</style>\n",
       "<table border=\"1\" class=\"dataframe\">\n",
       "  <thead>\n",
       "    <tr style=\"text-align: right;\">\n",
       "      <th>churn</th>\n",
       "      <th>No</th>\n",
       "      <th>Yes</th>\n",
       "    </tr>\n",
       "    <tr>\n",
       "      <th>internet_servicetype</th>\n",
       "      <th></th>\n",
       "      <th></th>\n",
       "    </tr>\n",
       "  </thead>\n",
       "  <tbody>\n",
       "    <tr>\n",
       "      <th>DSL</th>\n",
       "      <td>0.810074</td>\n",
       "      <td>0.189926</td>\n",
       "    </tr>\n",
       "    <tr>\n",
       "      <th>Fiber Optic</th>\n",
       "      <td>0.581343</td>\n",
       "      <td>0.418657</td>\n",
       "    </tr>\n",
       "    <tr>\n",
       "      <th>No Internet Service</th>\n",
       "      <td>0.926095</td>\n",
       "      <td>0.073905</td>\n",
       "    </tr>\n",
       "  </tbody>\n",
       "</table>\n",
       "</div>"
      ],
      "text/plain": [
       "churn                       No       Yes\n",
       "internet_servicetype                    \n",
       "DSL                   0.810074  0.189926\n",
       "Fiber Optic           0.581343  0.418657\n",
       "No Internet Service   0.926095  0.073905"
      ]
     },
     "execution_count": 7,
     "metadata": {},
     "output_type": "execute_result"
    }
   ],
   "source": [
    "churn_by_inet_type = pd.crosstab(df.internet_servicetype, df.churn, normalize='index')\n",
    "global_churn_rate = df.has_churned.mean()\n",
    "print('Global churn rate:', df.has_churned.mean() )\n",
    "churn_by_inet_type"
   ]
  },
  {
   "cell_type": "markdown",
   "metadata": {},
   "source": [
    "Contract type was also a strong corellator, let's examine that a bit more closely as well."
   ]
  },
  {
   "cell_type": "code",
   "execution_count": 8,
   "metadata": {},
   "outputs": [
    {
     "data": {
      "text/plain": [
       "Index(['unnamed: 0', 'customer_id', 'gender', 'is_senior_citizen', 'partner',\n",
       "       'dependents', 'phone_service', 'internet_service', 'contract_type',\n",
       "       'payment_type', 'monthly_charges', 'total_charges', 'churn', 'tenure',\n",
       "       'mo_charges_calc', 'is_female', 'has_churned', 'has_phone',\n",
       "       'has_internet', 'has_phone_and_internet', 'partner_dependants',\n",
       "       'partner_dependents', 'phone_servicetype', 'internet_servicetype',\n",
       "       'ct_type_str', 'rounded_tenure', 'service_type'],\n",
       "      dtype='object')"
      ]
     },
     "execution_count": 8,
     "metadata": {},
     "output_type": "execute_result"
    }
   ],
   "source": [
    "df = df.rename(columns={'contract type': 'ct_type_str'})\n",
    "# 0\tMonth-to-Month\n",
    "# 1\t1 Year\n",
    "# 2\t2 Year\n",
    "df.columns"
   ]
  },
  {
   "cell_type": "code",
   "execution_count": 9,
   "metadata": {},
   "outputs": [
    {
     "data": {
      "text/html": [
       "<div>\n",
       "<style scoped>\n",
       "    .dataframe tbody tr th:only-of-type {\n",
       "        vertical-align: middle;\n",
       "    }\n",
       "\n",
       "    .dataframe tbody tr th {\n",
       "        vertical-align: top;\n",
       "    }\n",
       "\n",
       "    .dataframe thead th {\n",
       "        text-align: right;\n",
       "    }\n",
       "</style>\n",
       "<table border=\"1\" class=\"dataframe\">\n",
       "  <thead>\n",
       "    <tr style=\"text-align: right;\">\n",
       "      <th>churn</th>\n",
       "      <th>No</th>\n",
       "      <th>Yes</th>\n",
       "    </tr>\n",
       "    <tr>\n",
       "      <th>ct_type_str</th>\n",
       "      <th></th>\n",
       "      <th></th>\n",
       "    </tr>\n",
       "  </thead>\n",
       "  <tbody>\n",
       "    <tr>\n",
       "      <th>1 Year</th>\n",
       "      <td>0.887534</td>\n",
       "      <td>0.112466</td>\n",
       "    </tr>\n",
       "    <tr>\n",
       "      <th>2 Year</th>\n",
       "      <td>0.971715</td>\n",
       "      <td>0.028285</td>\n",
       "    </tr>\n",
       "    <tr>\n",
       "      <th>Month-to-Month</th>\n",
       "      <td>0.572755</td>\n",
       "      <td>0.427245</td>\n",
       "    </tr>\n",
       "  </tbody>\n",
       "</table>\n",
       "</div>"
      ],
      "text/plain": [
       "churn                 No       Yes\n",
       "ct_type_str                       \n",
       "1 Year          0.887534  0.112466\n",
       "2 Year          0.971715  0.028285\n",
       "Month-to-Month  0.572755  0.427245"
      ]
     },
     "execution_count": 9,
     "metadata": {},
     "output_type": "execute_result"
    }
   ],
   "source": [
    "churn_by_ct_type = pd.crosstab(df.ct_type_str, df.churn, normalize='index')\n",
    "churn_by_ct_type"
   ]
  },
  {
   "cell_type": "markdown",
   "metadata": {},
   "source": [
    "It looks like this correllates just as strongly.  Do the two columns interact with each other meaningfully?"
   ]
  },
  {
   "cell_type": "code",
   "execution_count": 10,
   "metadata": {},
   "outputs": [
    {
     "data": {
      "text/html": [
       "<div>\n",
       "<style scoped>\n",
       "    .dataframe tbody tr th:only-of-type {\n",
       "        vertical-align: middle;\n",
       "    }\n",
       "\n",
       "    .dataframe tbody tr th {\n",
       "        vertical-align: top;\n",
       "    }\n",
       "\n",
       "    .dataframe thead th {\n",
       "        text-align: right;\n",
       "    }\n",
       "</style>\n",
       "<table border=\"1\" class=\"dataframe\">\n",
       "  <thead>\n",
       "    <tr style=\"text-align: right;\">\n",
       "      <th>internet_servicetype</th>\n",
       "      <th>DSL</th>\n",
       "      <th>Fiber Optic</th>\n",
       "      <th>No Internet Service</th>\n",
       "    </tr>\n",
       "    <tr>\n",
       "      <th>ct_type_str</th>\n",
       "      <th></th>\n",
       "      <th></th>\n",
       "      <th></th>\n",
       "    </tr>\n",
       "  </thead>\n",
       "  <tbody>\n",
       "    <tr>\n",
       "      <th>1 Year</th>\n",
       "      <td>570</td>\n",
       "      <td>541</td>\n",
       "      <td>365</td>\n",
       "    </tr>\n",
       "    <tr>\n",
       "      <th>2 Year</th>\n",
       "      <td>628</td>\n",
       "      <td>429</td>\n",
       "      <td>640</td>\n",
       "    </tr>\n",
       "    <tr>\n",
       "      <th>Month-to-Month</th>\n",
       "      <td>1224</td>\n",
       "      <td>2128</td>\n",
       "      <td>524</td>\n",
       "    </tr>\n",
       "  </tbody>\n",
       "</table>\n",
       "</div>"
      ],
      "text/plain": [
       "internet_servicetype   DSL  Fiber Optic  No Internet Service\n",
       "ct_type_str                                                 \n",
       "1 Year                 570          541                  365\n",
       "2 Year                 628          429                  640\n",
       "Month-to-Month        1224         2128                  524"
      ]
     },
     "execution_count": 10,
     "metadata": {},
     "output_type": "execute_result"
    }
   ],
   "source": [
    "pd.crosstab(df.ct_type_str, df.internet_servicetype)"
   ]
  },
  {
   "cell_type": "code",
   "execution_count": 11,
   "metadata": {},
   "outputs": [
    {
     "data": {
      "text/html": [
       "<div>\n",
       "<style scoped>\n",
       "    .dataframe tbody tr th:only-of-type {\n",
       "        vertical-align: middle;\n",
       "    }\n",
       "\n",
       "    .dataframe tbody tr th {\n",
       "        vertical-align: top;\n",
       "    }\n",
       "\n",
       "    .dataframe thead th {\n",
       "        text-align: right;\n",
       "    }\n",
       "</style>\n",
       "<table border=\"1\" class=\"dataframe\">\n",
       "  <thead>\n",
       "    <tr style=\"text-align: right;\">\n",
       "      <th>internet_servicetype</th>\n",
       "      <th>DSL</th>\n",
       "      <th>Fiber Optic</th>\n",
       "      <th>No Internet Service</th>\n",
       "    </tr>\n",
       "    <tr>\n",
       "      <th>ct_type_str</th>\n",
       "      <th></th>\n",
       "      <th></th>\n",
       "      <th></th>\n",
       "    </tr>\n",
       "  </thead>\n",
       "  <tbody>\n",
       "    <tr>\n",
       "      <th>1 Year</th>\n",
       "      <td>53</td>\n",
       "      <td>104</td>\n",
       "      <td>9</td>\n",
       "    </tr>\n",
       "    <tr>\n",
       "      <th>2 Year</th>\n",
       "      <td>12</td>\n",
       "      <td>31</td>\n",
       "      <td>5</td>\n",
       "    </tr>\n",
       "    <tr>\n",
       "      <th>Month-to-Month</th>\n",
       "      <td>395</td>\n",
       "      <td>1162</td>\n",
       "      <td>99</td>\n",
       "    </tr>\n",
       "  </tbody>\n",
       "</table>\n",
       "</div>"
      ],
      "text/plain": [
       "internet_servicetype  DSL  Fiber Optic  No Internet Service\n",
       "ct_type_str                                                \n",
       "1 Year                 53          104                    9\n",
       "2 Year                 12           31                    5\n",
       "Month-to-Month        395         1162                   99"
      ]
     },
     "execution_count": 11,
     "metadata": {},
     "output_type": "execute_result"
    }
   ],
   "source": [
    "pd.pivot_table(data = df, values='has_churned', index='ct_type_str', columns='internet_servicetype', aggfunc='sum')"
   ]
  },
  {
   "cell_type": "code",
   "execution_count": 19,
   "metadata": {},
   "outputs": [
    {
     "data": {
      "image/png": "[encoded data removed]",
      "text/plain": [
       "<Figure size 576x576 with 1 Axes>"
      ]
     },
     "metadata": {
      "needs_background": "light"
     },
     "output_type": "display_data"
    }
   ],
   "source": [
    "import matplotlib.ticker as ticker\n",
    "plt.figure(figsize = (8,8))\n",
    "churn = sns.barplot(\n",
    "                    data = df, \n",
    "                    y='has_churned', \n",
    "                    x='internet_servicetype', \n",
    "                    hue='ct_type_str', \n",
    "                    # kind='bar', \n",
    "                    order=['No Internet Service','DSL','Fiber Optic'],\n",
    "                    hue_order=['2 Year','1 Year','Month-to-Month'],\n",
    "                    palette=['grey','darkgrey','skyblue'],\n",
    "                    \n",
    "                    ).set(\n",
    "                        title='Internet customers are much more likely to leave'\n",
    "                    )\n",
    "\n",
    "plt.axhline(global_churn_rate)\n",
    "plt.text(-0.47, .275 , 'Global Churn Rate')\n",
    "plt.legend(title='Contract Type')\n",
    "plt.ylabel('Churn Rate')\n",
    "plt.xlabel('Internet Service')\n",
    "plt.gca().yaxis.set_major_formatter('{:.0%}'.format)\n",
    "# print(plt.gca())\n",
    "# print(plt.yticks()[1:])\n",
    "\n"
   ]
  },
  {
   "cell_type": "markdown",
   "metadata": {},
   "source": [
    "We can clearly see that M2M customers using Fiber are much more at risk of churn than customers that are not using Fiber.  From this observation I can make two hypothesis:  \n",
    "\n",
    " - Customers who pay month to month feel more empowered to cancel their service.\n",
    " - The company's Fiber service is not providing enough value, or a competitor is offering more valuable internet service."
   ]
  },
  {
   "cell_type": "code",
   "execution_count": 13,
   "metadata": {},
   "outputs": [
    {
     "data": {
      "text/html": [
       "<div>\n",
       "<style scoped>\n",
       "    .dataframe tbody tr th:only-of-type {\n",
       "        vertical-align: middle;\n",
       "    }\n",
       "\n",
       "    .dataframe tbody tr th {\n",
       "        vertical-align: top;\n",
       "    }\n",
       "\n",
       "    .dataframe thead th {\n",
       "        text-align: right;\n",
       "    }\n",
       "</style>\n",
       "<table border=\"1\" class=\"dataframe\">\n",
       "  <thead>\n",
       "    <tr style=\"text-align: right;\">\n",
       "      <th>internet_servicetype</th>\n",
       "      <th>DSL</th>\n",
       "      <th>Fiber Optic</th>\n",
       "      <th>No Internet Service</th>\n",
       "    </tr>\n",
       "    <tr>\n",
       "      <th>ct_type_str</th>\n",
       "      <th></th>\n",
       "      <th></th>\n",
       "      <th></th>\n",
       "    </tr>\n",
       "  </thead>\n",
       "  <tbody>\n",
       "    <tr>\n",
       "      <th>1 Year</th>\n",
       "      <td>61.396754</td>\n",
       "      <td>98.774584</td>\n",
       "      <td>20.816164</td>\n",
       "    </tr>\n",
       "    <tr>\n",
       "      <th>2 Year</th>\n",
       "      <td>70.462978</td>\n",
       "      <td>104.571445</td>\n",
       "      <td>21.771953</td>\n",
       "    </tr>\n",
       "    <tr>\n",
       "      <th>Month-to-Month</th>\n",
       "      <td>50.203391</td>\n",
       "      <td>87.021194</td>\n",
       "      <td>20.409542</td>\n",
       "    </tr>\n",
       "  </tbody>\n",
       "</table>\n",
       "</div>"
      ],
      "text/plain": [
       "internet_servicetype        DSL  Fiber Optic  No Internet Service\n",
       "ct_type_str                                                      \n",
       "1 Year                61.396754    98.774584            20.816164\n",
       "2 Year                70.462978   104.571445            21.771953\n",
       "Month-to-Month        50.203391    87.021194            20.409542"
      ]
     },
     "execution_count": 13,
     "metadata": {},
     "output_type": "execute_result"
    }
   ],
   "source": [
    "pd.pivot_table(data = df, values='monthly_charges', index='ct_type_str', columns='internet_servicetype', aggfunc='mean')"
   ]
  },
  {
   "cell_type": "code",
   "execution_count": 20,
   "metadata": {},
   "outputs": [
    {
     "data": {
      "text/plain": [
       "<matplotlib.legend.Legend at 0x1c25d4dd990>"
      ]
     },
     "execution_count": 20,
     "metadata": {},
     "output_type": "execute_result"
    },
    {
     "data": {
      "image/png": "[encoded data removed]",
      "text/plain": [
       "<Figure size 648x648 with 1 Axes>"
      ]
     },
     "metadata": {
      "needs_background": "light"
     },
     "output_type": "display_data"
    }
   ],
   "source": [
    "sblue = '#1874CD'\n",
    "plt.figure(figsize = (9,9))\n",
    "charges = sns.barplot(\n",
    "                    data = df, \n",
    "                    y='monthly_charges', \n",
    "                    x='internet_servicetype', \n",
    "                    hue='ct_type_str', \n",
    "                    # kind='bar', \n",
    "                    # order=['No Internet Service','DSL','Fiber Optic'],\n",
    "                    order=['Fiber Optic', 'DSL', 'No Internet Service'],\n",
    "                    hue_order=['2 Year','1 Year','Month-to-Month'],\n",
    "                    palette=['grey','darkgrey',sblue],\n",
    "                    \n",
    "                    ).set(\n",
    "                        title='Customers pay the least on month to month contracts',\n",
    "                        xlabel='Internet Type',\n",
    "                        ylabel='Monthly Charges',\n",
    "                        \n",
    "                    )\n",
    "plt.legend(title=\"Contract Type\")"
   ]
  },
  {
   "cell_type": "code",
   "execution_count": 22,
   "metadata": {},
   "outputs": [
    {
     "data": {
      "image/png": "[encoded data removed]",
      "text/plain": [
       "<Figure size 648x648 with 1 Axes>"
      ]
     },
     "metadata": {
      "needs_background": "light"
     },
     "output_type": "display_data"
    }
   ],
   "source": [
    "import matplotlib.ticker as ticker\n",
    "plt.figure(figsize = (9,9))\n",
    "churn = sns.barplot(\n",
    "                    data = df, \n",
    "                    y='has_churned', \n",
    "                    x='ct_type_str', \n",
    "                    order=['2 Year','1 Year','Month-to-Month'],\n",
    "                    palette=['grey','darkgrey',sblue],\n",
    "                    ).set(\n",
    "                        title='M2M has much higher churn rate',\n",
    "                        \n",
    "                    )\n",
    "\n",
    "plt.axhline(global_churn_rate)\n",
    "plt.text(-0.47, .275 , 'Global Churn Rate')\n",
    "# plt.legend(title='Contract Type')\n",
    "plt.ylabel('Churn Rate')\n",
    "plt.xlabel('Internet Service')\n",
    "plt.gca().yaxis.set_major_formatter('{:.0%}'.format)"
   ]
  },
  {
   "cell_type": "code",
   "execution_count": null,
   "metadata": {},
   "outputs": [
    {
     "data": {
      "text/html": [
       "<div>\n",
       "<style scoped>\n",
       "    .dataframe tbody tr th:only-of-type {\n",
       "        vertical-align: middle;\n",
       "    }\n",
       "\n",
       "    .dataframe tbody tr th {\n",
       "        vertical-align: top;\n",
       "    }\n",
       "\n",
       "    .dataframe thead th {\n",
       "        text-align: right;\n",
       "    }\n",
       "</style>\n",
       "<table border=\"1\" class=\"dataframe\">\n",
       "  <thead>\n",
       "    <tr style=\"text-align: right;\">\n",
       "      <th>internet_servicetype</th>\n",
       "      <th>DSL</th>\n",
       "      <th>Fiber Optic</th>\n",
       "      <th>No Internet Service</th>\n",
       "    </tr>\n",
       "    <tr>\n",
       "      <th>ct_type_str</th>\n",
       "      <th></th>\n",
       "      <th></th>\n",
       "      <th></th>\n",
       "    </tr>\n",
       "  </thead>\n",
       "  <tbody>\n",
       "    <tr>\n",
       "      <th>1 Year</th>\n",
       "      <td>40.498246</td>\n",
       "      <td>52.144177</td>\n",
       "      <td>29.424658</td>\n",
       "    </tr>\n",
       "    <tr>\n",
       "      <th>2 Year</th>\n",
       "      <td>59.103503</td>\n",
       "      <td>65.179487</td>\n",
       "      <td>48.850000</td>\n",
       "    </tr>\n",
       "    <tr>\n",
       "      <th>Month-to-Month</th>\n",
       "      <td>15.709150</td>\n",
       "      <td>21.532425</td>\n",
       "      <td>9.129771</td>\n",
       "    </tr>\n",
       "  </tbody>\n",
       "</table>\n",
       "</div>"
      ],
      "text/plain": [
       "internet_servicetype        DSL  Fiber Optic  No Internet Service\n",
       "ct_type_str                                                      \n",
       "1 Year                40.498246    52.144177            29.424658\n",
       "2 Year                59.103503    65.179487            48.850000\n",
       "Month-to-Month        15.709150    21.532425             9.129771"
      ]
     },
     "execution_count": 108,
     "metadata": {},
     "output_type": "execute_result"
    }
   ],
   "source": [
    "pd.pivot_table(data = df, values='rounded_tenure', index='ct_type_str', columns='internet_servicetype', aggfunc='mean')"
   ]
  },
  {
   "cell_type": "code",
   "execution_count": null,
   "metadata": {},
   "outputs": [
    {
     "data": {
      "text/html": [
       "<div>\n",
       "<style scoped>\n",
       "    .dataframe tbody tr th:only-of-type {\n",
       "        vertical-align: middle;\n",
       "    }\n",
       "\n",
       "    .dataframe tbody tr th {\n",
       "        vertical-align: top;\n",
       "    }\n",
       "\n",
       "    .dataframe thead th {\n",
       "        text-align: right;\n",
       "    }\n",
       "</style>\n",
       "<table border=\"1\" class=\"dataframe\">\n",
       "  <thead>\n",
       "    <tr style=\"text-align: right;\">\n",
       "      <th>internet_servicetype</th>\n",
       "      <th>DSL</th>\n",
       "      <th>Fiber Optic</th>\n",
       "      <th>No Internet Service</th>\n",
       "    </tr>\n",
       "    <tr>\n",
       "      <th>ct_type_str</th>\n",
       "      <th></th>\n",
       "      <th></th>\n",
       "      <th></th>\n",
       "    </tr>\n",
       "  </thead>\n",
       "  <tbody>\n",
       "    <tr>\n",
       "      <th>1 Year</th>\n",
       "      <td>40.498246</td>\n",
       "      <td>52.144177</td>\n",
       "      <td>29.424658</td>\n",
       "    </tr>\n",
       "    <tr>\n",
       "      <th>2 Year</th>\n",
       "      <td>59.103503</td>\n",
       "      <td>65.179487</td>\n",
       "      <td>48.850000</td>\n",
       "    </tr>\n",
       "    <tr>\n",
       "      <th>Month-to-Month</th>\n",
       "      <td>15.709150</td>\n",
       "      <td>21.532425</td>\n",
       "      <td>9.129771</td>\n",
       "    </tr>\n",
       "  </tbody>\n",
       "</table>\n",
       "</div>"
      ],
      "text/plain": [
       "internet_servicetype        DSL  Fiber Optic  No Internet Service\n",
       "ct_type_str                                                      \n",
       "1 Year                40.498246    52.144177            29.424658\n",
       "2 Year                59.103503    65.179487            48.850000\n",
       "Month-to-Month        15.709150    21.532425             9.129771"
      ]
     },
     "metadata": {},
     "output_type": "display_data"
    }
   ],
   "source": [
    "pd.pivot_table(data = df, values='rounded_tenure', index='ct_type_str', columns='internet_servicetype', aggfunc='mean')"
   ]
  },
  {
   "cell_type": "code",
   "execution_count": 24,
   "metadata": {},
   "outputs": [
    {
     "data": {
      "text/plain": [
       "<matplotlib.legend.Legend at 0x1c25d9d9b40>"
      ]
     },
     "execution_count": 24,
     "metadata": {},
     "output_type": "execute_result"
    },
    {
     "data": {
      "image/png": "[encoded data removed]",
      "text/plain": [
       "<Figure size 648x648 with 1 Axes>"
      ]
     },
     "metadata": {
      "needs_background": "light"
     },
     "output_type": "display_data"
    }
   ],
   "source": [
    "plt.figure(figsize = (9,9))\n",
    "charges = sns.barplot(\n",
    "                    data = df, \n",
    "                    y= df.rounded_tenure / 12,\n",
    "                    x='internet_servicetype', \n",
    "                    hue='ct_type_str', \n",
    "                    # kind='bar', \n",
    "                    order=['No Internet Service','DSL','Fiber Optic'],\n",
    "                    hue_order=['2 Year','1 Year','Month-to-Month'],\n",
    "                    palette='Blues_r',\n",
    "                    \n",
    "                    ).set(\n",
    "                        title='Internet customers stay the longest when locked into a contract',\n",
    "                        xlabel='Internet Type',\n",
    "                        ylabel='Average Tenure in years',\n",
    "                        \n",
    "                    )\n",
    "plt.legend(title=\"Contract Type\")"
   ]
  },
  {
   "cell_type": "code",
   "execution_count": 26,
   "metadata": {},
   "outputs": [
    {
     "data": {
      "text/html": [
       "<div>\n",
       "<style scoped>\n",
       "    .dataframe tbody tr th:only-of-type {\n",
       "        vertical-align: middle;\n",
       "    }\n",
       "\n",
       "    .dataframe tbody tr th {\n",
       "        vertical-align: top;\n",
       "    }\n",
       "\n",
       "    .dataframe thead th {\n",
       "        text-align: right;\n",
       "    }\n",
       "</style>\n",
       "<table border=\"1\" class=\"dataframe\">\n",
       "  <thead>\n",
       "    <tr style=\"text-align: right;\">\n",
       "      <th>internet_servicetype</th>\n",
       "      <th>DSL</th>\n",
       "      <th>Fiber Optic</th>\n",
       "      <th>No Internet Service</th>\n",
       "    </tr>\n",
       "    <tr>\n",
       "      <th>rounded_tenure</th>\n",
       "      <th></th>\n",
       "      <th></th>\n",
       "      <th></th>\n",
       "    </tr>\n",
       "  </thead>\n",
       "  <tbody>\n",
       "    <tr>\n",
       "      <th>0.0</th>\n",
       "      <td>64.940000</td>\n",
       "      <td>NaN</td>\n",
       "      <td>21.816667</td>\n",
       "    </tr>\n",
       "    <tr>\n",
       "      <th>1.0</th>\n",
       "      <td>44.157907</td>\n",
       "      <td>77.587660</td>\n",
       "      <td>20.124107</td>\n",
       "    </tr>\n",
       "    <tr>\n",
       "      <th>2.0</th>\n",
       "      <td>48.069753</td>\n",
       "      <td>80.333028</td>\n",
       "      <td>20.230952</td>\n",
       "    </tr>\n",
       "    <tr>\n",
       "      <th>3.0</th>\n",
       "      <td>46.808571</td>\n",
       "      <td>82.872778</td>\n",
       "      <td>20.096591</td>\n",
       "    </tr>\n",
       "    <tr>\n",
       "      <th>4.0</th>\n",
       "      <td>47.301639</td>\n",
       "      <td>82.496835</td>\n",
       "      <td>20.572581</td>\n",
       "    </tr>\n",
       "    <tr>\n",
       "      <th>...</th>\n",
       "      <td>...</td>\n",
       "      <td>...</td>\n",
       "      <td>...</td>\n",
       "    </tr>\n",
       "    <tr>\n",
       "      <th>74.0</th>\n",
       "      <td>80.565000</td>\n",
       "      <td>109.332353</td>\n",
       "      <td>23.946429</td>\n",
       "    </tr>\n",
       "    <tr>\n",
       "      <th>75.0</th>\n",
       "      <td>72.380000</td>\n",
       "      <td>104.350000</td>\n",
       "      <td>22.956250</td>\n",
       "    </tr>\n",
       "    <tr>\n",
       "      <th>76.0</th>\n",
       "      <td>NaN</td>\n",
       "      <td>NaN</td>\n",
       "      <td>25.300000</td>\n",
       "    </tr>\n",
       "    <tr>\n",
       "      <th>77.0</th>\n",
       "      <td>NaN</td>\n",
       "      <td>NaN</td>\n",
       "      <td>22.140000</td>\n",
       "    </tr>\n",
       "    <tr>\n",
       "      <th>79.0</th>\n",
       "      <td>NaN</td>\n",
       "      <td>NaN</td>\n",
       "      <td>19.750000</td>\n",
       "    </tr>\n",
       "  </tbody>\n",
       "</table>\n",
       "<p>79 rows × 3 columns</p>\n",
       "</div>"
      ],
      "text/plain": [
       "internet_servicetype        DSL  Fiber Optic  No Internet Service\n",
       "rounded_tenure                                                   \n",
       "0.0                   64.940000          NaN            21.816667\n",
       "1.0                   44.157907    77.587660            20.124107\n",
       "2.0                   48.069753    80.333028            20.230952\n",
       "3.0                   46.808571    82.872778            20.096591\n",
       "4.0                   47.301639    82.496835            20.572581\n",
       "...                         ...          ...                  ...\n",
       "74.0                  80.565000   109.332353            23.946429\n",
       "75.0                  72.380000   104.350000            22.956250\n",
       "76.0                        NaN          NaN            25.300000\n",
       "77.0                        NaN          NaN            22.140000\n",
       "79.0                        NaN          NaN            19.750000\n",
       "\n",
       "[79 rows x 3 columns]"
      ]
     },
     "execution_count": 26,
     "metadata": {},
     "output_type": "execute_result"
    }
   ],
   "source": [
    "pivot_tenure_intet_charges = pd.pivot_table(data = df, values='monthly_charges', index='rounded_tenure', columns='internet_servicetype', aggfunc='mean')\n",
    "pivot_tenure_intet_charges"
   ]
  },
  {
   "cell_type": "code",
   "execution_count": 37,
   "metadata": {},
   "outputs": [
    {
     "data": {
      "text/plain": [
       "<matplotlib.legend.Legend at 0x1c26203cbb0>"
      ]
     },
     "execution_count": 37,
     "metadata": {},
     "output_type": "execute_result"
    },
    {
     "data": {
      "image/png": "[encoded data removed]",
      "text/plain": [
       "<Figure size 1080x648 with 1 Axes>"
      ]
     },
     "metadata": {
      "needs_background": "light"
     },
     "output_type": "display_data"
    }
   ],
   "source": [
    "plt.figure(figsize = (15,9))\n",
    "ax = sns.lineplot(   data = df,\n",
    "                x = 'rounded_tenure',\n",
    "                y = 'monthly_charges',\n",
    "                hue = 'internet_servicetype',\n",
    "                ).set(\n",
    "                    ylabel= 'Average Monthly Cost',\n",
    "                    xlabel= 'Tenure in months',\n",
    "                    title= 'Internet customers are punished for loyalty',\n",
    "                    )\n",
    "\n",
    "# ax.invert_xaxis()\n",
    "plt.legend(title='Internet Service', framealpha=0.3, fontsize=14)"
   ]
  },
  {
   "cell_type": "markdown",
   "metadata": {},
   "source": [
    "Conclusions:\n",
    "\n",
    "Customers are leaving because they are learning that the longer they stay with the company the more they will pay.\n",
    "They will choose the month-to-month option because it is the cheapest option.  That empowers them to leave more frequently.\n",
    "The churn rate for contract-locked customers is lower because they feel the only time to make the decision is near renewal and that only happens once every 1 or 2 years."
   ]
  },
  {
   "cell_type": "code",
   "execution_count": 31,
   "metadata": {},
   "outputs": [
    {
     "data": {
      "image/png": "[encoded data removed]",
      "text/plain": [
       "<Figure size 648x648 with 1 Axes>"
      ]
     },
     "metadata": {
      "needs_background": "light"
     },
     "output_type": "display_data"
    }
   ],
   "source": [
    "plt.figure(figsize = (9,9))\n",
    "charges = sns.barplot(\n",
    "                    data = df, \n",
    "                    y= df.rounded_tenure / 12,\n",
    "                    # x='internet_servicetype', \n",
    "                    x='ct_type_str', \n",
    "                    # kind='bar', \n",
    "                    order=['2 Year','1 Year','Month-to-Month'],\n",
    "                    # hue_order=['2 Year','1 Year','Month-to-Month'],\n",
    "                    palette=['grey','grey','#1874CD'],\n",
    "                    \n",
    "                    ).set(\n",
    "                        title='Customers without contracts leave sooner',\n",
    "                        xlabel='Contract Type',\n",
    "                        ylabel='Average Tenure in years',\n",
    "                        \n",
    "                    )"
   ]
  },
  {
   "cell_type": "code",
   "execution_count": null,
   "metadata": {},
   "outputs": [
    {
     "data": {
      "text/plain": [
       "Fiber Optic            235\n",
       "DSL                    215\n",
       "No Internet Service    168\n",
       "Name: internet_servicetype, dtype: int64"
      ]
     },
     "execution_count": 181,
     "metadata": {},
     "output_type": "execute_result"
    }
   ],
   "source": [
    "df[(df.rounded_tenure == 1)].internet_servicetype.value_counts()"
   ]
  },
  {
   "cell_type": "code",
   "execution_count": null,
   "metadata": {},
   "outputs": [
    {
     "data": {
      "text/plain": [
       "91.50397030342158"
      ]
     },
     "execution_count": 176,
     "metadata": {},
     "output_type": "execute_result"
    }
   ],
   "source": [
    "df[df.internet_service == 2].monthly_charges.mean()\n"
   ]
  },
  {
   "cell_type": "code",
   "execution_count": null,
   "metadata": {},
   "outputs": [
    {
     "data": {
      "text/plain": [
       "0.4186571981923822"
      ]
     },
     "execution_count": 182,
     "metadata": {},
     "output_type": "execute_result"
    }
   ],
   "source": [
    "df[df.internet_service == 2].has_churned.mean()"
   ]
  },
  {
   "cell_type": "code",
   "execution_count": null,
   "metadata": {},
   "outputs": [
    {
     "data": {
      "text/plain": [
       "['#1f77b4',\n",
       " '#ff7f0e',\n",
       " '#2ca02c',\n",
       " '#d62728',\n",
       " '#9467bd',\n",
       " '#8c564b',\n",
       " '#e377c2',\n",
       " '#7f7f7f',\n",
       " '#bcbd22',\n",
       " '#17becf']"
      ]
     },
     "execution_count": 215,
     "metadata": {},
     "output_type": "execute_result"
    }
   ],
   "source": [
    "colors = plt.rcParams['axes.prop_cycle'].by_key()['color']\n",
    "colors"
   ]
  },
  {
   "cell_type": "code",
   "execution_count": null,
   "metadata": {},
   "outputs": [
    {
     "data": {
      "image/png": "[encoded data removed]",
      "text/plain": [
       "<Figure size 640x480 with 1 Axes>"
      ]
     },
     "metadata": {},
     "output_type": "display_data"
    }
   ],
   "source": [
    "import matplotlib.ticker as ticker\n",
    "churn = sns.barplot(\n",
    "                    data = df, \n",
    "                    y='has_churned', \n",
    "                    x='internet_servicetype', \n",
    "                    # hue='ct_type_str', \n",
    "                    # kind='bar', \n",
    "                    order=['No Internet Service','DSL','Fiber Optic'],\n",
    "                    # hue_order=['2 Year','1 Year','Month-to-Month'],\n",
    "                    palette=[colors[2], colors[0], colors[1]],\n",
    "                    \n",
    "                    ).set(\n",
    "                        title='Internet customers are much more likely to leave'\n",
    "                    )\n",
    "\n",
    "plt.axhline(global_churn_rate)\n",
    "plt.text(-0.47, .275 , 'Global Churn Rate')\n",
    "# plt.legend(title='Contract Type')\n",
    "plt.ylabel('Churn Rate')\n",
    "plt.xlabel('Internet Service')\n",
    "plt.gca().yaxis.set_major_formatter('{:.0%}'.format)\n",
    "# print(plt.gca())\n",
    "# print(plt.yticks()[1:])\n",
    "\n"
   ]
  },
  {
   "cell_type": "code",
   "execution_count": null,
   "metadata": {},
   "outputs": [
    {
     "data": {
      "text/plain": [
       "22255.6"
      ]
     },
     "execution_count": 226,
     "metadata": {},
     "output_type": "execute_result"
    }
   ],
   "source": [
    "#Flawed logic\n",
    "newly_churned = df[(df.has_churned) & (df.rounded_tenure <= 1)]\n",
    "newly_churned.monthly_charges.sum()"
   ]
  },
  {
   "cell_type": "code",
   "execution_count": 32,
   "metadata": {},
   "outputs": [
    {
     "data": {
      "text/html": [
       "<div>\n",
       "<style scoped>\n",
       "    .dataframe tbody tr th:only-of-type {\n",
       "        vertical-align: middle;\n",
       "    }\n",
       "\n",
       "    .dataframe tbody tr th {\n",
       "        vertical-align: top;\n",
       "    }\n",
       "\n",
       "    .dataframe thead th {\n",
       "        text-align: right;\n",
       "    }\n",
       "</style>\n",
       "<table border=\"1\" class=\"dataframe\">\n",
       "  <thead>\n",
       "    <tr style=\"text-align: right;\">\n",
       "      <th></th>\n",
       "      <th>unnamed: 0</th>\n",
       "      <th>customer_id</th>\n",
       "      <th>gender</th>\n",
       "      <th>is_senior_citizen</th>\n",
       "      <th>partner</th>\n",
       "      <th>dependents</th>\n",
       "      <th>phone_service</th>\n",
       "      <th>internet_service</th>\n",
       "      <th>contract_type</th>\n",
       "      <th>payment_type</th>\n",
       "      <th>monthly_charges</th>\n",
       "      <th>total_charges</th>\n",
       "      <th>churn</th>\n",
       "      <th>tenure</th>\n",
       "      <th>mo_charges_calc</th>\n",
       "      <th>is_female</th>\n",
       "      <th>has_churned</th>\n",
       "      <th>has_phone</th>\n",
       "      <th>has_internet</th>\n",
       "      <th>has_phone_and_internet</th>\n",
       "      <th>partner_dependants</th>\n",
       "      <th>partner_dependents</th>\n",
       "      <th>phone_servicetype</th>\n",
       "      <th>internet_servicetype</th>\n",
       "      <th>ct_type_str</th>\n",
       "      <th>rounded_tenure</th>\n",
       "      <th>service_type</th>\n",
       "    </tr>\n",
       "  </thead>\n",
       "  <tbody>\n",
       "    <tr>\n",
       "      <th>0</th>\n",
       "      <td>0</td>\n",
       "      <td>0002-ORFBO</td>\n",
       "      <td>Female</td>\n",
       "      <td>0</td>\n",
       "      <td>Yes</td>\n",
       "      <td>Yes</td>\n",
       "      <td>1</td>\n",
       "      <td>1</td>\n",
       "      <td>1</td>\n",
       "      <td>Mailed check</td>\n",
       "      <td>65.6</td>\n",
       "      <td>593.30</td>\n",
       "      <td>No</td>\n",
       "      <td>9.0</td>\n",
       "      <td>$65.60</td>\n",
       "      <td>True</td>\n",
       "      <td>False</td>\n",
       "      <td>True</td>\n",
       "      <td>True</td>\n",
       "      <td>True</td>\n",
       "      <td>2</td>\n",
       "      <td>3</td>\n",
       "      <td>One Line</td>\n",
       "      <td>DSL</td>\n",
       "      <td>1 Year</td>\n",
       "      <td>9.0</td>\n",
       "      <td>internet+phone</td>\n",
       "    </tr>\n",
       "    <tr>\n",
       "      <th>1</th>\n",
       "      <td>1</td>\n",
       "      <td>0003-MKNFE</td>\n",
       "      <td>Male</td>\n",
       "      <td>0</td>\n",
       "      <td>No</td>\n",
       "      <td>No</td>\n",
       "      <td>2</td>\n",
       "      <td>1</td>\n",
       "      <td>0</td>\n",
       "      <td>Mailed check</td>\n",
       "      <td>59.9</td>\n",
       "      <td>542.40</td>\n",
       "      <td>No</td>\n",
       "      <td>9.1</td>\n",
       "      <td>$59.90</td>\n",
       "      <td>False</td>\n",
       "      <td>False</td>\n",
       "      <td>True</td>\n",
       "      <td>True</td>\n",
       "      <td>True</td>\n",
       "      <td>0</td>\n",
       "      <td>0</td>\n",
       "      <td>Two or More Lines</td>\n",
       "      <td>DSL</td>\n",
       "      <td>Month-to-Month</td>\n",
       "      <td>9.0</td>\n",
       "      <td>internet+phone</td>\n",
       "    </tr>\n",
       "    <tr>\n",
       "      <th>2</th>\n",
       "      <td>2</td>\n",
       "      <td>0004-TLHLJ</td>\n",
       "      <td>Male</td>\n",
       "      <td>0</td>\n",
       "      <td>No</td>\n",
       "      <td>No</td>\n",
       "      <td>1</td>\n",
       "      <td>2</td>\n",
       "      <td>0</td>\n",
       "      <td>Electronic check</td>\n",
       "      <td>73.9</td>\n",
       "      <td>280.85</td>\n",
       "      <td>Yes</td>\n",
       "      <td>3.8</td>\n",
       "      <td>$73.90</td>\n",
       "      <td>False</td>\n",
       "      <td>True</td>\n",
       "      <td>True</td>\n",
       "      <td>True</td>\n",
       "      <td>True</td>\n",
       "      <td>0</td>\n",
       "      <td>0</td>\n",
       "      <td>One Line</td>\n",
       "      <td>Fiber Optic</td>\n",
       "      <td>Month-to-Month</td>\n",
       "      <td>4.0</td>\n",
       "      <td>internet+phone</td>\n",
       "    </tr>\n",
       "    <tr>\n",
       "      <th>3</th>\n",
       "      <td>3</td>\n",
       "      <td>0011-IGKFF</td>\n",
       "      <td>Male</td>\n",
       "      <td>1</td>\n",
       "      <td>Yes</td>\n",
       "      <td>No</td>\n",
       "      <td>1</td>\n",
       "      <td>2</td>\n",
       "      <td>0</td>\n",
       "      <td>Electronic check</td>\n",
       "      <td>98.0</td>\n",
       "      <td>1237.85</td>\n",
       "      <td>Yes</td>\n",
       "      <td>12.6</td>\n",
       "      <td>$98.00</td>\n",
       "      <td>False</td>\n",
       "      <td>True</td>\n",
       "      <td>True</td>\n",
       "      <td>True</td>\n",
       "      <td>True</td>\n",
       "      <td>1</td>\n",
       "      <td>1</td>\n",
       "      <td>One Line</td>\n",
       "      <td>Fiber Optic</td>\n",
       "      <td>Month-to-Month</td>\n",
       "      <td>13.0</td>\n",
       "      <td>internet+phone</td>\n",
       "    </tr>\n",
       "    <tr>\n",
       "      <th>4</th>\n",
       "      <td>4</td>\n",
       "      <td>0013-EXCHZ</td>\n",
       "      <td>Female</td>\n",
       "      <td>1</td>\n",
       "      <td>Yes</td>\n",
       "      <td>No</td>\n",
       "      <td>1</td>\n",
       "      <td>2</td>\n",
       "      <td>0</td>\n",
       "      <td>Mailed check</td>\n",
       "      <td>83.9</td>\n",
       "      <td>267.40</td>\n",
       "      <td>Yes</td>\n",
       "      <td>3.2</td>\n",
       "      <td>$83.90</td>\n",
       "      <td>True</td>\n",
       "      <td>True</td>\n",
       "      <td>True</td>\n",
       "      <td>True</td>\n",
       "      <td>True</td>\n",
       "      <td>1</td>\n",
       "      <td>1</td>\n",
       "      <td>One Line</td>\n",
       "      <td>Fiber Optic</td>\n",
       "      <td>Month-to-Month</td>\n",
       "      <td>3.0</td>\n",
       "      <td>internet+phone</td>\n",
       "    </tr>\n",
       "  </tbody>\n",
       "</table>\n",
       "</div>"
      ],
      "text/plain": [
       "   unnamed: 0 customer_id  gender  is_senior_citizen partner dependents  \\\n",
       "0           0  0002-ORFBO  Female                  0     Yes        Yes   \n",
       "1           1  0003-MKNFE    Male                  0      No         No   \n",
       "2           2  0004-TLHLJ    Male                  0      No         No   \n",
       "3           3  0011-IGKFF    Male                  1     Yes         No   \n",
       "4           4  0013-EXCHZ  Female                  1     Yes         No   \n",
       "\n",
       "   phone_service  internet_service  contract_type      payment_type  \\\n",
       "0              1                 1              1      Mailed check   \n",
       "1              2                 1              0      Mailed check   \n",
       "2              1                 2              0  Electronic check   \n",
       "3              1                 2              0  Electronic check   \n",
       "4              1                 2              0      Mailed check   \n",
       "\n",
       "   monthly_charges  total_charges churn  tenure mo_charges_calc  is_female  \\\n",
       "0             65.6         593.30    No     9.0          $65.60       True   \n",
       "1             59.9         542.40    No     9.1          $59.90      False   \n",
       "2             73.9         280.85   Yes     3.8          $73.90      False   \n",
       "3             98.0        1237.85   Yes    12.6          $98.00      False   \n",
       "4             83.9         267.40   Yes     3.2          $83.90       True   \n",
       "\n",
       "   has_churned  has_phone  has_internet  has_phone_and_internet  \\\n",
       "0        False       True          True                    True   \n",
       "1        False       True          True                    True   \n",
       "2         True       True          True                    True   \n",
       "3         True       True          True                    True   \n",
       "4         True       True          True                    True   \n",
       "\n",
       "   partner_dependants  partner_dependents  phone_servicetype  \\\n",
       "0                   2                   3           One Line   \n",
       "1                   0                   0  Two or More Lines   \n",
       "2                   0                   0           One Line   \n",
       "3                   1                   1           One Line   \n",
       "4                   1                   1           One Line   \n",
       "\n",
       "  internet_servicetype     ct_type_str  rounded_tenure    service_type  \n",
       "0                  DSL          1 Year             9.0  internet+phone  \n",
       "1                  DSL  Month-to-Month             9.0  internet+phone  \n",
       "2          Fiber Optic  Month-to-Month             4.0  internet+phone  \n",
       "3          Fiber Optic  Month-to-Month            13.0  internet+phone  \n",
       "4          Fiber Optic  Month-to-Month             3.0  internet+phone  "
      ]
     },
     "execution_count": 32,
     "metadata": {},
     "output_type": "execute_result"
    }
   ],
   "source": [
    "df.head()"
   ]
  },
  {
   "cell_type": "code",
   "execution_count": 35,
   "metadata": {},
   "outputs": [
    {
     "data": {
      "text/plain": [
       "68264.59008369982"
      ]
     },
     "execution_count": 35,
     "metadata": {},
     "output_type": "execute_result"
    }
   ],
   "source": [
    "df[df.contract_type == 0].monthly_charges.sum() * global_churn_rate"
   ]
  },
  {
   "cell_type": "code",
   "execution_count": 38,
   "metadata": {},
   "outputs": [
    {
     "data": {
      "text/plain": [
       "7049"
      ]
     },
     "execution_count": 38,
     "metadata": {},
     "output_type": "execute_result"
    }
   ],
   "source": [
    "len(df)"
   ]
  },
  {
   "cell_type": "code",
   "execution_count": 39,
   "metadata": {},
   "outputs": [],
   "source": [
    "df.to_clipboard()"
   ]
  }
 ],
 "metadata": {
  "interpreter": {
   "hash": "37b4e1d782780d9803a775659fc8b81e9cc61a0899d4564192c1f7cc3c556e45"
  },
  "kernelspec": {
   "display_name": "Python 3.10.4 64-bit",
   "language": "python",
   "name": "python3"
  },
  "language_info": {
   "codemirror_mode": {
    "name": "ipython",
    "version": 3
   },
   "file_extension": ".py",
   "mimetype": "text/x-python",
   "name": "python",
   "nbconvert_exporter": "python",
   "pygments_lexer": "ipython3",
   "version": "3.10.4"
  },
  "orig_nbformat": 4
 },
 "nbformat": 4,
 "nbformat_minor": 2
}
