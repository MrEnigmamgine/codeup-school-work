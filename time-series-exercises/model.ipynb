{
 "cells": [
  {
   "cell_type": "code",
   "execution_count": 18,
   "metadata": {},
   "outputs": [],
   "source": [
    "import pandas as pd\n",
    "import numpy as np\n",
    "\n",
    "import matplotlib.pyplot as plt\n",
    "\n",
    "import acquire\n",
    "import mytk"
   ]
  },
  {
   "cell_type": "markdown",
   "metadata": {},
   "source": [
    "## Exercises\n",
    "\n",
    "The end result of this exercise should be a Jupyter notebook named `model`.\n",
    "\n",
    "Using [saas.csv](https://ds.codeup.com/saas.csv) or log data from API usage or store_item_sales\n",
    "\n",
    "1. Split data (train/test) and resample by any period, except daily, and aggregate using the sum. \n",
    "2. Forecast, plot and evaluate using each of the 4 parametric based methods we discussed:\n",
    "    - Simple Average\n",
    "    - Moving Average\n",
    "    - Holt's Linear Trend Model\n",
    "    - Based on previous year/month/etc., this is up to you.\n",
    "\n",
    "Optional: Using store item demand\n",
    "\n",
    "1. Predict 2018 total **monthly** sales for a single store and/or item by creating a model using prophet.\n",
    "2. Return a dataframe with the month, store_id, y-hat, and the confidence intervals (y-hat lower, y-hat upper).\n",
    "3. Plot the 2018 monthly sales predictions."
   ]
  },
  {
   "cell_type": "markdown",
   "metadata": {},
   "source": [
    "### 1. Split data (train/test) and resample by any period, except daily, and aggregate using the sum. \n"
   ]
  },
  {
   "cell_type": "code",
   "execution_count": 3,
   "metadata": {},
   "outputs": [
    {
     "data": {
      "text/html": [
       "<div>\n",
       "<style scoped>\n",
       "    .dataframe tbody tr th:only-of-type {\n",
       "        vertical-align: middle;\n",
       "    }\n",
       "\n",
       "    .dataframe tbody tr th {\n",
       "        vertical-align: top;\n",
       "    }\n",
       "\n",
       "    .dataframe thead th {\n",
       "        text-align: right;\n",
       "    }\n",
       "</style>\n",
       "<table border=\"1\" class=\"dataframe\">\n",
       "  <thead>\n",
       "    <tr style=\"text-align: right;\">\n",
       "      <th></th>\n",
       "      <th>item</th>\n",
       "      <th>sale_amount</th>\n",
       "      <th>sale_id</th>\n",
       "      <th>store</th>\n",
       "      <th>item_brand</th>\n",
       "      <th>item_name</th>\n",
       "      <th>item_price</th>\n",
       "      <th>item_upc12</th>\n",
       "      <th>item_upc14</th>\n",
       "      <th>store_address</th>\n",
       "      <th>store_city</th>\n",
       "      <th>store_state</th>\n",
       "      <th>store_zipcode</th>\n",
       "      <th>month</th>\n",
       "      <th>day_of_week</th>\n",
       "      <th>sales_total</th>\n",
       "    </tr>\n",
       "    <tr>\n",
       "      <th>sale_date</th>\n",
       "      <th></th>\n",
       "      <th></th>\n",
       "      <th></th>\n",
       "      <th></th>\n",
       "      <th></th>\n",
       "      <th></th>\n",
       "      <th></th>\n",
       "      <th></th>\n",
       "      <th></th>\n",
       "      <th></th>\n",
       "      <th></th>\n",
       "      <th></th>\n",
       "      <th></th>\n",
       "      <th></th>\n",
       "      <th></th>\n",
       "      <th></th>\n",
       "    </tr>\n",
       "  </thead>\n",
       "  <tbody>\n",
       "    <tr>\n",
       "      <th>2013-01-01</th>\n",
       "      <td>1</td>\n",
       "      <td>13.0</td>\n",
       "      <td>1</td>\n",
       "      <td>1</td>\n",
       "      <td>Riceland</td>\n",
       "      <td>Riceland American Jazmine Rice</td>\n",
       "      <td>0.84</td>\n",
       "      <td>35200264013</td>\n",
       "      <td>35200264013</td>\n",
       "      <td>12125 Alamo Ranch Pkwy</td>\n",
       "      <td>San Antonio</td>\n",
       "      <td>TX</td>\n",
       "      <td>78253</td>\n",
       "      <td>1</td>\n",
       "      <td>1</td>\n",
       "      <td>10.92</td>\n",
       "    </tr>\n",
       "    <tr>\n",
       "      <th>2013-01-01</th>\n",
       "      <td>12</td>\n",
       "      <td>26.0</td>\n",
       "      <td>211817</td>\n",
       "      <td>7</td>\n",
       "      <td>Mueller</td>\n",
       "      <td>Mueller Sport Care Basic Support Level Medium Elastic Knee Support</td>\n",
       "      <td>8.40</td>\n",
       "      <td>74676640211</td>\n",
       "      <td>74676640211</td>\n",
       "      <td>12018 Perrin Beitel Rd</td>\n",
       "      <td>San Antonio</td>\n",
       "      <td>TX</td>\n",
       "      <td>78217</td>\n",
       "      <td>1</td>\n",
       "      <td>1</td>\n",
       "      <td>218.40</td>\n",
       "    </tr>\n",
       "    <tr>\n",
       "      <th>2013-01-01</th>\n",
       "      <td>46</td>\n",
       "      <td>27.0</td>\n",
       "      <td>832657</td>\n",
       "      <td>7</td>\n",
       "      <td>Mama Marys</td>\n",
       "      <td>Pizza Sauce</td>\n",
       "      <td>4.65</td>\n",
       "      <td>35457770664</td>\n",
       "      <td>35457770664</td>\n",
       "      <td>12018 Perrin Beitel Rd</td>\n",
       "      <td>San Antonio</td>\n",
       "      <td>TX</td>\n",
       "      <td>78217</td>\n",
       "      <td>1</td>\n",
       "      <td>1</td>\n",
       "      <td>125.55</td>\n",
       "    </tr>\n",
       "    <tr>\n",
       "      <th>2013-01-01</th>\n",
       "      <td>12</td>\n",
       "      <td>54.0</td>\n",
       "      <td>213643</td>\n",
       "      <td>8</td>\n",
       "      <td>Mueller</td>\n",
       "      <td>Mueller Sport Care Basic Support Level Medium Elastic Knee Support</td>\n",
       "      <td>8.40</td>\n",
       "      <td>74676640211</td>\n",
       "      <td>74676640211</td>\n",
       "      <td>15000 San Pedro Ave</td>\n",
       "      <td>San Antonio</td>\n",
       "      <td>TX</td>\n",
       "      <td>78232</td>\n",
       "      <td>1</td>\n",
       "      <td>1</td>\n",
       "      <td>453.60</td>\n",
       "    </tr>\n",
       "    <tr>\n",
       "      <th>2013-01-01</th>\n",
       "      <td>12</td>\n",
       "      <td>35.0</td>\n",
       "      <td>215469</td>\n",
       "      <td>9</td>\n",
       "      <td>Mueller</td>\n",
       "      <td>Mueller Sport Care Basic Support Level Medium Elastic Knee Support</td>\n",
       "      <td>8.40</td>\n",
       "      <td>74676640211</td>\n",
       "      <td>74676640211</td>\n",
       "      <td>735 SW Military Dr</td>\n",
       "      <td>San Antonio</td>\n",
       "      <td>TX</td>\n",
       "      <td>78221</td>\n",
       "      <td>1</td>\n",
       "      <td>1</td>\n",
       "      <td>294.00</td>\n",
       "    </tr>\n",
       "  </tbody>\n",
       "</table>\n",
       "</div>"
      ],
      "text/plain": [
       "            item  sale_amount  sale_id  store  item_brand  \\\n",
       "sale_date                                                   \n",
       "2013-01-01     1         13.0        1      1    Riceland   \n",
       "2013-01-01    12         26.0   211817      7     Mueller   \n",
       "2013-01-01    46         27.0   832657      7  Mama Marys   \n",
       "2013-01-01    12         54.0   213643      8     Mueller   \n",
       "2013-01-01    12         35.0   215469      9     Mueller   \n",
       "\n",
       "                                                                     item_name  \\\n",
       "sale_date                                                                        \n",
       "2013-01-01                                      Riceland American Jazmine Rice   \n",
       "2013-01-01  Mueller Sport Care Basic Support Level Medium Elastic Knee Support   \n",
       "2013-01-01                                                         Pizza Sauce   \n",
       "2013-01-01  Mueller Sport Care Basic Support Level Medium Elastic Knee Support   \n",
       "2013-01-01  Mueller Sport Care Basic Support Level Medium Elastic Knee Support   \n",
       "\n",
       "            item_price   item_upc12   item_upc14           store_address  \\\n",
       "sale_date                                                                  \n",
       "2013-01-01        0.84  35200264013  35200264013  12125 Alamo Ranch Pkwy   \n",
       "2013-01-01        8.40  74676640211  74676640211  12018 Perrin Beitel Rd   \n",
       "2013-01-01        4.65  35457770664  35457770664  12018 Perrin Beitel Rd   \n",
       "2013-01-01        8.40  74676640211  74676640211     15000 San Pedro Ave   \n",
       "2013-01-01        8.40  74676640211  74676640211      735 SW Military Dr   \n",
       "\n",
       "             store_city store_state  store_zipcode  month  day_of_week  \\\n",
       "sale_date                                                                \n",
       "2013-01-01  San Antonio          TX          78253      1            1   \n",
       "2013-01-01  San Antonio          TX          78217      1            1   \n",
       "2013-01-01  San Antonio          TX          78217      1            1   \n",
       "2013-01-01  San Antonio          TX          78232      1            1   \n",
       "2013-01-01  San Antonio          TX          78221      1            1   \n",
       "\n",
       "            sales_total  \n",
       "sale_date                \n",
       "2013-01-01        10.92  \n",
       "2013-01-01       218.40  \n",
       "2013-01-01       125.55  \n",
       "2013-01-01       453.60  \n",
       "2013-01-01       294.00  "
      ]
     },
     "execution_count": 3,
     "metadata": {},
     "output_type": "execute_result"
    }
   ],
   "source": [
    "df = acquire.wrangle_zgulde()\n",
    "df.head()"
   ]
  },
  {
   "cell_type": "code",
   "execution_count": 6,
   "metadata": {},
   "outputs": [
    {
     "data": {
      "text/html": [
       "<div>\n",
       "<style scoped>\n",
       "    .dataframe tbody tr th:only-of-type {\n",
       "        vertical-align: middle;\n",
       "    }\n",
       "\n",
       "    .dataframe tbody tr th {\n",
       "        vertical-align: top;\n",
       "    }\n",
       "\n",
       "    .dataframe thead th {\n",
       "        text-align: right;\n",
       "    }\n",
       "</style>\n",
       "<table border=\"1\" class=\"dataframe\">\n",
       "  <thead>\n",
       "    <tr style=\"text-align: right;\">\n",
       "      <th></th>\n",
       "      <th>item</th>\n",
       "      <th>sale_amount</th>\n",
       "      <th>sale_id</th>\n",
       "      <th>store</th>\n",
       "      <th>item_brand</th>\n",
       "      <th>item_name</th>\n",
       "      <th>item_price</th>\n",
       "      <th>item_upc12</th>\n",
       "      <th>item_upc14</th>\n",
       "      <th>store_address</th>\n",
       "      <th>store_city</th>\n",
       "      <th>store_state</th>\n",
       "      <th>store_zipcode</th>\n",
       "      <th>month</th>\n",
       "      <th>day_of_week</th>\n",
       "      <th>sales_total</th>\n",
       "    </tr>\n",
       "    <tr>\n",
       "      <th>sale_date</th>\n",
       "      <th></th>\n",
       "      <th></th>\n",
       "      <th></th>\n",
       "      <th></th>\n",
       "      <th></th>\n",
       "      <th></th>\n",
       "      <th></th>\n",
       "      <th></th>\n",
       "      <th></th>\n",
       "      <th></th>\n",
       "      <th></th>\n",
       "      <th></th>\n",
       "      <th></th>\n",
       "      <th></th>\n",
       "      <th></th>\n",
       "      <th></th>\n",
       "    </tr>\n",
       "  </thead>\n",
       "  <tbody>\n",
       "    <tr>\n",
       "      <th>2017-01-01</th>\n",
       "      <td>27</td>\n",
       "      <td>18.0</td>\n",
       "      <td>481700</td>\n",
       "      <td>6</td>\n",
       "      <td>Morton</td>\n",
       "      <td>Morton Kosher Salt Coarse</td>\n",
       "      <td>6.01</td>\n",
       "      <td>24600017008</td>\n",
       "      <td>24600017008</td>\n",
       "      <td>516 S Flores St</td>\n",
       "      <td>San Antonio</td>\n",
       "      <td>TX</td>\n",
       "      <td>78204</td>\n",
       "      <td>1</td>\n",
       "      <td>6</td>\n",
       "      <td>108.18</td>\n",
       "    </tr>\n",
       "    <tr>\n",
       "      <th>2017-01-01</th>\n",
       "      <td>39</td>\n",
       "      <td>36.0</td>\n",
       "      <td>695342</td>\n",
       "      <td>2</td>\n",
       "      <td>Munchies</td>\n",
       "      <td>Munchies Sandwich Crackers Cheddar Cheese On Golden Toast Crackers - 8 Pk</td>\n",
       "      <td>9.02</td>\n",
       "      <td>28400029254</td>\n",
       "      <td>28400029254</td>\n",
       "      <td>12125 Alamo Ranch Pkwy</td>\n",
       "      <td>San Antonio</td>\n",
       "      <td>TX</td>\n",
       "      <td>78253</td>\n",
       "      <td>1</td>\n",
       "      <td>6</td>\n",
       "      <td>324.72</td>\n",
       "    </tr>\n",
       "    <tr>\n",
       "      <th>2017-01-01</th>\n",
       "      <td>46</td>\n",
       "      <td>38.0</td>\n",
       "      <td>823162</td>\n",
       "      <td>2</td>\n",
       "      <td>Mama Marys</td>\n",
       "      <td>Pizza Sauce</td>\n",
       "      <td>4.65</td>\n",
       "      <td>35457770664</td>\n",
       "      <td>35457770664</td>\n",
       "      <td>12125 Alamo Ranch Pkwy</td>\n",
       "      <td>San Antonio</td>\n",
       "      <td>TX</td>\n",
       "      <td>78253</td>\n",
       "      <td>1</td>\n",
       "      <td>6</td>\n",
       "      <td>176.70</td>\n",
       "    </tr>\n",
       "    <tr>\n",
       "      <th>2017-01-01</th>\n",
       "      <td>29</td>\n",
       "      <td>43.0</td>\n",
       "      <td>523698</td>\n",
       "      <td>1</td>\n",
       "      <td>Heinz</td>\n",
       "      <td>Heinz Tomato Ketchup - 2 Ct</td>\n",
       "      <td>8.65</td>\n",
       "      <td>13000001038</td>\n",
       "      <td>13000001038</td>\n",
       "      <td>12018 Perrin Beitel Rd</td>\n",
       "      <td>San Antonio</td>\n",
       "      <td>TX</td>\n",
       "      <td>78217</td>\n",
       "      <td>1</td>\n",
       "      <td>6</td>\n",
       "      <td>371.95</td>\n",
       "    </tr>\n",
       "    <tr>\n",
       "      <th>2017-01-01</th>\n",
       "      <td>35</td>\n",
       "      <td>66.0</td>\n",
       "      <td>636910</td>\n",
       "      <td>7</td>\n",
       "      <td>Natures Way</td>\n",
       "      <td>Natures Way Forskohlii - 60 Ct</td>\n",
       "      <td>5.19</td>\n",
       "      <td>33674100066</td>\n",
       "      <td>33674100066</td>\n",
       "      <td>735 SW Military Dr</td>\n",
       "      <td>San Antonio</td>\n",
       "      <td>TX</td>\n",
       "      <td>78221</td>\n",
       "      <td>1</td>\n",
       "      <td>6</td>\n",
       "      <td>342.54</td>\n",
       "    </tr>\n",
       "  </tbody>\n",
       "</table>\n",
       "</div>"
      ],
      "text/plain": [
       "            item  sale_amount  sale_id  store   item_brand  \\\n",
       "sale_date                                                    \n",
       "2017-01-01    27         18.0   481700      6       Morton   \n",
       "2017-01-01    39         36.0   695342      2     Munchies   \n",
       "2017-01-01    46         38.0   823162      2   Mama Marys   \n",
       "2017-01-01    29         43.0   523698      1        Heinz   \n",
       "2017-01-01    35         66.0   636910      7  Natures Way   \n",
       "\n",
       "                                                                            item_name  \\\n",
       "sale_date                                                                               \n",
       "2017-01-01                                                  Morton Kosher Salt Coarse   \n",
       "2017-01-01  Munchies Sandwich Crackers Cheddar Cheese On Golden Toast Crackers - 8 Pk   \n",
       "2017-01-01                                                                Pizza Sauce   \n",
       "2017-01-01                                                Heinz Tomato Ketchup - 2 Ct   \n",
       "2017-01-01                                             Natures Way Forskohlii - 60 Ct   \n",
       "\n",
       "            item_price   item_upc12   item_upc14           store_address  \\\n",
       "sale_date                                                                  \n",
       "2017-01-01        6.01  24600017008  24600017008         516 S Flores St   \n",
       "2017-01-01        9.02  28400029254  28400029254  12125 Alamo Ranch Pkwy   \n",
       "2017-01-01        4.65  35457770664  35457770664  12125 Alamo Ranch Pkwy   \n",
       "2017-01-01        8.65  13000001038  13000001038  12018 Perrin Beitel Rd   \n",
       "2017-01-01        5.19  33674100066  33674100066      735 SW Military Dr   \n",
       "\n",
       "             store_city store_state  store_zipcode  month  day_of_week  \\\n",
       "sale_date                                                                \n",
       "2017-01-01  San Antonio          TX          78204      1            6   \n",
       "2017-01-01  San Antonio          TX          78253      1            6   \n",
       "2017-01-01  San Antonio          TX          78253      1            6   \n",
       "2017-01-01  San Antonio          TX          78217      1            6   \n",
       "2017-01-01  San Antonio          TX          78221      1            6   \n",
       "\n",
       "            sales_total  \n",
       "sale_date                \n",
       "2017-01-01       108.18  \n",
       "2017-01-01       324.72  \n",
       "2017-01-01       176.70  \n",
       "2017-01-01       371.95  \n",
       "2017-01-01       342.54  "
      ]
     },
     "execution_count": 6,
     "metadata": {},
     "output_type": "execute_result"
    }
   ],
   "source": [
    "test = df.loc['2017']\n",
    "test.head()"
   ]
  },
  {
   "cell_type": "code",
   "execution_count": 8,
   "metadata": {},
   "outputs": [
    {
     "data": {
      "text/html": [
       "<div>\n",
       "<style scoped>\n",
       "    .dataframe tbody tr th:only-of-type {\n",
       "        vertical-align: middle;\n",
       "    }\n",
       "\n",
       "    .dataframe tbody tr th {\n",
       "        vertical-align: top;\n",
       "    }\n",
       "\n",
       "    .dataframe thead th {\n",
       "        text-align: right;\n",
       "    }\n",
       "</style>\n",
       "<table border=\"1\" class=\"dataframe\">\n",
       "  <thead>\n",
       "    <tr style=\"text-align: right;\">\n",
       "      <th></th>\n",
       "      <th>item</th>\n",
       "      <th>sale_amount</th>\n",
       "      <th>sale_id</th>\n",
       "      <th>store</th>\n",
       "      <th>item_brand</th>\n",
       "      <th>item_name</th>\n",
       "      <th>item_price</th>\n",
       "      <th>item_upc12</th>\n",
       "      <th>item_upc14</th>\n",
       "      <th>store_address</th>\n",
       "      <th>store_city</th>\n",
       "      <th>store_state</th>\n",
       "      <th>store_zipcode</th>\n",
       "      <th>month</th>\n",
       "      <th>day_of_week</th>\n",
       "      <th>sales_total</th>\n",
       "    </tr>\n",
       "    <tr>\n",
       "      <th>sale_date</th>\n",
       "      <th></th>\n",
       "      <th></th>\n",
       "      <th></th>\n",
       "      <th></th>\n",
       "      <th></th>\n",
       "      <th></th>\n",
       "      <th></th>\n",
       "      <th></th>\n",
       "      <th></th>\n",
       "      <th></th>\n",
       "      <th></th>\n",
       "      <th></th>\n",
       "      <th></th>\n",
       "      <th></th>\n",
       "      <th></th>\n",
       "      <th></th>\n",
       "    </tr>\n",
       "  </thead>\n",
       "  <tbody>\n",
       "    <tr>\n",
       "      <th>2013-01-01</th>\n",
       "      <td>1</td>\n",
       "      <td>13.0</td>\n",
       "      <td>1</td>\n",
       "      <td>2</td>\n",
       "      <td>Riceland</td>\n",
       "      <td>Riceland American Jazmine Rice</td>\n",
       "      <td>0.84</td>\n",
       "      <td>35200264013</td>\n",
       "      <td>35200264013</td>\n",
       "      <td>12125 Alamo Ranch Pkwy</td>\n",
       "      <td>San Antonio</td>\n",
       "      <td>TX</td>\n",
       "      <td>78253</td>\n",
       "      <td>1</td>\n",
       "      <td>1</td>\n",
       "      <td>10.92</td>\n",
       "    </tr>\n",
       "    <tr>\n",
       "      <th>2013-01-01</th>\n",
       "      <td>12</td>\n",
       "      <td>26.0</td>\n",
       "      <td>211817</td>\n",
       "      <td>1</td>\n",
       "      <td>Mueller</td>\n",
       "      <td>Mueller Sport Care Basic Support Level Medium Elastic Knee Support</td>\n",
       "      <td>8.40</td>\n",
       "      <td>74676640211</td>\n",
       "      <td>74676640211</td>\n",
       "      <td>12018 Perrin Beitel Rd</td>\n",
       "      <td>San Antonio</td>\n",
       "      <td>TX</td>\n",
       "      <td>78217</td>\n",
       "      <td>1</td>\n",
       "      <td>1</td>\n",
       "      <td>218.40</td>\n",
       "    </tr>\n",
       "    <tr>\n",
       "      <th>2013-01-01</th>\n",
       "      <td>46</td>\n",
       "      <td>27.0</td>\n",
       "      <td>832657</td>\n",
       "      <td>1</td>\n",
       "      <td>Mama Marys</td>\n",
       "      <td>Pizza Sauce</td>\n",
       "      <td>4.65</td>\n",
       "      <td>35457770664</td>\n",
       "      <td>35457770664</td>\n",
       "      <td>12018 Perrin Beitel Rd</td>\n",
       "      <td>San Antonio</td>\n",
       "      <td>TX</td>\n",
       "      <td>78217</td>\n",
       "      <td>1</td>\n",
       "      <td>1</td>\n",
       "      <td>125.55</td>\n",
       "    </tr>\n",
       "    <tr>\n",
       "      <th>2013-01-01</th>\n",
       "      <td>12</td>\n",
       "      <td>54.0</td>\n",
       "      <td>213643</td>\n",
       "      <td>3</td>\n",
       "      <td>Mueller</td>\n",
       "      <td>Mueller Sport Care Basic Support Level Medium Elastic Knee Support</td>\n",
       "      <td>8.40</td>\n",
       "      <td>74676640211</td>\n",
       "      <td>74676640211</td>\n",
       "      <td>15000 San Pedro Ave</td>\n",
       "      <td>San Antonio</td>\n",
       "      <td>TX</td>\n",
       "      <td>78232</td>\n",
       "      <td>1</td>\n",
       "      <td>1</td>\n",
       "      <td>453.60</td>\n",
       "    </tr>\n",
       "    <tr>\n",
       "      <th>2013-01-01</th>\n",
       "      <td>12</td>\n",
       "      <td>35.0</td>\n",
       "      <td>215469</td>\n",
       "      <td>7</td>\n",
       "      <td>Mueller</td>\n",
       "      <td>Mueller Sport Care Basic Support Level Medium Elastic Knee Support</td>\n",
       "      <td>8.40</td>\n",
       "      <td>74676640211</td>\n",
       "      <td>74676640211</td>\n",
       "      <td>735 SW Military Dr</td>\n",
       "      <td>San Antonio</td>\n",
       "      <td>TX</td>\n",
       "      <td>78221</td>\n",
       "      <td>1</td>\n",
       "      <td>1</td>\n",
       "      <td>294.00</td>\n",
       "    </tr>\n",
       "  </tbody>\n",
       "</table>\n",
       "</div>"
      ],
      "text/plain": [
       "            item  sale_amount  sale_id  store  item_brand  \\\n",
       "sale_date                                                   \n",
       "2013-01-01     1         13.0        1      2    Riceland   \n",
       "2013-01-01    12         26.0   211817      1     Mueller   \n",
       "2013-01-01    46         27.0   832657      1  Mama Marys   \n",
       "2013-01-01    12         54.0   213643      3     Mueller   \n",
       "2013-01-01    12         35.0   215469      7     Mueller   \n",
       "\n",
       "                                                                     item_name  \\\n",
       "sale_date                                                                        \n",
       "2013-01-01                                      Riceland American Jazmine Rice   \n",
       "2013-01-01  Mueller Sport Care Basic Support Level Medium Elastic Knee Support   \n",
       "2013-01-01                                                         Pizza Sauce   \n",
       "2013-01-01  Mueller Sport Care Basic Support Level Medium Elastic Knee Support   \n",
       "2013-01-01  Mueller Sport Care Basic Support Level Medium Elastic Knee Support   \n",
       "\n",
       "            item_price   item_upc12   item_upc14           store_address  \\\n",
       "sale_date                                                                  \n",
       "2013-01-01        0.84  35200264013  35200264013  12125 Alamo Ranch Pkwy   \n",
       "2013-01-01        8.40  74676640211  74676640211  12018 Perrin Beitel Rd   \n",
       "2013-01-01        4.65  35457770664  35457770664  12018 Perrin Beitel Rd   \n",
       "2013-01-01        8.40  74676640211  74676640211     15000 San Pedro Ave   \n",
       "2013-01-01        8.40  74676640211  74676640211      735 SW Military Dr   \n",
       "\n",
       "             store_city store_state  store_zipcode  month  day_of_week  \\\n",
       "sale_date                                                                \n",
       "2013-01-01  San Antonio          TX          78253      1            1   \n",
       "2013-01-01  San Antonio          TX          78217      1            1   \n",
       "2013-01-01  San Antonio          TX          78217      1            1   \n",
       "2013-01-01  San Antonio          TX          78232      1            1   \n",
       "2013-01-01  San Antonio          TX          78221      1            1   \n",
       "\n",
       "            sales_total  \n",
       "sale_date                \n",
       "2013-01-01        10.92  \n",
       "2013-01-01       218.40  \n",
       "2013-01-01       125.55  \n",
       "2013-01-01       453.60  \n",
       "2013-01-01       294.00  "
      ]
     },
     "execution_count": 8,
     "metadata": {},
     "output_type": "execute_result"
    }
   ],
   "source": [
    "train = df.loc[:'2016']\n",
    "train.head()"
   ]
  },
  {
   "cell_type": "code",
   "execution_count": 16,
   "metadata": {},
   "outputs": [
    {
     "data": {
      "text/plain": [
       "sale_date\n",
       "2013-01-06     91067.0\n",
       "2013-01-13    103902.0\n",
       "2013-01-20    102950.0\n",
       "2013-01-27    103298.0\n",
       "2013-02-03    109027.0\n",
       "Freq: W-SUN, Name: sale_amount, dtype: float64"
      ]
     },
     "execution_count": 16,
     "metadata": {},
     "output_type": "execute_result"
    }
   ],
   "source": [
    "x = train.resample('W').sum().sale_amount\n",
    "x = x.dropna()\n",
    "x.head()"
   ]
  },
  {
   "cell_type": "code",
   "execution_count": 15,
   "metadata": {},
   "outputs": [
    {
     "data": {
      "text/plain": [
       "sale_date\n",
       "2017-01-01     23709.0\n",
       "2017-01-08    140112.0\n",
       "2017-01-15    139901.0\n",
       "2017-01-22    139914.0\n",
       "2017-01-29    139345.0\n",
       "Freq: W-SUN, Name: sale_amount, dtype: float64"
      ]
     },
     "execution_count": 15,
     "metadata": {},
     "output_type": "execute_result"
    }
   ],
   "source": [
    "y = test.resample('W').sum().sale_amount\n",
    "y = y.dropna()\n",
    "y.head()"
   ]
  },
  {
   "cell_type": "code",
   "execution_count": 19,
   "metadata": {},
   "outputs": [
    {
     "data": {
      "image/png": "[encoded data removed]",
      "text/plain": [
       "<Figure size 432x288 with 1 Axes>"
      ]
     },
     "metadata": {
      "needs_background": "light"
     },
     "output_type": "display_data"
    }
   ],
   "source": [
    "x.plot()\n",
    "y.plot()\n",
    "plt.show()"
   ]
  },
  {
   "cell_type": "code",
   "execution_count": null,
   "metadata": {},
   "outputs": [],
   "source": []
  },
  {
   "cell_type": "markdown",
   "metadata": {},
   "source": [
    "### 2. Forecast, plot and evaluate using each of the 4 parametric based methods we discussed:\n"
   ]
  },
  {
   "cell_type": "code",
   "execution_count": 42,
   "metadata": {},
   "outputs": [],
   "source": [
    "def plot_evals(x, y, pred):\n",
    "    '''\n",
    "\n",
    "    '''\n",
    "    plt.figure(figsize = (12,4))\n",
    "    plt.plot(x, label='Train', linewidth=1)\n",
    "    plt.plot(y, label='Validate', linewidth=1)\n",
    "    pred = pd.DataFrame(pred, index=y.index)\n",
    "    plt.plot(pred, label='Predictions', linewidth=1.5)\n",
    "    plt.show()"
   ]
  },
  {
   "cell_type": "markdown",
   "metadata": {},
   "source": [
    "####     - Simple Average\n"
   ]
  },
  {
   "cell_type": "code",
   "execution_count": 34,
   "metadata": {},
   "outputs": [
    {
     "data": {
      "text/plain": [
       "176893.64593301434"
      ]
     },
     "execution_count": 34,
     "metadata": {},
     "output_type": "execute_result"
    }
   ],
   "source": [
    "simple_average = mytk.BaselineRegressor()\n",
    "simple_average.fit(x)\n",
    "pred = simple_average.predict(y)\n",
    "simple_average.baseline"
   ]
  },
  {
   "cell_type": "code",
   "execution_count": 25,
   "metadata": {},
   "outputs": [
    {
     "data": {
      "text/plain": [
       "51073.82813034946"
      ]
     },
     "execution_count": 25,
     "metadata": {},
     "output_type": "execute_result"
    }
   ],
   "source": [
    "mytk.regression_metrics(y, pred)['root_mean_squared_error']"
   ]
  },
  {
   "cell_type": "code",
   "execution_count": 43,
   "metadata": {},
   "outputs": [
    {
     "data": {
      "image/png": "[encoded data removed]",
      "text/plain": [
       "<Figure size 864x288 with 1 Axes>"
      ]
     },
     "metadata": {
      "needs_background": "light"
     },
     "output_type": "display_data"
    }
   ],
   "source": [
    "plot_evals(x, y, pred)"
   ]
  },
  {
   "cell_type": "markdown",
   "metadata": {},
   "source": [
    "####     - Moving Average\n"
   ]
  },
  {
   "cell_type": "code",
   "execution_count": 26,
   "metadata": {},
   "outputs": [
    {
     "data": {
      "text/plain": [
       "165754.42857142858"
      ]
     },
     "execution_count": 26,
     "metadata": {},
     "output_type": "execute_result"
    }
   ],
   "source": [
    "x.rolling(7).mean()[-1]"
   ]
  },
  {
   "cell_type": "code",
   "execution_count": 44,
   "metadata": {},
   "outputs": [
    {
     "data": {
      "text/plain": [
       "165754.42857142858"
      ]
     },
     "execution_count": 44,
     "metadata": {},
     "output_type": "execute_result"
    }
   ],
   "source": [
    "moving_average = mytk.BaselineRegressor()\n",
    "moving_average.baseline = x.rolling(7).mean()[-1]\n",
    "moving_average.baseline"
   ]
  },
  {
   "cell_type": "code",
   "execution_count": 45,
   "metadata": {},
   "outputs": [
    {
     "data": {
      "text/plain": [
       "57477.0284739899"
      ]
     },
     "execution_count": 45,
     "metadata": {},
     "output_type": "execute_result"
    }
   ],
   "source": [
    "pred = moving_average.predict(y)\n",
    "mytk.regression_metrics(y, pred)['root_mean_squared_error']"
   ]
  },
  {
   "cell_type": "code",
   "execution_count": 46,
   "metadata": {},
   "outputs": [
    {
     "data": {
      "image/png": "[encoded data removed]",
      "text/plain": [
       "<Figure size 864x288 with 1 Axes>"
      ]
     },
     "metadata": {
      "needs_background": "light"
     },
     "output_type": "display_data"
    }
   ],
   "source": [
    "plot_evals(x, y, pred)"
   ]
  },
  {
   "cell_type": "markdown",
   "metadata": {},
   "source": [
    "####     - Holt's Linear Trend Model\n"
   ]
  },
  {
   "cell_type": "code",
   "execution_count": 54,
   "metadata": {},
   "outputs": [
    {
     "name": "stderr",
     "output_type": "stream",
     "text": [
      "c:\\Users\\Crux\\AppData\\Local\\Programs\\Python\\Python310\\lib\\site-packages\\statsmodels\\tsa\\holtwinters\\model.py:915: ConvergenceWarning: Optimization failed to converge. Check mle_retvals.\n",
      "  warnings.warn(\n"
     ]
    }
   ],
   "source": [
    "# holt's linear trend model. \n",
    "from statsmodels.tsa.api import Holt\n",
    "model = Holt(x, exponential=False, damped_trend=True)\n",
    "model = model.fit(optimized=True, smoothing_level=0.5, smoothing_trend=0.5)"
   ]
  },
  {
   "cell_type": "code",
   "execution_count": 52,
   "metadata": {},
   "outputs": [
    {
     "data": {
      "text/plain": [
       "(Timestamp('2017-01-01 00:00:00', freq='W-SUN'),\n",
       " Timestamp('2017-12-31 00:00:00', freq='W-SUN'))"
      ]
     },
     "execution_count": 52,
     "metadata": {},
     "output_type": "execute_result"
    }
   ],
   "source": [
    "y.index[0], y.index[-1]"
   ]
  },
  {
   "cell_type": "code",
   "execution_count": 56,
   "metadata": {},
   "outputs": [],
   "source": [
    "pred = model.predict(start = y.index[0], end = y.index[-1])"
   ]
  },
  {
   "cell_type": "code",
   "execution_count": 57,
   "metadata": {},
   "outputs": [
    {
     "data": {
      "text/plain": [
       "426381.65031513444"
      ]
     },
     "execution_count": 57,
     "metadata": {},
     "output_type": "execute_result"
    }
   ],
   "source": [
    "mytk.regression_metrics(y, pred)['root_mean_squared_error']"
   ]
  },
  {
   "cell_type": "code",
   "execution_count": 58,
   "metadata": {},
   "outputs": [
    {
     "data": {
      "image/png": "[encoded data removed]",
      "text/plain": [
       "<Figure size 864x288 with 1 Axes>"
      ]
     },
     "metadata": {
      "needs_background": "light"
     },
     "output_type": "display_data"
    }
   ],
   "source": [
    "plot_evals(x, y, pred)"
   ]
  },
  {
   "cell_type": "markdown",
   "metadata": {},
   "source": [
    "####     - Based on previous year/month/etc., this is up to you.\n",
    "\n"
   ]
  },
  {
   "cell_type": "markdown",
   "metadata": {},
   "source": [
    "Optional: Using store item demand\n",
    "\n",
    "1. Predict 2018 total **monthly** sales for a single store and/or item by creating a model using prophet.\n",
    "2. Return a dataframe with the month, store_id, y-hat, and the confidence intervals (y-hat lower, y-hat upper).\n",
    "3. Plot the 2018 monthly sales predictions."
   ]
  }
 ],
 "metadata": {
  "kernelspec": {
   "display_name": "Python 3.10.4 64-bit",
   "language": "python",
   "name": "python3"
  },
  "language_info": {
   "codemirror_mode": {
    "name": "ipython",
    "version": 3
   },
   "file_extension": ".py",
   "mimetype": "text/x-python",
   "name": "python",
   "nbconvert_exporter": "python",
   "pygments_lexer": "ipython3",
   "version": "3.10.4"
  },
  "orig_nbformat": 4,
  "vscode": {
   "interpreter": {
    "hash": "37b4e1d782780d9803a775659fc8b81e9cc61a0899d4564192c1f7cc3c556e45"
   }
  }
 },
 "nbformat": 4,
 "nbformat_minor": 2
}
