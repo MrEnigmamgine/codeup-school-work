{
 "cells": [
  {
   "cell_type": "code",
   "execution_count": 1,
   "metadata": {},
   "outputs": [],
   "source": [
    "import matplotlib.pyplot as plt\n",
    "import seaborn as sns\n",
    "import pandas as pd\n",
    "import numpy as np\n",
    "\n",
    "from sklearn.preprocessing import QuantileTransformer\n",
    "\n",
    "import wrangle"
   ]
  },
  {
   "cell_type": "markdown",
   "metadata": {},
   "source": [
    "### Load your zillow dataset.\n"
   ]
  },
  {
   "cell_type": "code",
   "execution_count": 2,
   "metadata": {},
   "outputs": [
    {
     "data": {
      "text/html": [
       "<div>\n",
       "<style scoped>\n",
       "    .dataframe tbody tr th:only-of-type {\n",
       "        vertical-align: middle;\n",
       "    }\n",
       "\n",
       "    .dataframe tbody tr th {\n",
       "        vertical-align: top;\n",
       "    }\n",
       "\n",
       "    .dataframe thead th {\n",
       "        text-align: right;\n",
       "    }\n",
       "</style>\n",
       "<table border=\"1\" class=\"dataframe\">\n",
       "  <thead>\n",
       "    <tr style=\"text-align: right;\">\n",
       "      <th></th>\n",
       "      <th>bedroomcnt</th>\n",
       "      <th>bathroomcnt</th>\n",
       "      <th>calculatedfinishedsquarefeet</th>\n",
       "      <th>taxvaluedollarcnt</th>\n",
       "      <th>yearbuilt</th>\n",
       "      <th>fips</th>\n",
       "      <th>age</th>\n",
       "    </tr>\n",
       "  </thead>\n",
       "  <tbody>\n",
       "    <tr>\n",
       "      <th>1219155</th>\n",
       "      <td>3</td>\n",
       "      <td>1.0</td>\n",
       "      <td>996</td>\n",
       "      <td>28116</td>\n",
       "      <td>1955</td>\n",
       "      <td>6037</td>\n",
       "      <td>67</td>\n",
       "    </tr>\n",
       "    <tr>\n",
       "      <th>543342</th>\n",
       "      <td>2</td>\n",
       "      <td>1.0</td>\n",
       "      <td>983</td>\n",
       "      <td>232817</td>\n",
       "      <td>1928</td>\n",
       "      <td>6037</td>\n",
       "      <td>94</td>\n",
       "    </tr>\n",
       "    <tr>\n",
       "      <th>1635508</th>\n",
       "      <td>4</td>\n",
       "      <td>2.0</td>\n",
       "      <td>1422</td>\n",
       "      <td>579000</td>\n",
       "      <td>1965</td>\n",
       "      <td>6059</td>\n",
       "      <td>57</td>\n",
       "    </tr>\n",
       "    <tr>\n",
       "      <th>1723313</th>\n",
       "      <td>3</td>\n",
       "      <td>2.5</td>\n",
       "      <td>1714</td>\n",
       "      <td>297912</td>\n",
       "      <td>1997</td>\n",
       "      <td>6111</td>\n",
       "      <td>25</td>\n",
       "    </tr>\n",
       "    <tr>\n",
       "      <th>1100678</th>\n",
       "      <td>3</td>\n",
       "      <td>2.0</td>\n",
       "      <td>1385</td>\n",
       "      <td>124672</td>\n",
       "      <td>1984</td>\n",
       "      <td>6037</td>\n",
       "      <td>38</td>\n",
       "    </tr>\n",
       "  </tbody>\n",
       "</table>\n",
       "</div>"
      ],
      "text/plain": [
       "         bedroomcnt  bathroomcnt  calculatedfinishedsquarefeet  \\\n",
       "1219155           3          1.0                           996   \n",
       "543342            2          1.0                           983   \n",
       "1635508           4          2.0                          1422   \n",
       "1723313           3          2.5                          1714   \n",
       "1100678           3          2.0                          1385   \n",
       "\n",
       "         taxvaluedollarcnt  yearbuilt  fips  age  \n",
       "1219155              28116       1955  6037   67  \n",
       "543342              232817       1928  6037   94  \n",
       "1635508             579000       1965  6059   57  \n",
       "1723313             297912       1997  6111   25  \n",
       "1100678             124672       1984  6037   38  "
      ]
     },
     "execution_count": 2,
     "metadata": {},
     "output_type": "execute_result"
    }
   ],
   "source": [
    "train, validate, test = wrangle.wrangle_zillow()\n",
    "train.head()"
   ]
  },
  {
   "cell_type": "markdown",
   "metadata": {},
   "source": [
    "### Fit a linear regression model (ordinary least squares) and compute yhat, predictions of taxvaluedollarcnt using only calfulatedfinishedsqft."
   ]
  },
  {
   "cell_type": "code",
   "execution_count": 3,
   "metadata": {},
   "outputs": [],
   "source": [
    "feat = ['calculatedfinishedsquarefeet']\n",
    "target = ['taxvaluedollarcnt']"
   ]
  },
  {
   "cell_type": "code",
   "execution_count": 4,
   "metadata": {},
   "outputs": [],
   "source": [
    "x = train[feat]\n",
    "y = train[target]"
   ]
  },
  {
   "cell_type": "code",
   "execution_count": 5,
   "metadata": {},
   "outputs": [],
   "source": [
    "baseline = y.mean().values[0]"
   ]
  },
  {
   "cell_type": "code",
   "execution_count": 6,
   "metadata": {},
   "outputs": [],
   "source": [
    "# Create and fit the model to the train sample set\n",
    "\n",
    "scaler = QuantileTransformer(output_distribution='normal')\n",
    "scaler.fit(x)\n",
    "# Transform each sample set\n",
    "X = scaler.transform(x)"
   ]
  },
  {
   "cell_type": "code",
   "execution_count": 7,
   "metadata": {},
   "outputs": [],
   "source": [
    "from sklearn.linear_model import LinearRegression\n",
    "\n",
    "# assuming X and y are already defined\n",
    "model = LinearRegression().fit(X, y)\n",
    "predictions = model.predict(X)"
   ]
  },
  {
   "cell_type": "markdown",
   "metadata": {},
   "source": [
    "### Plot the residuals for the linear regression model that you made."
   ]
  },
  {
   "cell_type": "code",
   "execution_count": 8,
   "metadata": {},
   "outputs": [
    {
     "data": {
      "text/html": [
       "<div>\n",
       "<style scoped>\n",
       "    .dataframe tbody tr th:only-of-type {\n",
       "        vertical-align: middle;\n",
       "    }\n",
       "\n",
       "    .dataframe tbody tr th {\n",
       "        vertical-align: top;\n",
       "    }\n",
       "\n",
       "    .dataframe thead th {\n",
       "        text-align: right;\n",
       "    }\n",
       "</style>\n",
       "<table border=\"1\" class=\"dataframe\">\n",
       "  <thead>\n",
       "    <tr style=\"text-align: right;\">\n",
       "      <th></th>\n",
       "      <th>scaled_sqft</th>\n",
       "    </tr>\n",
       "  </thead>\n",
       "  <tbody>\n",
       "    <tr>\n",
       "      <th>1219155</th>\n",
       "      <td>-1.371657</td>\n",
       "    </tr>\n",
       "    <tr>\n",
       "      <th>543342</th>\n",
       "      <td>-1.401177</td>\n",
       "    </tr>\n",
       "    <tr>\n",
       "      <th>1635508</th>\n",
       "      <td>-0.341493</td>\n",
       "    </tr>\n",
       "    <tr>\n",
       "      <th>1723313</th>\n",
       "      <td>0.134645</td>\n",
       "    </tr>\n",
       "    <tr>\n",
       "      <th>1100678</th>\n",
       "      <td>-0.411534</td>\n",
       "    </tr>\n",
       "    <tr>\n",
       "      <th>...</th>\n",
       "      <td>...</td>\n",
       "    </tr>\n",
       "    <tr>\n",
       "      <th>237859</th>\n",
       "      <td>-0.045180</td>\n",
       "    </tr>\n",
       "    <tr>\n",
       "      <th>232987</th>\n",
       "      <td>0.617047</td>\n",
       "    </tr>\n",
       "    <tr>\n",
       "      <th>785237</th>\n",
       "      <td>-1.100140</td>\n",
       "    </tr>\n",
       "    <tr>\n",
       "      <th>1608215</th>\n",
       "      <td>0.042668</td>\n",
       "    </tr>\n",
       "    <tr>\n",
       "      <th>1652606</th>\n",
       "      <td>0.629234</td>\n",
       "    </tr>\n",
       "  </tbody>\n",
       "</table>\n",
       "<p>856094 rows × 1 columns</p>\n",
       "</div>"
      ],
      "text/plain": [
       "         scaled_sqft\n",
       "1219155    -1.371657\n",
       "543342     -1.401177\n",
       "1635508    -0.341493\n",
       "1723313     0.134645\n",
       "1100678    -0.411534\n",
       "...              ...\n",
       "237859     -0.045180\n",
       "232987      0.617047\n",
       "785237     -1.100140\n",
       "1608215     0.042668\n",
       "1652606     0.629234\n",
       "\n",
       "[856094 rows x 1 columns]"
      ]
     },
     "execution_count": 8,
     "metadata": {},
     "output_type": "execute_result"
    }
   ],
   "source": [
    "pd.DataFrame(X, index=y.index, columns=['scaled_sqft'])"
   ]
  },
  {
   "cell_type": "code",
   "execution_count": 9,
   "metadata": {},
   "outputs": [
    {
     "data": {
      "text/plain": [
       "array([[ 63931.8198127 ],\n",
       "       [ 55405.53091385],\n",
       "       [361477.84410295],\n",
       "       ...,\n",
       "       [142355.18171079],\n",
       "       [472436.38636967],\n",
       "       [641856.21306079]])"
      ]
     },
     "execution_count": 9,
     "metadata": {},
     "output_type": "execute_result"
    }
   ],
   "source": [
    "predictions"
   ]
  },
  {
   "cell_type": "code",
   "execution_count": 10,
   "metadata": {},
   "outputs": [
    {
     "data": {
      "text/html": [
       "<div>\n",
       "<style scoped>\n",
       "    .dataframe tbody tr th:only-of-type {\n",
       "        vertical-align: middle;\n",
       "    }\n",
       "\n",
       "    .dataframe tbody tr th {\n",
       "        vertical-align: top;\n",
       "    }\n",
       "\n",
       "    .dataframe thead th {\n",
       "        text-align: right;\n",
       "    }\n",
       "</style>\n",
       "<table border=\"1\" class=\"dataframe\">\n",
       "  <thead>\n",
       "    <tr style=\"text-align: right;\">\n",
       "      <th></th>\n",
       "      <th>taxvaluedollarcnt</th>\n",
       "    </tr>\n",
       "  </thead>\n",
       "  <tbody>\n",
       "    <tr>\n",
       "      <th>1219155</th>\n",
       "      <td>28116</td>\n",
       "    </tr>\n",
       "    <tr>\n",
       "      <th>543342</th>\n",
       "      <td>232817</td>\n",
       "    </tr>\n",
       "    <tr>\n",
       "      <th>1635508</th>\n",
       "      <td>579000</td>\n",
       "    </tr>\n",
       "    <tr>\n",
       "      <th>1723313</th>\n",
       "      <td>297912</td>\n",
       "    </tr>\n",
       "    <tr>\n",
       "      <th>1100678</th>\n",
       "      <td>124672</td>\n",
       "    </tr>\n",
       "  </tbody>\n",
       "</table>\n",
       "</div>"
      ],
      "text/plain": [
       "         taxvaluedollarcnt\n",
       "1219155              28116\n",
       "543342              232817\n",
       "1635508             579000\n",
       "1723313             297912\n",
       "1100678             124672"
      ]
     },
     "execution_count": 10,
     "metadata": {},
     "output_type": "execute_result"
    }
   ],
   "source": [
    "df = y.copy()\n",
    "df.head()"
   ]
  },
  {
   "cell_type": "code",
   "execution_count": 11,
   "metadata": {},
   "outputs": [
    {
     "data": {
      "text/html": [
       "<div>\n",
       "<style scoped>\n",
       "    .dataframe tbody tr th:only-of-type {\n",
       "        vertical-align: middle;\n",
       "    }\n",
       "\n",
       "    .dataframe tbody tr th {\n",
       "        vertical-align: top;\n",
       "    }\n",
       "\n",
       "    .dataframe thead th {\n",
       "        text-align: right;\n",
       "    }\n",
       "</style>\n",
       "<table border=\"1\" class=\"dataframe\">\n",
       "  <thead>\n",
       "    <tr style=\"text-align: right;\">\n",
       "      <th></th>\n",
       "      <th>taxvaluedollarcnt</th>\n",
       "      <th>baseline</th>\n",
       "      <th>yhat</th>\n",
       "      <th>residual_baseline</th>\n",
       "      <th>residual_predict</th>\n",
       "    </tr>\n",
       "  </thead>\n",
       "  <tbody>\n",
       "    <tr>\n",
       "      <th>1219155</th>\n",
       "      <td>28116</td>\n",
       "      <td>460653.078289</td>\n",
       "      <td>63931.819813</td>\n",
       "      <td>-432537.078289</td>\n",
       "      <td>-35815.819813</td>\n",
       "    </tr>\n",
       "    <tr>\n",
       "      <th>543342</th>\n",
       "      <td>232817</td>\n",
       "      <td>460653.078289</td>\n",
       "      <td>55405.530914</td>\n",
       "      <td>-227836.078289</td>\n",
       "      <td>177411.469086</td>\n",
       "    </tr>\n",
       "    <tr>\n",
       "      <th>1635508</th>\n",
       "      <td>579000</td>\n",
       "      <td>460653.078289</td>\n",
       "      <td>361477.844103</td>\n",
       "      <td>118346.921711</td>\n",
       "      <td>217522.155897</td>\n",
       "    </tr>\n",
       "    <tr>\n",
       "      <th>1723313</th>\n",
       "      <td>297912</td>\n",
       "      <td>460653.078289</td>\n",
       "      <td>499002.221923</td>\n",
       "      <td>-162741.078289</td>\n",
       "      <td>-201090.221923</td>\n",
       "    </tr>\n",
       "    <tr>\n",
       "      <th>1100678</th>\n",
       "      <td>124672</td>\n",
       "      <td>460653.078289</td>\n",
       "      <td>341247.426509</td>\n",
       "      <td>-335981.078289</td>\n",
       "      <td>-216575.426509</td>\n",
       "    </tr>\n",
       "  </tbody>\n",
       "</table>\n",
       "</div>"
      ],
      "text/plain": [
       "         taxvaluedollarcnt       baseline           yhat  residual_baseline  \\\n",
       "1219155              28116  460653.078289   63931.819813     -432537.078289   \n",
       "543342              232817  460653.078289   55405.530914     -227836.078289   \n",
       "1635508             579000  460653.078289  361477.844103      118346.921711   \n",
       "1723313             297912  460653.078289  499002.221923     -162741.078289   \n",
       "1100678             124672  460653.078289  341247.426509     -335981.078289   \n",
       "\n",
       "         residual_predict  \n",
       "1219155     -35815.819813  \n",
       "543342      177411.469086  \n",
       "1635508     217522.155897  \n",
       "1723313    -201090.221923  \n",
       "1100678    -216575.426509  "
      ]
     },
     "execution_count": 11,
     "metadata": {},
     "output_type": "execute_result"
    }
   ],
   "source": [
    "df['baseline'] = baseline\n",
    "df['yhat'] = predictions\n",
    "df['residual_baseline'] = df.taxvaluedollarcnt - baseline\n",
    "df['residual_predict'] = df.taxvaluedollarcnt - df.yhat\n",
    "df.head()"
   ]
  },
  {
   "cell_type": "code",
   "execution_count": 12,
   "metadata": {},
   "outputs": [],
   "source": [
    "df = pd.concat((df, pd.DataFrame(X, index=y.index, columns=['scaled_sqft'])), axis=1)"
   ]
  },
  {
   "cell_type": "code",
   "execution_count": 13,
   "metadata": {},
   "outputs": [
    {
     "data": {
      "text/plain": [
       "Text(0.5, 1.0, 'Predict')"
      ]
     },
     "execution_count": 13,
     "metadata": {},
     "output_type": "execute_result"
    },
    {
     "data": {
      "image/png": "[encoded data removed]",
      "text/plain": [
       "<Figure size 432x288 with 2 Axes>"
      ]
     },
     "metadata": {
      "needs_background": "light"
     },
     "output_type": "display_data"
    }
   ],
   "source": [
    "plt.subplot(1,2,1)\n",
    "plt.scatter(df.scaled_sqft, df.residual_baseline)\n",
    "plt.title('Baseline')\n",
    "\n",
    "plt.subplot(1,2,2)\n",
    "plt.scatter(df.scaled_sqft, df.residual_predict)\n",
    "plt.title('Predict')"
   ]
  },
  {
   "cell_type": "markdown",
   "metadata": {},
   "source": [
    "### 3.\n",
    "Calculate the \n",
    "sum of squared errors,  \n",
    "explained sum of squares,  \n",
    "total sum of squares,  \n",
    "mean squared error,  \n",
    "and root mean squared error for your model."
   ]
  },
  {
   "cell_type": "markdown",
   "metadata": {},
   "source": [
    "- Sum of Squared Errors\n",
    "    - (Residuals**2).sum()\n",
    "- Explained sum of squares\n",
    "    -  ((yhat-baseline)**2).sum()\n",
    "- Total sum of squares\n",
    "    - (Sum of Squared Errors) + (Explained Sum of Squares)\n",
    "- Mean Squared Error\n",
    "    - (Sum of Squared Errors)/(Count of Residuals)\n",
    "- Root Mean Squared Error\n",
    "    - $ \\sqrt(Mean Squared Error) $ "
   ]
  },
  {
   "cell_type": "code",
   "execution_count": 14,
   "metadata": {},
   "outputs": [],
   "source": [
    "df= df.rename(columns={'taxvaluedollarcnt':'y', 'scaled_sqft':'x'})"
   ]
  },
  {
   "cell_type": "code",
   "execution_count": 15,
   "metadata": {},
   "outputs": [
    {
     "data": {
      "text/html": [
       "<div>\n",
       "<style scoped>\n",
       "    .dataframe tbody tr th:only-of-type {\n",
       "        vertical-align: middle;\n",
       "    }\n",
       "\n",
       "    .dataframe tbody tr th {\n",
       "        vertical-align: top;\n",
       "    }\n",
       "\n",
       "    .dataframe thead th {\n",
       "        text-align: right;\n",
       "    }\n",
       "</style>\n",
       "<table border=\"1\" class=\"dataframe\">\n",
       "  <thead>\n",
       "    <tr style=\"text-align: right;\">\n",
       "      <th></th>\n",
       "      <th>y</th>\n",
       "      <th>baseline</th>\n",
       "      <th>yhat</th>\n",
       "      <th>residual_baseline</th>\n",
       "      <th>residual_predict</th>\n",
       "      <th>x</th>\n",
       "    </tr>\n",
       "  </thead>\n",
       "  <tbody>\n",
       "    <tr>\n",
       "      <th>1219155</th>\n",
       "      <td>28116</td>\n",
       "      <td>460653.078289</td>\n",
       "      <td>63931.819813</td>\n",
       "      <td>-432537.078289</td>\n",
       "      <td>-35815.819813</td>\n",
       "      <td>-1.371657</td>\n",
       "    </tr>\n",
       "    <tr>\n",
       "      <th>543342</th>\n",
       "      <td>232817</td>\n",
       "      <td>460653.078289</td>\n",
       "      <td>55405.530914</td>\n",
       "      <td>-227836.078289</td>\n",
       "      <td>177411.469086</td>\n",
       "      <td>-1.401177</td>\n",
       "    </tr>\n",
       "    <tr>\n",
       "      <th>1635508</th>\n",
       "      <td>579000</td>\n",
       "      <td>460653.078289</td>\n",
       "      <td>361477.844103</td>\n",
       "      <td>118346.921711</td>\n",
       "      <td>217522.155897</td>\n",
       "      <td>-0.341493</td>\n",
       "    </tr>\n",
       "    <tr>\n",
       "      <th>1723313</th>\n",
       "      <td>297912</td>\n",
       "      <td>460653.078289</td>\n",
       "      <td>499002.221923</td>\n",
       "      <td>-162741.078289</td>\n",
       "      <td>-201090.221923</td>\n",
       "      <td>0.134645</td>\n",
       "    </tr>\n",
       "    <tr>\n",
       "      <th>1100678</th>\n",
       "      <td>124672</td>\n",
       "      <td>460653.078289</td>\n",
       "      <td>341247.426509</td>\n",
       "      <td>-335981.078289</td>\n",
       "      <td>-216575.426509</td>\n",
       "      <td>-0.411534</td>\n",
       "    </tr>\n",
       "  </tbody>\n",
       "</table>\n",
       "</div>"
      ],
      "text/plain": [
       "              y       baseline           yhat  residual_baseline  \\\n",
       "1219155   28116  460653.078289   63931.819813     -432537.078289   \n",
       "543342   232817  460653.078289   55405.530914     -227836.078289   \n",
       "1635508  579000  460653.078289  361477.844103      118346.921711   \n",
       "1723313  297912  460653.078289  499002.221923     -162741.078289   \n",
       "1100678  124672  460653.078289  341247.426509     -335981.078289   \n",
       "\n",
       "         residual_predict         x  \n",
       "1219155     -35815.819813 -1.371657  \n",
       "543342      177411.469086 -1.401177  \n",
       "1635508     217522.155897 -0.341493  \n",
       "1723313    -201090.221923  0.134645  \n",
       "1100678    -216575.426509 -0.411534  "
      ]
     },
     "execution_count": 15,
     "metadata": {},
     "output_type": "execute_result"
    }
   ],
   "source": [
    "df.head()"
   ]
  },
  {
   "cell_type": "code",
   "execution_count": 16,
   "metadata": {},
   "outputs": [
    {
     "name": "stdout",
     "output_type": "stream",
     "text": [
      "Sum of Sqared Errors: 3.33868158144524e+17\n",
      "Explained Sum of Squares: 7.082626415331833e+16\n",
      "Total Sum of Squares: 4.0469442229784237e+17\n",
      "Mean Squared Error: 389990069016.39777\n",
      "Root Mean Squared Error: 624491.8486388735\n"
     ]
    }
   ],
   "source": [
    "print('Sum of Sqared Errors:',(df.residual_predict**2).sum() )\n",
    "print('Explained Sum of Squares:',((df.yhat-df.baseline)**2).sum() )\n",
    "print('Total Sum of Squares:', (df.residual_predict**2).sum() + ((df.yhat-df.baseline)**2).sum()  )\n",
    "print('Mean Squared Error:',  (df.residual_predict**2).sum()/len(df) )\n",
    "import math\n",
    "print('Root Mean Squared Error:',  math.sqrt((df.residual_predict**2).sum()/len(df)) )"
   ]
  },
  {
   "cell_type": "markdown",
   "metadata": {},
   "source": [
    "### Calculate the sum of squared errors, mean squared error, and root mean squared error for the baseline model (i.e. a model that always predicts the average taxvaluedollarcnt amount).\n",
    "\n"
   ]
  },
  {
   "cell_type": "code",
   "execution_count": 17,
   "metadata": {},
   "outputs": [
    {
     "name": "stdout",
     "output_type": "stream",
     "text": [
      "Sum of Sqared Errors: 4.046944222978353e+17\n",
      "Explained Sum of Squares: 0.0\n",
      "Total Sum of Squares: 4.7552068645115366e+17\n",
      "Mean Squared Error: 472721946769.6717\n",
      "Root Mean Squared Error: 687547.7778086929\n"
     ]
    }
   ],
   "source": [
    "print('Sum of Sqared Errors:',(df.residual_baseline**2).sum() )\n",
    "print('Explained Sum of Squares:',((df.baseline-df.baseline)**2).sum() )\n",
    "print('Total Sum of Squares:', (df.residual_baseline**2).sum() + ((df.yhat-df.baseline)**2).sum()  )\n",
    "print('Mean Squared Error:',  (df.residual_baseline**2).sum()/len(df) )\n",
    "import math\n",
    "print('Root Mean Squared Error:',  math.sqrt((df.residual_baseline**2).sum()/len(df)) )"
   ]
  },
  {
   "cell_type": "markdown",
   "metadata": {},
   "source": [
    "Write python code that compares the sum of squared errors for your model against the sum of squared errors for the baseline model and outputs whether or not your model performs better than the baseline model.\n",
    "\n"
   ]
  },
  {
   "cell_type": "code",
   "execution_count": 18,
   "metadata": {},
   "outputs": [
    {
     "name": "stdout",
     "output_type": "stream",
     "text": [
      "Diffrence of SSE (Sum of Sqared Errors: 7.08262641533113e+16\n"
     ]
    }
   ],
   "source": [
    "print('Diffrence of SSE (Sum of Sqared Errors:',(df.residual_baseline**2).sum() - (df.residual_predict**2).sum() )"
   ]
  },
  {
   "cell_type": "markdown",
   "metadata": {},
   "source": [
    "What is the amount of variance explained in your model?\n",
    "\n"
   ]
  },
  {
   "cell_type": "code",
   "execution_count": 19,
   "metadata": {},
   "outputs": [
    {
     "data": {
      "text/plain": [
       "0.17501171316167147"
      ]
     },
     "execution_count": 19,
     "metadata": {},
     "output_type": "execute_result"
    }
   ],
   "source": [
    "explained_sum_of_squares = ((df.yhat-df.baseline)**2).sum()\n",
    "sum_of_squared_errors = (df.residual_predict**2).sum()\n",
    "total_sum_of_sqares = sum_of_squared_errors + explained_sum_of_squares\n",
    "r2_variance = (explained_sum_of_squares / total_sum_of_sqares)\n",
    "r2_variance"
   ]
  },
  {
   "cell_type": "code",
   "execution_count": 20,
   "metadata": {},
   "outputs": [
    {
     "data": {
      "text/plain": [
       "0.1750117131616571"
      ]
     },
     "execution_count": 20,
     "metadata": {},
     "output_type": "execute_result"
    }
   ],
   "source": [
    "from sklearn.metrics import r2_score\n",
    "r2_score(df.y, df.yhat)"
   ]
  },
  {
   "cell_type": "markdown",
   "metadata": {},
   "source": [
    "Is your model better than the baseline model?\n",
    "\n"
   ]
  },
  {
   "cell_type": "code",
   "execution_count": 21,
   "metadata": {},
   "outputs": [
    {
     "data": {
      "text/html": [
       "<div>\n",
       "<style scoped>\n",
       "    .dataframe tbody tr th:only-of-type {\n",
       "        vertical-align: middle;\n",
       "    }\n",
       "\n",
       "    .dataframe tbody tr th {\n",
       "        vertical-align: top;\n",
       "    }\n",
       "\n",
       "    .dataframe thead th {\n",
       "        text-align: right;\n",
       "    }\n",
       "</style>\n",
       "<table border=\"1\" class=\"dataframe\">\n",
       "  <thead>\n",
       "    <tr style=\"text-align: right;\">\n",
       "      <th></th>\n",
       "      <th>y</th>\n",
       "      <th>baseline</th>\n",
       "      <th>yhat</th>\n",
       "      <th>residual_baseline</th>\n",
       "      <th>residual_predict</th>\n",
       "      <th>x</th>\n",
       "    </tr>\n",
       "  </thead>\n",
       "  <tbody>\n",
       "    <tr>\n",
       "      <th>1219155</th>\n",
       "      <td>28116</td>\n",
       "      <td>460653.078289</td>\n",
       "      <td>63931.819813</td>\n",
       "      <td>-432537.078289</td>\n",
       "      <td>-35815.819813</td>\n",
       "      <td>-1.371657</td>\n",
       "    </tr>\n",
       "    <tr>\n",
       "      <th>543342</th>\n",
       "      <td>232817</td>\n",
       "      <td>460653.078289</td>\n",
       "      <td>55405.530914</td>\n",
       "      <td>-227836.078289</td>\n",
       "      <td>177411.469086</td>\n",
       "      <td>-1.401177</td>\n",
       "    </tr>\n",
       "    <tr>\n",
       "      <th>1635508</th>\n",
       "      <td>579000</td>\n",
       "      <td>460653.078289</td>\n",
       "      <td>361477.844103</td>\n",
       "      <td>118346.921711</td>\n",
       "      <td>217522.155897</td>\n",
       "      <td>-0.341493</td>\n",
       "    </tr>\n",
       "    <tr>\n",
       "      <th>1723313</th>\n",
       "      <td>297912</td>\n",
       "      <td>460653.078289</td>\n",
       "      <td>499002.221923</td>\n",
       "      <td>-162741.078289</td>\n",
       "      <td>-201090.221923</td>\n",
       "      <td>0.134645</td>\n",
       "    </tr>\n",
       "    <tr>\n",
       "      <th>1100678</th>\n",
       "      <td>124672</td>\n",
       "      <td>460653.078289</td>\n",
       "      <td>341247.426509</td>\n",
       "      <td>-335981.078289</td>\n",
       "      <td>-216575.426509</td>\n",
       "      <td>-0.411534</td>\n",
       "    </tr>\n",
       "  </tbody>\n",
       "</table>\n",
       "</div>"
      ],
      "text/plain": [
       "              y       baseline           yhat  residual_baseline  \\\n",
       "1219155   28116  460653.078289   63931.819813     -432537.078289   \n",
       "543342   232817  460653.078289   55405.530914     -227836.078289   \n",
       "1635508  579000  460653.078289  361477.844103      118346.921711   \n",
       "1723313  297912  460653.078289  499002.221923     -162741.078289   \n",
       "1100678  124672  460653.078289  341247.426509     -335981.078289   \n",
       "\n",
       "         residual_predict         x  \n",
       "1219155     -35815.819813 -1.371657  \n",
       "543342      177411.469086 -1.401177  \n",
       "1635508     217522.155897 -0.341493  \n",
       "1723313    -201090.221923  0.134645  \n",
       "1100678    -216575.426509 -0.411534  "
      ]
     },
     "execution_count": 21,
     "metadata": {},
     "output_type": "execute_result"
    }
   ],
   "source": [
    "df.head()"
   ]
  },
  {
   "cell_type": "code",
   "execution_count": 22,
   "metadata": {},
   "outputs": [
    {
     "data": {
      "text/plain": [
       "0.0"
      ]
     },
     "execution_count": 22,
     "metadata": {},
     "output_type": "execute_result"
    }
   ],
   "source": [
    "r2_score(df.y,df.baseline)"
   ]
  },
  {
   "cell_type": "markdown",
   "metadata": {},
   "source": [
    "Create a file named `evaluate.py` that contains the following functions.\n",
    "\n",
    "\n",
    " - plot_residuals(y, yhat): creates a residual plot  \n",
    " - regression_errors(y, yhat): returns the following values:  \n",
    "     - sum of squared errors (SSE)\n",
    "     - explained sum of squares (ESS)\n",
    "     - total sum of squares (TSS)\n",
    "     - mean squared error (MSE)\n",
    "     - root mean squared error (RMSE)\n",
    " - baseline_mean_errors(y): computes the SSE, MSE, and RMSE for the baseline model\n",
    " - better_than_baseline(y, yhat): returns true if your model performs better than the baseline, otherwise false\n"
   ]
  },
  {
   "cell_type": "code",
   "execution_count": 26,
   "metadata": {},
   "outputs": [
    {
     "data": {
      "image/png": "[encoded data removed]",
      "text/plain": [
       "<Figure size 504x288 with 1 Axes>"
      ]
     },
     "metadata": {
      "needs_background": "light"
     },
     "output_type": "display_data"
    }
   ],
   "source": [
    "def plot_residuals(actual, predicted):\n",
    "    ybar = actual.mean()\n",
    "    yhat = predicted\n",
    "    resid_p = actual - yhat\n",
    "    resid_b = actual - ybar\n",
    "\n",
    "    fig, ax1 = plt.subplots(1, 1, constrained_layout=True, sharey=True, figsize=(7,4))\n",
    "    ax1.set_title('Predicted Residuals')\n",
    "    ax1.set_ylabel('Error')\n",
    "    ax1.set_xlabel('Predicted Value')\n",
    "    ax1.ticklabel_format(useOffset=False, style='plain')\n",
    "\n",
    "    ax1.scatter(x=yhat, y=resid_p)\n",
    "\n",
    "\n",
    "plot_residuals(df.y, df.yhat)"
   ]
  },
  {
   "cell_type": "markdown",
   "metadata": {},
   "source": [
    " - regression_errors(y, yhat): returns the following values:  \n",
    "     - sum of squared errors (SSE)\n",
    "     - explained sum of squares (ESS)\n",
    "     - total sum of squares (TSS)\n",
    "     - mean squared error (MSE)\n",
    "     - root mean squared error (RMSE)\n"
   ]
  },
  {
   "cell_type": "code",
   "execution_count": 31,
   "metadata": {},
   "outputs": [
    {
     "data": {
      "text/plain": [
       "{'SSE': 3.33868158144524e+17,\n",
       " 'ESS': 7.082626415331833e+16,\n",
       " 'TSS': 4.0469442229784237e+17,\n",
       " 'MSE': 389990069016.39777,\n",
       " 'RMSE': 624491.8486388735,\n",
       " 'r2': 0.17501171316167147}"
      ]
     },
     "execution_count": 31,
     "metadata": {},
     "output_type": "execute_result"
    }
   ],
   "source": [
    "def regression_errors(actual: pd.Series, predicted: pd.Series) -> dict:\n",
    "    y = actual\n",
    "    ybar = actual.mean()\n",
    "    yhat = predicted\n",
    "    resid_p = y - yhat\n",
    "    resid_b = y - ybar\n",
    "    \n",
    "    sum_of_squared_errors = (resid_p**2).sum()\n",
    "    explained_sum_of_squares = ((yhat-ybar)**2).sum()\n",
    "    total_sum_of_sqares = sum_of_squared_errors + explained_sum_of_squares\n",
    "    mean_squared_error = sum_of_squared_errors / len(y)\n",
    "    root_mean_squared_error = math.sqrt(mean_squared_error)\n",
    "    r2_variance = (explained_sum_of_squares / total_sum_of_sqares)\n",
    "\n",
    "    error_metrics = {\n",
    "        'SSE' : sum_of_squared_errors,\n",
    "        'ESS' : explained_sum_of_squares,\n",
    "        'TSS' : total_sum_of_sqares,\n",
    "        'MSE' : mean_squared_error,\n",
    "        'RMSE' : root_mean_squared_error,\n",
    "        'r2' : r2_variance\n",
    "    }\n",
    "\n",
    "    return error_metrics\n",
    "\n",
    "regression_errors(df.y, df.yhat)"
   ]
  },
  {
   "cell_type": "markdown",
   "metadata": {},
   "source": [
    " - baseline_mean_errors(y): computes the SSE, MSE, and RMSE for the baseline model\n",
    " - better_than_baseline(y, yhat): returns true if your model performs better than the baseline, otherwise false"
   ]
  },
  {
   "cell_type": "code",
   "execution_count": 32,
   "metadata": {},
   "outputs": [
    {
     "data": {
      "text/plain": [
       "{'SSE': 404694422297840591,\n",
       " 'ESS': 5247.183757293086,\n",
       " 'TSS': 4.046944222978458e+17,\n",
       " 'MSE': 472721946769.67786,\n",
       " 'RMSE': 687547.7778086973,\n",
       " 'r2': 1.2965792133975297e-14}"
      ]
     },
     "execution_count": 32,
     "metadata": {},
     "output_type": "execute_result"
    }
   ],
   "source": [
    "def baseline_mean_errors(actual):\n",
    "    baseline = np.full_like(actual, actual.mean())\n",
    "    return regression_errors(actual, baseline)\n",
    "\n",
    "baseline_mean_errors(df.y)"
   ]
  },
  {
   "cell_type": "code",
   "execution_count": 33,
   "metadata": {},
   "outputs": [
    {
     "data": {
      "text/plain": [
       "True"
      ]
     },
     "execution_count": 33,
     "metadata": {},
     "output_type": "execute_result"
    }
   ],
   "source": [
    "def better_than_baseline(actual, predicted):\n",
    "    p = regression_errors(actual, predicted)['RMSE']\n",
    "    b = baseline_mean_errors(actual)['RMSE']\n",
    "    return (p < b)\n",
    "\n",
    "better_than_baseline(df.y, df.yhat)"
   ]
  },
  {
   "cell_type": "code",
   "execution_count": 36,
   "metadata": {},
   "outputs": [
    {
     "data": {
      "text/plain": [
       "(2140235, 856094)"
      ]
     },
     "execution_count": 36,
     "metadata": {},
     "output_type": "execute_result"
    }
   ],
   "source": [
    "len(train)+len(validate)+len(test), len(train)"
   ]
  }
 ],
 "metadata": {
  "kernelspec": {
   "display_name": "Python 3.10.4 64-bit",
   "language": "python",
   "name": "python3"
  },
  "language_info": {
   "codemirror_mode": {
    "name": "ipython",
    "version": 3
   },
   "file_extension": ".py",
   "mimetype": "text/x-python",
   "name": "python",
   "nbconvert_exporter": "python",
   "pygments_lexer": "ipython3",
   "version": "3.10.4"
  },
  "orig_nbformat": 4,
  "vscode": {
   "interpreter": {
    "hash": "37b4e1d782780d9803a775659fc8b81e9cc61a0899d4564192c1f7cc3c556e45"
   }
  }
 },
 "nbformat": 4,
 "nbformat_minor": 2
}
